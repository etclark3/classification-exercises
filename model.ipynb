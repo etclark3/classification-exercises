{
 "cells": [
  {
   "cell_type": "code",
   "execution_count": 51,
   "id": "92f20247",
   "metadata": {},
   "outputs": [],
   "source": [
    "import acquire\n",
    "import numpy as np\n",
    "import pandas as pd\n",
    "from env import username, password, host\n",
    "import os\n",
    "from sklearn import datasets\n",
    "import seaborn as sns\n",
    "import matplotlib.pyplot as plt\n",
    "import scipy.stats as stats\n",
    "from sklearn.model_selection import train_test_split\n",
    "\n",
    "import warnings\n",
    "warnings.filterwarnings(\"ignore\")\n",
    "\n",
    "from pydataset import data\n",
    "\n",
    "import sklearn.metrics as metrics\n",
    "from sklearn.metrics import classification_report, confusion_matrix, accuracy_score, recall_score\n",
    "from sklearn.metrics import precision_score, f1_score\n",
    "from sklearn.tree import DecisionTreeClassifier, plot_tree\n",
    "from sklearn.neighbors import KNeighborsClassifier\n",
    "from sklearn.linear_model import LogisticRegression"
   ]
  },
  {
   "cell_type": "markdown",
   "id": "0b3ea821",
   "metadata": {},
   "source": [
    "# Titanic Dataset"
   ]
  },
  {
   "cell_type": "markdown",
   "id": "c9c289ae",
   "metadata": {},
   "source": [
    "### 1. What is your baseline prediction? What is your baseline accuracy? remember: your baseline prediction for a classification problem is predicting the most prevelant class in the training dataset (the mode). When you make those predictions, what is your accuracy? This is your baseline accuracy."
   ]
  },
  {
   "cell_type": "code",
   "execution_count": 2,
   "id": "dc1c5b1c",
   "metadata": {
    "scrolled": false
   },
   "outputs": [
    {
     "data": {
      "text/html": [
       "<div>\n",
       "<style scoped>\n",
       "    .dataframe tbody tr th:only-of-type {\n",
       "        vertical-align: middle;\n",
       "    }\n",
       "\n",
       "    .dataframe tbody tr th {\n",
       "        vertical-align: top;\n",
       "    }\n",
       "\n",
       "    .dataframe thead th {\n",
       "        text-align: right;\n",
       "    }\n",
       "</style>\n",
       "<table border=\"1\" class=\"dataframe\">\n",
       "  <thead>\n",
       "    <tr style=\"text-align: right;\">\n",
       "      <th></th>\n",
       "      <th>Unnamed: 0</th>\n",
       "      <th>passenger_id</th>\n",
       "      <th>survived</th>\n",
       "      <th>pclass</th>\n",
       "      <th>sex</th>\n",
       "      <th>age</th>\n",
       "      <th>sibsp</th>\n",
       "      <th>parch</th>\n",
       "      <th>fare</th>\n",
       "      <th>embarked</th>\n",
       "      <th>class</th>\n",
       "      <th>deck</th>\n",
       "      <th>embark_town</th>\n",
       "      <th>alone</th>\n",
       "    </tr>\n",
       "  </thead>\n",
       "  <tbody>\n",
       "    <tr>\n",
       "      <th>0</th>\n",
       "      <td>0</td>\n",
       "      <td>0</td>\n",
       "      <td>0</td>\n",
       "      <td>3</td>\n",
       "      <td>male</td>\n",
       "      <td>22.0</td>\n",
       "      <td>1</td>\n",
       "      <td>0</td>\n",
       "      <td>7.2500</td>\n",
       "      <td>S</td>\n",
       "      <td>Third</td>\n",
       "      <td>NaN</td>\n",
       "      <td>Southampton</td>\n",
       "      <td>0</td>\n",
       "    </tr>\n",
       "    <tr>\n",
       "      <th>1</th>\n",
       "      <td>1</td>\n",
       "      <td>1</td>\n",
       "      <td>1</td>\n",
       "      <td>1</td>\n",
       "      <td>female</td>\n",
       "      <td>38.0</td>\n",
       "      <td>1</td>\n",
       "      <td>0</td>\n",
       "      <td>71.2833</td>\n",
       "      <td>C</td>\n",
       "      <td>First</td>\n",
       "      <td>C</td>\n",
       "      <td>Cherbourg</td>\n",
       "      <td>0</td>\n",
       "    </tr>\n",
       "    <tr>\n",
       "      <th>2</th>\n",
       "      <td>2</td>\n",
       "      <td>2</td>\n",
       "      <td>1</td>\n",
       "      <td>3</td>\n",
       "      <td>female</td>\n",
       "      <td>26.0</td>\n",
       "      <td>0</td>\n",
       "      <td>0</td>\n",
       "      <td>7.9250</td>\n",
       "      <td>S</td>\n",
       "      <td>Third</td>\n",
       "      <td>NaN</td>\n",
       "      <td>Southampton</td>\n",
       "      <td>1</td>\n",
       "    </tr>\n",
       "    <tr>\n",
       "      <th>3</th>\n",
       "      <td>3</td>\n",
       "      <td>3</td>\n",
       "      <td>1</td>\n",
       "      <td>1</td>\n",
       "      <td>female</td>\n",
       "      <td>35.0</td>\n",
       "      <td>1</td>\n",
       "      <td>0</td>\n",
       "      <td>53.1000</td>\n",
       "      <td>S</td>\n",
       "      <td>First</td>\n",
       "      <td>C</td>\n",
       "      <td>Southampton</td>\n",
       "      <td>0</td>\n",
       "    </tr>\n",
       "    <tr>\n",
       "      <th>4</th>\n",
       "      <td>4</td>\n",
       "      <td>4</td>\n",
       "      <td>0</td>\n",
       "      <td>3</td>\n",
       "      <td>male</td>\n",
       "      <td>35.0</td>\n",
       "      <td>0</td>\n",
       "      <td>0</td>\n",
       "      <td>8.0500</td>\n",
       "      <td>S</td>\n",
       "      <td>Third</td>\n",
       "      <td>NaN</td>\n",
       "      <td>Southampton</td>\n",
       "      <td>1</td>\n",
       "    </tr>\n",
       "  </tbody>\n",
       "</table>\n",
       "</div>"
      ],
      "text/plain": [
       "   Unnamed: 0  passenger_id  survived  pclass     sex   age  sibsp  parch  \\\n",
       "0           0             0         0       3    male  22.0      1      0   \n",
       "1           1             1         1       1  female  38.0      1      0   \n",
       "2           2             2         1       3  female  26.0      0      0   \n",
       "3           3             3         1       1  female  35.0      1      0   \n",
       "4           4             4         0       3    male  35.0      0      0   \n",
       "\n",
       "      fare embarked  class deck  embark_town  alone  \n",
       "0   7.2500        S  Third  NaN  Southampton      0  \n",
       "1  71.2833        C  First    C    Cherbourg      0  \n",
       "2   7.9250        S  Third  NaN  Southampton      1  \n",
       "3  53.1000        S  First    C  Southampton      0  \n",
       "4   8.0500        S  Third  NaN  Southampton      1  "
      ]
     },
     "execution_count": 2,
     "metadata": {},
     "output_type": "execute_result"
    }
   ],
   "source": [
    "titanic = acquire.grab_titanic_data()\n",
    "titanic.head()"
   ]
  },
  {
   "cell_type": "code",
   "execution_count": 3,
   "id": "b9cc9ca6",
   "metadata": {
    "scrolled": true
   },
   "outputs": [
    {
     "data": {
      "text/html": [
       "<div>\n",
       "<style scoped>\n",
       "    .dataframe tbody tr th:only-of-type {\n",
       "        vertical-align: middle;\n",
       "    }\n",
       "\n",
       "    .dataframe tbody tr th {\n",
       "        vertical-align: top;\n",
       "    }\n",
       "\n",
       "    .dataframe thead th {\n",
       "        text-align: right;\n",
       "    }\n",
       "</style>\n",
       "<table border=\"1\" class=\"dataframe\">\n",
       "  <thead>\n",
       "    <tr style=\"text-align: right;\">\n",
       "      <th></th>\n",
       "      <th>survived</th>\n",
       "      <th>pclass</th>\n",
       "      <th>isMale</th>\n",
       "      <th>age</th>\n",
       "      <th>sibsp</th>\n",
       "      <th>parch</th>\n",
       "      <th>fare</th>\n",
       "      <th>embark_town</th>\n",
       "      <th>alone</th>\n",
       "    </tr>\n",
       "  </thead>\n",
       "  <tbody>\n",
       "    <tr>\n",
       "      <th>0</th>\n",
       "      <td>0</td>\n",
       "      <td>3</td>\n",
       "      <td>1</td>\n",
       "      <td>22.0</td>\n",
       "      <td>1</td>\n",
       "      <td>0</td>\n",
       "      <td>7.2500</td>\n",
       "      <td>1.0</td>\n",
       "      <td>0</td>\n",
       "    </tr>\n",
       "    <tr>\n",
       "      <th>1</th>\n",
       "      <td>1</td>\n",
       "      <td>1</td>\n",
       "      <td>0</td>\n",
       "      <td>38.0</td>\n",
       "      <td>1</td>\n",
       "      <td>0</td>\n",
       "      <td>71.2833</td>\n",
       "      <td>2.0</td>\n",
       "      <td>0</td>\n",
       "    </tr>\n",
       "    <tr>\n",
       "      <th>2</th>\n",
       "      <td>1</td>\n",
       "      <td>3</td>\n",
       "      <td>0</td>\n",
       "      <td>26.0</td>\n",
       "      <td>0</td>\n",
       "      <td>0</td>\n",
       "      <td>7.9250</td>\n",
       "      <td>1.0</td>\n",
       "      <td>1</td>\n",
       "    </tr>\n",
       "    <tr>\n",
       "      <th>3</th>\n",
       "      <td>1</td>\n",
       "      <td>1</td>\n",
       "      <td>0</td>\n",
       "      <td>35.0</td>\n",
       "      <td>1</td>\n",
       "      <td>0</td>\n",
       "      <td>53.1000</td>\n",
       "      <td>1.0</td>\n",
       "      <td>0</td>\n",
       "    </tr>\n",
       "    <tr>\n",
       "      <th>4</th>\n",
       "      <td>0</td>\n",
       "      <td>3</td>\n",
       "      <td>1</td>\n",
       "      <td>35.0</td>\n",
       "      <td>0</td>\n",
       "      <td>0</td>\n",
       "      <td>8.0500</td>\n",
       "      <td>1.0</td>\n",
       "      <td>1</td>\n",
       "    </tr>\n",
       "    <tr>\n",
       "      <th>5</th>\n",
       "      <td>0</td>\n",
       "      <td>3</td>\n",
       "      <td>1</td>\n",
       "      <td>28.0</td>\n",
       "      <td>0</td>\n",
       "      <td>0</td>\n",
       "      <td>8.4583</td>\n",
       "      <td>3.0</td>\n",
       "      <td>1</td>\n",
       "    </tr>\n",
       "    <tr>\n",
       "      <th>6</th>\n",
       "      <td>0</td>\n",
       "      <td>1</td>\n",
       "      <td>1</td>\n",
       "      <td>54.0</td>\n",
       "      <td>0</td>\n",
       "      <td>0</td>\n",
       "      <td>51.8625</td>\n",
       "      <td>1.0</td>\n",
       "      <td>1</td>\n",
       "    </tr>\n",
       "    <tr>\n",
       "      <th>7</th>\n",
       "      <td>0</td>\n",
       "      <td>3</td>\n",
       "      <td>1</td>\n",
       "      <td>2.0</td>\n",
       "      <td>3</td>\n",
       "      <td>1</td>\n",
       "      <td>21.0750</td>\n",
       "      <td>1.0</td>\n",
       "      <td>0</td>\n",
       "    </tr>\n",
       "    <tr>\n",
       "      <th>8</th>\n",
       "      <td>1</td>\n",
       "      <td>3</td>\n",
       "      <td>0</td>\n",
       "      <td>27.0</td>\n",
       "      <td>0</td>\n",
       "      <td>2</td>\n",
       "      <td>11.1333</td>\n",
       "      <td>1.0</td>\n",
       "      <td>0</td>\n",
       "    </tr>\n",
       "    <tr>\n",
       "      <th>9</th>\n",
       "      <td>1</td>\n",
       "      <td>2</td>\n",
       "      <td>0</td>\n",
       "      <td>14.0</td>\n",
       "      <td>1</td>\n",
       "      <td>0</td>\n",
       "      <td>30.0708</td>\n",
       "      <td>2.0</td>\n",
       "      <td>0</td>\n",
       "    </tr>\n",
       "  </tbody>\n",
       "</table>\n",
       "</div>"
      ],
      "text/plain": [
       "   survived  pclass isMale   age  sibsp  parch     fare  embark_town  alone\n",
       "0         0       3      1  22.0      1      0   7.2500          1.0      0\n",
       "1         1       1      0  38.0      1      0  71.2833          2.0      0\n",
       "2         1       3      0  26.0      0      0   7.9250          1.0      1\n",
       "3         1       1      0  35.0      1      0  53.1000          1.0      0\n",
       "4         0       3      1  35.0      0      0   8.0500          1.0      1\n",
       "5         0       3      1  28.0      0      0   8.4583          3.0      1\n",
       "6         0       1      1  54.0      0      0  51.8625          1.0      1\n",
       "7         0       3      1   2.0      3      1  21.0750          1.0      0\n",
       "8         1       3      0  27.0      0      2  11.1333          1.0      0\n",
       "9         1       2      0  14.0      1      0  30.0708          2.0      0"
      ]
     },
     "execution_count": 3,
     "metadata": {},
     "output_type": "execute_result"
    }
   ],
   "source": [
    "titanic = acquire.prep_titanic(titanic)\n",
    "#titanic.rename(columns={'sex': 'isMale'}, inplace=True)\n",
    "titanic.head(10)"
   ]
  },
  {
   "cell_type": "code",
   "execution_count": 4,
   "id": "32b8763d",
   "metadata": {
    "scrolled": false
   },
   "outputs": [
    {
     "name": "stdout",
     "output_type": "stream",
     "text": [
      "29.36158249158249\n",
      "0    28.0\n",
      "Name: age, dtype: float64\n",
      "28.0\n"
     ]
    }
   ],
   "source": [
    "print(f'{titanic.age.mean()}')\n",
    "print(f'{titanic.age.mode()}')\n",
    "print(titanic.age.median())"
   ]
  },
  {
   "cell_type": "code",
   "execution_count": 5,
   "id": "04a49d8a",
   "metadata": {},
   "outputs": [
    {
     "name": "stdout",
     "output_type": "stream",
     "text": [
      "<class 'pandas.core.frame.DataFrame'>\n",
      "RangeIndex: 891 entries, 0 to 890\n",
      "Data columns (total 9 columns):\n",
      " #   Column       Non-Null Count  Dtype  \n",
      "---  ------       --------------  -----  \n",
      " 0   survived     891 non-null    int64  \n",
      " 1   pclass       891 non-null    int64  \n",
      " 2   isMale       891 non-null    object \n",
      " 3   age          891 non-null    float64\n",
      " 4   sibsp        891 non-null    int64  \n",
      " 5   parch        891 non-null    int64  \n",
      " 6   fare         891 non-null    float64\n",
      " 7   embark_town  891 non-null    float64\n",
      " 8   alone        891 non-null    int64  \n",
      "dtypes: float64(3), int64(5), object(1)\n",
      "memory usage: 62.8+ KB\n"
     ]
    }
   ],
   "source": [
    "titanic.info()"
   ]
  },
  {
   "cell_type": "code",
   "execution_count": 6,
   "id": "be6722cc",
   "metadata": {},
   "outputs": [],
   "source": [
    "#titanic.age[titanic.age.isnull()] = 28\n",
    "#titanic.head(10)"
   ]
  },
  {
   "cell_type": "code",
   "execution_count": 7,
   "id": "cf56a9ea",
   "metadata": {},
   "outputs": [],
   "source": [
    "#titanic[titanic.age == 'NaN'] = 28"
   ]
  },
  {
   "cell_type": "code",
   "execution_count": 8,
   "id": "298df669",
   "metadata": {},
   "outputs": [
    {
     "data": {
      "text/plain": [
       "1.0    646\n",
       "2.0    168\n",
       "3.0     77\n",
       "Name: embark_town, dtype: int64"
      ]
     },
     "execution_count": 8,
     "metadata": {},
     "output_type": "execute_result"
    }
   ],
   "source": [
    "titanic.embark_town.value_counts()"
   ]
  },
  {
   "cell_type": "code",
   "execution_count": 9,
   "id": "3d17226b",
   "metadata": {},
   "outputs": [],
   "source": [
    "#titanic.embark_town[titanic.embark_town.isnull()] = 1.0"
   ]
  },
  {
   "cell_type": "code",
   "execution_count": 10,
   "id": "ef13cab3",
   "metadata": {
    "scrolled": true
   },
   "outputs": [],
   "source": [
    "#titanic.isMale[titanic.isMale == 'male'] = 1\n",
    "#titanic.isMale[titanic.isMale == 'female'] = 0\n",
    "#titanic.head(10)"
   ]
  },
  {
   "cell_type": "code",
   "execution_count": 11,
   "id": "20739404",
   "metadata": {},
   "outputs": [
    {
     "data": {
      "text/plain": [
       "((534, 9), (178, 9), (179, 9))"
      ]
     },
     "execution_count": 11,
     "metadata": {},
     "output_type": "execute_result"
    }
   ],
   "source": [
    "t_train, t_validate, t_test = acquire.split(titanic)\n",
    "t_train.shape, t_validate.shape, t_test.shape"
   ]
  },
  {
   "cell_type": "code",
   "execution_count": 12,
   "id": "3de88c1e",
   "metadata": {
    "scrolled": true
   },
   "outputs": [
    {
     "data": {
      "text/plain": [
       "0.40074906367041196"
      ]
     },
     "execution_count": 12,
     "metadata": {},
     "output_type": "execute_result"
    }
   ],
   "source": [
    "(t_train.survived == 1).mean()"
   ]
  },
  {
   "cell_type": "markdown",
   "id": "0f643b0c",
   "metadata": {},
   "source": [
    "## What is your baseline prediction?  What is your baseline accuracy? "
   ]
  },
  {
   "cell_type": "code",
   "execution_count": 13,
   "id": "e9a65eb8",
   "metadata": {},
   "outputs": [],
   "source": [
    "t_train['baseline'] = 0"
   ]
  },
  {
   "cell_type": "code",
   "execution_count": 14,
   "id": "efdca14f",
   "metadata": {
    "scrolled": true
   },
   "outputs": [
    {
     "data": {
      "text/plain": [
       "0    534\n",
       "Name: baseline, dtype: int64"
      ]
     },
     "execution_count": 14,
     "metadata": {},
     "output_type": "execute_result"
    }
   ],
   "source": [
    "t_train.baseline.value_counts()"
   ]
  },
  {
   "cell_type": "code",
   "execution_count": 15,
   "id": "6691a5b5",
   "metadata": {
    "scrolled": true
   },
   "outputs": [
    {
     "data": {
      "text/html": [
       "<div>\n",
       "<style scoped>\n",
       "    .dataframe tbody tr th:only-of-type {\n",
       "        vertical-align: middle;\n",
       "    }\n",
       "\n",
       "    .dataframe tbody tr th {\n",
       "        vertical-align: top;\n",
       "    }\n",
       "\n",
       "    .dataframe thead th {\n",
       "        text-align: right;\n",
       "    }\n",
       "</style>\n",
       "<table border=\"1\" class=\"dataframe\">\n",
       "  <thead>\n",
       "    <tr style=\"text-align: right;\">\n",
       "      <th></th>\n",
       "      <th>survived</th>\n",
       "      <th>pclass</th>\n",
       "      <th>isMale</th>\n",
       "      <th>age</th>\n",
       "      <th>sibsp</th>\n",
       "      <th>parch</th>\n",
       "      <th>fare</th>\n",
       "      <th>embark_town</th>\n",
       "      <th>alone</th>\n",
       "      <th>baseline</th>\n",
       "    </tr>\n",
       "  </thead>\n",
       "  <tbody>\n",
       "    <tr>\n",
       "      <th>304</th>\n",
       "      <td>0</td>\n",
       "      <td>3</td>\n",
       "      <td>1</td>\n",
       "      <td>28.0</td>\n",
       "      <td>0</td>\n",
       "      <td>0</td>\n",
       "      <td>8.0500</td>\n",
       "      <td>1.0</td>\n",
       "      <td>1</td>\n",
       "      <td>0</td>\n",
       "    </tr>\n",
       "    <tr>\n",
       "      <th>718</th>\n",
       "      <td>0</td>\n",
       "      <td>3</td>\n",
       "      <td>1</td>\n",
       "      <td>28.0</td>\n",
       "      <td>0</td>\n",
       "      <td>0</td>\n",
       "      <td>15.5000</td>\n",
       "      <td>3.0</td>\n",
       "      <td>1</td>\n",
       "      <td>0</td>\n",
       "    </tr>\n",
       "    <tr>\n",
       "      <th>102</th>\n",
       "      <td>0</td>\n",
       "      <td>1</td>\n",
       "      <td>1</td>\n",
       "      <td>21.0</td>\n",
       "      <td>0</td>\n",
       "      <td>1</td>\n",
       "      <td>77.2875</td>\n",
       "      <td>1.0</td>\n",
       "      <td>0</td>\n",
       "      <td>0</td>\n",
       "    </tr>\n",
       "    <tr>\n",
       "      <th>737</th>\n",
       "      <td>1</td>\n",
       "      <td>1</td>\n",
       "      <td>1</td>\n",
       "      <td>35.0</td>\n",
       "      <td>0</td>\n",
       "      <td>0</td>\n",
       "      <td>512.3292</td>\n",
       "      <td>2.0</td>\n",
       "      <td>1</td>\n",
       "      <td>0</td>\n",
       "    </tr>\n",
       "    <tr>\n",
       "      <th>269</th>\n",
       "      <td>1</td>\n",
       "      <td>1</td>\n",
       "      <td>0</td>\n",
       "      <td>35.0</td>\n",
       "      <td>0</td>\n",
       "      <td>0</td>\n",
       "      <td>135.6333</td>\n",
       "      <td>1.0</td>\n",
       "      <td>1</td>\n",
       "      <td>0</td>\n",
       "    </tr>\n",
       "  </tbody>\n",
       "</table>\n",
       "</div>"
      ],
      "text/plain": [
       "     survived  pclass isMale   age  sibsp  parch      fare  embark_town  \\\n",
       "304         0       3      1  28.0      0      0    8.0500          1.0   \n",
       "718         0       3      1  28.0      0      0   15.5000          3.0   \n",
       "102         0       1      1  21.0      0      1   77.2875          1.0   \n",
       "737         1       1      1  35.0      0      0  512.3292          2.0   \n",
       "269         1       1      0  35.0      0      0  135.6333          1.0   \n",
       "\n",
       "     alone  baseline  \n",
       "304      1         0  \n",
       "718      1         0  \n",
       "102      0         0  \n",
       "737      1         0  \n",
       "269      1         0  "
      ]
     },
     "execution_count": 15,
     "metadata": {},
     "output_type": "execute_result"
    }
   ],
   "source": [
    "#t_train = t_train.drop(columns='Unnamed: 0')\n",
    "t_train.head()"
   ]
  },
  {
   "cell_type": "code",
   "execution_count": 47,
   "id": "1e8497fb",
   "metadata": {},
   "outputs": [
    {
     "name": "stdout",
     "output_type": "stream",
     "text": [
      "Baseline accuracy: 0.599, This is predicting for non-survival\n"
     ]
    }
   ],
   "source": [
    "print(f'Baseline accuracy: {metrics.accuracy_score(t_train.survived, t_train.baseline):.3f}, This is predicting for non-survival')"
   ]
  },
  {
   "cell_type": "markdown",
   "id": "c6835467",
   "metadata": {},
   "source": [
    "### 2. Fit the decision tree classifier to your training sample and transform (i.e. make predictions on the training sample)"
   ]
  },
  {
   "cell_type": "code",
   "execution_count": 17,
   "id": "0b329649",
   "metadata": {},
   "outputs": [
    {
     "data": {
      "text/html": [
       "<div>\n",
       "<style scoped>\n",
       "    .dataframe tbody tr th:only-of-type {\n",
       "        vertical-align: middle;\n",
       "    }\n",
       "\n",
       "    .dataframe tbody tr th {\n",
       "        vertical-align: top;\n",
       "    }\n",
       "\n",
       "    .dataframe thead th {\n",
       "        text-align: right;\n",
       "    }\n",
       "</style>\n",
       "<table border=\"1\" class=\"dataframe\">\n",
       "  <thead>\n",
       "    <tr style=\"text-align: right;\">\n",
       "      <th></th>\n",
       "      <th>survived</th>\n",
       "      <th>pclass</th>\n",
       "      <th>isMale</th>\n",
       "      <th>age</th>\n",
       "      <th>sibsp</th>\n",
       "      <th>parch</th>\n",
       "      <th>fare</th>\n",
       "      <th>embark_town</th>\n",
       "      <th>alone</th>\n",
       "      <th>baseline</th>\n",
       "    </tr>\n",
       "  </thead>\n",
       "  <tbody>\n",
       "    <tr>\n",
       "      <th>304</th>\n",
       "      <td>0</td>\n",
       "      <td>3</td>\n",
       "      <td>1</td>\n",
       "      <td>28.0</td>\n",
       "      <td>0</td>\n",
       "      <td>0</td>\n",
       "      <td>8.0500</td>\n",
       "      <td>1.0</td>\n",
       "      <td>1</td>\n",
       "      <td>0</td>\n",
       "    </tr>\n",
       "    <tr>\n",
       "      <th>718</th>\n",
       "      <td>0</td>\n",
       "      <td>3</td>\n",
       "      <td>1</td>\n",
       "      <td>28.0</td>\n",
       "      <td>0</td>\n",
       "      <td>0</td>\n",
       "      <td>15.5000</td>\n",
       "      <td>3.0</td>\n",
       "      <td>1</td>\n",
       "      <td>0</td>\n",
       "    </tr>\n",
       "    <tr>\n",
       "      <th>102</th>\n",
       "      <td>0</td>\n",
       "      <td>1</td>\n",
       "      <td>1</td>\n",
       "      <td>21.0</td>\n",
       "      <td>0</td>\n",
       "      <td>1</td>\n",
       "      <td>77.2875</td>\n",
       "      <td>1.0</td>\n",
       "      <td>0</td>\n",
       "      <td>0</td>\n",
       "    </tr>\n",
       "    <tr>\n",
       "      <th>737</th>\n",
       "      <td>1</td>\n",
       "      <td>1</td>\n",
       "      <td>1</td>\n",
       "      <td>35.0</td>\n",
       "      <td>0</td>\n",
       "      <td>0</td>\n",
       "      <td>512.3292</td>\n",
       "      <td>2.0</td>\n",
       "      <td>1</td>\n",
       "      <td>0</td>\n",
       "    </tr>\n",
       "    <tr>\n",
       "      <th>269</th>\n",
       "      <td>1</td>\n",
       "      <td>1</td>\n",
       "      <td>0</td>\n",
       "      <td>35.0</td>\n",
       "      <td>0</td>\n",
       "      <td>0</td>\n",
       "      <td>135.6333</td>\n",
       "      <td>1.0</td>\n",
       "      <td>1</td>\n",
       "      <td>0</td>\n",
       "    </tr>\n",
       "  </tbody>\n",
       "</table>\n",
       "</div>"
      ],
      "text/plain": [
       "     survived  pclass isMale   age  sibsp  parch      fare  embark_town  \\\n",
       "304         0       3      1  28.0      0      0    8.0500          1.0   \n",
       "718         0       3      1  28.0      0      0   15.5000          3.0   \n",
       "102         0       1      1  21.0      0      1   77.2875          1.0   \n",
       "737         1       1      1  35.0      0      0  512.3292          2.0   \n",
       "269         1       1      0  35.0      0      0  135.6333          1.0   \n",
       "\n",
       "     alone  baseline  \n",
       "304      1         0  \n",
       "718      1         0  \n",
       "102      0         0  \n",
       "737      1         0  \n",
       "269      1         0  "
      ]
     },
     "execution_count": 17,
     "metadata": {},
     "output_type": "execute_result"
    }
   ],
   "source": [
    "#t_train.sex[t_train.sex == 'male'] = 1\n",
    "#t_train.sex[t_train.sex == 'female'] = 0\n",
    "#t_train[t_train.sex == 'female'] = 0\n",
    "#t_train.rename(columns={'sex': 'isMale'})\n",
    "t_train.head()"
   ]
  },
  {
   "cell_type": "code",
   "execution_count": 18,
   "id": "9bfb52ec",
   "metadata": {
    "scrolled": true
   },
   "outputs": [
    {
     "data": {
      "text/html": [
       "<div>\n",
       "<style scoped>\n",
       "    .dataframe tbody tr th:only-of-type {\n",
       "        vertical-align: middle;\n",
       "    }\n",
       "\n",
       "    .dataframe tbody tr th {\n",
       "        vertical-align: top;\n",
       "    }\n",
       "\n",
       "    .dataframe thead th {\n",
       "        text-align: right;\n",
       "    }\n",
       "</style>\n",
       "<table border=\"1\" class=\"dataframe\">\n",
       "  <thead>\n",
       "    <tr style=\"text-align: right;\">\n",
       "      <th></th>\n",
       "      <th>pclass</th>\n",
       "      <th>isMale</th>\n",
       "      <th>age</th>\n",
       "      <th>sibsp</th>\n",
       "      <th>parch</th>\n",
       "      <th>fare</th>\n",
       "      <th>embark_town</th>\n",
       "      <th>alone</th>\n",
       "      <th>baseline</th>\n",
       "    </tr>\n",
       "  </thead>\n",
       "  <tbody>\n",
       "    <tr>\n",
       "      <th>304</th>\n",
       "      <td>3</td>\n",
       "      <td>1</td>\n",
       "      <td>28.0</td>\n",
       "      <td>0</td>\n",
       "      <td>0</td>\n",
       "      <td>8.0500</td>\n",
       "      <td>1.0</td>\n",
       "      <td>1</td>\n",
       "      <td>0</td>\n",
       "    </tr>\n",
       "    <tr>\n",
       "      <th>718</th>\n",
       "      <td>3</td>\n",
       "      <td>1</td>\n",
       "      <td>28.0</td>\n",
       "      <td>0</td>\n",
       "      <td>0</td>\n",
       "      <td>15.5000</td>\n",
       "      <td>3.0</td>\n",
       "      <td>1</td>\n",
       "      <td>0</td>\n",
       "    </tr>\n",
       "    <tr>\n",
       "      <th>102</th>\n",
       "      <td>1</td>\n",
       "      <td>1</td>\n",
       "      <td>21.0</td>\n",
       "      <td>0</td>\n",
       "      <td>1</td>\n",
       "      <td>77.2875</td>\n",
       "      <td>1.0</td>\n",
       "      <td>0</td>\n",
       "      <td>0</td>\n",
       "    </tr>\n",
       "    <tr>\n",
       "      <th>737</th>\n",
       "      <td>1</td>\n",
       "      <td>1</td>\n",
       "      <td>35.0</td>\n",
       "      <td>0</td>\n",
       "      <td>0</td>\n",
       "      <td>512.3292</td>\n",
       "      <td>2.0</td>\n",
       "      <td>1</td>\n",
       "      <td>0</td>\n",
       "    </tr>\n",
       "    <tr>\n",
       "      <th>269</th>\n",
       "      <td>1</td>\n",
       "      <td>0</td>\n",
       "      <td>35.0</td>\n",
       "      <td>0</td>\n",
       "      <td>0</td>\n",
       "      <td>135.6333</td>\n",
       "      <td>1.0</td>\n",
       "      <td>1</td>\n",
       "      <td>0</td>\n",
       "    </tr>\n",
       "  </tbody>\n",
       "</table>\n",
       "</div>"
      ],
      "text/plain": [
       "     pclass isMale   age  sibsp  parch      fare  embark_town  alone  baseline\n",
       "304       3      1  28.0      0      0    8.0500          1.0      1         0\n",
       "718       3      1  28.0      0      0   15.5000          3.0      1         0\n",
       "102       1      1  21.0      0      1   77.2875          1.0      0         0\n",
       "737       1      1  35.0      0      0  512.3292          2.0      1         0\n",
       "269       1      0  35.0      0      0  135.6333          1.0      1         0"
      ]
     },
     "execution_count": 18,
     "metadata": {},
     "output_type": "execute_result"
    }
   ],
   "source": [
    "x_tr = t_train.drop(columns='survived')\n",
    "y_tr = t_train.survived\n",
    "\n",
    "x_val = t_validate.drop(columns='survived')\n",
    "y_val = t_validate.survived\n",
    "\n",
    "x_test = t_test.drop(columns='survived')\n",
    "y_test = t_test.survived\n",
    "\n",
    "x_tr.head()"
   ]
  },
  {
   "cell_type": "code",
   "execution_count": 19,
   "id": "6ef0b1ab",
   "metadata": {},
   "outputs": [
    {
     "name": "stdout",
     "output_type": "stream",
     "text": [
      "<class 'pandas.core.frame.DataFrame'>\n",
      "Int64Index: 534 entries, 304 to 133\n",
      "Data columns (total 9 columns):\n",
      " #   Column       Non-Null Count  Dtype  \n",
      "---  ------       --------------  -----  \n",
      " 0   pclass       534 non-null    int64  \n",
      " 1   isMale       534 non-null    object \n",
      " 2   age          534 non-null    float64\n",
      " 3   sibsp        534 non-null    int64  \n",
      " 4   parch        534 non-null    int64  \n",
      " 5   fare         534 non-null    float64\n",
      " 6   embark_town  534 non-null    float64\n",
      " 7   alone        534 non-null    int64  \n",
      " 8   baseline     534 non-null    int64  \n",
      "dtypes: float64(3), int64(5), object(1)\n",
      "memory usage: 41.7+ KB\n"
     ]
    }
   ],
   "source": [
    "x_tr.info()"
   ]
  },
  {
   "cell_type": "code",
   "execution_count": 20,
   "id": "5c0f192f",
   "metadata": {},
   "outputs": [],
   "source": [
    "t_classf = DecisionTreeClassifier()\n",
    "t_classf = t_classf.fit(x_tr, y_tr)\n",
    "\n",
    "y_predict = t_classf.predict(x_tr)\n",
    "y_predict_prob = t_classf.predict_proba(x_tr)"
   ]
  },
  {
   "cell_type": "code",
   "execution_count": 21,
   "id": "9a8d16a2",
   "metadata": {},
   "outputs": [
    {
     "data": {
      "text/plain": [
       "DecisionTreeClassifier()"
      ]
     },
     "execution_count": 21,
     "metadata": {},
     "output_type": "execute_result"
    }
   ],
   "source": [
    "t_classf.fit(x_tr, y_tr)"
   ]
  },
  {
   "cell_type": "markdown",
   "id": "e79fd3cc",
   "metadata": {},
   "source": [
    "### 3. Evaluate your in-sample results using the model score, confusion matrix, and classification report."
   ]
  },
  {
   "cell_type": "code",
   "execution_count": 22,
   "id": "3a449ffc",
   "metadata": {},
   "outputs": [
    {
     "name": "stdout",
     "output_type": "stream",
     "text": [
      "Model score: 0.987\n"
     ]
    }
   ],
   "source": [
    "print(f'Model score: {t_classf.score(x_tr, y_tr):.3f}')"
   ]
  },
  {
   "cell_type": "code",
   "execution_count": 23,
   "id": "d5f23356",
   "metadata": {},
   "outputs": [
    {
     "data": {
      "text/html": [
       "<div>\n",
       "<style scoped>\n",
       "    .dataframe tbody tr th:only-of-type {\n",
       "        vertical-align: middle;\n",
       "    }\n",
       "\n",
       "    .dataframe tbody tr th {\n",
       "        vertical-align: top;\n",
       "    }\n",
       "\n",
       "    .dataframe thead th {\n",
       "        text-align: right;\n",
       "    }\n",
       "</style>\n",
       "<table border=\"1\" class=\"dataframe\">\n",
       "  <thead>\n",
       "    <tr style=\"text-align: right;\">\n",
       "      <th></th>\n",
       "      <th>0</th>\n",
       "      <th>1</th>\n",
       "    </tr>\n",
       "  </thead>\n",
       "  <tbody>\n",
       "    <tr>\n",
       "      <th>0</th>\n",
       "      <td>319</td>\n",
       "      <td>1</td>\n",
       "    </tr>\n",
       "    <tr>\n",
       "      <th>1</th>\n",
       "      <td>6</td>\n",
       "      <td>208</td>\n",
       "    </tr>\n",
       "  </tbody>\n",
       "</table>\n",
       "</div>"
      ],
      "text/plain": [
       "     0    1\n",
       "0  319    1\n",
       "1    6  208"
      ]
     },
     "execution_count": 23,
     "metadata": {},
     "output_type": "execute_result"
    }
   ],
   "source": [
    "cm = confusion_matrix(y_tr, y_predict)\n",
    "pd.DataFrame(cm)"
   ]
  },
  {
   "cell_type": "code",
   "execution_count": 24,
   "id": "c5d7d261",
   "metadata": {},
   "outputs": [
    {
     "data": {
      "text/html": [
       "<div>\n",
       "<style scoped>\n",
       "    .dataframe tbody tr th:only-of-type {\n",
       "        vertical-align: middle;\n",
       "    }\n",
       "\n",
       "    .dataframe tbody tr th {\n",
       "        vertical-align: top;\n",
       "    }\n",
       "\n",
       "    .dataframe thead th {\n",
       "        text-align: right;\n",
       "    }\n",
       "</style>\n",
       "<table border=\"1\" class=\"dataframe\">\n",
       "  <thead>\n",
       "    <tr style=\"text-align: right;\">\n",
       "      <th></th>\n",
       "      <th>0</th>\n",
       "      <th>1</th>\n",
       "      <th>accuracy</th>\n",
       "      <th>macro avg</th>\n",
       "      <th>weighted avg</th>\n",
       "    </tr>\n",
       "  </thead>\n",
       "  <tbody>\n",
       "    <tr>\n",
       "      <th>precision</th>\n",
       "      <td>0.981538</td>\n",
       "      <td>0.995215</td>\n",
       "      <td>0.986891</td>\n",
       "      <td>0.988377</td>\n",
       "      <td>0.987019</td>\n",
       "    </tr>\n",
       "    <tr>\n",
       "      <th>recall</th>\n",
       "      <td>0.996875</td>\n",
       "      <td>0.971963</td>\n",
       "      <td>0.986891</td>\n",
       "      <td>0.984419</td>\n",
       "      <td>0.986891</td>\n",
       "    </tr>\n",
       "    <tr>\n",
       "      <th>f1-score</th>\n",
       "      <td>0.989147</td>\n",
       "      <td>0.983452</td>\n",
       "      <td>0.986891</td>\n",
       "      <td>0.986299</td>\n",
       "      <td>0.986865</td>\n",
       "    </tr>\n",
       "    <tr>\n",
       "      <th>support</th>\n",
       "      <td>320.000000</td>\n",
       "      <td>214.000000</td>\n",
       "      <td>0.986891</td>\n",
       "      <td>534.000000</td>\n",
       "      <td>534.000000</td>\n",
       "    </tr>\n",
       "  </tbody>\n",
       "</table>\n",
       "</div>"
      ],
      "text/plain": [
       "                    0           1  accuracy   macro avg  weighted avg\n",
       "precision    0.981538    0.995215  0.986891    0.988377      0.987019\n",
       "recall       0.996875    0.971963  0.986891    0.984419      0.986891\n",
       "f1-score     0.989147    0.983452  0.986891    0.986299      0.986865\n",
       "support    320.000000  214.000000  0.986891  534.000000    534.000000"
      ]
     },
     "execution_count": 24,
     "metadata": {},
     "output_type": "execute_result"
    }
   ],
   "source": [
    "pd.DataFrame(classification_report(y_tr, y_predict, output_dict=True))"
   ]
  },
  {
   "cell_type": "markdown",
   "id": "c90b7207",
   "metadata": {},
   "source": [
    "### 4. Compute: Accuracy, true positive rate, false positive rate, true negative rate, false negative rate, precision, recall, f1-score, and support."
   ]
  },
  {
   "cell_type": "markdown",
   "id": "9f603b48",
   "metadata": {},
   "source": [
    "##### Accuracy:"
   ]
  },
  {
   "cell_type": "code",
   "execution_count": 25,
   "id": "72e38eac",
   "metadata": {},
   "outputs": [
    {
     "data": {
      "text/plain": [
       "0.9868913857677902"
      ]
     },
     "execution_count": 25,
     "metadata": {},
     "output_type": "execute_result"
    }
   ],
   "source": [
    "accuracy_score(y_tr, y_predict)"
   ]
  },
  {
   "cell_type": "markdown",
   "id": "574b9dc1",
   "metadata": {},
   "source": [
    "##### TP, TN, FP, FN rates: "
   ]
  },
  {
   "cell_type": "code",
   "execution_count": 26,
   "id": "133ffbb0",
   "metadata": {},
   "outputs": [
    {
     "name": "stdout",
     "output_type": "stream",
     "text": [
      " True Positive rate: 0.5973782771535581\n",
      "False Positive rate: 0.0018726591760299626\n",
      " True Negative rate: 0.3895131086142322\n",
      "False Negative rate: 0.011235955056179775\n"
     ]
    }
   ],
   "source": [
    "TP = cm[0,0]\n",
    "TN = cm[1,1]\n",
    "FP = cm[0,1]\n",
    "FN = cm[1,0]\n",
    "print(f' True Positive rate: {TP/(TP+TN+FP+FN)}')\n",
    "print(f'False Positive rate: {FP/(TP+TN+FP+FN)}')\n",
    "print(f' True Negative rate: {TN/(TP+TN+FP+FN)}')\n",
    "print(f'False Negative rate: {FN/(TP+TN+FP+FN)}')"
   ]
  },
  {
   "cell_type": "markdown",
   "id": "41daf6f7",
   "metadata": {},
   "source": [
    "##### Precision, Recall, f1-score and support:"
   ]
  },
  {
   "cell_type": "code",
   "execution_count": 27,
   "id": "6a887eb4",
   "metadata": {},
   "outputs": [
    {
     "name": "stdout",
     "output_type": "stream",
     "text": [
      "Precision: 0.9952153110047847\n",
      "   Recall: 0.9719626168224299\n",
      "       F1: 0.9834515366430261\n",
      "  Support: NotSurvived: 320\n",
      "           Survived: 214\n"
     ]
    }
   ],
   "source": [
    "print(f'Precision: {precision_score(y_tr, y_predict)}')\n",
    "print(f'   Recall: {recall_score(y_tr, y_predict)}')\n",
    "print(f'       F1: {f1_score(y_tr, y_predict)}')\n",
    "print(f'  Support: NotSurvived: {TP+FP}')\n",
    "print(f'           Survived: {TN+FN}')"
   ]
  },
  {
   "cell_type": "markdown",
   "id": "5ec118a7",
   "metadata": {},
   "source": [
    "### 5. Run through steps 2-4 using a different max_depth value."
   ]
  },
  {
   "cell_type": "markdown",
   "id": "6934a9e8",
   "metadata": {},
   "source": [
    "This is a different Decision Tree Classifier because of the max_depth value being changed"
   ]
  },
  {
   "cell_type": "code",
   "execution_count": 28,
   "id": "c5a358b3",
   "metadata": {},
   "outputs": [],
   "source": [
    "t_classf2 = DecisionTreeClassifier(max_depth=4)\n",
    "t_classf2 = t_classf2.fit(x_tr, y_tr)\n",
    "\n",
    "y_predict2 = t_classf2.predict(x_tr)\n",
    "y_predict_prob2 = t_classf2.predict_proba(x_tr)"
   ]
  },
  {
   "cell_type": "code",
   "execution_count": 29,
   "id": "d8f2a59c",
   "metadata": {},
   "outputs": [
    {
     "name": "stdout",
     "output_type": "stream",
     "text": [
      "Model score: 82.77153558052434\n"
     ]
    }
   ],
   "source": [
    "print(f'Model score: {t_classf2.score(x_tr, y_tr)*100}')"
   ]
  },
  {
   "cell_type": "code",
   "execution_count": 30,
   "id": "c341ae79",
   "metadata": {},
   "outputs": [
    {
     "data": {
      "text/html": [
       "<div>\n",
       "<style scoped>\n",
       "    .dataframe tbody tr th:only-of-type {\n",
       "        vertical-align: middle;\n",
       "    }\n",
       "\n",
       "    .dataframe tbody tr th {\n",
       "        vertical-align: top;\n",
       "    }\n",
       "\n",
       "    .dataframe thead th {\n",
       "        text-align: right;\n",
       "    }\n",
       "</style>\n",
       "<table border=\"1\" class=\"dataframe\">\n",
       "  <thead>\n",
       "    <tr style=\"text-align: right;\">\n",
       "      <th></th>\n",
       "      <th>0</th>\n",
       "      <th>1</th>\n",
       "    </tr>\n",
       "  </thead>\n",
       "  <tbody>\n",
       "    <tr>\n",
       "      <th>0</th>\n",
       "      <td>313</td>\n",
       "      <td>7</td>\n",
       "    </tr>\n",
       "    <tr>\n",
       "      <th>1</th>\n",
       "      <td>85</td>\n",
       "      <td>129</td>\n",
       "    </tr>\n",
       "  </tbody>\n",
       "</table>\n",
       "</div>"
      ],
      "text/plain": [
       "     0    1\n",
       "0  313    7\n",
       "1   85  129"
      ]
     },
     "execution_count": 30,
     "metadata": {},
     "output_type": "execute_result"
    }
   ],
   "source": [
    "cm2 = confusion_matrix(y_tr, y_predict2)\n",
    "pd.DataFrame(cm2)"
   ]
  },
  {
   "cell_type": "code",
   "execution_count": 31,
   "id": "f3d53239",
   "metadata": {},
   "outputs": [
    {
     "data": {
      "text/html": [
       "<div>\n",
       "<style scoped>\n",
       "    .dataframe tbody tr th:only-of-type {\n",
       "        vertical-align: middle;\n",
       "    }\n",
       "\n",
       "    .dataframe tbody tr th {\n",
       "        vertical-align: top;\n",
       "    }\n",
       "\n",
       "    .dataframe thead th {\n",
       "        text-align: right;\n",
       "    }\n",
       "</style>\n",
       "<table border=\"1\" class=\"dataframe\">\n",
       "  <thead>\n",
       "    <tr style=\"text-align: right;\">\n",
       "      <th></th>\n",
       "      <th>0</th>\n",
       "      <th>1</th>\n",
       "      <th>accuracy</th>\n",
       "      <th>macro avg</th>\n",
       "      <th>weighted avg</th>\n",
       "    </tr>\n",
       "  </thead>\n",
       "  <tbody>\n",
       "    <tr>\n",
       "      <th>precision</th>\n",
       "      <td>0.786432</td>\n",
       "      <td>0.948529</td>\n",
       "      <td>0.827715</td>\n",
       "      <td>0.867481</td>\n",
       "      <td>0.851392</td>\n",
       "    </tr>\n",
       "    <tr>\n",
       "      <th>recall</th>\n",
       "      <td>0.978125</td>\n",
       "      <td>0.602804</td>\n",
       "      <td>0.827715</td>\n",
       "      <td>0.790464</td>\n",
       "      <td>0.827715</td>\n",
       "    </tr>\n",
       "    <tr>\n",
       "      <th>f1-score</th>\n",
       "      <td>0.871866</td>\n",
       "      <td>0.737143</td>\n",
       "      <td>0.827715</td>\n",
       "      <td>0.804505</td>\n",
       "      <td>0.817876</td>\n",
       "    </tr>\n",
       "    <tr>\n",
       "      <th>support</th>\n",
       "      <td>320.000000</td>\n",
       "      <td>214.000000</td>\n",
       "      <td>0.827715</td>\n",
       "      <td>534.000000</td>\n",
       "      <td>534.000000</td>\n",
       "    </tr>\n",
       "  </tbody>\n",
       "</table>\n",
       "</div>"
      ],
      "text/plain": [
       "                    0           1  accuracy   macro avg  weighted avg\n",
       "precision    0.786432    0.948529  0.827715    0.867481      0.851392\n",
       "recall       0.978125    0.602804  0.827715    0.790464      0.827715\n",
       "f1-score     0.871866    0.737143  0.827715    0.804505      0.817876\n",
       "support    320.000000  214.000000  0.827715  534.000000    534.000000"
      ]
     },
     "execution_count": 31,
     "metadata": {},
     "output_type": "execute_result"
    }
   ],
   "source": [
    "pd.DataFrame(classification_report(y_tr, y_predict2, output_dict=True))"
   ]
  },
  {
   "cell_type": "code",
   "execution_count": 32,
   "id": "ad8c4345",
   "metadata": {},
   "outputs": [
    {
     "name": "stdout",
     "output_type": "stream",
     "text": [
      "Accuracy: 82.77153558052434\n"
     ]
    }
   ],
   "source": [
    "print(f'Accuracy: {accuracy_score(y_tr, y_predict2)*100}')"
   ]
  },
  {
   "cell_type": "code",
   "execution_count": 33,
   "id": "0cc2f30f",
   "metadata": {},
   "outputs": [
    {
     "name": "stdout",
     "output_type": "stream",
     "text": [
      "TP, TN, FP, FN rates:\n",
      "\n",
      "TP - True Positive rate:  0.586\n",
      "FP - False Positive rate: 0.013\n",
      "TN - True Negative rate:  0.242\n",
      "FN - False Negative rate: 0.159\n"
     ]
    }
   ],
   "source": [
    "TP2 = cm2[0,0]\n",
    "TN2 = cm2[1,1]\n",
    "FP2 = cm2[0,1]\n",
    "FN2 = cm2[1,0]\n",
    "print('TP, TN, FP, FN rates:')\n",
    "print()\n",
    "print(f'TP - True Positive rate:  {TP2/(TP2+TN2+FP2+FN2):.3f}')\n",
    "print(f'FP - False Positive rate: {FP2/(TP2+TN2+FP2+FN2):.3f}')\n",
    "print(f'TN - True Negative rate:  {TN2/(TP2+TN2+FP2+FN2):.3f}')\n",
    "print(f'FN - False Negative rate: {FN2/(TP2+TN2+FP2+FN2):.3f}')"
   ]
  },
  {
   "cell_type": "code",
   "execution_count": 34,
   "id": "3edb47b7",
   "metadata": {},
   "outputs": [
    {
     "name": "stdout",
     "output_type": "stream",
     "text": [
      "Model 1 -\n",
      "\n",
      "Precision: 0.949%\n",
      "\n",
      "   Recall: 0.603%\n",
      "\n",
      "       F1: 0.737%\n",
      "\n",
      "  Support: NotSurvived: 320\n",
      "           Survived:    214\n"
     ]
    }
   ],
   "source": [
    "print('Model 1 -')\n",
    "print()\n",
    "print(f'Precision: {precision_score(y_tr, y_predict2):.3f}%')\n",
    "print()\n",
    "print(f'   Recall: {recall_score(y_tr, y_predict2):.3f}%')\n",
    "print()\n",
    "print(f'       F1: {f1_score(y_tr, y_predict2):.3f}%')\n",
    "print()\n",
    "print(f'  Support: NotSurvived: {TP2+FP2}')\n",
    "print(f'           Survived:    {TN2+FN2}')"
   ]
  },
  {
   "cell_type": "code",
   "execution_count": 39,
   "id": "2ef74412",
   "metadata": {},
   "outputs": [
    {
     "name": "stdout",
     "output_type": "stream",
     "text": [
      "Model 2 -\n",
      "\n",
      "Precision: 0.995%\n",
      "\n",
      "   Recall: 0.972%\n",
      "\n",
      "       F1: 0.983%\n",
      "\n",
      "  Support: \n",
      " NotSurvived: 320\n",
      "    Survived: 214\n"
     ]
    }
   ],
   "source": [
    "print('Model 2 -')\n",
    "print()\n",
    "print(f'Precision: {precision_score(y_tr, y_predict):.3f}%')\n",
    "print()\n",
    "print(f'   Recall: {recall_score(y_tr, y_predict):.3f}%')\n",
    "print()\n",
    "print(f'       F1: {f1_score(y_tr, y_predict):.3f}%')\n",
    "print()\n",
    "print(f'  Support: ')\n",
    "print(f' NotSurvived: {TP+FP}')\n",
    "print(f'    Survived: {TN+FN}')"
   ]
  },
  {
   "cell_type": "markdown",
   "id": "3aa0075f",
   "metadata": {},
   "source": [
    "### 6. Which model performs better on your in-sample data?"
   ]
  },
  {
   "cell_type": "markdown",
   "id": "e5144c74",
   "metadata": {},
   "source": [
    "Model -"
   ]
  },
  {
   "cell_type": "markdown",
   "id": "4e563228",
   "metadata": {},
   "source": [
    "### 7. Which model performs best on your out-of-sample data, the validate set?"
   ]
  },
  {
   "cell_type": "code",
   "execution_count": 36,
   "id": "1fdda672",
   "metadata": {},
   "outputs": [
    {
     "ename": "ValueError",
     "evalue": "X has 8 features, but DecisionTreeClassifier is expecting 9 features as input.",
     "output_type": "error",
     "traceback": [
      "\u001b[0;31m---------------------------------------------------------------------------\u001b[0m",
      "\u001b[0;31mValueError\u001b[0m                                Traceback (most recent call last)",
      "Input \u001b[0;32mIn [36]\u001b[0m, in \u001b[0;36m<cell line: 1>\u001b[0;34m()\u001b[0m\n\u001b[0;32m----> 1\u001b[0m y_predict \u001b[38;5;241m=\u001b[39m \u001b[43mt_classf\u001b[49m\u001b[38;5;241;43m.\u001b[39;49m\u001b[43mpredict\u001b[49m\u001b[43m(\u001b[49m\u001b[43mx_val\u001b[49m\u001b[43m)\u001b[49m\n\u001b[1;32m      2\u001b[0m y_predict2 \u001b[38;5;241m=\u001b[39m t_classf2\u001b[38;5;241m.\u001b[39mpredict(x_val)\n\u001b[1;32m      4\u001b[0m \u001b[38;5;28mprint\u001b[39m(classification_report(y_val, y_predict))\n",
      "File \u001b[0;32m/opt/homebrew/anaconda3/lib/python3.9/site-packages/sklearn/tree/_classes.py:467\u001b[0m, in \u001b[0;36mBaseDecisionTree.predict\u001b[0;34m(self, X, check_input)\u001b[0m\n\u001b[1;32m    444\u001b[0m \u001b[38;5;124;03m\"\"\"Predict class or regression value for X.\u001b[39;00m\n\u001b[1;32m    445\u001b[0m \n\u001b[1;32m    446\u001b[0m \u001b[38;5;124;03mFor a classification model, the predicted class for each sample in X is\u001b[39;00m\n\u001b[0;32m   (...)\u001b[0m\n\u001b[1;32m    464\u001b[0m \u001b[38;5;124;03m    The predicted classes, or the predict values.\u001b[39;00m\n\u001b[1;32m    465\u001b[0m \u001b[38;5;124;03m\"\"\"\u001b[39;00m\n\u001b[1;32m    466\u001b[0m check_is_fitted(\u001b[38;5;28mself\u001b[39m)\n\u001b[0;32m--> 467\u001b[0m X \u001b[38;5;241m=\u001b[39m \u001b[38;5;28;43mself\u001b[39;49m\u001b[38;5;241;43m.\u001b[39;49m\u001b[43m_validate_X_predict\u001b[49m\u001b[43m(\u001b[49m\u001b[43mX\u001b[49m\u001b[43m,\u001b[49m\u001b[43m \u001b[49m\u001b[43mcheck_input\u001b[49m\u001b[43m)\u001b[49m\n\u001b[1;32m    468\u001b[0m proba \u001b[38;5;241m=\u001b[39m \u001b[38;5;28mself\u001b[39m\u001b[38;5;241m.\u001b[39mtree_\u001b[38;5;241m.\u001b[39mpredict(X)\n\u001b[1;32m    469\u001b[0m n_samples \u001b[38;5;241m=\u001b[39m X\u001b[38;5;241m.\u001b[39mshape[\u001b[38;5;241m0\u001b[39m]\n",
      "File \u001b[0;32m/opt/homebrew/anaconda3/lib/python3.9/site-packages/sklearn/tree/_classes.py:433\u001b[0m, in \u001b[0;36mBaseDecisionTree._validate_X_predict\u001b[0;34m(self, X, check_input)\u001b[0m\n\u001b[1;32m    431\u001b[0m \u001b[38;5;124;03m\"\"\"Validate the training data on predict (probabilities).\"\"\"\u001b[39;00m\n\u001b[1;32m    432\u001b[0m \u001b[38;5;28;01mif\u001b[39;00m check_input:\n\u001b[0;32m--> 433\u001b[0m     X \u001b[38;5;241m=\u001b[39m \u001b[38;5;28;43mself\u001b[39;49m\u001b[38;5;241;43m.\u001b[39;49m\u001b[43m_validate_data\u001b[49m\u001b[43m(\u001b[49m\u001b[43mX\u001b[49m\u001b[43m,\u001b[49m\u001b[43m \u001b[49m\u001b[43mdtype\u001b[49m\u001b[38;5;241;43m=\u001b[39;49m\u001b[43mDTYPE\u001b[49m\u001b[43m,\u001b[49m\u001b[43m \u001b[49m\u001b[43maccept_sparse\u001b[49m\u001b[38;5;241;43m=\u001b[39;49m\u001b[38;5;124;43m\"\u001b[39;49m\u001b[38;5;124;43mcsr\u001b[39;49m\u001b[38;5;124;43m\"\u001b[39;49m\u001b[43m,\u001b[49m\u001b[43m \u001b[49m\u001b[43mreset\u001b[49m\u001b[38;5;241;43m=\u001b[39;49m\u001b[38;5;28;43;01mFalse\u001b[39;49;00m\u001b[43m)\u001b[49m\n\u001b[1;32m    434\u001b[0m     \u001b[38;5;28;01mif\u001b[39;00m issparse(X) \u001b[38;5;129;01mand\u001b[39;00m (\n\u001b[1;32m    435\u001b[0m         X\u001b[38;5;241m.\u001b[39mindices\u001b[38;5;241m.\u001b[39mdtype \u001b[38;5;241m!=\u001b[39m np\u001b[38;5;241m.\u001b[39mintc \u001b[38;5;129;01mor\u001b[39;00m X\u001b[38;5;241m.\u001b[39mindptr\u001b[38;5;241m.\u001b[39mdtype \u001b[38;5;241m!=\u001b[39m np\u001b[38;5;241m.\u001b[39mintc\n\u001b[1;32m    436\u001b[0m     ):\n\u001b[1;32m    437\u001b[0m         \u001b[38;5;28;01mraise\u001b[39;00m \u001b[38;5;167;01mValueError\u001b[39;00m(\u001b[38;5;124m\"\u001b[39m\u001b[38;5;124mNo support for np.int64 index based sparse matrices\u001b[39m\u001b[38;5;124m\"\u001b[39m)\n",
      "File \u001b[0;32m/opt/homebrew/anaconda3/lib/python3.9/site-packages/sklearn/base.py:585\u001b[0m, in \u001b[0;36mBaseEstimator._validate_data\u001b[0;34m(self, X, y, reset, validate_separately, **check_params)\u001b[0m\n\u001b[1;32m    582\u001b[0m     out \u001b[38;5;241m=\u001b[39m X, y\n\u001b[1;32m    584\u001b[0m \u001b[38;5;28;01mif\u001b[39;00m \u001b[38;5;129;01mnot\u001b[39;00m no_val_X \u001b[38;5;129;01mand\u001b[39;00m check_params\u001b[38;5;241m.\u001b[39mget(\u001b[38;5;124m\"\u001b[39m\u001b[38;5;124mensure_2d\u001b[39m\u001b[38;5;124m\"\u001b[39m, \u001b[38;5;28;01mTrue\u001b[39;00m):\n\u001b[0;32m--> 585\u001b[0m     \u001b[38;5;28;43mself\u001b[39;49m\u001b[38;5;241;43m.\u001b[39;49m\u001b[43m_check_n_features\u001b[49m\u001b[43m(\u001b[49m\u001b[43mX\u001b[49m\u001b[43m,\u001b[49m\u001b[43m \u001b[49m\u001b[43mreset\u001b[49m\u001b[38;5;241;43m=\u001b[39;49m\u001b[43mreset\u001b[49m\u001b[43m)\u001b[49m\n\u001b[1;32m    587\u001b[0m \u001b[38;5;28;01mreturn\u001b[39;00m out\n",
      "File \u001b[0;32m/opt/homebrew/anaconda3/lib/python3.9/site-packages/sklearn/base.py:400\u001b[0m, in \u001b[0;36mBaseEstimator._check_n_features\u001b[0;34m(self, X, reset)\u001b[0m\n\u001b[1;32m    397\u001b[0m     \u001b[38;5;28;01mreturn\u001b[39;00m\n\u001b[1;32m    399\u001b[0m \u001b[38;5;28;01mif\u001b[39;00m n_features \u001b[38;5;241m!=\u001b[39m \u001b[38;5;28mself\u001b[39m\u001b[38;5;241m.\u001b[39mn_features_in_:\n\u001b[0;32m--> 400\u001b[0m     \u001b[38;5;28;01mraise\u001b[39;00m \u001b[38;5;167;01mValueError\u001b[39;00m(\n\u001b[1;32m    401\u001b[0m         \u001b[38;5;124mf\u001b[39m\u001b[38;5;124m\"\u001b[39m\u001b[38;5;124mX has \u001b[39m\u001b[38;5;132;01m{\u001b[39;00mn_features\u001b[38;5;132;01m}\u001b[39;00m\u001b[38;5;124m features, but \u001b[39m\u001b[38;5;132;01m{\u001b[39;00m\u001b[38;5;28mself\u001b[39m\u001b[38;5;241m.\u001b[39m\u001b[38;5;18m__class__\u001b[39m\u001b[38;5;241m.\u001b[39m\u001b[38;5;18m__name__\u001b[39m\u001b[38;5;132;01m}\u001b[39;00m\u001b[38;5;124m \u001b[39m\u001b[38;5;124m\"\u001b[39m\n\u001b[1;32m    402\u001b[0m         \u001b[38;5;124mf\u001b[39m\u001b[38;5;124m\"\u001b[39m\u001b[38;5;124mis expecting \u001b[39m\u001b[38;5;132;01m{\u001b[39;00m\u001b[38;5;28mself\u001b[39m\u001b[38;5;241m.\u001b[39mn_features_in_\u001b[38;5;132;01m}\u001b[39;00m\u001b[38;5;124m features as input.\u001b[39m\u001b[38;5;124m\"\u001b[39m\n\u001b[1;32m    403\u001b[0m     )\n",
      "\u001b[0;31mValueError\u001b[0m: X has 8 features, but DecisionTreeClassifier is expecting 9 features as input."
     ]
    }
   ],
   "source": [
    "#t_classf = DecisionTreeClassifier()\n",
    "#t_classf = t_classf.fit(x_tr, y_tr)\n",
    "\n",
    "#y_predict = t_classf.predict(x_tr)\n",
    "#y_predict_prob = t_classf.predict_proba(x_tr)\n",
    "val_class\n",
    "y_predict = t_classf.predict(x_val)\n",
    "y_predict2 = t_classf2.predict(x_val)\n",
    "\n",
    "print(classification_report(y_val, y_predict))\n",
    "print(classification_report(y_val, y_predict2))"
   ]
  },
  {
   "cell_type": "markdown",
   "id": "7c4f8627",
   "metadata": {},
   "source": [
    "### 1. Work through these same exercises using the Telco dataset."
   ]
  },
  {
   "cell_type": "code",
   "execution_count": null,
   "id": "a021a739",
   "metadata": {},
   "outputs": [],
   "source": [
    "telco = acquire.grab_telco_data()"
   ]
  },
  {
   "cell_type": "code",
   "execution_count": null,
   "id": "09f08a0d",
   "metadata": {},
   "outputs": [],
   "source": [
    "telco = acquire.prep_telco(telco)\n",
    "telco.head()"
   ]
  },
  {
   "cell_type": "code",
   "execution_count": null,
   "id": "22795436",
   "metadata": {},
   "outputs": [],
   "source": [
    "tel_train, tel_validate, tel_test = acquire.split(telco)\n",
    "tel_train.shape, tel_validate.shape, tel_test.shape"
   ]
  },
  {
   "cell_type": "markdown",
   "id": "8fc81c1b",
   "metadata": {},
   "source": [
    "### 2. Experiment with this model on other datasets with a higher number of output classes."
   ]
  },
  {
   "cell_type": "markdown",
   "id": "91d16163",
   "metadata": {},
   "source": [
    "### Iris:"
   ]
  },
  {
   "cell_type": "code",
   "execution_count": null,
   "id": "e93865fb",
   "metadata": {},
   "outputs": [],
   "source": [
    "iris = acquire.grab_iris_data()\n",
    "iris.head()"
   ]
  },
  {
   "cell_type": "code",
   "execution_count": null,
   "id": "aaf2cbb5",
   "metadata": {},
   "outputs": [],
   "source": [
    "iris = acquire.prep_iris(iris)\n",
    "iris.head()"
   ]
  },
  {
   "cell_type": "code",
   "execution_count": null,
   "id": "3ce5ceb4",
   "metadata": {},
   "outputs": [],
   "source": [
    "#iris.drop(columns={'species_id', 'Unnamed: 0'})"
   ]
  },
  {
   "cell_type": "code",
   "execution_count": null,
   "id": "df851b96",
   "metadata": {},
   "outputs": [],
   "source": [
    "i_train, i_validate, i_test = acquire.split(iris)\n",
    "i_train.shape, i_validate.shape, i_test.shape"
   ]
  },
  {
   "cell_type": "code",
   "execution_count": null,
   "id": "62f40bb2",
   "metadata": {},
   "outputs": [],
   "source": [
    "# find the baseline and the baseline accuracy\n",
    "baseline = i_train.species.value_counts().idxmax()\n",
    "print('The most common value (our baseline) is:', baseline)\n",
    "print('The rate of occurance (our baseline accuracy) is:', len(i_train[i_train.species == baseline]) / len(i_train) * 100)"
   ]
  },
  {
   "cell_type": "code",
   "execution_count": null,
   "id": "4dc9a99c",
   "metadata": {},
   "outputs": [],
   "source": [
    "# split each of our datasets into X and y \n",
    "x_train = i_train.drop(columns=('species'))\n",
    "y_train = i_train.species\n",
    "\n",
    "x_validate = i_validate.drop(columns=('species'))\n",
    "y_validate = i_validate.species\n",
    "\n",
    "x_test = i_test.drop(columns='species')\n",
    "y_test = i_test.species"
   ]
  },
  {
   "cell_type": "code",
   "execution_count": null,
   "id": "1e85026c",
   "metadata": {},
   "outputs": [],
   "source": [
    "# create and fit the models\n",
    "clf1 = DecisionTreeClassifier(max_depth=8)\n",
    "clf2 = DecisionTreeClassifier(max_depth=4)\n",
    "\n",
    "clf1 = clf1.fit(X_train, y_train)\n",
    "clf2 = clf2.fit(X_train, y_train)\n",
    "\n",
    "y_pred1 = clf1.predict(X_train)\n",
    "y_pred2 = clf2.predict(X_train)\n",
    "\n",
    "y_pred_prob1 = clf1.predict_proba(X_train)\n",
    "y_pred_prob2 = clf2.predict_proba(X_train)"
   ]
  },
  {
   "cell_type": "code",
   "execution_count": null,
   "id": "82afab96",
   "metadata": {},
   "outputs": [],
   "source": [
    "# model score\n",
    "print(f'Model 1 training score: {clf1.score(X_tr, y_tr):.2%}')\n",
    "print(f'Model 2 training score: {clf2.score(X_tr, y_tr):.2%}')"
   ]
  },
  {
   "cell_type": "code",
   "execution_count": null,
   "id": "31c4da7d",
   "metadata": {},
   "outputs": [],
   "source": [
    "# confusion matrix\n",
    "cm1 = confusion_matrix(y_tr, y_predict1)\n",
    "cm2 = confusion_matrix(y_tr, y_predict2)\n",
    "\n",
    "print(pd.DataFrame(cm1))\n",
    "print('')\n",
    "\n",
    "print(pd.DataFrame(cm2))"
   ]
  },
  {
   "cell_type": "code",
   "execution_count": null,
   "id": "3325df4f",
   "metadata": {},
   "outputs": [],
   "source": [
    "# classification report\n",
    "print(classification_report(y_train, y_pred1))\n",
    "print(classification_report(y_train, y_pred2))"
   ]
  },
  {
   "cell_type": "markdown",
   "id": "031c6a07",
   "metadata": {},
   "source": [
    "## ...and comparing with validation data"
   ]
  },
  {
   "cell_type": "code",
   "execution_count": null,
   "id": "8173100c",
   "metadata": {},
   "outputs": [],
   "source": [
    "# classification report\n",
    "y_predict1 = clf1.predict(X_validate)\n",
    "y_predict2 = clf2.predict(X_validate)\n",
    "\n",
    "print(classification_report(y_val, y_predict1))\n",
    "\n",
    "print(classification_report(y_val, y_predict2))"
   ]
  },
  {
   "cell_type": "markdown",
   "id": "34a5aca2",
   "metadata": {},
   "source": [
    "# Experiment with this model on other datasets with a higher number of output classes.\n"
   ]
  },
  {
   "cell_type": "code",
   "execution_count": null,
   "id": "d51a0a28",
   "metadata": {},
   "outputs": [],
   "source": []
  },
  {
   "cell_type": "markdown",
   "id": "bcebabd3",
   "metadata": {},
   "source": [
    "# --------------------------------------------------------------------------"
   ]
  },
  {
   "cell_type": "markdown",
   "id": "28055835",
   "metadata": {},
   "source": [
    "# Lesson: Random Forest"
   ]
  },
  {
   "cell_type": "markdown",
   "id": "7ae9e904",
   "metadata": {},
   "source": [
    "## 1. Fit the Random Forest classifier to your training sample and transform (i.e. make predictions on the training sample) setting the random_state accordingly and setting min_samples_leaf = 1 and max_depth = 10."
   ]
  },
  {
   "cell_type": "code",
   "execution_count": null,
   "id": "4f2f975a",
   "metadata": {},
   "outputs": [],
   "source": [
    "titanic2 = acquire.grab_titanic_data()"
   ]
  },
  {
   "cell_type": "code",
   "execution_count": null,
   "id": "4268c292",
   "metadata": {
    "scrolled": true
   },
   "outputs": [],
   "source": [
    "titanic2 = acquire.prep_titanic(titanic2)\n",
    "titanic2.head()"
   ]
  },
  {
   "cell_type": "code",
   "execution_count": null,
   "id": "cfe9010d",
   "metadata": {
    "scrolled": true
   },
   "outputs": [],
   "source": [
    "titanic2.rename(columns={'sex': 'isMale'}, inplace=True)\n",
    "titanic2.head(3)"
   ]
  },
  {
   "cell_type": "code",
   "execution_count": null,
   "id": "a8736a06",
   "metadata": {},
   "outputs": [],
   "source": [
    "#type(titanic2)"
   ]
  },
  {
   "cell_type": "code",
   "execution_count": null,
   "id": "0971aa1c",
   "metadata": {
    "scrolled": false
   },
   "outputs": [],
   "source": [
    "titanic2.isMale[titanic2.isMale == 'male'] = 1\n",
    "titanic2.isMale[titanic2.isMale == 'female'] = 0\n",
    "titanic2.head(3)"
   ]
  },
  {
   "cell_type": "code",
   "execution_count": null,
   "id": "c1c76698",
   "metadata": {},
   "outputs": [],
   "source": [
    "titanic2.age[titanic2.age.isnull()] = 28\n",
    "titanic2.embark_town[titanic2.embark_town.isnull()] = 1.0"
   ]
  },
  {
   "cell_type": "code",
   "execution_count": null,
   "id": "bd6e0398",
   "metadata": {},
   "outputs": [],
   "source": [
    "titanic2.info()"
   ]
  },
  {
   "cell_type": "code",
   "execution_count": null,
   "id": "9e33fe61",
   "metadata": {},
   "outputs": [],
   "source": [
    "my_forest = RandomForestClassfifier(max_depth=10, random_state=248)"
   ]
  },
  {
   "cell_type": "code",
   "execution_count": null,
   "id": "e346e84e",
   "metadata": {},
   "outputs": [],
   "source": []
  },
  {
   "cell_type": "markdown",
   "id": "f7c420a8",
   "metadata": {},
   "source": [
    "## 2. Evaluate your results using the model score, confusion matrix, and classification report."
   ]
  },
  {
   "cell_type": "code",
   "execution_count": null,
   "id": "6225d4a8",
   "metadata": {},
   "outputs": [],
   "source": []
  },
  {
   "cell_type": "code",
   "execution_count": null,
   "id": "f1cd66df",
   "metadata": {},
   "outputs": [],
   "source": []
  },
  {
   "cell_type": "markdown",
   "id": "77aea0c4",
   "metadata": {},
   "source": [
    "## 3. Print and clearly label the following: Accuracy, true positive rate, false positive rate, true negative rate, false negative rate, precision, recall, f1-score, and support."
   ]
  },
  {
   "cell_type": "code",
   "execution_count": null,
   "id": "52a627a2",
   "metadata": {},
   "outputs": [],
   "source": []
  },
  {
   "cell_type": "code",
   "execution_count": null,
   "id": "c105469c",
   "metadata": {},
   "outputs": [],
   "source": []
  },
  {
   "cell_type": "markdown",
   "id": "bc8bb902",
   "metadata": {},
   "source": [
    "## 4. Run through steps increasing your min_samples_leaf and decreasing your max_depth."
   ]
  },
  {
   "cell_type": "code",
   "execution_count": null,
   "id": "bb79a6f7",
   "metadata": {},
   "outputs": [],
   "source": []
  },
  {
   "cell_type": "code",
   "execution_count": null,
   "id": "b4f5ec1b",
   "metadata": {},
   "outputs": [],
   "source": []
  },
  {
   "cell_type": "markdown",
   "id": "ebbc6e0a",
   "metadata": {},
   "source": [
    "## 5. What are the differences in the evaluation metrics? Which performs better on your in-sample data? Why?"
   ]
  },
  {
   "cell_type": "code",
   "execution_count": null,
   "id": "2ef6dc4c",
   "metadata": {},
   "outputs": [],
   "source": []
  },
  {
   "cell_type": "code",
   "execution_count": null,
   "id": "0a2fe38d",
   "metadata": {},
   "outputs": [],
   "source": []
  },
  {
   "cell_type": "markdown",
   "id": "5c259ee0",
   "metadata": {},
   "source": []
  },
  {
   "cell_type": "markdown",
   "id": "42fd0dd0",
   "metadata": {},
   "source": [
    "# --------------------------------------------------------------------------"
   ]
  },
  {
   "cell_type": "markdown",
   "id": "837c38df",
   "metadata": {},
   "source": [
    "# Lesson: KNN"
   ]
  },
  {
   "cell_type": "markdown",
   "id": "19de1ece",
   "metadata": {},
   "source": [
    "## 1. Fit a K-Nearest Neighbors classifier to your training sample and transform (i.e. make predictions on the training sample)"
   ]
  },
  {
   "cell_type": "code",
   "execution_count": null,
   "id": "f43ba4e5",
   "metadata": {},
   "outputs": [],
   "source": [
    "x_tr.head()"
   ]
  },
  {
   "cell_type": "markdown",
   "id": "5bca65cd",
   "metadata": {},
   "source": [
    "weights = ['uniform', 'density']\n",
    "\n",
    "knn = KNeighborsClassifier(n_neighbors=5, weights='uniform')"
   ]
  },
  {
   "cell_type": "markdown",
   "id": "6617bd13",
   "metadata": {},
   "source": [
    "##### Creating the KNN object"
   ]
  },
  {
   "cell_type": "code",
   "execution_count": null,
   "id": "9a918b13",
   "metadata": {},
   "outputs": [],
   "source": [
    "knn = KNeighborsClassifier(n_neighbors=5, weights='uniform')"
   ]
  },
  {
   "cell_type": "markdown",
   "id": "d063daf8",
   "metadata": {},
   "source": [
    "##### Fit the model (don't forget to save back into the variable)"
   ]
  },
  {
   "cell_type": "code",
   "execution_count": null,
   "id": "76a8be5b",
   "metadata": {},
   "outputs": [],
   "source": [
    "knn = knn.fit(x_tr, y_tr)\n",
    "knn"
   ]
  },
  {
   "cell_type": "markdown",
   "id": "7408f9db",
   "metadata": {},
   "source": [
    "##### I'm classifying by estimated survival\n",
    "##### This produces an array of prediction for the training set"
   ]
  },
  {
   "cell_type": "code",
   "execution_count": null,
   "id": "bb95e558",
   "metadata": {},
   "outputs": [],
   "source": [
    "y_predict = knn.predict(x_tr)"
   ]
  },
  {
   "cell_type": "markdown",
   "id": "704425a5",
   "metadata": {},
   "source": [
    "##### Estimate the probability of survival, using the training data."
   ]
  },
  {
   "cell_type": "code",
   "execution_count": null,
   "id": "bfdbffd8",
   "metadata": {},
   "outputs": [],
   "source": [
    "y_pred_proba = knn.predict_proba(x_tr)\n",
    "y_pred_proba"
   ]
  },
  {
   "cell_type": "markdown",
   "id": "7298e75f",
   "metadata": {},
   "source": [
    "##### Compute Accuracy (Training Data)"
   ]
  },
  {
   "cell_type": "code",
   "execution_count": null,
   "id": "5e5acf50",
   "metadata": {},
   "outputs": [],
   "source": [
    "print('KNN classifier Accuracy: {:.2f}'.format(knn.score(x_tr, y_tr)))"
   ]
  },
  {
   "cell_type": "markdown",
   "id": "63904831",
   "metadata": {},
   "source": [
    "## 2. Evaluate your results using the model score, confusion matrix, and classification report."
   ]
  },
  {
   "cell_type": "markdown",
   "id": "bf1c6c2c",
   "metadata": {},
   "source": [
    "##### Confusion Matrix (Training Data)"
   ]
  },
  {
   "cell_type": "code",
   "execution_count": null,
   "id": "93ac8c9f",
   "metadata": {},
   "outputs": [],
   "source": [
    "confus = pd.DataFrame(confusion_matrix(y_tr, y_predict))\n",
    "confus"
   ]
  },
  {
   "cell_type": "markdown",
   "id": "ede37081",
   "metadata": {},
   "source": [
    "##### Classification Report (Training Data)"
   ]
  },
  {
   "cell_type": "code",
   "execution_count": null,
   "id": "1f65faa7",
   "metadata": {},
   "outputs": [],
   "source": [
    "pd.DataFrame(classification_report(y_tr, y_predict, output_dict=True))"
   ]
  },
  {
   "cell_type": "markdown",
   "id": "31950041",
   "metadata": {},
   "source": [
    "##### Model Score"
   ]
  },
  {
   "cell_type": "code",
   "execution_count": null,
   "id": "99a6c7a8",
   "metadata": {},
   "outputs": [],
   "source": [
    "print(f'Model Score: {knn.score(x_tr, y_tr):.3f}')"
   ]
  },
  {
   "cell_type": "code",
   "execution_count": null,
   "id": "38df07c3",
   "metadata": {},
   "outputs": [],
   "source": []
  },
  {
   "cell_type": "markdown",
   "id": "409e128b",
   "metadata": {},
   "source": [
    "## 3. Print and clearly label the following: Accuracy, true positive rate, false positive rate, true negative rate, false negative rate, precision, recall, f1-score, and support."
   ]
  },
  {
   "cell_type": "code",
   "execution_count": null,
   "id": "02ccb5d0",
   "metadata": {},
   "outputs": [],
   "source": [
    "TP = confus.iloc[0,0]\n",
    "TN = confus.iloc[1,1]\n",
    "FP = confus.iloc[0,1]\n",
    "FN = confus.iloc[1,0]\n",
    "print('TP, TN, FP, FN rates:')\n",
    "print()\n",
    "print(f'TP - True Positive rate:  {TP/(TP+TN+FP+FN):.3f}')\n",
    "print(f'FP - False Positive rate: {FP/(TP+TN+FP+FN):.3f}')\n",
    "print(f'TN - True Negative rate:  {TN/(TP+TN+FP+FN):.3f}')\n",
    "print(f'FN - False Negative rate: {FN/(TP+TN+FP+FN):.3f}')"
   ]
  },
  {
   "cell_type": "code",
   "execution_count": null,
   "id": "7f8e7aa9",
   "metadata": {},
   "outputs": [],
   "source": [
    "print(f'Precision: {precision_score(y_tr, y_predict):.3f}%')\n",
    "print()\n",
    "print(f'   Recall: {recall_score(y_tr, y_predict):.3f}%')\n",
    "print()\n",
    "print(f'       F1: {f1_score(y_tr, y_predict):.3f}%')\n",
    "print()\n",
    "print(f'  Support: NotSurvived: {TP+FP}')\n",
    "print(f'           Survived:    {TN+FN}')"
   ]
  },
  {
   "cell_type": "markdown",
   "id": "1c8f9e32",
   "metadata": {},
   "source": [
    "## 4. Run through steps 2-4 setting k to 10"
   ]
  },
  {
   "cell_type": "code",
   "execution_count": null,
   "id": "22bdb27b",
   "metadata": {},
   "outputs": [],
   "source": [
    "knn10 = KNeighborsClassifier(n_neighbors=10, weights='uniform')\n",
    "knn10"
   ]
  },
  {
   "cell_type": "code",
   "execution_count": null,
   "id": "0e220bd5",
   "metadata": {},
   "outputs": [],
   "source": [
    "knn10 = knn10.fit(x_tr, y_tr)\n",
    "knn10"
   ]
  },
  {
   "cell_type": "code",
   "execution_count": null,
   "id": "1558f764",
   "metadata": {},
   "outputs": [],
   "source": [
    "y_predict10 = knn10.predict(x_tr)"
   ]
  },
  {
   "cell_type": "code",
   "execution_count": null,
   "id": "b97b8e37",
   "metadata": {},
   "outputs": [],
   "source": [
    "y_pred_proba10 = knn10.predict_proba(x_tr)\n",
    "y_pred_proba10"
   ]
  },
  {
   "cell_type": "code",
   "execution_count": null,
   "id": "8e3126be",
   "metadata": {},
   "outputs": [],
   "source": [
    "confus10 = pd.DataFrame(confusion_matrix(y_tr, y_predict10))\n",
    "confus10"
   ]
  },
  {
   "cell_type": "code",
   "execution_count": null,
   "id": "ba26c287",
   "metadata": {},
   "outputs": [],
   "source": [
    "pd.DataFrame(classification_report(y_tr, y_predict10, output_dict=True))"
   ]
  },
  {
   "cell_type": "code",
   "execution_count": null,
   "id": "9553ee3c",
   "metadata": {},
   "outputs": [],
   "source": [
    "#print(f'KNN(10) Classifier Accuracy: {accuracy_score(x_tr, y_tr)}')\n",
    "print(f'Model Score: {knn10.score(x_tr, y_tr):.3f}')"
   ]
  },
  {
   "cell_type": "code",
   "execution_count": null,
   "id": "7283e957",
   "metadata": {},
   "outputs": [],
   "source": [
    "TP = confus10.iloc[0,0]\n",
    "TN = confus10.iloc[1,1]\n",
    "FP = confus10.iloc[0,1]\n",
    "FN = confus10.iloc[1,0]\n",
    "print('TP, TN, FP, FN rates:')\n",
    "print()\n",
    "print(f'TP({TP})- True Positive rate:  {TP/(TP+TN+FP+FN):.3f}')\n",
    "print(f'FP({FP})- False Positive rate: {FP/(TP+TN+FP+FN):.3f}')\n",
    "print(f'TN({TN})- True Negative rate:  {TN/(TP+TN+FP+FN):.3f}')\n",
    "print(f'FN({FN})- False Negative rate: {FN/(TP+TN+FP+FN):.3f}')"
   ]
  },
  {
   "cell_type": "code",
   "execution_count": null,
   "id": "ed018dd4",
   "metadata": {},
   "outputs": [],
   "source": [
    "print(f'TP:{TP}')\n",
    "print(f'FP:{FP}')\n",
    "print(f'TN:{TN}')\n",
    "print(f'FN:{FN}')\n",
    "print()\n",
    "print(f'Accuracy:  {(TP+TN)/(TP+TN+FP+FN):.3f}%')\n",
    "print()\n",
    "print(f'Precision: {precision_score(y_tr, y_predict10):.3f}%')\n",
    "print()\n",
    "print(f'   Recall: {recall_score(y_tr, y_predict10):.3f}%')\n",
    "print()\n",
    "print(f'       F1: {f1_score(y_tr, y_predict10):.3f}%')\n",
    "print()\n",
    "print(f'  Support: NotSurvived: {TP+FP}')\n",
    "print(f'           Survived:    {TN+FN}')"
   ]
  },
  {
   "cell_type": "markdown",
   "id": "4af7f691",
   "metadata": {},
   "source": [
    "## 5. Run through setps 2-4 setting k to 20"
   ]
  },
  {
   "cell_type": "code",
   "execution_count": null,
   "id": "21d9f70a",
   "metadata": {},
   "outputs": [],
   "source": [
    "knn20 = KNeighborsClassifier(n_neighbors=20, weights='uniform')"
   ]
  },
  {
   "cell_type": "code",
   "execution_count": null,
   "id": "f0de85a0",
   "metadata": {},
   "outputs": [],
   "source": [
    "knn20 = knn20.fit(x_tr, y_tr)\n",
    "knn20"
   ]
  },
  {
   "cell_type": "code",
   "execution_count": null,
   "id": "6805ba73",
   "metadata": {},
   "outputs": [],
   "source": [
    "y_predict20 = knn20.predict(x_tr)"
   ]
  },
  {
   "cell_type": "code",
   "execution_count": null,
   "id": "cf3f31d0",
   "metadata": {},
   "outputs": [],
   "source": [
    "y_pred_proba20 = knn20.predict_proba(x_tr)\n",
    "y_pred_proba20"
   ]
  },
  {
   "cell_type": "code",
   "execution_count": null,
   "id": "ff47ead8",
   "metadata": {},
   "outputs": [],
   "source": [
    "confus20 = pd.DataFrame(confusion_matrix(y_tr, y_predict20))\n",
    "confus20"
   ]
  },
  {
   "cell_type": "code",
   "execution_count": null,
   "id": "744247f8",
   "metadata": {},
   "outputs": [],
   "source": [
    "pd.DataFrame(classification_report(y_tr, y_predict20, output_dict=True))"
   ]
  },
  {
   "cell_type": "code",
   "execution_count": null,
   "id": "8239a892",
   "metadata": {},
   "outputs": [],
   "source": [
    "#print('KNN(20) classifier Accuracy: {:.2f}'.format(knn20.score(x_tr, y_tr)))\n",
    "print(f'Model Score: {knn20.score(x_tr, y_tr):.3f}')"
   ]
  },
  {
   "cell_type": "code",
   "execution_count": null,
   "id": "c613be62",
   "metadata": {},
   "outputs": [],
   "source": [
    "TP = confus20.iloc[0,0]\n",
    "TN = confus20.iloc[1,1]\n",
    "FP = confus20.iloc[0,1]\n",
    "FN = confus20.iloc[1,0]\n",
    "print('TP, TN, FP, FN rates:')\n",
    "print()\n",
    "print(f'TP({TP}) - True Positive rate:  {TP/(TP+TN+FP+FN):.3f}')\n",
    "print(f'FP({FP}) - False Positive rate: {FP/(TP+TN+FP+FN):.3f}')\n",
    "print(f'TN({TN}) - True Negative rate:  {TN/(TP+TN+FP+FN):.3f}')\n",
    "print(f'FN({FN}) - False Negative rate: {FN/(TP+TN+FP+FN):.3f}')"
   ]
  },
  {
   "cell_type": "code",
   "execution_count": null,
   "id": "2ef1dd22",
   "metadata": {},
   "outputs": [],
   "source": [
    "print(f'TP:{TP}')\n",
    "print(f'FP:{FP}')\n",
    "print(f'TN:{TN}')\n",
    "print(f'FN:{FN}')\n",
    "print()\n",
    "print(f'Accuracy:  {(TP+TN)/(TP+TN+FP+FN):.3f}%')\n",
    "print()\n",
    "print(f'Precision: {precision_score(y_tr, y_predict):.3f}%')\n",
    "print()\n",
    "print(f'   Recall: {recall_score(y_tr, y_predict):.3f}%')\n",
    "print()\n",
    "print(f'       F1: {f1_score(y_tr, y_predict):.3f}%')\n",
    "print()\n",
    "print(f'  Support: NotSurvived: {TP+FP}')\n",
    "print(f'           Survived:    {TN+FN}')"
   ]
  },
  {
   "cell_type": "code",
   "execution_count": null,
   "id": "2feda0c3",
   "metadata": {},
   "outputs": [],
   "source": []
  },
  {
   "cell_type": "markdown",
   "id": "b7aa941a",
   "metadata": {},
   "source": [
    "## 6. What are the differences in the evaluation metrics? Which performs better on your in-sample data? Why?"
   ]
  },
  {
   "cell_type": "code",
   "execution_count": null,
   "id": "108e9c8c",
   "metadata": {},
   "outputs": [],
   "source": []
  },
  {
   "cell_type": "markdown",
   "id": "7270fca5",
   "metadata": {},
   "source": [
    "## 7. Which model performs best on our out-of-sample data from validate?"
   ]
  },
  {
   "cell_type": "markdown",
   "id": "dea2b924",
   "metadata": {},
   "source": []
  },
  {
   "cell_type": "markdown",
   "id": "de307499",
   "metadata": {},
   "source": [
    "# ----------------------------------------------------------"
   ]
  },
  {
   "cell_type": "markdown",
   "id": "52320006",
   "metadata": {},
   "source": [
    "# __Lesson: Logistic Regression__"
   ]
  },
  {
   "cell_type": "markdown",
   "id": "a3f42c7b",
   "metadata": {},
   "source": [
    "### Instructions:\n",
    "In these exercises, we'll continue working with the titanic dataset and building logistic regression models. Throughout this exercise, be sure you are training, evaluation, and comparing models on the train and validate datasets. The test dataset should only be used for your final model.\n",
    "\n",
    "For all of the models you create, choose a threshold that optimizes for accuracy."
   ]
  },
  {
   "cell_type": "markdown",
   "id": "1c7206de",
   "metadata": {},
   "source": [
    "***"
   ]
  },
  {
   "cell_type": "markdown",
   "id": "0286a885",
   "metadata": {},
   "source": [
    "## Model 1\n",
    "### Make the model\n",
    "**Create the object**\n",
    "\n",
    "logit = LogisticRegression(C=1, class_weight={0:1, 1:99}, random_state=123, intercept_scaling=1, solver='lbfgs')\n",
    "\n",
    "**Fit the model**Fit the random forest algorithm to the training data.\n",
    "\n",
    "logit.fit(X_train, y_train)\n",
    "\n",
    "LogisticRegression(C=1, class_weight={0: 1, 1: 99}, random_state=123)\n",
    "\n",
    "**Feature Importance**Evaluate importance, or weight, of each feature, using the coefficients.\n",
    "\n",
    "Evaluate the intercept of the model.\n",
    "\n",
    "print('Coefficient: \\n', logit.coef_)\n",
    "print('Intercept: \\n', logit.intercept_)\n",
    "\n",
    "**Make Predictions**Estimate whether or not the species is versicolor for each observation, using the training data.\n",
    "\n",
    "y_pred = logit.predict(X_train)\n",
    "\n",
    "**Estimate Probability**Estimate the probability of species being versicolor for each observation, using the training data.\n",
    "\n",
    "y_pred_proba = logit.predict_proba(X_train)\n",
    "***\n",
    "### Evaluate the Model\n",
    "**Compute the Accuracy**\n",
    "\n",
    "print('Accuracy of Logistic Regression classifier on training set: {:.2f}'.format(logit.score(X_train, y_train)))\n",
    "     \n",
    "**Create a confusion matrix**\n",
    "\n",
    "print(confusion_matrix(y_train, y_pred))\n",
    "\n",
    "**Create a classification report**\n",
    "\n",
    "print(classification_report(y_train, y_pred))\n",
    "***\n",
    "## Model 2\n",
    "### Make the Model\n",
    "**Create the object**\n",
    "\n",
    "logit2 = LogisticRegression(C=.1, class_weight={0:1, 1:99}, random_state=123, intercept_scaling=1, solver='lbfgs')\n",
    "\n",
    "**Fit the model:**Fit the random forest algorithm to the training data.\n",
    "\n",
    "logit2.fit(X_train, y_train)\n",
    "\n",
    "LogisticRegression(C=0.1, class_weight={0: 1, 1: 99}, random_state=123)\n",
    "\n",
    "**Feature Importance:**Evaluate importance, or weight, of each feature, using the coefficients.Evaluate the intercept of the model.\n",
    "\n",
    "print('Coefficient: \\n', logit2.coef_)\n",
    "print('Intercept: \\n', logit2.intercept_)\n",
    "\n",
    "**Make Predictions:**Estimate whether or not the species is versicolor for each observation, using the training data.\n",
    "\n",
    "y_pred2 = logit2.predict(X_train)\n",
    "\n",
    "**Estimate Probability**\n",
    "\n",
    "Estimate the probability of species being versicolor for each observation, using the training data.\n",
    "\n",
    "y_pred_proba2 = logit2.predict_proba(X_train)\n",
    "***\n",
    "### Evaluate Model\n",
    "**Compute the Accuracy**\n",
    "\n",
    "print('Accuracy of Logistic Regression classifier on training set: {:.2f}'.format(logit2.score(X_train, y_train)))\n",
    "\n",
    "**Create a confusion matrix**\n",
    "\n",
    "print(confusion_matrix(y_train, y_pred2))\n",
    "\n",
    "**Create a classification report**\n",
    "\n",
    "print(classification_report(y_train, y_pred2))\n",
    "\n",
    "**Compute Scores**\n",
    "\n",
    "Accuracy<br>\n",
    "Precision<br>\n",
    "Recall<br>\n",
    "F1 Score<br>\n",
    "Support\n",
    "\n",
    "### Validate Models\n",
    "### Test Models\n",
    "### Visualize Models\n",
    "\n",
    "***"
   ]
  },
  {
   "cell_type": "markdown",
   "id": "72b775a5",
   "metadata": {},
   "source": [
    "## 1. Create a model that includes age in addition to fare and pclass. Does this model perform better than your baseline? "
   ]
  },
  {
   "cell_type": "code",
   "execution_count": 40,
   "id": "ba776de5",
   "metadata": {},
   "outputs": [
    {
     "data": {
      "text/html": [
       "<div>\n",
       "<style scoped>\n",
       "    .dataframe tbody tr th:only-of-type {\n",
       "        vertical-align: middle;\n",
       "    }\n",
       "\n",
       "    .dataframe tbody tr th {\n",
       "        vertical-align: top;\n",
       "    }\n",
       "\n",
       "    .dataframe thead th {\n",
       "        text-align: right;\n",
       "    }\n",
       "</style>\n",
       "<table border=\"1\" class=\"dataframe\">\n",
       "  <thead>\n",
       "    <tr style=\"text-align: right;\">\n",
       "      <th></th>\n",
       "      <th>Unnamed: 0</th>\n",
       "      <th>passenger_id</th>\n",
       "      <th>survived</th>\n",
       "      <th>pclass</th>\n",
       "      <th>sex</th>\n",
       "      <th>age</th>\n",
       "      <th>sibsp</th>\n",
       "      <th>parch</th>\n",
       "      <th>fare</th>\n",
       "      <th>embarked</th>\n",
       "      <th>class</th>\n",
       "      <th>deck</th>\n",
       "      <th>embark_town</th>\n",
       "      <th>alone</th>\n",
       "    </tr>\n",
       "  </thead>\n",
       "  <tbody>\n",
       "    <tr>\n",
       "      <th>0</th>\n",
       "      <td>0</td>\n",
       "      <td>0</td>\n",
       "      <td>0</td>\n",
       "      <td>3</td>\n",
       "      <td>male</td>\n",
       "      <td>22.0</td>\n",
       "      <td>1</td>\n",
       "      <td>0</td>\n",
       "      <td>7.2500</td>\n",
       "      <td>S</td>\n",
       "      <td>Third</td>\n",
       "      <td>NaN</td>\n",
       "      <td>Southampton</td>\n",
       "      <td>0</td>\n",
       "    </tr>\n",
       "    <tr>\n",
       "      <th>1</th>\n",
       "      <td>1</td>\n",
       "      <td>1</td>\n",
       "      <td>1</td>\n",
       "      <td>1</td>\n",
       "      <td>female</td>\n",
       "      <td>38.0</td>\n",
       "      <td>1</td>\n",
       "      <td>0</td>\n",
       "      <td>71.2833</td>\n",
       "      <td>C</td>\n",
       "      <td>First</td>\n",
       "      <td>C</td>\n",
       "      <td>Cherbourg</td>\n",
       "      <td>0</td>\n",
       "    </tr>\n",
       "    <tr>\n",
       "      <th>2</th>\n",
       "      <td>2</td>\n",
       "      <td>2</td>\n",
       "      <td>1</td>\n",
       "      <td>3</td>\n",
       "      <td>female</td>\n",
       "      <td>26.0</td>\n",
       "      <td>0</td>\n",
       "      <td>0</td>\n",
       "      <td>7.9250</td>\n",
       "      <td>S</td>\n",
       "      <td>Third</td>\n",
       "      <td>NaN</td>\n",
       "      <td>Southampton</td>\n",
       "      <td>1</td>\n",
       "    </tr>\n",
       "  </tbody>\n",
       "</table>\n",
       "</div>"
      ],
      "text/plain": [
       "   Unnamed: 0  passenger_id  survived  pclass     sex   age  sibsp  parch  \\\n",
       "0           0             0         0       3    male  22.0      1      0   \n",
       "1           1             1         1       1  female  38.0      1      0   \n",
       "2           2             2         1       3  female  26.0      0      0   \n",
       "\n",
       "      fare embarked  class deck  embark_town  alone  \n",
       "0   7.2500        S  Third  NaN  Southampton      0  \n",
       "1  71.2833        C  First    C    Cherbourg      0  \n",
       "2   7.9250        S  Third  NaN  Southampton      1  "
      ]
     },
     "execution_count": 40,
     "metadata": {},
     "output_type": "execute_result"
    }
   ],
   "source": [
    "titanic = acquire.grab_titanic_data()\n",
    "titanic.head(3)"
   ]
  },
  {
   "cell_type": "code",
   "execution_count": 42,
   "id": "8c7086a0",
   "metadata": {},
   "outputs": [
    {
     "data": {
      "text/html": [
       "<div>\n",
       "<style scoped>\n",
       "    .dataframe tbody tr th:only-of-type {\n",
       "        vertical-align: middle;\n",
       "    }\n",
       "\n",
       "    .dataframe tbody tr th {\n",
       "        vertical-align: top;\n",
       "    }\n",
       "\n",
       "    .dataframe thead th {\n",
       "        text-align: right;\n",
       "    }\n",
       "</style>\n",
       "<table border=\"1\" class=\"dataframe\">\n",
       "  <thead>\n",
       "    <tr style=\"text-align: right;\">\n",
       "      <th></th>\n",
       "      <th>survived</th>\n",
       "      <th>pclass</th>\n",
       "      <th>isMale</th>\n",
       "      <th>age</th>\n",
       "      <th>sibsp</th>\n",
       "      <th>parch</th>\n",
       "      <th>fare</th>\n",
       "      <th>embark_town</th>\n",
       "      <th>alone</th>\n",
       "    </tr>\n",
       "  </thead>\n",
       "  <tbody>\n",
       "    <tr>\n",
       "      <th>0</th>\n",
       "      <td>0</td>\n",
       "      <td>3</td>\n",
       "      <td>1</td>\n",
       "      <td>22.0</td>\n",
       "      <td>1</td>\n",
       "      <td>0</td>\n",
       "      <td>7.2500</td>\n",
       "      <td>1.0</td>\n",
       "      <td>0</td>\n",
       "    </tr>\n",
       "    <tr>\n",
       "      <th>1</th>\n",
       "      <td>1</td>\n",
       "      <td>1</td>\n",
       "      <td>0</td>\n",
       "      <td>38.0</td>\n",
       "      <td>1</td>\n",
       "      <td>0</td>\n",
       "      <td>71.2833</td>\n",
       "      <td>2.0</td>\n",
       "      <td>0</td>\n",
       "    </tr>\n",
       "    <tr>\n",
       "      <th>2</th>\n",
       "      <td>1</td>\n",
       "      <td>3</td>\n",
       "      <td>0</td>\n",
       "      <td>26.0</td>\n",
       "      <td>0</td>\n",
       "      <td>0</td>\n",
       "      <td>7.9250</td>\n",
       "      <td>1.0</td>\n",
       "      <td>1</td>\n",
       "    </tr>\n",
       "  </tbody>\n",
       "</table>\n",
       "</div>"
      ],
      "text/plain": [
       "   survived  pclass isMale   age  sibsp  parch     fare  embark_town  alone\n",
       "0         0       3      1  22.0      1      0   7.2500          1.0      0\n",
       "1         1       1      0  38.0      1      0  71.2833          2.0      0\n",
       "2         1       3      0  26.0      0      0   7.9250          1.0      1"
      ]
     },
     "execution_count": 42,
     "metadata": {},
     "output_type": "execute_result"
    }
   ],
   "source": [
    "titanic = acquire.prep_titanic(titanic)\n",
    "titanic.head(3)"
   ]
  },
  {
   "cell_type": "code",
   "execution_count": 44,
   "id": "77470c15",
   "metadata": {},
   "outputs": [
    {
     "name": "stdout",
     "output_type": "stream",
     "text": [
      "<class 'pandas.core.frame.DataFrame'>\n",
      "RangeIndex: 891 entries, 0 to 890\n",
      "Data columns (total 9 columns):\n",
      " #   Column       Non-Null Count  Dtype  \n",
      "---  ------       --------------  -----  \n",
      " 0   survived     891 non-null    int64  \n",
      " 1   pclass       891 non-null    int64  \n",
      " 2   isMale       891 non-null    object \n",
      " 3   age          891 non-null    float64\n",
      " 4   sibsp        891 non-null    int64  \n",
      " 5   parch        891 non-null    int64  \n",
      " 6   fare         891 non-null    float64\n",
      " 7   embark_town  891 non-null    float64\n",
      " 8   alone        891 non-null    int64  \n",
      "dtypes: float64(3), int64(5), object(1)\n",
      "memory usage: 62.8+ KB\n"
     ]
    }
   ],
   "source": [
    "titanic.info()"
   ]
  },
  {
   "cell_type": "code",
   "execution_count": 45,
   "id": "f25751f7",
   "metadata": {},
   "outputs": [],
   "source": [
    "titanic['baseline'] = 0"
   ]
  },
  {
   "cell_type": "code",
   "execution_count": 46,
   "id": "3d6f6816",
   "metadata": {},
   "outputs": [
    {
     "data": {
      "text/html": [
       "<div>\n",
       "<style scoped>\n",
       "    .dataframe tbody tr th:only-of-type {\n",
       "        vertical-align: middle;\n",
       "    }\n",
       "\n",
       "    .dataframe tbody tr th {\n",
       "        vertical-align: top;\n",
       "    }\n",
       "\n",
       "    .dataframe thead th {\n",
       "        text-align: right;\n",
       "    }\n",
       "</style>\n",
       "<table border=\"1\" class=\"dataframe\">\n",
       "  <thead>\n",
       "    <tr style=\"text-align: right;\">\n",
       "      <th></th>\n",
       "      <th>survived</th>\n",
       "      <th>pclass</th>\n",
       "      <th>isMale</th>\n",
       "      <th>age</th>\n",
       "      <th>sibsp</th>\n",
       "      <th>parch</th>\n",
       "      <th>fare</th>\n",
       "      <th>embark_town</th>\n",
       "      <th>alone</th>\n",
       "      <th>baseline</th>\n",
       "    </tr>\n",
       "  </thead>\n",
       "  <tbody>\n",
       "    <tr>\n",
       "      <th>0</th>\n",
       "      <td>0</td>\n",
       "      <td>3</td>\n",
       "      <td>1</td>\n",
       "      <td>22.0</td>\n",
       "      <td>1</td>\n",
       "      <td>0</td>\n",
       "      <td>7.2500</td>\n",
       "      <td>1.0</td>\n",
       "      <td>0</td>\n",
       "      <td>0</td>\n",
       "    </tr>\n",
       "    <tr>\n",
       "      <th>1</th>\n",
       "      <td>1</td>\n",
       "      <td>1</td>\n",
       "      <td>0</td>\n",
       "      <td>38.0</td>\n",
       "      <td>1</td>\n",
       "      <td>0</td>\n",
       "      <td>71.2833</td>\n",
       "      <td>2.0</td>\n",
       "      <td>0</td>\n",
       "      <td>0</td>\n",
       "    </tr>\n",
       "    <tr>\n",
       "      <th>2</th>\n",
       "      <td>1</td>\n",
       "      <td>3</td>\n",
       "      <td>0</td>\n",
       "      <td>26.0</td>\n",
       "      <td>0</td>\n",
       "      <td>0</td>\n",
       "      <td>7.9250</td>\n",
       "      <td>1.0</td>\n",
       "      <td>1</td>\n",
       "      <td>0</td>\n",
       "    </tr>\n",
       "    <tr>\n",
       "      <th>3</th>\n",
       "      <td>1</td>\n",
       "      <td>1</td>\n",
       "      <td>0</td>\n",
       "      <td>35.0</td>\n",
       "      <td>1</td>\n",
       "      <td>0</td>\n",
       "      <td>53.1000</td>\n",
       "      <td>1.0</td>\n",
       "      <td>0</td>\n",
       "      <td>0</td>\n",
       "    </tr>\n",
       "    <tr>\n",
       "      <th>4</th>\n",
       "      <td>0</td>\n",
       "      <td>3</td>\n",
       "      <td>1</td>\n",
       "      <td>35.0</td>\n",
       "      <td>0</td>\n",
       "      <td>0</td>\n",
       "      <td>8.0500</td>\n",
       "      <td>1.0</td>\n",
       "      <td>1</td>\n",
       "      <td>0</td>\n",
       "    </tr>\n",
       "  </tbody>\n",
       "</table>\n",
       "</div>"
      ],
      "text/plain": [
       "   survived  pclass isMale   age  sibsp  parch     fare  embark_town  alone  \\\n",
       "0         0       3      1  22.0      1      0   7.2500          1.0      0   \n",
       "1         1       1      0  38.0      1      0  71.2833          2.0      0   \n",
       "2         1       3      0  26.0      0      0   7.9250          1.0      1   \n",
       "3         1       1      0  35.0      1      0  53.1000          1.0      0   \n",
       "4         0       3      1  35.0      0      0   8.0500          1.0      1   \n",
       "\n",
       "   baseline  \n",
       "0         0  \n",
       "1         0  \n",
       "2         0  \n",
       "3         0  \n",
       "4         0  "
      ]
     },
     "execution_count": 46,
     "metadata": {},
     "output_type": "execute_result"
    }
   ],
   "source": [
    "titanic.head()"
   ]
  },
  {
   "cell_type": "code",
   "execution_count": 49,
   "id": "024da89f",
   "metadata": {},
   "outputs": [],
   "source": [
    "#print(f'Baseline accuracy: {metrics.accuracy_score(titanic.survived, titanic.baseline):.3f}, This is predicting for non-survival')"
   ]
  },
  {
   "cell_type": "code",
   "execution_count": 56,
   "id": "d0794ae5",
   "metadata": {
    "scrolled": true
   },
   "outputs": [
    {
     "data": {
      "text/plain": [
       "((534, 10), (178, 10), (179, 10))"
      ]
     },
     "execution_count": 56,
     "metadata": {},
     "output_type": "execute_result"
    }
   ],
   "source": [
    "train, validate, test = acquire.split(titanic)\n",
    "train.shape, validate.shape, test.shape"
   ]
  },
  {
   "cell_type": "code",
   "execution_count": 58,
   "id": "80935d2f",
   "metadata": {},
   "outputs": [],
   "source": [
    "X_train = train.drop(columns='survived')\n",
    "y_train = train.survived\n",
    "X_validate = validate.drop(columns='survived')\n",
    "y_validate = validate.survived\n",
    "X_test = test.drop(columns='survived')\n",
    "y_test = test.survived"
   ]
  },
  {
   "cell_type": "code",
   "execution_count": null,
   "id": "c1d655bc",
   "metadata": {
    "scrolled": true
   },
   "outputs": [],
   "source": []
  },
  {
   "cell_type": "markdown",
   "id": "cb8fe724",
   "metadata": {},
   "source": [
    "##### Define Logistic Regression Model"
   ]
  },
  {
   "cell_type": "code",
   "execution_count": 59,
   "id": "cddaeb74",
   "metadata": {},
   "outputs": [],
   "source": [
    "logit = LogisticRegression()#C=.1, class_weight={0:1, 1:99}, random_state=248, intercept_scaling=1, solver='lbfgs')"
   ]
  },
  {
   "cell_type": "markdown",
   "id": "4829bede",
   "metadata": {},
   "source": [
    "##### Fit the model to the train data"
   ]
  },
  {
   "cell_type": "code",
   "execution_count": 60,
   "id": "a0f5ceeb",
   "metadata": {},
   "outputs": [
    {
     "data": {
      "text/plain": [
       "LogisticRegression()"
      ]
     },
     "execution_count": 60,
     "metadata": {},
     "output_type": "execute_result"
    }
   ],
   "source": [
    "logit.fit(X_train, y_train)"
   ]
  },
  {
   "cell_type": "markdown",
   "id": "714935c8",
   "metadata": {},
   "source": [
    "##### Make predictions using the model"
   ]
  },
  {
   "cell_type": "code",
   "execution_count": 63,
   "id": "6fefcdef",
   "metadata": {},
   "outputs": [
    {
     "data": {
      "text/plain": [
       "array([0, 0, 1, 1, 1, 0, 1, 0, 0, 0, 1, 0, 0, 1, 1, 0, 1, 0, 0, 1])"
      ]
     },
     "execution_count": 63,
     "metadata": {},
     "output_type": "execute_result"
    }
   ],
   "source": [
    "y_pred = logit.predict(X_train)\n",
    "y_pred[:20]"
   ]
  },
  {
   "cell_type": "code",
   "execution_count": 69,
   "id": "296d4805",
   "metadata": {},
   "outputs": [
    {
     "data": {
      "text/html": [
       "<div>\n",
       "<style scoped>\n",
       "    .dataframe tbody tr th:only-of-type {\n",
       "        vertical-align: middle;\n",
       "    }\n",
       "\n",
       "    .dataframe tbody tr th {\n",
       "        vertical-align: top;\n",
       "    }\n",
       "\n",
       "    .dataframe thead th {\n",
       "        text-align: right;\n",
       "    }\n",
       "</style>\n",
       "<table border=\"1\" class=\"dataframe\">\n",
       "  <thead>\n",
       "    <tr style=\"text-align: right;\">\n",
       "      <th></th>\n",
       "      <th>NotSurvive</th>\n",
       "      <th>Survive</th>\n",
       "    </tr>\n",
       "  </thead>\n",
       "  <tbody>\n",
       "    <tr>\n",
       "      <th>0</th>\n",
       "      <td>0.888720</td>\n",
       "      <td>0.111280</td>\n",
       "    </tr>\n",
       "    <tr>\n",
       "      <th>1</th>\n",
       "      <td>0.872770</td>\n",
       "      <td>0.127230</td>\n",
       "    </tr>\n",
       "    <tr>\n",
       "      <th>2</th>\n",
       "      <td>0.277540</td>\n",
       "      <td>0.722460</td>\n",
       "    </tr>\n",
       "    <tr>\n",
       "      <th>3</th>\n",
       "      <td>0.234243</td>\n",
       "      <td>0.765757</td>\n",
       "    </tr>\n",
       "    <tr>\n",
       "      <th>4</th>\n",
       "      <td>0.093453</td>\n",
       "      <td>0.906547</td>\n",
       "    </tr>\n",
       "    <tr>\n",
       "      <th>5</th>\n",
       "      <td>0.908249</td>\n",
       "      <td>0.091751</td>\n",
       "    </tr>\n",
       "    <tr>\n",
       "      <th>6</th>\n",
       "      <td>0.370202</td>\n",
       "      <td>0.629798</td>\n",
       "    </tr>\n",
       "    <tr>\n",
       "      <th>7</th>\n",
       "      <td>0.590165</td>\n",
       "      <td>0.409835</td>\n",
       "    </tr>\n",
       "    <tr>\n",
       "      <th>8</th>\n",
       "      <td>0.673378</td>\n",
       "      <td>0.326622</td>\n",
       "    </tr>\n",
       "    <tr>\n",
       "      <th>9</th>\n",
       "      <td>0.980333</td>\n",
       "      <td>0.019667</td>\n",
       "    </tr>\n",
       "  </tbody>\n",
       "</table>\n",
       "</div>"
      ],
      "text/plain": [
       "   NotSurvive   Survive\n",
       "0    0.888720  0.111280\n",
       "1    0.872770  0.127230\n",
       "2    0.277540  0.722460\n",
       "3    0.234243  0.765757\n",
       "4    0.093453  0.906547\n",
       "5    0.908249  0.091751\n",
       "6    0.370202  0.629798\n",
       "7    0.590165  0.409835\n",
       "8    0.673378  0.326622\n",
       "9    0.980333  0.019667"
      ]
     },
     "execution_count": 69,
     "metadata": {},
     "output_type": "execute_result"
    }
   ],
   "source": [
    "y_pred_proba = logit.predict_proba(X_train)\n",
    "y_pred_proba = pd.DataFrame(y_pred_proba, columns=['NotSurvive', 'Survive'])\n",
    "y_pred_proba.head(10)"
   ]
  },
  {
   "cell_type": "markdown",
   "id": "c73dd15f",
   "metadata": {},
   "source": [
    "### With just pclass, age, fare"
   ]
  },
  {
   "cell_type": "code",
   "execution_count": 80,
   "id": "71cc35d7",
   "metadata": {},
   "outputs": [
    {
     "data": {
      "text/html": [
       "<div>\n",
       "<style scoped>\n",
       "    .dataframe tbody tr th:only-of-type {\n",
       "        vertical-align: middle;\n",
       "    }\n",
       "\n",
       "    .dataframe tbody tr th {\n",
       "        vertical-align: top;\n",
       "    }\n",
       "\n",
       "    .dataframe thead th {\n",
       "        text-align: right;\n",
       "    }\n",
       "</style>\n",
       "<table border=\"1\" class=\"dataframe\">\n",
       "  <thead>\n",
       "    <tr style=\"text-align: right;\">\n",
       "      <th></th>\n",
       "      <th>survived</th>\n",
       "      <th>pclass</th>\n",
       "      <th>isMale</th>\n",
       "      <th>age</th>\n",
       "      <th>sibsp</th>\n",
       "      <th>parch</th>\n",
       "      <th>fare</th>\n",
       "      <th>embark_town</th>\n",
       "      <th>alone</th>\n",
       "      <th>baseline</th>\n",
       "    </tr>\n",
       "  </thead>\n",
       "  <tbody>\n",
       "    <tr>\n",
       "      <th>0</th>\n",
       "      <td>0</td>\n",
       "      <td>3</td>\n",
       "      <td>1</td>\n",
       "      <td>22.0</td>\n",
       "      <td>1</td>\n",
       "      <td>0</td>\n",
       "      <td>7.2500</td>\n",
       "      <td>1.0</td>\n",
       "      <td>0</td>\n",
       "      <td>0</td>\n",
       "    </tr>\n",
       "    <tr>\n",
       "      <th>1</th>\n",
       "      <td>1</td>\n",
       "      <td>1</td>\n",
       "      <td>0</td>\n",
       "      <td>38.0</td>\n",
       "      <td>1</td>\n",
       "      <td>0</td>\n",
       "      <td>71.2833</td>\n",
       "      <td>2.0</td>\n",
       "      <td>0</td>\n",
       "      <td>0</td>\n",
       "    </tr>\n",
       "    <tr>\n",
       "      <th>2</th>\n",
       "      <td>1</td>\n",
       "      <td>3</td>\n",
       "      <td>0</td>\n",
       "      <td>26.0</td>\n",
       "      <td>0</td>\n",
       "      <td>0</td>\n",
       "      <td>7.9250</td>\n",
       "      <td>1.0</td>\n",
       "      <td>1</td>\n",
       "      <td>0</td>\n",
       "    </tr>\n",
       "  </tbody>\n",
       "</table>\n",
       "</div>"
      ],
      "text/plain": [
       "   survived  pclass isMale   age  sibsp  parch     fare  embark_town  alone  \\\n",
       "0         0       3      1  22.0      1      0   7.2500          1.0      0   \n",
       "1         1       1      0  38.0      1      0  71.2833          2.0      0   \n",
       "2         1       3      0  26.0      0      0   7.9250          1.0      1   \n",
       "\n",
       "   baseline  \n",
       "0         0  \n",
       "1         0  \n",
       "2         0  "
      ]
     },
     "execution_count": 80,
     "metadata": {},
     "output_type": "execute_result"
    }
   ],
   "source": [
    "titanic.head(3)"
   ]
  },
  {
   "cell_type": "code",
   "execution_count": 81,
   "id": "0b12aad4",
   "metadata": {
    "scrolled": true
   },
   "outputs": [
    {
     "data": {
      "text/html": [
       "<div>\n",
       "<style scoped>\n",
       "    .dataframe tbody tr th:only-of-type {\n",
       "        vertical-align: middle;\n",
       "    }\n",
       "\n",
       "    .dataframe tbody tr th {\n",
       "        vertical-align: top;\n",
       "    }\n",
       "\n",
       "    .dataframe thead th {\n",
       "        text-align: right;\n",
       "    }\n",
       "</style>\n",
       "<table border=\"1\" class=\"dataframe\">\n",
       "  <thead>\n",
       "    <tr style=\"text-align: right;\">\n",
       "      <th></th>\n",
       "      <th>survived</th>\n",
       "      <th>pclass</th>\n",
       "      <th>age</th>\n",
       "      <th>fare</th>\n",
       "      <th>baseline</th>\n",
       "    </tr>\n",
       "  </thead>\n",
       "  <tbody>\n",
       "    <tr>\n",
       "      <th>0</th>\n",
       "      <td>0</td>\n",
       "      <td>3</td>\n",
       "      <td>22.0</td>\n",
       "      <td>7.2500</td>\n",
       "      <td>0</td>\n",
       "    </tr>\n",
       "    <tr>\n",
       "      <th>1</th>\n",
       "      <td>1</td>\n",
       "      <td>1</td>\n",
       "      <td>38.0</td>\n",
       "      <td>71.2833</td>\n",
       "      <td>0</td>\n",
       "    </tr>\n",
       "    <tr>\n",
       "      <th>2</th>\n",
       "      <td>1</td>\n",
       "      <td>3</td>\n",
       "      <td>26.0</td>\n",
       "      <td>7.9250</td>\n",
       "      <td>0</td>\n",
       "    </tr>\n",
       "  </tbody>\n",
       "</table>\n",
       "</div>"
      ],
      "text/plain": [
       "   survived  pclass   age     fare  baseline\n",
       "0         0       3  22.0   7.2500         0\n",
       "1         1       1  38.0  71.2833         0\n",
       "2         1       3  26.0   7.9250         0"
      ]
     },
     "execution_count": 81,
     "metadata": {},
     "output_type": "execute_result"
    }
   ],
   "source": [
    "dt = titanic.drop(columns={'embark_town', 'alone', 'sibsp', 'parch',\n",
    "                  'isMale'})\n",
    "dt.head(3)"
   ]
  },
  {
   "cell_type": "code",
   "execution_count": 82,
   "id": "04a60d7a",
   "metadata": {},
   "outputs": [
    {
     "data": {
      "text/plain": [
       "((534, 5), (178, 5), (179, 5))"
      ]
     },
     "execution_count": 82,
     "metadata": {},
     "output_type": "execute_result"
    }
   ],
   "source": [
    "train, validate, test = acquire.split(dt)\n",
    "train.shape, validate.shape, test.shape"
   ]
  },
  {
   "cell_type": "code",
   "execution_count": 83,
   "id": "6e529fdb",
   "metadata": {},
   "outputs": [],
   "source": [
    "X_train = train.drop(columns='survived')\n",
    "y_train = train.survived\n",
    "X_validate = validate.drop(columns='survived')\n",
    "y_validate = validate.survived\n",
    "X_test = test.drop(columns='survived')\n",
    "y_test = test.survived"
   ]
  },
  {
   "cell_type": "code",
   "execution_count": 84,
   "id": "28d2f4ef",
   "metadata": {},
   "outputs": [
    {
     "data": {
      "text/plain": [
       "LogisticRegression()"
      ]
     },
     "execution_count": 84,
     "metadata": {},
     "output_type": "execute_result"
    }
   ],
   "source": [
    "logit.fit(X_train, y_train)"
   ]
  },
  {
   "cell_type": "code",
   "execution_count": 85,
   "id": "2509a06b",
   "metadata": {},
   "outputs": [
    {
     "data": {
      "text/plain": [
       "array([0, 0, 1, 1, 1, 0, 1, 0, 1, 0, 0, 1, 0, 1, 0, 0, 0, 0, 0, 1])"
      ]
     },
     "execution_count": 85,
     "metadata": {},
     "output_type": "execute_result"
    }
   ],
   "source": [
    "y_pred = logit.predict(X_train)\n",
    "y_pred[:20]"
   ]
  },
  {
   "cell_type": "code",
   "execution_count": 86,
   "id": "9d7d0cd5",
   "metadata": {
    "scrolled": true
   },
   "outputs": [
    {
     "data": {
      "text/html": [
       "<div>\n",
       "<style scoped>\n",
       "    .dataframe tbody tr th:only-of-type {\n",
       "        vertical-align: middle;\n",
       "    }\n",
       "\n",
       "    .dataframe tbody tr th {\n",
       "        vertical-align: top;\n",
       "    }\n",
       "\n",
       "    .dataframe thead th {\n",
       "        text-align: right;\n",
       "    }\n",
       "</style>\n",
       "<table border=\"1\" class=\"dataframe\">\n",
       "  <thead>\n",
       "    <tr style=\"text-align: right;\">\n",
       "      <th></th>\n",
       "      <th>NotSurvive</th>\n",
       "      <th>Survive</th>\n",
       "    </tr>\n",
       "  </thead>\n",
       "  <tbody>\n",
       "    <tr>\n",
       "      <th>0</th>\n",
       "      <td>0.762711</td>\n",
       "      <td>0.237289</td>\n",
       "    </tr>\n",
       "    <tr>\n",
       "      <th>1</th>\n",
       "      <td>0.756428</td>\n",
       "      <td>0.243572</td>\n",
       "    </tr>\n",
       "    <tr>\n",
       "      <th>2</th>\n",
       "      <td>0.224624</td>\n",
       "      <td>0.775376</td>\n",
       "    </tr>\n",
       "    <tr>\n",
       "      <th>3</th>\n",
       "      <td>0.061889</td>\n",
       "      <td>0.938111</td>\n",
       "    </tr>\n",
       "    <tr>\n",
       "      <th>4</th>\n",
       "      <td>0.273070</td>\n",
       "      <td>0.726930</td>\n",
       "    </tr>\n",
       "    <tr>\n",
       "      <th>5</th>\n",
       "      <td>0.805457</td>\n",
       "      <td>0.194543</td>\n",
       "    </tr>\n",
       "    <tr>\n",
       "      <th>6</th>\n",
       "      <td>0.186862</td>\n",
       "      <td>0.813138</td>\n",
       "    </tr>\n",
       "    <tr>\n",
       "      <th>7</th>\n",
       "      <td>0.815493</td>\n",
       "      <td>0.184507</td>\n",
       "    </tr>\n",
       "    <tr>\n",
       "      <th>8</th>\n",
       "      <td>0.447797</td>\n",
       "      <td>0.552203</td>\n",
       "    </tr>\n",
       "    <tr>\n",
       "      <th>9</th>\n",
       "      <td>0.567083</td>\n",
       "      <td>0.432917</td>\n",
       "    </tr>\n",
       "  </tbody>\n",
       "</table>\n",
       "</div>"
      ],
      "text/plain": [
       "   NotSurvive   Survive\n",
       "0    0.762711  0.237289\n",
       "1    0.756428  0.243572\n",
       "2    0.224624  0.775376\n",
       "3    0.061889  0.938111\n",
       "4    0.273070  0.726930\n",
       "5    0.805457  0.194543\n",
       "6    0.186862  0.813138\n",
       "7    0.815493  0.184507\n",
       "8    0.447797  0.552203\n",
       "9    0.567083  0.432917"
      ]
     },
     "execution_count": 86,
     "metadata": {},
     "output_type": "execute_result"
    }
   ],
   "source": [
    "y_pred_proba = logit.predict_proba(X_train)\n",
    "y_pred_proba = pd.DataFrame(y_pred_proba, columns=['NotSurvive', 'Survive'])\n",
    "y_pred_proba.head(10)"
   ]
  },
  {
   "cell_type": "code",
   "execution_count": null,
   "id": "0510cbdf",
   "metadata": {},
   "outputs": [],
   "source": []
  },
  {
   "cell_type": "code",
   "execution_count": null,
   "id": "299856c3",
   "metadata": {},
   "outputs": [],
   "source": []
  },
  {
   "cell_type": "code",
   "execution_count": null,
   "id": "5ce253db",
   "metadata": {},
   "outputs": [],
   "source": []
  },
  {
   "cell_type": "code",
   "execution_count": null,
   "id": "0994f818",
   "metadata": {},
   "outputs": [],
   "source": []
  },
  {
   "cell_type": "markdown",
   "id": "743fb815",
   "metadata": {},
   "source": [
    "## 2. Include sex in your model as well. Note that you'll need to encode or create a dummy variable of this feature before including it in a model."
   ]
  },
  {
   "cell_type": "code",
   "execution_count": 87,
   "id": "5128e716",
   "metadata": {},
   "outputs": [
    {
     "data": {
      "text/html": [
       "<div>\n",
       "<style scoped>\n",
       "    .dataframe tbody tr th:only-of-type {\n",
       "        vertical-align: middle;\n",
       "    }\n",
       "\n",
       "    .dataframe tbody tr th {\n",
       "        vertical-align: top;\n",
       "    }\n",
       "\n",
       "    .dataframe thead th {\n",
       "        text-align: right;\n",
       "    }\n",
       "</style>\n",
       "<table border=\"1\" class=\"dataframe\">\n",
       "  <thead>\n",
       "    <tr style=\"text-align: right;\">\n",
       "      <th></th>\n",
       "      <th>survived</th>\n",
       "      <th>pclass</th>\n",
       "      <th>isMale</th>\n",
       "      <th>age</th>\n",
       "      <th>sibsp</th>\n",
       "      <th>parch</th>\n",
       "      <th>fare</th>\n",
       "      <th>embark_town</th>\n",
       "      <th>alone</th>\n",
       "      <th>baseline</th>\n",
       "    </tr>\n",
       "  </thead>\n",
       "  <tbody>\n",
       "    <tr>\n",
       "      <th>0</th>\n",
       "      <td>0</td>\n",
       "      <td>3</td>\n",
       "      <td>1</td>\n",
       "      <td>22.0</td>\n",
       "      <td>1</td>\n",
       "      <td>0</td>\n",
       "      <td>7.2500</td>\n",
       "      <td>1.0</td>\n",
       "      <td>0</td>\n",
       "      <td>0</td>\n",
       "    </tr>\n",
       "    <tr>\n",
       "      <th>1</th>\n",
       "      <td>1</td>\n",
       "      <td>1</td>\n",
       "      <td>0</td>\n",
       "      <td>38.0</td>\n",
       "      <td>1</td>\n",
       "      <td>0</td>\n",
       "      <td>71.2833</td>\n",
       "      <td>2.0</td>\n",
       "      <td>0</td>\n",
       "      <td>0</td>\n",
       "    </tr>\n",
       "    <tr>\n",
       "      <th>2</th>\n",
       "      <td>1</td>\n",
       "      <td>3</td>\n",
       "      <td>0</td>\n",
       "      <td>26.0</td>\n",
       "      <td>0</td>\n",
       "      <td>0</td>\n",
       "      <td>7.9250</td>\n",
       "      <td>1.0</td>\n",
       "      <td>1</td>\n",
       "      <td>0</td>\n",
       "    </tr>\n",
       "  </tbody>\n",
       "</table>\n",
       "</div>"
      ],
      "text/plain": [
       "   survived  pclass isMale   age  sibsp  parch     fare  embark_town  alone  \\\n",
       "0         0       3      1  22.0      1      0   7.2500          1.0      0   \n",
       "1         1       1      0  38.0      1      0  71.2833          2.0      0   \n",
       "2         1       3      0  26.0      0      0   7.9250          1.0      1   \n",
       "\n",
       "   baseline  \n",
       "0         0  \n",
       "1         0  \n",
       "2         0  "
      ]
     },
     "execution_count": 87,
     "metadata": {},
     "output_type": "execute_result"
    }
   ],
   "source": [
    "titanic.head(3)"
   ]
  },
  {
   "cell_type": "code",
   "execution_count": 88,
   "id": "9d1f00c5",
   "metadata": {},
   "outputs": [
    {
     "data": {
      "text/html": [
       "<div>\n",
       "<style scoped>\n",
       "    .dataframe tbody tr th:only-of-type {\n",
       "        vertical-align: middle;\n",
       "    }\n",
       "\n",
       "    .dataframe tbody tr th {\n",
       "        vertical-align: top;\n",
       "    }\n",
       "\n",
       "    .dataframe thead th {\n",
       "        text-align: right;\n",
       "    }\n",
       "</style>\n",
       "<table border=\"1\" class=\"dataframe\">\n",
       "  <thead>\n",
       "    <tr style=\"text-align: right;\">\n",
       "      <th></th>\n",
       "      <th>survived</th>\n",
       "      <th>pclass</th>\n",
       "      <th>isMale</th>\n",
       "      <th>age</th>\n",
       "      <th>fare</th>\n",
       "      <th>baseline</th>\n",
       "    </tr>\n",
       "  </thead>\n",
       "  <tbody>\n",
       "    <tr>\n",
       "      <th>0</th>\n",
       "      <td>0</td>\n",
       "      <td>3</td>\n",
       "      <td>1</td>\n",
       "      <td>22.0</td>\n",
       "      <td>7.2500</td>\n",
       "      <td>0</td>\n",
       "    </tr>\n",
       "    <tr>\n",
       "      <th>1</th>\n",
       "      <td>1</td>\n",
       "      <td>1</td>\n",
       "      <td>0</td>\n",
       "      <td>38.0</td>\n",
       "      <td>71.2833</td>\n",
       "      <td>0</td>\n",
       "    </tr>\n",
       "    <tr>\n",
       "      <th>2</th>\n",
       "      <td>1</td>\n",
       "      <td>3</td>\n",
       "      <td>0</td>\n",
       "      <td>26.0</td>\n",
       "      <td>7.9250</td>\n",
       "      <td>0</td>\n",
       "    </tr>\n",
       "  </tbody>\n",
       "</table>\n",
       "</div>"
      ],
      "text/plain": [
       "   survived  pclass isMale   age     fare  baseline\n",
       "0         0       3      1  22.0   7.2500         0\n",
       "1         1       1      0  38.0  71.2833         0\n",
       "2         1       3      0  26.0   7.9250         0"
      ]
     },
     "execution_count": 88,
     "metadata": {},
     "output_type": "execute_result"
    }
   ],
   "source": [
    "withsex = titanic.drop(columns={'embark_town', 'alone', 'sibsp', 'parch'})\n",
    "withsex.head(3)"
   ]
  },
  {
   "cell_type": "code",
   "execution_count": 89,
   "id": "c72e936d",
   "metadata": {},
   "outputs": [
    {
     "data": {
      "text/plain": [
       "((534, 6), (178, 6), (179, 6))"
      ]
     },
     "execution_count": 89,
     "metadata": {},
     "output_type": "execute_result"
    }
   ],
   "source": [
    "train, validate, test = acquire.split(withsex)\n",
    "train.shape, validate.shape, test.shape"
   ]
  },
  {
   "cell_type": "code",
   "execution_count": 90,
   "id": "ff4a6440",
   "metadata": {},
   "outputs": [],
   "source": [
    "X_train = train.drop(columns='survived')\n",
    "y_train = train.survived\n",
    "X_validate = validate.drop(columns='survived')\n",
    "y_validate = validate.survived\n",
    "X_test = test.drop(columns='survived')\n",
    "y_test = test.survived"
   ]
  },
  {
   "cell_type": "code",
   "execution_count": 91,
   "id": "0233c95f",
   "metadata": {},
   "outputs": [
    {
     "data": {
      "text/plain": [
       "LogisticRegression()"
      ]
     },
     "execution_count": 91,
     "metadata": {},
     "output_type": "execute_result"
    }
   ],
   "source": [
    "logit.fit(X_train, y_train)"
   ]
  },
  {
   "cell_type": "code",
   "execution_count": 92,
   "id": "18bc6d8d",
   "metadata": {},
   "outputs": [
    {
     "data": {
      "text/plain": [
       "array([0, 0, 1, 1, 1, 0, 1, 0, 0, 0, 1, 1, 0, 1, 1, 0, 1, 0, 0, 1])"
      ]
     },
     "execution_count": 92,
     "metadata": {},
     "output_type": "execute_result"
    }
   ],
   "source": [
    "y_pred = logit.predict(X_train)\n",
    "y_pred[:20]"
   ]
  },
  {
   "cell_type": "code",
   "execution_count": 93,
   "id": "82e32393",
   "metadata": {},
   "outputs": [
    {
     "data": {
      "text/html": [
       "<div>\n",
       "<style scoped>\n",
       "    .dataframe tbody tr th:only-of-type {\n",
       "        vertical-align: middle;\n",
       "    }\n",
       "\n",
       "    .dataframe tbody tr th {\n",
       "        vertical-align: top;\n",
       "    }\n",
       "\n",
       "    .dataframe thead th {\n",
       "        text-align: right;\n",
       "    }\n",
       "</style>\n",
       "<table border=\"1\" class=\"dataframe\">\n",
       "  <thead>\n",
       "    <tr style=\"text-align: right;\">\n",
       "      <th></th>\n",
       "      <th>NotSurvive</th>\n",
       "      <th>Survive</th>\n",
       "    </tr>\n",
       "  </thead>\n",
       "  <tbody>\n",
       "    <tr>\n",
       "      <th>0</th>\n",
       "      <td>0.897273</td>\n",
       "      <td>0.102727</td>\n",
       "    </tr>\n",
       "    <tr>\n",
       "      <th>1</th>\n",
       "      <td>0.895999</td>\n",
       "      <td>0.104001</td>\n",
       "    </tr>\n",
       "    <tr>\n",
       "      <th>2</th>\n",
       "      <td>0.407574</td>\n",
       "      <td>0.592426</td>\n",
       "    </tr>\n",
       "    <tr>\n",
       "      <th>3</th>\n",
       "      <td>0.341245</td>\n",
       "      <td>0.658755</td>\n",
       "    </tr>\n",
       "    <tr>\n",
       "      <th>4</th>\n",
       "      <td>0.089263</td>\n",
       "      <td>0.910737</td>\n",
       "    </tr>\n",
       "    <tr>\n",
       "      <th>5</th>\n",
       "      <td>0.917676</td>\n",
       "      <td>0.082324</td>\n",
       "    </tr>\n",
       "    <tr>\n",
       "      <th>6</th>\n",
       "      <td>0.390648</td>\n",
       "      <td>0.609352</td>\n",
       "    </tr>\n",
       "    <tr>\n",
       "      <th>7</th>\n",
       "      <td>0.543937</td>\n",
       "      <td>0.456063</td>\n",
       "    </tr>\n",
       "    <tr>\n",
       "      <th>8</th>\n",
       "      <td>0.622098</td>\n",
       "      <td>0.377902</td>\n",
       "    </tr>\n",
       "    <tr>\n",
       "      <th>9</th>\n",
       "      <td>0.800811</td>\n",
       "      <td>0.199189</td>\n",
       "    </tr>\n",
       "  </tbody>\n",
       "</table>\n",
       "</div>"
      ],
      "text/plain": [
       "   NotSurvive   Survive\n",
       "0    0.897273  0.102727\n",
       "1    0.895999  0.104001\n",
       "2    0.407574  0.592426\n",
       "3    0.341245  0.658755\n",
       "4    0.089263  0.910737\n",
       "5    0.917676  0.082324\n",
       "6    0.390648  0.609352\n",
       "7    0.543937  0.456063\n",
       "8    0.622098  0.377902\n",
       "9    0.800811  0.199189"
      ]
     },
     "execution_count": 93,
     "metadata": {},
     "output_type": "execute_result"
    }
   ],
   "source": [
    "y_pred_proba = logit.predict_proba(X_train)\n",
    "y_pred_proba = pd.DataFrame(y_pred_proba, columns=['NotSurvive', 'Survive'])\n",
    "y_pred_proba.head(10)"
   ]
  },
  {
   "cell_type": "code",
   "execution_count": 96,
   "id": "5f0dee8c",
   "metadata": {},
   "outputs": [
    {
     "data": {
      "text/html": [
       "<div>\n",
       "<style scoped>\n",
       "    .dataframe tbody tr th:only-of-type {\n",
       "        vertical-align: middle;\n",
       "    }\n",
       "\n",
       "    .dataframe tbody tr th {\n",
       "        vertical-align: top;\n",
       "    }\n",
       "\n",
       "    .dataframe thead th {\n",
       "        text-align: right;\n",
       "    }\n",
       "</style>\n",
       "<table border=\"1\" class=\"dataframe\">\n",
       "  <thead>\n",
       "    <tr style=\"text-align: right;\">\n",
       "      <th></th>\n",
       "      <th>0</th>\n",
       "      <th>1</th>\n",
       "      <th>accuracy</th>\n",
       "      <th>macro avg</th>\n",
       "      <th>weighted avg</th>\n",
       "    </tr>\n",
       "  </thead>\n",
       "  <tbody>\n",
       "    <tr>\n",
       "      <th>precision</th>\n",
       "      <td>0.807453</td>\n",
       "      <td>0.716981</td>\n",
       "      <td>0.771536</td>\n",
       "      <td>0.762217</td>\n",
       "      <td>0.771197</td>\n",
       "    </tr>\n",
       "    <tr>\n",
       "      <th>recall</th>\n",
       "      <td>0.812500</td>\n",
       "      <td>0.710280</td>\n",
       "      <td>0.771536</td>\n",
       "      <td>0.761390</td>\n",
       "      <td>0.771536</td>\n",
       "    </tr>\n",
       "    <tr>\n",
       "      <th>f1-score</th>\n",
       "      <td>0.809969</td>\n",
       "      <td>0.713615</td>\n",
       "      <td>0.771536</td>\n",
       "      <td>0.761792</td>\n",
       "      <td>0.771355</td>\n",
       "    </tr>\n",
       "    <tr>\n",
       "      <th>support</th>\n",
       "      <td>320.000000</td>\n",
       "      <td>214.000000</td>\n",
       "      <td>0.771536</td>\n",
       "      <td>534.000000</td>\n",
       "      <td>534.000000</td>\n",
       "    </tr>\n",
       "  </tbody>\n",
       "</table>\n",
       "</div>"
      ],
      "text/plain": [
       "                    0           1  accuracy   macro avg  weighted avg\n",
       "precision    0.807453    0.716981  0.771536    0.762217      0.771197\n",
       "recall       0.812500    0.710280  0.771536    0.761390      0.771536\n",
       "f1-score     0.809969    0.713615  0.771536    0.761792      0.771355\n",
       "support    320.000000  214.000000  0.771536  534.000000    534.000000"
      ]
     },
     "execution_count": 96,
     "metadata": {},
     "output_type": "execute_result"
    }
   ],
   "source": [
    "pd.DataFrame(classification_report(y_train, y_pred, output_dict=True))"
   ]
  },
  {
   "cell_type": "code",
   "execution_count": null,
   "id": "ff95b285",
   "metadata": {},
   "outputs": [],
   "source": []
  },
  {
   "cell_type": "code",
   "execution_count": null,
   "id": "cacd13bc",
   "metadata": {},
   "outputs": [],
   "source": []
  },
  {
   "cell_type": "markdown",
   "id": "04dfd8d5",
   "metadata": {},
   "source": [
    "## 3. Try out other combinations of features and models."
   ]
  },
  {
   "cell_type": "code",
   "execution_count": null,
   "id": "36c57d40",
   "metadata": {},
   "outputs": [],
   "source": []
  },
  {
   "cell_type": "code",
   "execution_count": null,
   "id": "bc7c1ee7",
   "metadata": {},
   "outputs": [],
   "source": []
  },
  {
   "cell_type": "markdown",
   "id": "2fd52a53",
   "metadata": {},
   "source": [
    "## 4. Use you best 3 models to predict and evaluate on your validate sample."
   ]
  },
  {
   "cell_type": "code",
   "execution_count": null,
   "id": "df35156d",
   "metadata": {},
   "outputs": [],
   "source": []
  },
  {
   "cell_type": "code",
   "execution_count": null,
   "id": "3d0ed084",
   "metadata": {},
   "outputs": [],
   "source": []
  },
  {
   "cell_type": "markdown",
   "id": "6f97c65e",
   "metadata": {},
   "source": [
    "## 5. Choose you best model from the validation performation, and evaluate it on the test dataset. How do the performance metrics compare to validate? to train?"
   ]
  },
  {
   "cell_type": "code",
   "execution_count": null,
   "id": "d750f21c",
   "metadata": {},
   "outputs": [],
   "source": []
  },
  {
   "cell_type": "code",
   "execution_count": null,
   "id": "1d7c2b81",
   "metadata": {},
   "outputs": [],
   "source": []
  },
  {
   "cell_type": "markdown",
   "id": "0b98e985",
   "metadata": {},
   "source": [
    "Bonus1 How do different strategies for handling the missing values in the age column affect model performance?\n",
    "\n",
    "Bonus2: How do different strategies for encoding sex affect model performance?\n",
    "\n",
    "Bonus3: scikit-learn's LogisticRegression classifier is actually applying a regularization penalty to the coefficients by default. This penalty causes the magnitude of the coefficients in the resulting model to be smaller than they otherwise would be. This value can be modified with the C hyper parameter. Small values of C correspond to a larger penalty, and large values of C correspond to a smaller penalty.\n",
    "Try out the following values for C and note how the coefficients and the model's performance on both the dataset it was trained on and on the validate split are affected.\n",
    "C\n",
    "=\n",
    ".01\n",
    ",\n",
    ".1\n",
    ",\n",
    "1\n",
    ",\n",
    "10\n",
    ",\n",
    "100\n",
    ",\n",
    "1000\n",
    "Bonus Bonus: how does scaling the data interact with your choice of C?"
   ]
  },
  {
   "cell_type": "code",
   "execution_count": null,
   "id": "05e4a057",
   "metadata": {},
   "outputs": [],
   "source": []
  },
  {
   "cell_type": "code",
   "execution_count": null,
   "id": "e58969b4",
   "metadata": {},
   "outputs": [],
   "source": []
  },
  {
   "cell_type": "code",
   "execution_count": null,
   "id": "21479401",
   "metadata": {},
   "outputs": [],
   "source": []
  },
  {
   "cell_type": "markdown",
   "id": "85de5ea6",
   "metadata": {},
   "source": [
    "<div class=\"alert alert-block alert-info\">\n",
    "<b>Tip:</b> Use blue boxes (alert-info) for tips and notes. \n",
    "If it’s a note, you don’t have to include the word “Note”.\n",
    "</div>"
   ]
  },
  {
   "cell_type": "markdown",
   "id": "cfb09d01",
   "metadata": {},
   "source": [
    "<div class=\"alert alert-block alert-warning\">\n",
    "<b>Example:</b> Use yellow boxes for examples that are not \n",
    "inside code cells, or use for mathematical formulas if needed.\n",
    "</div>"
   ]
  },
  {
   "cell_type": "markdown",
   "id": "c63383cf",
   "metadata": {},
   "source": [
    "<div class=\"alert alert-block alert-success\">\n",
    "<b>Up to you:</b> Use green boxes sparingly, and only for some specific \n",
    "purpose that the other boxes can't cover. For example, if you have a lot \n",
    "of related content to link to, maybe you decide to use green boxes for \n",
    "related links from each section of a notebook.\n",
    "</div>"
   ]
  },
  {
   "cell_type": "markdown",
   "id": "ad7c9ab3",
   "metadata": {},
   "source": [
    "<div class=\"alert alert-block alert-danger\">\n",
    "<b>Just don't:</b> In general, avoid the red boxes. These should only be\n",
    "used for actions that might cause data loss or another major issue.\n",
    "</div>"
   ]
  },
  {
   "cell_type": "markdown",
   "id": "2c1d697c",
   "metadata": {},
   "source": [
    "> fffffff"
   ]
  },
  {
   "cell_type": "markdown",
   "id": "8da5644f",
   "metadata": {},
   "source": [
    "***"
   ]
  },
  {
   "cell_type": "markdown",
   "id": "bafe40ac",
   "metadata": {},
   "source": [
    "&#9719;</p>"
   ]
  },
  {
   "cell_type": "markdown",
   "id": "a87c674a",
   "metadata": {},
   "source": []
  },
  {
   "cell_type": "code",
   "execution_count": null,
   "id": "164242f0",
   "metadata": {},
   "outputs": [],
   "source": []
  }
 ],
 "metadata": {
  "kernelspec": {
   "display_name": "Python 3 (ipykernel)",
   "language": "python",
   "name": "python3"
  },
  "language_info": {
   "codemirror_mode": {
    "name": "ipython",
    "version": 3
   },
   "file_extension": ".py",
   "mimetype": "text/x-python",
   "name": "python",
   "nbconvert_exporter": "python",
   "pygments_lexer": "ipython3",
   "version": "3.9.12"
  }
 },
 "nbformat": 4,
 "nbformat_minor": 5
}
