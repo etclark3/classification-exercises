{
 "cells": [
  {
   "cell_type": "code",
   "execution_count": 1,
   "id": "92f20247",
   "metadata": {},
   "outputs": [],
   "source": [
    "import acquire\n",
    "import numpy as np\n",
    "import pandas as pd\n",
    "from env import username, password, host\n",
    "import os\n",
    "from sklearn import datasets\n",
    "import seaborn as sns\n",
    "import matplotlib.pyplot as plt\n",
    "import scipy.stats as stats\n",
    "from sklearn.model_selection import train_test_split\n",
    "import sklearn.metrics as metrics\n",
    "\n",
    "import warnings\n",
    "warnings.filterwarnings(\"ignore\")\n",
    "\n",
    "from pydataset import data\n",
    "\n",
    "from sklearn.tree import DecisionTreeClassifier, plot_tree\n",
    "from sklearn.metrics import classification_report\n",
    "from sklearn.metrics import confusion_matrix\n",
    "from sklearn.metrics import accuracy_score\n",
    "from sklearn.metrics import recall_score\n",
    "from sklearn.metrics import precision_score\n",
    "from sklearn.metrics import f1_score"
   ]
  },
  {
   "cell_type": "markdown",
   "id": "0b3ea821",
   "metadata": {},
   "source": [
    "# Titanic Dataset"
   ]
  },
  {
   "cell_type": "markdown",
   "id": "d22e13f9",
   "metadata": {},
   "source": [
    "### 1. What is your baseline prediction? What is your baseline accuracy? remember: your baseline prediction for a classification problem is predicting the most prevelant class in the training dataset (the mode). When you make those predictions, what is your accuracy? This is your baseline accuracy."
   ]
  },
  {
   "cell_type": "code",
   "execution_count": 2,
   "id": "9c83e9b6",
   "metadata": {
    "scrolled": true
   },
   "outputs": [
    {
     "data": {
      "text/html": [
       "<div>\n",
       "<style scoped>\n",
       "    .dataframe tbody tr th:only-of-type {\n",
       "        vertical-align: middle;\n",
       "    }\n",
       "\n",
       "    .dataframe tbody tr th {\n",
       "        vertical-align: top;\n",
       "    }\n",
       "\n",
       "    .dataframe thead th {\n",
       "        text-align: right;\n",
       "    }\n",
       "</style>\n",
       "<table border=\"1\" class=\"dataframe\">\n",
       "  <thead>\n",
       "    <tr style=\"text-align: right;\">\n",
       "      <th></th>\n",
       "      <th>Unnamed: 0</th>\n",
       "      <th>passenger_id</th>\n",
       "      <th>survived</th>\n",
       "      <th>pclass</th>\n",
       "      <th>sex</th>\n",
       "      <th>age</th>\n",
       "      <th>sibsp</th>\n",
       "      <th>parch</th>\n",
       "      <th>fare</th>\n",
       "      <th>embarked</th>\n",
       "      <th>class</th>\n",
       "      <th>deck</th>\n",
       "      <th>embark_town</th>\n",
       "      <th>alone</th>\n",
       "    </tr>\n",
       "  </thead>\n",
       "  <tbody>\n",
       "    <tr>\n",
       "      <th>0</th>\n",
       "      <td>0</td>\n",
       "      <td>0</td>\n",
       "      <td>0</td>\n",
       "      <td>3</td>\n",
       "      <td>male</td>\n",
       "      <td>22.0</td>\n",
       "      <td>1</td>\n",
       "      <td>0</td>\n",
       "      <td>7.2500</td>\n",
       "      <td>S</td>\n",
       "      <td>Third</td>\n",
       "      <td>NaN</td>\n",
       "      <td>Southampton</td>\n",
       "      <td>0</td>\n",
       "    </tr>\n",
       "    <tr>\n",
       "      <th>1</th>\n",
       "      <td>1</td>\n",
       "      <td>1</td>\n",
       "      <td>1</td>\n",
       "      <td>1</td>\n",
       "      <td>female</td>\n",
       "      <td>38.0</td>\n",
       "      <td>1</td>\n",
       "      <td>0</td>\n",
       "      <td>71.2833</td>\n",
       "      <td>C</td>\n",
       "      <td>First</td>\n",
       "      <td>C</td>\n",
       "      <td>Cherbourg</td>\n",
       "      <td>0</td>\n",
       "    </tr>\n",
       "    <tr>\n",
       "      <th>2</th>\n",
       "      <td>2</td>\n",
       "      <td>2</td>\n",
       "      <td>1</td>\n",
       "      <td>3</td>\n",
       "      <td>female</td>\n",
       "      <td>26.0</td>\n",
       "      <td>0</td>\n",
       "      <td>0</td>\n",
       "      <td>7.9250</td>\n",
       "      <td>S</td>\n",
       "      <td>Third</td>\n",
       "      <td>NaN</td>\n",
       "      <td>Southampton</td>\n",
       "      <td>1</td>\n",
       "    </tr>\n",
       "    <tr>\n",
       "      <th>3</th>\n",
       "      <td>3</td>\n",
       "      <td>3</td>\n",
       "      <td>1</td>\n",
       "      <td>1</td>\n",
       "      <td>female</td>\n",
       "      <td>35.0</td>\n",
       "      <td>1</td>\n",
       "      <td>0</td>\n",
       "      <td>53.1000</td>\n",
       "      <td>S</td>\n",
       "      <td>First</td>\n",
       "      <td>C</td>\n",
       "      <td>Southampton</td>\n",
       "      <td>0</td>\n",
       "    </tr>\n",
       "    <tr>\n",
       "      <th>4</th>\n",
       "      <td>4</td>\n",
       "      <td>4</td>\n",
       "      <td>0</td>\n",
       "      <td>3</td>\n",
       "      <td>male</td>\n",
       "      <td>35.0</td>\n",
       "      <td>0</td>\n",
       "      <td>0</td>\n",
       "      <td>8.0500</td>\n",
       "      <td>S</td>\n",
       "      <td>Third</td>\n",
       "      <td>NaN</td>\n",
       "      <td>Southampton</td>\n",
       "      <td>1</td>\n",
       "    </tr>\n",
       "  </tbody>\n",
       "</table>\n",
       "</div>"
      ],
      "text/plain": [
       "   Unnamed: 0  passenger_id  survived  pclass     sex   age  sibsp  parch  \\\n",
       "0           0             0         0       3    male  22.0      1      0   \n",
       "1           1             1         1       1  female  38.0      1      0   \n",
       "2           2             2         1       3  female  26.0      0      0   \n",
       "3           3             3         1       1  female  35.0      1      0   \n",
       "4           4             4         0       3    male  35.0      0      0   \n",
       "\n",
       "      fare embarked  class deck  embark_town  alone  \n",
       "0   7.2500        S  Third  NaN  Southampton      0  \n",
       "1  71.2833        C  First    C    Cherbourg      0  \n",
       "2   7.9250        S  Third  NaN  Southampton      1  \n",
       "3  53.1000        S  First    C  Southampton      0  \n",
       "4   8.0500        S  Third  NaN  Southampton      1  "
      ]
     },
     "execution_count": 2,
     "metadata": {},
     "output_type": "execute_result"
    }
   ],
   "source": [
    "titanic = acquire.grab_titanic_data()\n",
    "titanic.head()"
   ]
  },
  {
   "cell_type": "code",
   "execution_count": 3,
   "id": "5010f7ed",
   "metadata": {
    "scrolled": true
   },
   "outputs": [
    {
     "data": {
      "text/html": [
       "<div>\n",
       "<style scoped>\n",
       "    .dataframe tbody tr th:only-of-type {\n",
       "        vertical-align: middle;\n",
       "    }\n",
       "\n",
       "    .dataframe tbody tr th {\n",
       "        vertical-align: top;\n",
       "    }\n",
       "\n",
       "    .dataframe thead th {\n",
       "        text-align: right;\n",
       "    }\n",
       "</style>\n",
       "<table border=\"1\" class=\"dataframe\">\n",
       "  <thead>\n",
       "    <tr style=\"text-align: right;\">\n",
       "      <th></th>\n",
       "      <th>survived</th>\n",
       "      <th>pclass</th>\n",
       "      <th>isMale</th>\n",
       "      <th>age</th>\n",
       "      <th>sibsp</th>\n",
       "      <th>parch</th>\n",
       "      <th>fare</th>\n",
       "      <th>embark_town</th>\n",
       "      <th>alone</th>\n",
       "    </tr>\n",
       "  </thead>\n",
       "  <tbody>\n",
       "    <tr>\n",
       "      <th>0</th>\n",
       "      <td>0</td>\n",
       "      <td>3</td>\n",
       "      <td>male</td>\n",
       "      <td>22.0</td>\n",
       "      <td>1</td>\n",
       "      <td>0</td>\n",
       "      <td>7.2500</td>\n",
       "      <td>1.0</td>\n",
       "      <td>0</td>\n",
       "    </tr>\n",
       "    <tr>\n",
       "      <th>1</th>\n",
       "      <td>1</td>\n",
       "      <td>1</td>\n",
       "      <td>female</td>\n",
       "      <td>38.0</td>\n",
       "      <td>1</td>\n",
       "      <td>0</td>\n",
       "      <td>71.2833</td>\n",
       "      <td>2.0</td>\n",
       "      <td>0</td>\n",
       "    </tr>\n",
       "    <tr>\n",
       "      <th>2</th>\n",
       "      <td>1</td>\n",
       "      <td>3</td>\n",
       "      <td>female</td>\n",
       "      <td>26.0</td>\n",
       "      <td>0</td>\n",
       "      <td>0</td>\n",
       "      <td>7.9250</td>\n",
       "      <td>1.0</td>\n",
       "      <td>1</td>\n",
       "    </tr>\n",
       "    <tr>\n",
       "      <th>3</th>\n",
       "      <td>1</td>\n",
       "      <td>1</td>\n",
       "      <td>female</td>\n",
       "      <td>35.0</td>\n",
       "      <td>1</td>\n",
       "      <td>0</td>\n",
       "      <td>53.1000</td>\n",
       "      <td>1.0</td>\n",
       "      <td>0</td>\n",
       "    </tr>\n",
       "    <tr>\n",
       "      <th>4</th>\n",
       "      <td>0</td>\n",
       "      <td>3</td>\n",
       "      <td>male</td>\n",
       "      <td>35.0</td>\n",
       "      <td>0</td>\n",
       "      <td>0</td>\n",
       "      <td>8.0500</td>\n",
       "      <td>1.0</td>\n",
       "      <td>1</td>\n",
       "    </tr>\n",
       "  </tbody>\n",
       "</table>\n",
       "</div>"
      ],
      "text/plain": [
       "   survived  pclass  isMale   age  sibsp  parch     fare  embark_town  alone\n",
       "0         0       3    male  22.0      1      0   7.2500          1.0      0\n",
       "1         1       1  female  38.0      1      0  71.2833          2.0      0\n",
       "2         1       3  female  26.0      0      0   7.9250          1.0      1\n",
       "3         1       1  female  35.0      1      0  53.1000          1.0      0\n",
       "4         0       3    male  35.0      0      0   8.0500          1.0      1"
      ]
     },
     "execution_count": 3,
     "metadata": {},
     "output_type": "execute_result"
    }
   ],
   "source": [
    "titanic = acquire.prep_titanic(titanic)\n",
    "titanic.rename(columns={'sex': 'isMale'}, inplace=True)\n",
    "titanic.head()"
   ]
  },
  {
   "cell_type": "code",
   "execution_count": 4,
   "id": "007d8d0d",
   "metadata": {
    "scrolled": true
   },
   "outputs": [
    {
     "name": "stdout",
     "output_type": "stream",
     "text": [
      "29.69911764705882\n",
      "0    24.0\n",
      "Name: age, dtype: float64\n",
      "28.0\n"
     ]
    }
   ],
   "source": [
    "print(titanic.age.mean())\n",
    "print(titanic.age.mode())\n",
    "print(titanic.age.median())"
   ]
  },
  {
   "cell_type": "code",
   "execution_count": 5,
   "id": "cb9e2c28",
   "metadata": {},
   "outputs": [
    {
     "data": {
      "text/html": [
       "<div>\n",
       "<style scoped>\n",
       "    .dataframe tbody tr th:only-of-type {\n",
       "        vertical-align: middle;\n",
       "    }\n",
       "\n",
       "    .dataframe tbody tr th {\n",
       "        vertical-align: top;\n",
       "    }\n",
       "\n",
       "    .dataframe thead th {\n",
       "        text-align: right;\n",
       "    }\n",
       "</style>\n",
       "<table border=\"1\" class=\"dataframe\">\n",
       "  <thead>\n",
       "    <tr style=\"text-align: right;\">\n",
       "      <th></th>\n",
       "      <th>survived</th>\n",
       "      <th>pclass</th>\n",
       "      <th>isMale</th>\n",
       "      <th>age</th>\n",
       "      <th>sibsp</th>\n",
       "      <th>parch</th>\n",
       "      <th>fare</th>\n",
       "      <th>embark_town</th>\n",
       "      <th>alone</th>\n",
       "    </tr>\n",
       "  </thead>\n",
       "  <tbody>\n",
       "    <tr>\n",
       "      <th>0</th>\n",
       "      <td>0</td>\n",
       "      <td>3</td>\n",
       "      <td>male</td>\n",
       "      <td>22.0</td>\n",
       "      <td>1</td>\n",
       "      <td>0</td>\n",
       "      <td>7.2500</td>\n",
       "      <td>1.0</td>\n",
       "      <td>0</td>\n",
       "    </tr>\n",
       "    <tr>\n",
       "      <th>1</th>\n",
       "      <td>1</td>\n",
       "      <td>1</td>\n",
       "      <td>female</td>\n",
       "      <td>38.0</td>\n",
       "      <td>1</td>\n",
       "      <td>0</td>\n",
       "      <td>71.2833</td>\n",
       "      <td>2.0</td>\n",
       "      <td>0</td>\n",
       "    </tr>\n",
       "    <tr>\n",
       "      <th>2</th>\n",
       "      <td>1</td>\n",
       "      <td>3</td>\n",
       "      <td>female</td>\n",
       "      <td>26.0</td>\n",
       "      <td>0</td>\n",
       "      <td>0</td>\n",
       "      <td>7.9250</td>\n",
       "      <td>1.0</td>\n",
       "      <td>1</td>\n",
       "    </tr>\n",
       "    <tr>\n",
       "      <th>3</th>\n",
       "      <td>1</td>\n",
       "      <td>1</td>\n",
       "      <td>female</td>\n",
       "      <td>35.0</td>\n",
       "      <td>1</td>\n",
       "      <td>0</td>\n",
       "      <td>53.1000</td>\n",
       "      <td>1.0</td>\n",
       "      <td>0</td>\n",
       "    </tr>\n",
       "    <tr>\n",
       "      <th>4</th>\n",
       "      <td>0</td>\n",
       "      <td>3</td>\n",
       "      <td>male</td>\n",
       "      <td>35.0</td>\n",
       "      <td>0</td>\n",
       "      <td>0</td>\n",
       "      <td>8.0500</td>\n",
       "      <td>1.0</td>\n",
       "      <td>1</td>\n",
       "    </tr>\n",
       "    <tr>\n",
       "      <th>5</th>\n",
       "      <td>0</td>\n",
       "      <td>3</td>\n",
       "      <td>male</td>\n",
       "      <td>28.0</td>\n",
       "      <td>0</td>\n",
       "      <td>0</td>\n",
       "      <td>8.4583</td>\n",
       "      <td>3.0</td>\n",
       "      <td>1</td>\n",
       "    </tr>\n",
       "    <tr>\n",
       "      <th>6</th>\n",
       "      <td>0</td>\n",
       "      <td>1</td>\n",
       "      <td>male</td>\n",
       "      <td>54.0</td>\n",
       "      <td>0</td>\n",
       "      <td>0</td>\n",
       "      <td>51.8625</td>\n",
       "      <td>1.0</td>\n",
       "      <td>1</td>\n",
       "    </tr>\n",
       "    <tr>\n",
       "      <th>7</th>\n",
       "      <td>0</td>\n",
       "      <td>3</td>\n",
       "      <td>male</td>\n",
       "      <td>2.0</td>\n",
       "      <td>3</td>\n",
       "      <td>1</td>\n",
       "      <td>21.0750</td>\n",
       "      <td>1.0</td>\n",
       "      <td>0</td>\n",
       "    </tr>\n",
       "    <tr>\n",
       "      <th>8</th>\n",
       "      <td>1</td>\n",
       "      <td>3</td>\n",
       "      <td>female</td>\n",
       "      <td>27.0</td>\n",
       "      <td>0</td>\n",
       "      <td>2</td>\n",
       "      <td>11.1333</td>\n",
       "      <td>1.0</td>\n",
       "      <td>0</td>\n",
       "    </tr>\n",
       "    <tr>\n",
       "      <th>9</th>\n",
       "      <td>1</td>\n",
       "      <td>2</td>\n",
       "      <td>female</td>\n",
       "      <td>14.0</td>\n",
       "      <td>1</td>\n",
       "      <td>0</td>\n",
       "      <td>30.0708</td>\n",
       "      <td>2.0</td>\n",
       "      <td>0</td>\n",
       "    </tr>\n",
       "  </tbody>\n",
       "</table>\n",
       "</div>"
      ],
      "text/plain": [
       "   survived  pclass  isMale   age  sibsp  parch     fare  embark_town  alone\n",
       "0         0       3    male  22.0      1      0   7.2500          1.0      0\n",
       "1         1       1  female  38.0      1      0  71.2833          2.0      0\n",
       "2         1       3  female  26.0      0      0   7.9250          1.0      1\n",
       "3         1       1  female  35.0      1      0  53.1000          1.0      0\n",
       "4         0       3    male  35.0      0      0   8.0500          1.0      1\n",
       "5         0       3    male  28.0      0      0   8.4583          3.0      1\n",
       "6         0       1    male  54.0      0      0  51.8625          1.0      1\n",
       "7         0       3    male   2.0      3      1  21.0750          1.0      0\n",
       "8         1       3  female  27.0      0      2  11.1333          1.0      0\n",
       "9         1       2  female  14.0      1      0  30.0708          2.0      0"
      ]
     },
     "execution_count": 5,
     "metadata": {},
     "output_type": "execute_result"
    }
   ],
   "source": [
    "titanic.age[titanic.age.isnull()] = 28\n",
    "titanic.head(10)"
   ]
  },
  {
   "cell_type": "code",
   "execution_count": 6,
   "id": "8ac75103",
   "metadata": {},
   "outputs": [],
   "source": [
    "#titanic[titanic.age == 'NaN'] = 28"
   ]
  },
  {
   "cell_type": "code",
   "execution_count": 7,
   "id": "fe907257",
   "metadata": {
    "scrolled": true
   },
   "outputs": [
    {
     "name": "stdout",
     "output_type": "stream",
     "text": [
      "<class 'pandas.core.frame.DataFrame'>\n",
      "RangeIndex: 891 entries, 0 to 890\n",
      "Data columns (total 9 columns):\n",
      " #   Column       Non-Null Count  Dtype  \n",
      "---  ------       --------------  -----  \n",
      " 0   survived     891 non-null    int64  \n",
      " 1   pclass       891 non-null    int64  \n",
      " 2   isMale       891 non-null    object \n",
      " 3   age          891 non-null    float64\n",
      " 4   sibsp        891 non-null    int64  \n",
      " 5   parch        891 non-null    int64  \n",
      " 6   fare         891 non-null    float64\n",
      " 7   embark_town  889 non-null    float64\n",
      " 8   alone        891 non-null    int64  \n",
      "dtypes: float64(3), int64(5), object(1)\n",
      "memory usage: 62.8+ KB\n"
     ]
    }
   ],
   "source": [
    "titanic.info()"
   ]
  },
  {
   "cell_type": "code",
   "execution_count": 8,
   "id": "a0798caa",
   "metadata": {},
   "outputs": [
    {
     "data": {
      "text/plain": [
       "1.0    644\n",
       "2.0    168\n",
       "3.0     77\n",
       "Name: embark_town, dtype: int64"
      ]
     },
     "execution_count": 8,
     "metadata": {},
     "output_type": "execute_result"
    }
   ],
   "source": [
    "titanic.embark_town.value_counts()"
   ]
  },
  {
   "cell_type": "code",
   "execution_count": 9,
   "id": "c9b78f9c",
   "metadata": {},
   "outputs": [],
   "source": [
    "titanic.embark_town[titanic.embark_town.isnull()] = 1.0"
   ]
  },
  {
   "cell_type": "code",
   "execution_count": 10,
   "id": "db72109e",
   "metadata": {
    "scrolled": true
   },
   "outputs": [
    {
     "data": {
      "text/html": [
       "<div>\n",
       "<style scoped>\n",
       "    .dataframe tbody tr th:only-of-type {\n",
       "        vertical-align: middle;\n",
       "    }\n",
       "\n",
       "    .dataframe tbody tr th {\n",
       "        vertical-align: top;\n",
       "    }\n",
       "\n",
       "    .dataframe thead th {\n",
       "        text-align: right;\n",
       "    }\n",
       "</style>\n",
       "<table border=\"1\" class=\"dataframe\">\n",
       "  <thead>\n",
       "    <tr style=\"text-align: right;\">\n",
       "      <th></th>\n",
       "      <th>survived</th>\n",
       "      <th>pclass</th>\n",
       "      <th>isMale</th>\n",
       "      <th>age</th>\n",
       "      <th>sibsp</th>\n",
       "      <th>parch</th>\n",
       "      <th>fare</th>\n",
       "      <th>embark_town</th>\n",
       "      <th>alone</th>\n",
       "    </tr>\n",
       "  </thead>\n",
       "  <tbody>\n",
       "    <tr>\n",
       "      <th>0</th>\n",
       "      <td>0</td>\n",
       "      <td>3</td>\n",
       "      <td>1</td>\n",
       "      <td>22.0</td>\n",
       "      <td>1</td>\n",
       "      <td>0</td>\n",
       "      <td>7.2500</td>\n",
       "      <td>1.0</td>\n",
       "      <td>0</td>\n",
       "    </tr>\n",
       "    <tr>\n",
       "      <th>1</th>\n",
       "      <td>1</td>\n",
       "      <td>1</td>\n",
       "      <td>0</td>\n",
       "      <td>38.0</td>\n",
       "      <td>1</td>\n",
       "      <td>0</td>\n",
       "      <td>71.2833</td>\n",
       "      <td>2.0</td>\n",
       "      <td>0</td>\n",
       "    </tr>\n",
       "    <tr>\n",
       "      <th>2</th>\n",
       "      <td>1</td>\n",
       "      <td>3</td>\n",
       "      <td>0</td>\n",
       "      <td>26.0</td>\n",
       "      <td>0</td>\n",
       "      <td>0</td>\n",
       "      <td>7.9250</td>\n",
       "      <td>1.0</td>\n",
       "      <td>1</td>\n",
       "    </tr>\n",
       "    <tr>\n",
       "      <th>3</th>\n",
       "      <td>1</td>\n",
       "      <td>1</td>\n",
       "      <td>0</td>\n",
       "      <td>35.0</td>\n",
       "      <td>1</td>\n",
       "      <td>0</td>\n",
       "      <td>53.1000</td>\n",
       "      <td>1.0</td>\n",
       "      <td>0</td>\n",
       "    </tr>\n",
       "    <tr>\n",
       "      <th>4</th>\n",
       "      <td>0</td>\n",
       "      <td>3</td>\n",
       "      <td>1</td>\n",
       "      <td>35.0</td>\n",
       "      <td>0</td>\n",
       "      <td>0</td>\n",
       "      <td>8.0500</td>\n",
       "      <td>1.0</td>\n",
       "      <td>1</td>\n",
       "    </tr>\n",
       "    <tr>\n",
       "      <th>5</th>\n",
       "      <td>0</td>\n",
       "      <td>3</td>\n",
       "      <td>1</td>\n",
       "      <td>28.0</td>\n",
       "      <td>0</td>\n",
       "      <td>0</td>\n",
       "      <td>8.4583</td>\n",
       "      <td>3.0</td>\n",
       "      <td>1</td>\n",
       "    </tr>\n",
       "    <tr>\n",
       "      <th>6</th>\n",
       "      <td>0</td>\n",
       "      <td>1</td>\n",
       "      <td>1</td>\n",
       "      <td>54.0</td>\n",
       "      <td>0</td>\n",
       "      <td>0</td>\n",
       "      <td>51.8625</td>\n",
       "      <td>1.0</td>\n",
       "      <td>1</td>\n",
       "    </tr>\n",
       "    <tr>\n",
       "      <th>7</th>\n",
       "      <td>0</td>\n",
       "      <td>3</td>\n",
       "      <td>1</td>\n",
       "      <td>2.0</td>\n",
       "      <td>3</td>\n",
       "      <td>1</td>\n",
       "      <td>21.0750</td>\n",
       "      <td>1.0</td>\n",
       "      <td>0</td>\n",
       "    </tr>\n",
       "    <tr>\n",
       "      <th>8</th>\n",
       "      <td>1</td>\n",
       "      <td>3</td>\n",
       "      <td>0</td>\n",
       "      <td>27.0</td>\n",
       "      <td>0</td>\n",
       "      <td>2</td>\n",
       "      <td>11.1333</td>\n",
       "      <td>1.0</td>\n",
       "      <td>0</td>\n",
       "    </tr>\n",
       "    <tr>\n",
       "      <th>9</th>\n",
       "      <td>1</td>\n",
       "      <td>2</td>\n",
       "      <td>0</td>\n",
       "      <td>14.0</td>\n",
       "      <td>1</td>\n",
       "      <td>0</td>\n",
       "      <td>30.0708</td>\n",
       "      <td>2.0</td>\n",
       "      <td>0</td>\n",
       "    </tr>\n",
       "  </tbody>\n",
       "</table>\n",
       "</div>"
      ],
      "text/plain": [
       "   survived  pclass isMale   age  sibsp  parch     fare  embark_town  alone\n",
       "0         0       3      1  22.0      1      0   7.2500          1.0      0\n",
       "1         1       1      0  38.0      1      0  71.2833          2.0      0\n",
       "2         1       3      0  26.0      0      0   7.9250          1.0      1\n",
       "3         1       1      0  35.0      1      0  53.1000          1.0      0\n",
       "4         0       3      1  35.0      0      0   8.0500          1.0      1\n",
       "5         0       3      1  28.0      0      0   8.4583          3.0      1\n",
       "6         0       1      1  54.0      0      0  51.8625          1.0      1\n",
       "7         0       3      1   2.0      3      1  21.0750          1.0      0\n",
       "8         1       3      0  27.0      0      2  11.1333          1.0      0\n",
       "9         1       2      0  14.0      1      0  30.0708          2.0      0"
      ]
     },
     "execution_count": 10,
     "metadata": {},
     "output_type": "execute_result"
    }
   ],
   "source": [
    "titanic.isMale[titanic.isMale == 'male'] = 1\n",
    "titanic.isMale[titanic.isMale == 'female'] = 0\n",
    "titanic.head(10)"
   ]
  },
  {
   "cell_type": "code",
   "execution_count": 11,
   "id": "18e58ef6",
   "metadata": {},
   "outputs": [
    {
     "name": "stdout",
     "output_type": "stream",
     "text": [
      "<class 'pandas.core.frame.DataFrame'>\n",
      "RangeIndex: 891 entries, 0 to 890\n",
      "Data columns (total 9 columns):\n",
      " #   Column       Non-Null Count  Dtype  \n",
      "---  ------       --------------  -----  \n",
      " 0   survived     891 non-null    int64  \n",
      " 1   pclass       891 non-null    int64  \n",
      " 2   isMale       891 non-null    object \n",
      " 3   age          891 non-null    float64\n",
      " 4   sibsp        891 non-null    int64  \n",
      " 5   parch        891 non-null    int64  \n",
      " 6   fare         891 non-null    float64\n",
      " 7   embark_town  891 non-null    float64\n",
      " 8   alone        891 non-null    int64  \n",
      "dtypes: float64(3), int64(5), object(1)\n",
      "memory usage: 62.8+ KB\n"
     ]
    }
   ],
   "source": [
    "titanic.info()"
   ]
  },
  {
   "cell_type": "code",
   "execution_count": 12,
   "id": "a3331b8d",
   "metadata": {},
   "outputs": [
    {
     "data": {
      "text/plain": [
       "((534, 9), (178, 9), (179, 9))"
      ]
     },
     "execution_count": 12,
     "metadata": {},
     "output_type": "execute_result"
    }
   ],
   "source": [
    "t_train, t_validate, t_test = acquire.split(titanic)\n",
    "t_train.shape, t_validate.shape, t_test.shape"
   ]
  },
  {
   "cell_type": "code",
   "execution_count": 13,
   "id": "b1831e43",
   "metadata": {
    "scrolled": true
   },
   "outputs": [
    {
     "data": {
      "text/plain": [
       "0.40074906367041196"
      ]
     },
     "execution_count": 13,
     "metadata": {},
     "output_type": "execute_result"
    }
   ],
   "source": [
    "(t_train.survived == 1).mean()"
   ]
  },
  {
   "cell_type": "markdown",
   "id": "0f643b0c",
   "metadata": {},
   "source": [
    "## What is your baseline prediction?  What is your baseline accuracy? "
   ]
  },
  {
   "cell_type": "code",
   "execution_count": 14,
   "id": "f970eb49",
   "metadata": {},
   "outputs": [],
   "source": [
    "t_train['baseline'] = 0"
   ]
  },
  {
   "cell_type": "code",
   "execution_count": 15,
   "id": "951d7f51",
   "metadata": {
    "scrolled": true
   },
   "outputs": [
    {
     "data": {
      "text/plain": [
       "0    534\n",
       "Name: baseline, dtype: int64"
      ]
     },
     "execution_count": 15,
     "metadata": {},
     "output_type": "execute_result"
    }
   ],
   "source": [
    "t_train.baseline.value_counts()"
   ]
  },
  {
   "cell_type": "code",
   "execution_count": 16,
   "id": "f3578394",
   "metadata": {
    "scrolled": true
   },
   "outputs": [
    {
     "data": {
      "text/html": [
       "<div>\n",
       "<style scoped>\n",
       "    .dataframe tbody tr th:only-of-type {\n",
       "        vertical-align: middle;\n",
       "    }\n",
       "\n",
       "    .dataframe tbody tr th {\n",
       "        vertical-align: top;\n",
       "    }\n",
       "\n",
       "    .dataframe thead th {\n",
       "        text-align: right;\n",
       "    }\n",
       "</style>\n",
       "<table border=\"1\" class=\"dataframe\">\n",
       "  <thead>\n",
       "    <tr style=\"text-align: right;\">\n",
       "      <th></th>\n",
       "      <th>survived</th>\n",
       "      <th>pclass</th>\n",
       "      <th>isMale</th>\n",
       "      <th>age</th>\n",
       "      <th>sibsp</th>\n",
       "      <th>parch</th>\n",
       "      <th>fare</th>\n",
       "      <th>embark_town</th>\n",
       "      <th>alone</th>\n",
       "      <th>baseline</th>\n",
       "    </tr>\n",
       "  </thead>\n",
       "  <tbody>\n",
       "    <tr>\n",
       "      <th>304</th>\n",
       "      <td>0</td>\n",
       "      <td>3</td>\n",
       "      <td>1</td>\n",
       "      <td>28.0</td>\n",
       "      <td>0</td>\n",
       "      <td>0</td>\n",
       "      <td>8.0500</td>\n",
       "      <td>1.0</td>\n",
       "      <td>1</td>\n",
       "      <td>0</td>\n",
       "    </tr>\n",
       "    <tr>\n",
       "      <th>718</th>\n",
       "      <td>0</td>\n",
       "      <td>3</td>\n",
       "      <td>1</td>\n",
       "      <td>28.0</td>\n",
       "      <td>0</td>\n",
       "      <td>0</td>\n",
       "      <td>15.5000</td>\n",
       "      <td>3.0</td>\n",
       "      <td>1</td>\n",
       "      <td>0</td>\n",
       "    </tr>\n",
       "    <tr>\n",
       "      <th>102</th>\n",
       "      <td>0</td>\n",
       "      <td>1</td>\n",
       "      <td>1</td>\n",
       "      <td>21.0</td>\n",
       "      <td>0</td>\n",
       "      <td>1</td>\n",
       "      <td>77.2875</td>\n",
       "      <td>1.0</td>\n",
       "      <td>0</td>\n",
       "      <td>0</td>\n",
       "    </tr>\n",
       "    <tr>\n",
       "      <th>737</th>\n",
       "      <td>1</td>\n",
       "      <td>1</td>\n",
       "      <td>1</td>\n",
       "      <td>35.0</td>\n",
       "      <td>0</td>\n",
       "      <td>0</td>\n",
       "      <td>512.3292</td>\n",
       "      <td>2.0</td>\n",
       "      <td>1</td>\n",
       "      <td>0</td>\n",
       "    </tr>\n",
       "    <tr>\n",
       "      <th>269</th>\n",
       "      <td>1</td>\n",
       "      <td>1</td>\n",
       "      <td>0</td>\n",
       "      <td>35.0</td>\n",
       "      <td>0</td>\n",
       "      <td>0</td>\n",
       "      <td>135.6333</td>\n",
       "      <td>1.0</td>\n",
       "      <td>1</td>\n",
       "      <td>0</td>\n",
       "    </tr>\n",
       "  </tbody>\n",
       "</table>\n",
       "</div>"
      ],
      "text/plain": [
       "     survived  pclass isMale   age  sibsp  parch      fare  embark_town  \\\n",
       "304         0       3      1  28.0      0      0    8.0500          1.0   \n",
       "718         0       3      1  28.0      0      0   15.5000          3.0   \n",
       "102         0       1      1  21.0      0      1   77.2875          1.0   \n",
       "737         1       1      1  35.0      0      0  512.3292          2.0   \n",
       "269         1       1      0  35.0      0      0  135.6333          1.0   \n",
       "\n",
       "     alone  baseline  \n",
       "304      1         0  \n",
       "718      1         0  \n",
       "102      0         0  \n",
       "737      1         0  \n",
       "269      1         0  "
      ]
     },
     "execution_count": 16,
     "metadata": {},
     "output_type": "execute_result"
    }
   ],
   "source": [
    "#t_train = t_train.drop(columns='Unnamed: 0')\n",
    "t_train.head()"
   ]
  },
  {
   "cell_type": "code",
   "execution_count": 17,
   "id": "dd587128",
   "metadata": {},
   "outputs": [
    {
     "name": "stdout",
     "output_type": "stream",
     "text": [
      "The Baseline accuracy is: 0.599250936329588, This is for non-survival\n"
     ]
    }
   ],
   "source": [
    "print(f'The Baseline accuracy is: {metrics.accuracy_score(t_train.survived, t_train.baseline)}, This is for non-survival')"
   ]
  },
  {
   "cell_type": "code",
   "execution_count": null,
   "id": "7d819209",
   "metadata": {},
   "outputs": [],
   "source": []
  },
  {
   "cell_type": "markdown",
   "id": "47eca15e",
   "metadata": {},
   "source": [
    "### 2. Fit the decision tree classifier to your training sample and transform (i.e. make predictions on the training sample)"
   ]
  },
  {
   "cell_type": "code",
   "execution_count": 18,
   "id": "575d7853",
   "metadata": {},
   "outputs": [
    {
     "data": {
      "text/html": [
       "<div>\n",
       "<style scoped>\n",
       "    .dataframe tbody tr th:only-of-type {\n",
       "        vertical-align: middle;\n",
       "    }\n",
       "\n",
       "    .dataframe tbody tr th {\n",
       "        vertical-align: top;\n",
       "    }\n",
       "\n",
       "    .dataframe thead th {\n",
       "        text-align: right;\n",
       "    }\n",
       "</style>\n",
       "<table border=\"1\" class=\"dataframe\">\n",
       "  <thead>\n",
       "    <tr style=\"text-align: right;\">\n",
       "      <th></th>\n",
       "      <th>survived</th>\n",
       "      <th>pclass</th>\n",
       "      <th>isMale</th>\n",
       "      <th>age</th>\n",
       "      <th>sibsp</th>\n",
       "      <th>parch</th>\n",
       "      <th>fare</th>\n",
       "      <th>embark_town</th>\n",
       "      <th>alone</th>\n",
       "      <th>baseline</th>\n",
       "    </tr>\n",
       "  </thead>\n",
       "  <tbody>\n",
       "    <tr>\n",
       "      <th>304</th>\n",
       "      <td>0</td>\n",
       "      <td>3</td>\n",
       "      <td>1</td>\n",
       "      <td>28.0</td>\n",
       "      <td>0</td>\n",
       "      <td>0</td>\n",
       "      <td>8.0500</td>\n",
       "      <td>1.0</td>\n",
       "      <td>1</td>\n",
       "      <td>0</td>\n",
       "    </tr>\n",
       "    <tr>\n",
       "      <th>718</th>\n",
       "      <td>0</td>\n",
       "      <td>3</td>\n",
       "      <td>1</td>\n",
       "      <td>28.0</td>\n",
       "      <td>0</td>\n",
       "      <td>0</td>\n",
       "      <td>15.5000</td>\n",
       "      <td>3.0</td>\n",
       "      <td>1</td>\n",
       "      <td>0</td>\n",
       "    </tr>\n",
       "    <tr>\n",
       "      <th>102</th>\n",
       "      <td>0</td>\n",
       "      <td>1</td>\n",
       "      <td>1</td>\n",
       "      <td>21.0</td>\n",
       "      <td>0</td>\n",
       "      <td>1</td>\n",
       "      <td>77.2875</td>\n",
       "      <td>1.0</td>\n",
       "      <td>0</td>\n",
       "      <td>0</td>\n",
       "    </tr>\n",
       "    <tr>\n",
       "      <th>737</th>\n",
       "      <td>1</td>\n",
       "      <td>1</td>\n",
       "      <td>1</td>\n",
       "      <td>35.0</td>\n",
       "      <td>0</td>\n",
       "      <td>0</td>\n",
       "      <td>512.3292</td>\n",
       "      <td>2.0</td>\n",
       "      <td>1</td>\n",
       "      <td>0</td>\n",
       "    </tr>\n",
       "    <tr>\n",
       "      <th>269</th>\n",
       "      <td>1</td>\n",
       "      <td>1</td>\n",
       "      <td>0</td>\n",
       "      <td>35.0</td>\n",
       "      <td>0</td>\n",
       "      <td>0</td>\n",
       "      <td>135.6333</td>\n",
       "      <td>1.0</td>\n",
       "      <td>1</td>\n",
       "      <td>0</td>\n",
       "    </tr>\n",
       "  </tbody>\n",
       "</table>\n",
       "</div>"
      ],
      "text/plain": [
       "     survived  pclass isMale   age  sibsp  parch      fare  embark_town  \\\n",
       "304         0       3      1  28.0      0      0    8.0500          1.0   \n",
       "718         0       3      1  28.0      0      0   15.5000          3.0   \n",
       "102         0       1      1  21.0      0      1   77.2875          1.0   \n",
       "737         1       1      1  35.0      0      0  512.3292          2.0   \n",
       "269         1       1      0  35.0      0      0  135.6333          1.0   \n",
       "\n",
       "     alone  baseline  \n",
       "304      1         0  \n",
       "718      1         0  \n",
       "102      0         0  \n",
       "737      1         0  \n",
       "269      1         0  "
      ]
     },
     "execution_count": 18,
     "metadata": {},
     "output_type": "execute_result"
    }
   ],
   "source": [
    "#t_train.sex[t_train.sex == 'male'] = 1\n",
    "#t_train.sex[t_train.sex == 'female'] = 0\n",
    "#t_train[t_train.sex == 'female'] = 0\n",
    "#t_train.rename(columns={'sex': 'isMale'})\n",
    "t_train.head()"
   ]
  },
  {
   "cell_type": "code",
   "execution_count": 19,
   "id": "c78afc8f",
   "metadata": {},
   "outputs": [],
   "source": [
    "#t_train = t_train.rename(columns={'sex': 'isMale'})"
   ]
  },
  {
   "cell_type": "code",
   "execution_count": 20,
   "id": "536a42af",
   "metadata": {
    "scrolled": true
   },
   "outputs": [
    {
     "data": {
      "text/html": [
       "<div>\n",
       "<style scoped>\n",
       "    .dataframe tbody tr th:only-of-type {\n",
       "        vertical-align: middle;\n",
       "    }\n",
       "\n",
       "    .dataframe tbody tr th {\n",
       "        vertical-align: top;\n",
       "    }\n",
       "\n",
       "    .dataframe thead th {\n",
       "        text-align: right;\n",
       "    }\n",
       "</style>\n",
       "<table border=\"1\" class=\"dataframe\">\n",
       "  <thead>\n",
       "    <tr style=\"text-align: right;\">\n",
       "      <th></th>\n",
       "      <th>pclass</th>\n",
       "      <th>isMale</th>\n",
       "      <th>age</th>\n",
       "      <th>sibsp</th>\n",
       "      <th>parch</th>\n",
       "      <th>fare</th>\n",
       "      <th>embark_town</th>\n",
       "      <th>alone</th>\n",
       "      <th>baseline</th>\n",
       "    </tr>\n",
       "  </thead>\n",
       "  <tbody>\n",
       "    <tr>\n",
       "      <th>304</th>\n",
       "      <td>3</td>\n",
       "      <td>1</td>\n",
       "      <td>28.0</td>\n",
       "      <td>0</td>\n",
       "      <td>0</td>\n",
       "      <td>8.0500</td>\n",
       "      <td>1.0</td>\n",
       "      <td>1</td>\n",
       "      <td>0</td>\n",
       "    </tr>\n",
       "    <tr>\n",
       "      <th>718</th>\n",
       "      <td>3</td>\n",
       "      <td>1</td>\n",
       "      <td>28.0</td>\n",
       "      <td>0</td>\n",
       "      <td>0</td>\n",
       "      <td>15.5000</td>\n",
       "      <td>3.0</td>\n",
       "      <td>1</td>\n",
       "      <td>0</td>\n",
       "    </tr>\n",
       "    <tr>\n",
       "      <th>102</th>\n",
       "      <td>1</td>\n",
       "      <td>1</td>\n",
       "      <td>21.0</td>\n",
       "      <td>0</td>\n",
       "      <td>1</td>\n",
       "      <td>77.2875</td>\n",
       "      <td>1.0</td>\n",
       "      <td>0</td>\n",
       "      <td>0</td>\n",
       "    </tr>\n",
       "    <tr>\n",
       "      <th>737</th>\n",
       "      <td>1</td>\n",
       "      <td>1</td>\n",
       "      <td>35.0</td>\n",
       "      <td>0</td>\n",
       "      <td>0</td>\n",
       "      <td>512.3292</td>\n",
       "      <td>2.0</td>\n",
       "      <td>1</td>\n",
       "      <td>0</td>\n",
       "    </tr>\n",
       "    <tr>\n",
       "      <th>269</th>\n",
       "      <td>1</td>\n",
       "      <td>0</td>\n",
       "      <td>35.0</td>\n",
       "      <td>0</td>\n",
       "      <td>0</td>\n",
       "      <td>135.6333</td>\n",
       "      <td>1.0</td>\n",
       "      <td>1</td>\n",
       "      <td>0</td>\n",
       "    </tr>\n",
       "  </tbody>\n",
       "</table>\n",
       "</div>"
      ],
      "text/plain": [
       "     pclass isMale   age  sibsp  parch      fare  embark_town  alone  baseline\n",
       "304       3      1  28.0      0      0    8.0500          1.0      1         0\n",
       "718       3      1  28.0      0      0   15.5000          3.0      1         0\n",
       "102       1      1  21.0      0      1   77.2875          1.0      0         0\n",
       "737       1      1  35.0      0      0  512.3292          2.0      1         0\n",
       "269       1      0  35.0      0      0  135.6333          1.0      1         0"
      ]
     },
     "execution_count": 20,
     "metadata": {},
     "output_type": "execute_result"
    }
   ],
   "source": [
    "x_tr = t_train.drop(columns='survived')\n",
    "y_tr = t_train.survived\n",
    "\n",
    "x_val = t_validate.drop(columns='survived')\n",
    "y_val = t_validate.survived\n",
    "\n",
    "x_test = t_test.drop(columns='survived')\n",
    "y_test = t_test.survived\n",
    "\n",
    "x_tr.head()"
   ]
  },
  {
   "cell_type": "code",
   "execution_count": 21,
   "id": "5240f712",
   "metadata": {},
   "outputs": [
    {
     "name": "stdout",
     "output_type": "stream",
     "text": [
      "<class 'pandas.core.frame.DataFrame'>\n",
      "Int64Index: 534 entries, 304 to 133\n",
      "Data columns (total 9 columns):\n",
      " #   Column       Non-Null Count  Dtype  \n",
      "---  ------       --------------  -----  \n",
      " 0   pclass       534 non-null    int64  \n",
      " 1   isMale       534 non-null    object \n",
      " 2   age          534 non-null    float64\n",
      " 3   sibsp        534 non-null    int64  \n",
      " 4   parch        534 non-null    int64  \n",
      " 5   fare         534 non-null    float64\n",
      " 6   embark_town  534 non-null    float64\n",
      " 7   alone        534 non-null    int64  \n",
      " 8   baseline     534 non-null    int64  \n",
      "dtypes: float64(3), int64(5), object(1)\n",
      "memory usage: 41.7+ KB\n"
     ]
    }
   ],
   "source": [
    "x_tr.info()"
   ]
  },
  {
   "cell_type": "code",
   "execution_count": 22,
   "id": "f0d27222",
   "metadata": {},
   "outputs": [],
   "source": [
    "t_classf = DecisionTreeClassifier()\n",
    "t_classf = t_classf.fit(x_tr, y_tr)\n",
    "\n",
    "y_predict = t_classf.predict(x_tr)\n",
    "y_predict_prob = t_classf.predict_proba(x_tr)"
   ]
  },
  {
   "cell_type": "code",
   "execution_count": 23,
   "id": "f04be6fc",
   "metadata": {},
   "outputs": [
    {
     "data": {
      "text/plain": [
       "DecisionTreeClassifier()"
      ]
     },
     "execution_count": 23,
     "metadata": {},
     "output_type": "execute_result"
    }
   ],
   "source": [
    "t_classf.fit(x_tr, y_tr)"
   ]
  },
  {
   "cell_type": "markdown",
   "id": "08c0cf8d",
   "metadata": {},
   "source": [
    "### 3. Evaluate your in-sample results using the model score, confusion matrix, and classification report."
   ]
  },
  {
   "cell_type": "code",
   "execution_count": 24,
   "id": "3a449ffc",
   "metadata": {},
   "outputs": [
    {
     "name": "stdout",
     "output_type": "stream",
     "text": [
      "Model score: 0.9868913857677902\n"
     ]
    }
   ],
   "source": [
    "print(f'Model score: {t_classf.score(x_tr, y_tr)}')"
   ]
  },
  {
   "cell_type": "code",
   "execution_count": 25,
   "id": "d5f23356",
   "metadata": {},
   "outputs": [
    {
     "data": {
      "text/html": [
       "<div>\n",
       "<style scoped>\n",
       "    .dataframe tbody tr th:only-of-type {\n",
       "        vertical-align: middle;\n",
       "    }\n",
       "\n",
       "    .dataframe tbody tr th {\n",
       "        vertical-align: top;\n",
       "    }\n",
       "\n",
       "    .dataframe thead th {\n",
       "        text-align: right;\n",
       "    }\n",
       "</style>\n",
       "<table border=\"1\" class=\"dataframe\">\n",
       "  <thead>\n",
       "    <tr style=\"text-align: right;\">\n",
       "      <th></th>\n",
       "      <th>0</th>\n",
       "      <th>1</th>\n",
       "    </tr>\n",
       "  </thead>\n",
       "  <tbody>\n",
       "    <tr>\n",
       "      <th>0</th>\n",
       "      <td>319</td>\n",
       "      <td>1</td>\n",
       "    </tr>\n",
       "    <tr>\n",
       "      <th>1</th>\n",
       "      <td>6</td>\n",
       "      <td>208</td>\n",
       "    </tr>\n",
       "  </tbody>\n",
       "</table>\n",
       "</div>"
      ],
      "text/plain": [
       "     0    1\n",
       "0  319    1\n",
       "1    6  208"
      ]
     },
     "execution_count": 25,
     "metadata": {},
     "output_type": "execute_result"
    }
   ],
   "source": [
    "cm = confusion_matrix(y_tr, y_predict)\n",
    "pd.DataFrame(cm)"
   ]
  },
  {
   "cell_type": "code",
   "execution_count": 26,
   "id": "c5d7d261",
   "metadata": {},
   "outputs": [
    {
     "data": {
      "text/html": [
       "<div>\n",
       "<style scoped>\n",
       "    .dataframe tbody tr th:only-of-type {\n",
       "        vertical-align: middle;\n",
       "    }\n",
       "\n",
       "    .dataframe tbody tr th {\n",
       "        vertical-align: top;\n",
       "    }\n",
       "\n",
       "    .dataframe thead th {\n",
       "        text-align: right;\n",
       "    }\n",
       "</style>\n",
       "<table border=\"1\" class=\"dataframe\">\n",
       "  <thead>\n",
       "    <tr style=\"text-align: right;\">\n",
       "      <th></th>\n",
       "      <th>0</th>\n",
       "      <th>1</th>\n",
       "      <th>accuracy</th>\n",
       "      <th>macro avg</th>\n",
       "      <th>weighted avg</th>\n",
       "    </tr>\n",
       "  </thead>\n",
       "  <tbody>\n",
       "    <tr>\n",
       "      <th>precision</th>\n",
       "      <td>0.981538</td>\n",
       "      <td>0.995215</td>\n",
       "      <td>0.986891</td>\n",
       "      <td>0.988377</td>\n",
       "      <td>0.987019</td>\n",
       "    </tr>\n",
       "    <tr>\n",
       "      <th>recall</th>\n",
       "      <td>0.996875</td>\n",
       "      <td>0.971963</td>\n",
       "      <td>0.986891</td>\n",
       "      <td>0.984419</td>\n",
       "      <td>0.986891</td>\n",
       "    </tr>\n",
       "    <tr>\n",
       "      <th>f1-score</th>\n",
       "      <td>0.989147</td>\n",
       "      <td>0.983452</td>\n",
       "      <td>0.986891</td>\n",
       "      <td>0.986299</td>\n",
       "      <td>0.986865</td>\n",
       "    </tr>\n",
       "    <tr>\n",
       "      <th>support</th>\n",
       "      <td>320.000000</td>\n",
       "      <td>214.000000</td>\n",
       "      <td>0.986891</td>\n",
       "      <td>534.000000</td>\n",
       "      <td>534.000000</td>\n",
       "    </tr>\n",
       "  </tbody>\n",
       "</table>\n",
       "</div>"
      ],
      "text/plain": [
       "                    0           1  accuracy   macro avg  weighted avg\n",
       "precision    0.981538    0.995215  0.986891    0.988377      0.987019\n",
       "recall       0.996875    0.971963  0.986891    0.984419      0.986891\n",
       "f1-score     0.989147    0.983452  0.986891    0.986299      0.986865\n",
       "support    320.000000  214.000000  0.986891  534.000000    534.000000"
      ]
     },
     "execution_count": 26,
     "metadata": {},
     "output_type": "execute_result"
    }
   ],
   "source": [
    "pd.DataFrame(classification_report(y_tr, y_predict, output_dict=True))"
   ]
  },
  {
   "cell_type": "markdown",
   "id": "df81a967",
   "metadata": {},
   "source": [
    "### 4. Compute: Accuracy, true positive rate, false positive rate, true negative rate, false negative rate, precision, recall, f1-score, and support."
   ]
  },
  {
   "cell_type": "markdown",
   "id": "3764535d",
   "metadata": {},
   "source": [
    "##### Accuracy:"
   ]
  },
  {
   "cell_type": "code",
   "execution_count": 27,
   "id": "72e38eac",
   "metadata": {},
   "outputs": [
    {
     "data": {
      "text/plain": [
       "0.9868913857677902"
      ]
     },
     "execution_count": 27,
     "metadata": {},
     "output_type": "execute_result"
    }
   ],
   "source": [
    "accuracy_score(y_tr, y_predict)"
   ]
  },
  {
   "cell_type": "markdown",
   "id": "22de0195",
   "metadata": {},
   "source": [
    "##### TP, TN, FP, FN rates: "
   ]
  },
  {
   "cell_type": "code",
   "execution_count": 28,
   "id": "133ffbb0",
   "metadata": {},
   "outputs": [
    {
     "name": "stdout",
     "output_type": "stream",
     "text": [
      "True Positive rate:  0.5973782771535581\n",
      "False Positive rate: 0.0018726591760299626\n",
      "True Negative rate:  0.3895131086142322\n",
      "False Negative rate: 0.011235955056179775\n"
     ]
    }
   ],
   "source": [
    "TP = cm[0,0]\n",
    "TN = cm[1,1]\n",
    "FP = cm[0,1]\n",
    "FN = cm[1,0]\n",
    "print(f'True Positive rate:  {TP/(TP+TN+FP+FN)}')\n",
    "print(f'False Positive rate: {FP/(TP+TN+FP+FN)}')\n",
    "print(f'True Negative rate:  {TN/(TP+TN+FP+FN)}')\n",
    "print(f'False Negative rate: {FN/(TP+TN+FP+FN)}')"
   ]
  },
  {
   "cell_type": "markdown",
   "id": "8f71b82c",
   "metadata": {},
   "source": [
    "##### Precision, Recall, f1-score and support:"
   ]
  },
  {
   "cell_type": "code",
   "execution_count": 29,
   "id": "6a887eb4",
   "metadata": {},
   "outputs": [
    {
     "name": "stdout",
     "output_type": "stream",
     "text": [
      "Precision: 0.9952153110047847\n",
      "Recall:    0.9719626168224299\n",
      "f1:        0.9834515366430261\n",
      "Support -  0: 320\n",
      "           1: 214\n"
     ]
    }
   ],
   "source": [
    "print(f'Precision: {precision_score(y_tr, y_predict)}')\n",
    "print(f'Recall:    {recall_score(y_tr, y_predict)}')\n",
    "print(f'f1:        {f1_score(y_tr, y_predict)}')\n",
    "print(f'Support -  0: {TP+FP}')\n",
    "print(f'           1: {TN+FN}')"
   ]
  },
  {
   "cell_type": "markdown",
   "id": "7740a770",
   "metadata": {},
   "source": [
    "### 5. Run through steps 2-4 using a different max_depth value."
   ]
  },
  {
   "cell_type": "code",
   "execution_count": 30,
   "id": "c5a358b3",
   "metadata": {},
   "outputs": [],
   "source": [
    "t_classf2 = DecisionTreeClassifier(max_depth=4)\n",
    "t_classf2 = t_classf2.fit(x_tr, y_tr)\n",
    "\n",
    "y_predict2 = t_classf2.predict(x_tr)\n",
    "y_predict_prob2 = t_classf2.predict_proba(x_tr)"
   ]
  },
  {
   "cell_type": "code",
   "execution_count": 36,
   "id": "d8f2a59c",
   "metadata": {},
   "outputs": [
    {
     "name": "stdout",
     "output_type": "stream",
     "text": [
      "Model score: 82.77153558052434\n"
     ]
    }
   ],
   "source": [
    "print(f'Model score: {t_classf2.score(x_tr, y_tr)*100}')"
   ]
  },
  {
   "cell_type": "code",
   "execution_count": 37,
   "id": "c341ae79",
   "metadata": {},
   "outputs": [
    {
     "data": {
      "text/html": [
       "<div>\n",
       "<style scoped>\n",
       "    .dataframe tbody tr th:only-of-type {\n",
       "        vertical-align: middle;\n",
       "    }\n",
       "\n",
       "    .dataframe tbody tr th {\n",
       "        vertical-align: top;\n",
       "    }\n",
       "\n",
       "    .dataframe thead th {\n",
       "        text-align: right;\n",
       "    }\n",
       "</style>\n",
       "<table border=\"1\" class=\"dataframe\">\n",
       "  <thead>\n",
       "    <tr style=\"text-align: right;\">\n",
       "      <th></th>\n",
       "      <th>0</th>\n",
       "      <th>1</th>\n",
       "    </tr>\n",
       "  </thead>\n",
       "  <tbody>\n",
       "    <tr>\n",
       "      <th>0</th>\n",
       "      <td>313</td>\n",
       "      <td>7</td>\n",
       "    </tr>\n",
       "    <tr>\n",
       "      <th>1</th>\n",
       "      <td>85</td>\n",
       "      <td>129</td>\n",
       "    </tr>\n",
       "  </tbody>\n",
       "</table>\n",
       "</div>"
      ],
      "text/plain": [
       "     0    1\n",
       "0  313    7\n",
       "1   85  129"
      ]
     },
     "execution_count": 37,
     "metadata": {},
     "output_type": "execute_result"
    }
   ],
   "source": [
    "cm2 = confusion_matrix(y_tr, y_predict2)\n",
    "pd.DataFrame(cm2)"
   ]
  },
  {
   "cell_type": "code",
   "execution_count": 44,
   "id": "f3d53239",
   "metadata": {},
   "outputs": [
    {
     "data": {
      "text/html": [
       "<div>\n",
       "<style scoped>\n",
       "    .dataframe tbody tr th:only-of-type {\n",
       "        vertical-align: middle;\n",
       "    }\n",
       "\n",
       "    .dataframe tbody tr th {\n",
       "        vertical-align: top;\n",
       "    }\n",
       "\n",
       "    .dataframe thead th {\n",
       "        text-align: right;\n",
       "    }\n",
       "</style>\n",
       "<table border=\"1\" class=\"dataframe\">\n",
       "  <thead>\n",
       "    <tr style=\"text-align: right;\">\n",
       "      <th></th>\n",
       "      <th>0</th>\n",
       "      <th>1</th>\n",
       "      <th>accuracy</th>\n",
       "      <th>macro avg</th>\n",
       "      <th>weighted avg</th>\n",
       "    </tr>\n",
       "  </thead>\n",
       "  <tbody>\n",
       "    <tr>\n",
       "      <th>precision</th>\n",
       "      <td>0.786432</td>\n",
       "      <td>0.948529</td>\n",
       "      <td>0.827715</td>\n",
       "      <td>0.867481</td>\n",
       "      <td>0.851392</td>\n",
       "    </tr>\n",
       "    <tr>\n",
       "      <th>recall</th>\n",
       "      <td>0.978125</td>\n",
       "      <td>0.602804</td>\n",
       "      <td>0.827715</td>\n",
       "      <td>0.790464</td>\n",
       "      <td>0.827715</td>\n",
       "    </tr>\n",
       "    <tr>\n",
       "      <th>f1-score</th>\n",
       "      <td>0.871866</td>\n",
       "      <td>0.737143</td>\n",
       "      <td>0.827715</td>\n",
       "      <td>0.804505</td>\n",
       "      <td>0.817876</td>\n",
       "    </tr>\n",
       "    <tr>\n",
       "      <th>support</th>\n",
       "      <td>320.000000</td>\n",
       "      <td>214.000000</td>\n",
       "      <td>0.827715</td>\n",
       "      <td>534.000000</td>\n",
       "      <td>534.000000</td>\n",
       "    </tr>\n",
       "  </tbody>\n",
       "</table>\n",
       "</div>"
      ],
      "text/plain": [
       "                    0           1  accuracy   macro avg  weighted avg\n",
       "precision    0.786432    0.948529  0.827715    0.867481      0.851392\n",
       "recall       0.978125    0.602804  0.827715    0.790464      0.827715\n",
       "f1-score     0.871866    0.737143  0.827715    0.804505      0.817876\n",
       "support    320.000000  214.000000  0.827715  534.000000    534.000000"
      ]
     },
     "execution_count": 44,
     "metadata": {},
     "output_type": "execute_result"
    }
   ],
   "source": [
    "pd.DataFrame(classification_report(y_tr, y_predict2, output_dict=True))"
   ]
  },
  {
   "cell_type": "code",
   "execution_count": 45,
   "id": "ad8c4345",
   "metadata": {},
   "outputs": [
    {
     "name": "stdout",
     "output_type": "stream",
     "text": [
      "Accuracy: 0.8277153558052435\n"
     ]
    }
   ],
   "source": [
    "print(f'Accuracy: {accuracy_score(y_tr, y_predict2)}')"
   ]
  },
  {
   "cell_type": "code",
   "execution_count": 46,
   "id": "0cc2f30f",
   "metadata": {},
   "outputs": [
    {
     "name": "stdout",
     "output_type": "stream",
     "text": [
      "TP, TN, FP, FN rates:\n",
      "True Positive rate:  0.5861423220973783\n",
      "False Positive rate: 0.013108614232209739\n",
      "True Negative rate:  0.24157303370786518\n",
      "False Negative rate: 0.15917602996254682\n"
     ]
    }
   ],
   "source": [
    "TP2 = cm2[0,0]\n",
    "TN2 = cm2[1,1]\n",
    "FP2 = cm2[0,1]\n",
    "FN2 = cm2[1,0]\n",
    "print('TP, TN, FP, FN rates:')\n",
    "print(f'True Positive rate:  {TP2/(TP2+TN2+FP2+FN2)}')\n",
    "print(f'False Positive rate: {FP2/(TP2+TN2+FP2+FN2)}')\n",
    "print(f'True Negative rate:  {TN2/(TP2+TN2+FP2+FN2)}')\n",
    "print(f'False Negative rate: {FN2/(TP2+TN2+FP2+FN2)}')"
   ]
  },
  {
   "cell_type": "code",
   "execution_count": 47,
   "id": "3edb47b7",
   "metadata": {},
   "outputs": [
    {
     "name": "stdout",
     "output_type": "stream",
     "text": [
      "Precision: 0.9485294117647058\n",
      "Recall:    0.602803738317757\n",
      "f1:        0.7371428571428571\n",
      "Support -  0: 320\n",
      "           1: 214\n"
     ]
    }
   ],
   "source": [
    "print(f'Precision: {precision_score(y_tr, y_predict2)}')\n",
    "print(f'Recall:    {recall_score(y_tr, y_predict2)}')\n",
    "print(f'f1:        {f1_score(y_tr, y_predict2)}')\n",
    "print(f'Support -  0: {TP2+FP2}')\n",
    "print(f'           1: {TN2+FN2}')"
   ]
  },
  {
   "cell_type": "code",
   "execution_count": 48,
   "id": "3df70a56",
   "metadata": {},
   "outputs": [
    {
     "name": "stdout",
     "output_type": "stream",
     "text": [
      "Precision: 0.9952153110047847\n",
      "Recall:    0.9719626168224299\n",
      "f1:        0.9834515366430261\n",
      "Support -  0: 320\n",
      "           1: 214\n"
     ]
    }
   ],
   "source": [
    "print(f'Precision: {precision_score(y_tr, y_predict)}')\n",
    "print(f'Recall:    {recall_score(y_tr, y_predict)}')\n",
    "print(f'f1:        {f1_score(y_tr, y_predict)}')\n",
    "print(f'Support -  0: {TP+FP}')\n",
    "print(f'           1: {TN+FN}')"
   ]
  },
  {
   "cell_type": "markdown",
   "id": "1295c713",
   "metadata": {},
   "source": [
    "### 6. Which model performs better on your in-sample data?"
   ]
  },
  {
   "cell_type": "markdown",
   "id": "e5144c74",
   "metadata": {},
   "source": [
    "Model -"
   ]
  },
  {
   "cell_type": "markdown",
   "id": "6f5f5d1a",
   "metadata": {},
   "source": [
    "### 7. Which model performs best on your out-of-sample data, the validate set?"
   ]
  },
  {
   "cell_type": "code",
   "execution_count": null,
   "id": "1fdda672",
   "metadata": {},
   "outputs": [],
   "source": [
    "y_predict = t_classf.predict(x_val)\n",
    "y_predict2 = t_classf2.predict(x_val)\n",
    "\n",
    "print(classification_report(y_val, y_predict))\n",
    "\n",
    "print(classification_report(y_val, y_predict2))"
   ]
  },
  {
   "cell_type": "markdown",
   "id": "30fcdb2e",
   "metadata": {},
   "source": [
    "### 1. Work through these same exercises using the Telco dataset."
   ]
  },
  {
   "cell_type": "code",
   "execution_count": null,
   "id": "ed6ab70e",
   "metadata": {},
   "outputs": [],
   "source": [
    "telco = acquire.grab_telco_data()"
   ]
  },
  {
   "cell_type": "code",
   "execution_count": null,
   "id": "ca719017",
   "metadata": {},
   "outputs": [],
   "source": [
    "telco = acquire.prep_telco(telco)\n",
    "telco.head()"
   ]
  },
  {
   "cell_type": "code",
   "execution_count": null,
   "id": "dbe1dcb3",
   "metadata": {},
   "outputs": [],
   "source": [
    "tel_train, tel_validate, tel_test = acquire.split(telco)\n",
    "tel_train.shape, tel_validate.shape, tel_test.shape"
   ]
  },
  {
   "cell_type": "markdown",
   "id": "d9f26358",
   "metadata": {},
   "source": [
    "### 2. Experiment with this model on other datasets with a higher number of output classes."
   ]
  },
  {
   "cell_type": "markdown",
   "id": "049409da",
   "metadata": {},
   "source": [
    "### Iris:"
   ]
  },
  {
   "cell_type": "code",
   "execution_count": null,
   "id": "e93865fb",
   "metadata": {},
   "outputs": [],
   "source": [
    "iris = acquire.grab_iris_data()\n",
    "iris.head()"
   ]
  },
  {
   "cell_type": "code",
   "execution_count": null,
   "id": "ff5b5f61",
   "metadata": {},
   "outputs": [],
   "source": [
    "iris = acquire.prep_iris(iris)\n",
    "iris.head()"
   ]
  },
  {
   "cell_type": "code",
   "execution_count": null,
   "id": "8253338b",
   "metadata": {},
   "outputs": [],
   "source": [
    "iris.drop(columns={'species_id', 'Unnamed: 0'})"
   ]
  },
  {
   "cell_type": "code",
   "execution_count": null,
   "id": "93b1fc0f",
   "metadata": {},
   "outputs": [],
   "source": [
    "i_train, i_validate, i_test = acquire.split(iris)\n",
    "i_train.shape, i_validate.shape, i_test.shape"
   ]
  },
  {
   "cell_type": "code",
   "execution_count": null,
   "id": "62f40bb2",
   "metadata": {},
   "outputs": [],
   "source": [
    "# find the baseline and the baseline accuracy\n",
    "baseline = i_train.species.value_counts().idxmax()\n",
    "print('The most common value (our baseline) is:', baseline)\n",
    "print('The rate of occurance (our baseline accuracy) is:', len(i_train[i_train.species == baseline]) / len(i_train) * 100)"
   ]
  },
  {
   "cell_type": "code",
   "execution_count": null,
   "id": "4dc9a99c",
   "metadata": {},
   "outputs": [],
   "source": [
    "# split each of our datasets into X and y \n",
    "x_train = i_train.drop(columns=('species'))\n",
    "y_train = i_train.species\n",
    "\n",
    "x_validate = i_validate.drop(columns=('species'))\n",
    "y_validate = i_validate.species\n",
    "\n",
    "x_test = i_test.drop(columns='species')\n",
    "y_test = i_test.species"
   ]
  },
  {
   "cell_type": "code",
   "execution_count": null,
   "id": "1e85026c",
   "metadata": {},
   "outputs": [],
   "source": [
    "# create and fit the models\n",
    "clf1 = DecisionTreeClassifier(max_depth=8)\n",
    "clf2 = DecisionTreeClassifier(max_depth=4)\n",
    "\n",
    "clf1 = clf1.fit(X_train, y_train)\n",
    "clf2 = clf2.fit(X_train, y_train)\n",
    "\n",
    "y_pred1 = clf1.predict(X_train)\n",
    "y_pred2 = clf2.predict(X_train)\n",
    "\n",
    "y_pred_prob1 = clf1.predict_proba(X_train)\n",
    "y_pred_prob2 = clf2.predict_proba(X_train)"
   ]
  },
  {
   "cell_type": "code",
   "execution_count": null,
   "id": "82afab96",
   "metadata": {},
   "outputs": [],
   "source": [
    "# model score\n",
    "print(f'Model 1 training score: {clf1.score(X_train, y_train):.2%}')\n",
    "print(f'Model 2 training score: {clf2.score(X_train, y_train):.2%}')"
   ]
  },
  {
   "cell_type": "code",
   "execution_count": null,
   "id": "31c4da7d",
   "metadata": {},
   "outputs": [],
   "source": [
    "# confusion matrix\n",
    "cm1 = confusion_matrix(y_train, y_pred1)\n",
    "cm2 = confusion_matrix(y_train, y_pred2)\n",
    "print('----Model 1----')\n",
    "print(pd.DataFrame(cm1))\n",
    "print('')\n",
    "print('----Model 2----')\n",
    "print(pd.DataFrame(cm2))"
   ]
  },
  {
   "cell_type": "code",
   "execution_count": null,
   "id": "3325df4f",
   "metadata": {},
   "outputs": [],
   "source": [
    "# classification report\n",
    "print(classification_report(y_train, y_pred1))\n",
    "print(classification_report(y_train, y_pred2))"
   ]
  },
  {
   "cell_type": "markdown",
   "id": "031c6a07",
   "metadata": {},
   "source": [
    "## ...and comparing with validation data"
   ]
  },
  {
   "cell_type": "code",
   "execution_count": null,
   "id": "8173100c",
   "metadata": {},
   "outputs": [],
   "source": [
    "# classification report\n",
    "y_predict1 = clf1.predict(X_validate)\n",
    "y_predict2 = clf2.predict(X_validate)\n",
    "\n",
    "print(classification_report(y_val, y_predict1))\n",
    "\n",
    "print(classification_report(y_val, y_predict2))"
   ]
  },
  {
   "cell_type": "markdown",
   "id": "34a5aca2",
   "metadata": {},
   "source": [
    "# Experiment with this model on other datasets with a higher number of output classes.\n"
   ]
  },
  {
   "cell_type": "code",
   "execution_count": null,
   "id": "94092d03",
   "metadata": {},
   "outputs": [],
   "source": []
  },
  {
   "cell_type": "markdown",
   "id": "f48ace04",
   "metadata": {},
   "source": [
    "# Random Forest"
   ]
  },
  {
   "cell_type": "markdown",
   "id": "af67fc21",
   "metadata": {},
   "source": [
    "### 1. Fit the Random Forest classifier to your training sample and transform (i.e. make predictions on the training sample) setting the random_state accordingly and setting min_samples_leaf = 1 and max_depth = 10."
   ]
  },
  {
   "cell_type": "code",
   "execution_count": null,
   "id": "d1a6c235",
   "metadata": {},
   "outputs": [],
   "source": [
    "titanic2 = acquire.grab_titanic_data()"
   ]
  },
  {
   "cell_type": "code",
   "execution_count": null,
   "id": "b88d293e",
   "metadata": {
    "scrolled": true
   },
   "outputs": [],
   "source": [
    "titanic2 = acquire.prep_titanic(titanic2)\n",
    "titanic2.head()"
   ]
  },
  {
   "cell_type": "code",
   "execution_count": null,
   "id": "5f215e75",
   "metadata": {
    "scrolled": true
   },
   "outputs": [],
   "source": [
    "titanic2.rename(columns={'sex': 'isMale'}, inplace=True)\n",
    "titanic2.head(3)"
   ]
  },
  {
   "cell_type": "code",
   "execution_count": null,
   "id": "d63706c5",
   "metadata": {},
   "outputs": [],
   "source": [
    "#type(titanic2)"
   ]
  },
  {
   "cell_type": "code",
   "execution_count": null,
   "id": "f5295dd6",
   "metadata": {
    "scrolled": false
   },
   "outputs": [],
   "source": [
    "titanic2.isMale[titanic2.isMale == 'male'] = 1\n",
    "titanic2.isMale[titanic2.isMale == 'female'] = 0\n",
    "titanic2.head(3)"
   ]
  },
  {
   "cell_type": "code",
   "execution_count": null,
   "id": "44b99c86",
   "metadata": {},
   "outputs": [],
   "source": [
    "titanic2.age[titanic2.age.isnull()] = 28\n",
    "titanic2.embark_town[titanic2.embark_town.isnull()] = 1.0"
   ]
  },
  {
   "cell_type": "code",
   "execution_count": null,
   "id": "7229dbe8",
   "metadata": {},
   "outputs": [],
   "source": [
    "titanic2.info()"
   ]
  },
  {
   "cell_type": "code",
   "execution_count": null,
   "id": "daff43a5",
   "metadata": {},
   "outputs": [],
   "source": [
    "my_forest = RandomForestClassfifier(max_depth=10, random_state=248)"
   ]
  },
  {
   "cell_type": "code",
   "execution_count": null,
   "id": "06ac58f9",
   "metadata": {},
   "outputs": [],
   "source": []
  },
  {
   "cell_type": "markdown",
   "id": "2c717ac8",
   "metadata": {},
   "source": [
    "### 2. Evaluate your results using the model score, confusion matrix, and classification report."
   ]
  },
  {
   "cell_type": "code",
   "execution_count": null,
   "id": "57c53b88",
   "metadata": {},
   "outputs": [],
   "source": []
  },
  {
   "cell_type": "code",
   "execution_count": null,
   "id": "4074148d",
   "metadata": {},
   "outputs": [],
   "source": []
  },
  {
   "cell_type": "markdown",
   "id": "e398c764",
   "metadata": {},
   "source": [
    "### 3. Print and clearly label the following: Accuracy, true positive rate, false positive rate, true negative rate, false negative rate, precision, recall, f1-score, and support."
   ]
  },
  {
   "cell_type": "code",
   "execution_count": null,
   "id": "0acabf14",
   "metadata": {},
   "outputs": [],
   "source": []
  },
  {
   "cell_type": "code",
   "execution_count": null,
   "id": "a589d04c",
   "metadata": {},
   "outputs": [],
   "source": []
  },
  {
   "cell_type": "markdown",
   "id": "f5518451",
   "metadata": {},
   "source": [
    "### 4. Run through steps increasing your min_samples_leaf and decreasing your max_depth."
   ]
  },
  {
   "cell_type": "code",
   "execution_count": null,
   "id": "7d092eec",
   "metadata": {},
   "outputs": [],
   "source": []
  },
  {
   "cell_type": "code",
   "execution_count": null,
   "id": "a66f0046",
   "metadata": {},
   "outputs": [],
   "source": []
  },
  {
   "cell_type": "markdown",
   "id": "3f2d4b3e",
   "metadata": {},
   "source": [
    "### 5. What are the differences in the evaluation metrics? Which performs better on your in-sample data? Why?"
   ]
  },
  {
   "cell_type": "code",
   "execution_count": null,
   "id": "264980bc",
   "metadata": {},
   "outputs": [],
   "source": []
  },
  {
   "cell_type": "code",
   "execution_count": null,
   "id": "2ae1bd04",
   "metadata": {},
   "outputs": [],
   "source": []
  },
  {
   "cell_type": "markdown",
   "id": "04bfc84b",
   "metadata": {},
   "source": []
  }
 ],
 "metadata": {
  "kernelspec": {
   "display_name": "Python 3 (ipykernel)",
   "language": "python",
   "name": "python3"
  },
  "language_info": {
   "codemirror_mode": {
    "name": "ipython",
    "version": 3
   },
   "file_extension": ".py",
   "mimetype": "text/x-python",
   "name": "python",
   "nbconvert_exporter": "python",
   "pygments_lexer": "ipython3",
   "version": "3.9.12"
  }
 },
 "nbformat": 4,
 "nbformat_minor": 5
}
