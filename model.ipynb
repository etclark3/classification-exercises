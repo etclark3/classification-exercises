{
 "cells": [
  {
   "cell_type": "code",
   "execution_count": 1,
   "id": "92f20247",
   "metadata": {},
   "outputs": [],
   "source": [
    "import acquire\n",
    "import numpy as np\n",
    "import pandas as pd\n",
    "from env import username, password, host\n",
    "import os\n",
    "from sklearn import datasets\n",
    "import seaborn as sns\n",
    "import matplotlib.pyplot as plt\n",
    "import scipy.stats as stats\n",
    "from sklearn.model_selection import train_test_split\n",
    "\n",
    "import warnings\n",
    "warnings.filterwarnings(\"ignore\")\n",
    "\n",
    "from pydataset import data\n",
    "\n",
    "import sklearn.metrics as metrics\n",
    "from sklearn.metrics import classification_report, confusion_matrix, accuracy_score, recall_score\n",
    "from sklearn.metrics import precision_score, f1_score\n",
    "from sklearn.tree import DecisionTreeClassifier, plot_tree\n",
    "from sklearn.ensemble import RandomForestClassifier\n",
    "from sklearn.neighbors import KNeighborsClassifier\n",
    "from sklearn.linear_model import LogisticRegression"
   ]
  },
  {
   "cell_type": "markdown",
   "id": "0b3ea821",
   "metadata": {},
   "source": [
    "# Titanic Dataset"
   ]
  },
  {
   "cell_type": "markdown",
   "id": "c9c289ae",
   "metadata": {},
   "source": [
    "### 1. What is your baseline prediction? What is your baseline accuracy? remember: your baseline prediction for a classification problem is predicting the most prevelant class in the training dataset (the mode). When you make those predictions, what is your accuracy? This is your baseline accuracy."
   ]
  },
  {
   "cell_type": "code",
   "execution_count": 2,
   "id": "dc1c5b1c",
   "metadata": {
    "scrolled": false
   },
   "outputs": [
    {
     "data": {
      "text/html": [
       "<div>\n",
       "<style scoped>\n",
       "    .dataframe tbody tr th:only-of-type {\n",
       "        vertical-align: middle;\n",
       "    }\n",
       "\n",
       "    .dataframe tbody tr th {\n",
       "        vertical-align: top;\n",
       "    }\n",
       "\n",
       "    .dataframe thead th {\n",
       "        text-align: right;\n",
       "    }\n",
       "</style>\n",
       "<table border=\"1\" class=\"dataframe\">\n",
       "  <thead>\n",
       "    <tr style=\"text-align: right;\">\n",
       "      <th></th>\n",
       "      <th>Unnamed: 0</th>\n",
       "      <th>passenger_id</th>\n",
       "      <th>survived</th>\n",
       "      <th>pclass</th>\n",
       "      <th>sex</th>\n",
       "      <th>age</th>\n",
       "      <th>sibsp</th>\n",
       "      <th>parch</th>\n",
       "      <th>fare</th>\n",
       "      <th>embarked</th>\n",
       "      <th>class</th>\n",
       "      <th>deck</th>\n",
       "      <th>embark_town</th>\n",
       "      <th>alone</th>\n",
       "    </tr>\n",
       "  </thead>\n",
       "  <tbody>\n",
       "    <tr>\n",
       "      <th>0</th>\n",
       "      <td>0</td>\n",
       "      <td>0</td>\n",
       "      <td>0</td>\n",
       "      <td>3</td>\n",
       "      <td>male</td>\n",
       "      <td>22.0</td>\n",
       "      <td>1</td>\n",
       "      <td>0</td>\n",
       "      <td>7.2500</td>\n",
       "      <td>S</td>\n",
       "      <td>Third</td>\n",
       "      <td>NaN</td>\n",
       "      <td>Southampton</td>\n",
       "      <td>0</td>\n",
       "    </tr>\n",
       "    <tr>\n",
       "      <th>1</th>\n",
       "      <td>1</td>\n",
       "      <td>1</td>\n",
       "      <td>1</td>\n",
       "      <td>1</td>\n",
       "      <td>female</td>\n",
       "      <td>38.0</td>\n",
       "      <td>1</td>\n",
       "      <td>0</td>\n",
       "      <td>71.2833</td>\n",
       "      <td>C</td>\n",
       "      <td>First</td>\n",
       "      <td>C</td>\n",
       "      <td>Cherbourg</td>\n",
       "      <td>0</td>\n",
       "    </tr>\n",
       "    <tr>\n",
       "      <th>2</th>\n",
       "      <td>2</td>\n",
       "      <td>2</td>\n",
       "      <td>1</td>\n",
       "      <td>3</td>\n",
       "      <td>female</td>\n",
       "      <td>26.0</td>\n",
       "      <td>0</td>\n",
       "      <td>0</td>\n",
       "      <td>7.9250</td>\n",
       "      <td>S</td>\n",
       "      <td>Third</td>\n",
       "      <td>NaN</td>\n",
       "      <td>Southampton</td>\n",
       "      <td>1</td>\n",
       "    </tr>\n",
       "    <tr>\n",
       "      <th>3</th>\n",
       "      <td>3</td>\n",
       "      <td>3</td>\n",
       "      <td>1</td>\n",
       "      <td>1</td>\n",
       "      <td>female</td>\n",
       "      <td>35.0</td>\n",
       "      <td>1</td>\n",
       "      <td>0</td>\n",
       "      <td>53.1000</td>\n",
       "      <td>S</td>\n",
       "      <td>First</td>\n",
       "      <td>C</td>\n",
       "      <td>Southampton</td>\n",
       "      <td>0</td>\n",
       "    </tr>\n",
       "    <tr>\n",
       "      <th>4</th>\n",
       "      <td>4</td>\n",
       "      <td>4</td>\n",
       "      <td>0</td>\n",
       "      <td>3</td>\n",
       "      <td>male</td>\n",
       "      <td>35.0</td>\n",
       "      <td>0</td>\n",
       "      <td>0</td>\n",
       "      <td>8.0500</td>\n",
       "      <td>S</td>\n",
       "      <td>Third</td>\n",
       "      <td>NaN</td>\n",
       "      <td>Southampton</td>\n",
       "      <td>1</td>\n",
       "    </tr>\n",
       "  </tbody>\n",
       "</table>\n",
       "</div>"
      ],
      "text/plain": [
       "   Unnamed: 0  passenger_id  survived  pclass     sex   age  sibsp  parch  \\\n",
       "0           0             0         0       3    male  22.0      1      0   \n",
       "1           1             1         1       1  female  38.0      1      0   \n",
       "2           2             2         1       3  female  26.0      0      0   \n",
       "3           3             3         1       1  female  35.0      1      0   \n",
       "4           4             4         0       3    male  35.0      0      0   \n",
       "\n",
       "      fare embarked  class deck  embark_town  alone  \n",
       "0   7.2500        S  Third  NaN  Southampton      0  \n",
       "1  71.2833        C  First    C    Cherbourg      0  \n",
       "2   7.9250        S  Third  NaN  Southampton      1  \n",
       "3  53.1000        S  First    C  Southampton      0  \n",
       "4   8.0500        S  Third  NaN  Southampton      1  "
      ]
     },
     "execution_count": 2,
     "metadata": {},
     "output_type": "execute_result"
    }
   ],
   "source": [
    "titanic = acquire.grab_titanic_data()\n",
    "titanic.head()"
   ]
  },
  {
   "cell_type": "code",
   "execution_count": 3,
   "id": "b9cc9ca6",
   "metadata": {
    "scrolled": true
   },
   "outputs": [
    {
     "data": {
      "text/html": [
       "<div>\n",
       "<style scoped>\n",
       "    .dataframe tbody tr th:only-of-type {\n",
       "        vertical-align: middle;\n",
       "    }\n",
       "\n",
       "    .dataframe tbody tr th {\n",
       "        vertical-align: top;\n",
       "    }\n",
       "\n",
       "    .dataframe thead th {\n",
       "        text-align: right;\n",
       "    }\n",
       "</style>\n",
       "<table border=\"1\" class=\"dataframe\">\n",
       "  <thead>\n",
       "    <tr style=\"text-align: right;\">\n",
       "      <th></th>\n",
       "      <th>survived</th>\n",
       "      <th>pclass</th>\n",
       "      <th>isMale</th>\n",
       "      <th>age</th>\n",
       "      <th>sibsp</th>\n",
       "      <th>parch</th>\n",
       "      <th>fare</th>\n",
       "      <th>embark_town</th>\n",
       "      <th>alone</th>\n",
       "    </tr>\n",
       "  </thead>\n",
       "  <tbody>\n",
       "    <tr>\n",
       "      <th>0</th>\n",
       "      <td>0</td>\n",
       "      <td>3</td>\n",
       "      <td>1</td>\n",
       "      <td>22.0</td>\n",
       "      <td>1</td>\n",
       "      <td>0</td>\n",
       "      <td>7.2500</td>\n",
       "      <td>1.0</td>\n",
       "      <td>0</td>\n",
       "    </tr>\n",
       "    <tr>\n",
       "      <th>1</th>\n",
       "      <td>1</td>\n",
       "      <td>1</td>\n",
       "      <td>0</td>\n",
       "      <td>38.0</td>\n",
       "      <td>1</td>\n",
       "      <td>0</td>\n",
       "      <td>71.2833</td>\n",
       "      <td>2.0</td>\n",
       "      <td>0</td>\n",
       "    </tr>\n",
       "    <tr>\n",
       "      <th>2</th>\n",
       "      <td>1</td>\n",
       "      <td>3</td>\n",
       "      <td>0</td>\n",
       "      <td>26.0</td>\n",
       "      <td>0</td>\n",
       "      <td>0</td>\n",
       "      <td>7.9250</td>\n",
       "      <td>1.0</td>\n",
       "      <td>1</td>\n",
       "    </tr>\n",
       "    <tr>\n",
       "      <th>3</th>\n",
       "      <td>1</td>\n",
       "      <td>1</td>\n",
       "      <td>0</td>\n",
       "      <td>35.0</td>\n",
       "      <td>1</td>\n",
       "      <td>0</td>\n",
       "      <td>53.1000</td>\n",
       "      <td>1.0</td>\n",
       "      <td>0</td>\n",
       "    </tr>\n",
       "    <tr>\n",
       "      <th>4</th>\n",
       "      <td>0</td>\n",
       "      <td>3</td>\n",
       "      <td>1</td>\n",
       "      <td>35.0</td>\n",
       "      <td>0</td>\n",
       "      <td>0</td>\n",
       "      <td>8.0500</td>\n",
       "      <td>1.0</td>\n",
       "      <td>1</td>\n",
       "    </tr>\n",
       "    <tr>\n",
       "      <th>5</th>\n",
       "      <td>0</td>\n",
       "      <td>3</td>\n",
       "      <td>1</td>\n",
       "      <td>28.0</td>\n",
       "      <td>0</td>\n",
       "      <td>0</td>\n",
       "      <td>8.4583</td>\n",
       "      <td>3.0</td>\n",
       "      <td>1</td>\n",
       "    </tr>\n",
       "    <tr>\n",
       "      <th>6</th>\n",
       "      <td>0</td>\n",
       "      <td>1</td>\n",
       "      <td>1</td>\n",
       "      <td>54.0</td>\n",
       "      <td>0</td>\n",
       "      <td>0</td>\n",
       "      <td>51.8625</td>\n",
       "      <td>1.0</td>\n",
       "      <td>1</td>\n",
       "    </tr>\n",
       "    <tr>\n",
       "      <th>7</th>\n",
       "      <td>0</td>\n",
       "      <td>3</td>\n",
       "      <td>1</td>\n",
       "      <td>2.0</td>\n",
       "      <td>3</td>\n",
       "      <td>1</td>\n",
       "      <td>21.0750</td>\n",
       "      <td>1.0</td>\n",
       "      <td>0</td>\n",
       "    </tr>\n",
       "    <tr>\n",
       "      <th>8</th>\n",
       "      <td>1</td>\n",
       "      <td>3</td>\n",
       "      <td>0</td>\n",
       "      <td>27.0</td>\n",
       "      <td>0</td>\n",
       "      <td>2</td>\n",
       "      <td>11.1333</td>\n",
       "      <td>1.0</td>\n",
       "      <td>0</td>\n",
       "    </tr>\n",
       "    <tr>\n",
       "      <th>9</th>\n",
       "      <td>1</td>\n",
       "      <td>2</td>\n",
       "      <td>0</td>\n",
       "      <td>14.0</td>\n",
       "      <td>1</td>\n",
       "      <td>0</td>\n",
       "      <td>30.0708</td>\n",
       "      <td>2.0</td>\n",
       "      <td>0</td>\n",
       "    </tr>\n",
       "  </tbody>\n",
       "</table>\n",
       "</div>"
      ],
      "text/plain": [
       "   survived  pclass isMale   age  sibsp  parch     fare  embark_town  alone\n",
       "0         0       3      1  22.0      1      0   7.2500          1.0      0\n",
       "1         1       1      0  38.0      1      0  71.2833          2.0      0\n",
       "2         1       3      0  26.0      0      0   7.9250          1.0      1\n",
       "3         1       1      0  35.0      1      0  53.1000          1.0      0\n",
       "4         0       3      1  35.0      0      0   8.0500          1.0      1\n",
       "5         0       3      1  28.0      0      0   8.4583          3.0      1\n",
       "6         0       1      1  54.0      0      0  51.8625          1.0      1\n",
       "7         0       3      1   2.0      3      1  21.0750          1.0      0\n",
       "8         1       3      0  27.0      0      2  11.1333          1.0      0\n",
       "9         1       2      0  14.0      1      0  30.0708          2.0      0"
      ]
     },
     "execution_count": 3,
     "metadata": {},
     "output_type": "execute_result"
    }
   ],
   "source": [
    "titanic = acquire.prep_titanic(titanic)\n",
    "#titanic.rename(columns={'sex': 'isMale'}, inplace=True)\n",
    "titanic.head(10)"
   ]
  },
  {
   "cell_type": "code",
   "execution_count": 4,
   "id": "32b8763d",
   "metadata": {
    "scrolled": false
   },
   "outputs": [
    {
     "name": "stdout",
     "output_type": "stream",
     "text": [
      "29.36158249158249\n",
      "0    28.0\n",
      "Name: age, dtype: float64\n",
      "28.0\n"
     ]
    }
   ],
   "source": [
    "print(f'{titanic.age.mean()}')\n",
    "print(f'{titanic.age.mode()}')\n",
    "print(titanic.age.median())"
   ]
  },
  {
   "cell_type": "code",
   "execution_count": 5,
   "id": "3debde82",
   "metadata": {},
   "outputs": [
    {
     "name": "stdout",
     "output_type": "stream",
     "text": [
      "<class 'pandas.core.frame.DataFrame'>\n",
      "RangeIndex: 891 entries, 0 to 890\n",
      "Data columns (total 9 columns):\n",
      " #   Column       Non-Null Count  Dtype  \n",
      "---  ------       --------------  -----  \n",
      " 0   survived     891 non-null    int64  \n",
      " 1   pclass       891 non-null    int64  \n",
      " 2   isMale       891 non-null    object \n",
      " 3   age          891 non-null    float64\n",
      " 4   sibsp        891 non-null    int64  \n",
      " 5   parch        891 non-null    int64  \n",
      " 6   fare         891 non-null    float64\n",
      " 7   embark_town  891 non-null    float64\n",
      " 8   alone        891 non-null    int64  \n",
      "dtypes: float64(3), int64(5), object(1)\n",
      "memory usage: 62.8+ KB\n"
     ]
    }
   ],
   "source": [
    "titanic.info()"
   ]
  },
  {
   "cell_type": "code",
   "execution_count": 6,
   "id": "be6722cc",
   "metadata": {},
   "outputs": [],
   "source": [
    "#titanic.age[titanic.age.isnull()] = 28\n",
    "#titanic.head(10)"
   ]
  },
  {
   "cell_type": "code",
   "execution_count": 7,
   "id": "cf56a9ea",
   "metadata": {},
   "outputs": [],
   "source": [
    "#titanic[titanic.age == 'NaN'] = 28"
   ]
  },
  {
   "cell_type": "code",
   "execution_count": 8,
   "id": "298df669",
   "metadata": {},
   "outputs": [
    {
     "data": {
      "text/plain": [
       "1.0    646\n",
       "2.0    168\n",
       "3.0     77\n",
       "Name: embark_town, dtype: int64"
      ]
     },
     "execution_count": 8,
     "metadata": {},
     "output_type": "execute_result"
    }
   ],
   "source": [
    "titanic.embark_town.value_counts()"
   ]
  },
  {
   "cell_type": "code",
   "execution_count": 9,
   "id": "3d17226b",
   "metadata": {},
   "outputs": [],
   "source": [
    "#titanic.embark_town[titanic.embark_town.isnull()] = 1.0"
   ]
  },
  {
   "cell_type": "code",
   "execution_count": 10,
   "id": "ef13cab3",
   "metadata": {
    "scrolled": true
   },
   "outputs": [],
   "source": [
    "#titanic.isMale[titanic.isMale == 'male'] = 1\n",
    "#titanic.isMale[titanic.isMale == 'female'] = 0\n",
    "#titanic.head(10)"
   ]
  },
  {
   "cell_type": "code",
   "execution_count": 11,
   "id": "20739404",
   "metadata": {},
   "outputs": [
    {
     "data": {
      "text/plain": [
       "((534, 9), (178, 9), (179, 9))"
      ]
     },
     "execution_count": 11,
     "metadata": {},
     "output_type": "execute_result"
    }
   ],
   "source": [
    "t_train, t_validate, t_test = acquire.split(titanic)\n",
    "t_train.shape, t_validate.shape, t_test.shape"
   ]
  },
  {
   "cell_type": "code",
   "execution_count": 12,
   "id": "3de88c1e",
   "metadata": {
    "scrolled": true
   },
   "outputs": [
    {
     "data": {
      "text/plain": [
       "0.40074906367041196"
      ]
     },
     "execution_count": 12,
     "metadata": {},
     "output_type": "execute_result"
    }
   ],
   "source": [
    "(t_train.survived == 1).mean()"
   ]
  },
  {
   "cell_type": "markdown",
   "id": "0f643b0c",
   "metadata": {},
   "source": [
    "## What is your baseline prediction?  What is your baseline accuracy? "
   ]
  },
  {
   "cell_type": "code",
   "execution_count": 13,
   "id": "e9a65eb8",
   "metadata": {},
   "outputs": [],
   "source": [
    "t_train['baseline'] = 0"
   ]
  },
  {
   "cell_type": "code",
   "execution_count": 14,
   "id": "efdca14f",
   "metadata": {
    "scrolled": true
   },
   "outputs": [
    {
     "data": {
      "text/plain": [
       "0    534\n",
       "Name: baseline, dtype: int64"
      ]
     },
     "execution_count": 14,
     "metadata": {},
     "output_type": "execute_result"
    }
   ],
   "source": [
    "t_train.baseline.value_counts()"
   ]
  },
  {
   "cell_type": "code",
   "execution_count": 15,
   "id": "6691a5b5",
   "metadata": {
    "scrolled": true
   },
   "outputs": [
    {
     "data": {
      "text/html": [
       "<div>\n",
       "<style scoped>\n",
       "    .dataframe tbody tr th:only-of-type {\n",
       "        vertical-align: middle;\n",
       "    }\n",
       "\n",
       "    .dataframe tbody tr th {\n",
       "        vertical-align: top;\n",
       "    }\n",
       "\n",
       "    .dataframe thead th {\n",
       "        text-align: right;\n",
       "    }\n",
       "</style>\n",
       "<table border=\"1\" class=\"dataframe\">\n",
       "  <thead>\n",
       "    <tr style=\"text-align: right;\">\n",
       "      <th></th>\n",
       "      <th>survived</th>\n",
       "      <th>pclass</th>\n",
       "      <th>isMale</th>\n",
       "      <th>age</th>\n",
       "      <th>sibsp</th>\n",
       "      <th>parch</th>\n",
       "      <th>fare</th>\n",
       "      <th>embark_town</th>\n",
       "      <th>alone</th>\n",
       "      <th>baseline</th>\n",
       "    </tr>\n",
       "  </thead>\n",
       "  <tbody>\n",
       "    <tr>\n",
       "      <th>304</th>\n",
       "      <td>0</td>\n",
       "      <td>3</td>\n",
       "      <td>1</td>\n",
       "      <td>28.0</td>\n",
       "      <td>0</td>\n",
       "      <td>0</td>\n",
       "      <td>8.0500</td>\n",
       "      <td>1.0</td>\n",
       "      <td>1</td>\n",
       "      <td>0</td>\n",
       "    </tr>\n",
       "    <tr>\n",
       "      <th>718</th>\n",
       "      <td>0</td>\n",
       "      <td>3</td>\n",
       "      <td>1</td>\n",
       "      <td>28.0</td>\n",
       "      <td>0</td>\n",
       "      <td>0</td>\n",
       "      <td>15.5000</td>\n",
       "      <td>3.0</td>\n",
       "      <td>1</td>\n",
       "      <td>0</td>\n",
       "    </tr>\n",
       "    <tr>\n",
       "      <th>102</th>\n",
       "      <td>0</td>\n",
       "      <td>1</td>\n",
       "      <td>1</td>\n",
       "      <td>21.0</td>\n",
       "      <td>0</td>\n",
       "      <td>1</td>\n",
       "      <td>77.2875</td>\n",
       "      <td>1.0</td>\n",
       "      <td>0</td>\n",
       "      <td>0</td>\n",
       "    </tr>\n",
       "    <tr>\n",
       "      <th>737</th>\n",
       "      <td>1</td>\n",
       "      <td>1</td>\n",
       "      <td>1</td>\n",
       "      <td>35.0</td>\n",
       "      <td>0</td>\n",
       "      <td>0</td>\n",
       "      <td>512.3292</td>\n",
       "      <td>2.0</td>\n",
       "      <td>1</td>\n",
       "      <td>0</td>\n",
       "    </tr>\n",
       "    <tr>\n",
       "      <th>269</th>\n",
       "      <td>1</td>\n",
       "      <td>1</td>\n",
       "      <td>0</td>\n",
       "      <td>35.0</td>\n",
       "      <td>0</td>\n",
       "      <td>0</td>\n",
       "      <td>135.6333</td>\n",
       "      <td>1.0</td>\n",
       "      <td>1</td>\n",
       "      <td>0</td>\n",
       "    </tr>\n",
       "  </tbody>\n",
       "</table>\n",
       "</div>"
      ],
      "text/plain": [
       "     survived  pclass isMale   age  sibsp  parch      fare  embark_town  \\\n",
       "304         0       3      1  28.0      0      0    8.0500          1.0   \n",
       "718         0       3      1  28.0      0      0   15.5000          3.0   \n",
       "102         0       1      1  21.0      0      1   77.2875          1.0   \n",
       "737         1       1      1  35.0      0      0  512.3292          2.0   \n",
       "269         1       1      0  35.0      0      0  135.6333          1.0   \n",
       "\n",
       "     alone  baseline  \n",
       "304      1         0  \n",
       "718      1         0  \n",
       "102      0         0  \n",
       "737      1         0  \n",
       "269      1         0  "
      ]
     },
     "execution_count": 15,
     "metadata": {},
     "output_type": "execute_result"
    }
   ],
   "source": [
    "#t_train = t_train.drop(columns='Unnamed: 0')\n",
    "t_train.head()"
   ]
  },
  {
   "cell_type": "code",
   "execution_count": 16,
   "id": "1e8497fb",
   "metadata": {},
   "outputs": [
    {
     "name": "stdout",
     "output_type": "stream",
     "text": [
      "Baseline accuracy: 0.599, This is predicting for non-survival\n"
     ]
    }
   ],
   "source": [
    "print(f'Baseline accuracy: {metrics.accuracy_score(t_train.survived, t_train.baseline):.3f}, This is predicting for non-survival')"
   ]
  },
  {
   "cell_type": "markdown",
   "id": "c6835467",
   "metadata": {},
   "source": [
    "### 2. Fit the decision tree classifier to your training sample and transform (i.e. make predictions on the training sample)"
   ]
  },
  {
   "cell_type": "code",
   "execution_count": 17,
   "id": "0b329649",
   "metadata": {},
   "outputs": [
    {
     "data": {
      "text/html": [
       "<div>\n",
       "<style scoped>\n",
       "    .dataframe tbody tr th:only-of-type {\n",
       "        vertical-align: middle;\n",
       "    }\n",
       "\n",
       "    .dataframe tbody tr th {\n",
       "        vertical-align: top;\n",
       "    }\n",
       "\n",
       "    .dataframe thead th {\n",
       "        text-align: right;\n",
       "    }\n",
       "</style>\n",
       "<table border=\"1\" class=\"dataframe\">\n",
       "  <thead>\n",
       "    <tr style=\"text-align: right;\">\n",
       "      <th></th>\n",
       "      <th>survived</th>\n",
       "      <th>pclass</th>\n",
       "      <th>isMale</th>\n",
       "      <th>age</th>\n",
       "      <th>sibsp</th>\n",
       "      <th>parch</th>\n",
       "      <th>fare</th>\n",
       "      <th>embark_town</th>\n",
       "      <th>alone</th>\n",
       "      <th>baseline</th>\n",
       "    </tr>\n",
       "  </thead>\n",
       "  <tbody>\n",
       "    <tr>\n",
       "      <th>304</th>\n",
       "      <td>0</td>\n",
       "      <td>3</td>\n",
       "      <td>1</td>\n",
       "      <td>28.0</td>\n",
       "      <td>0</td>\n",
       "      <td>0</td>\n",
       "      <td>8.0500</td>\n",
       "      <td>1.0</td>\n",
       "      <td>1</td>\n",
       "      <td>0</td>\n",
       "    </tr>\n",
       "    <tr>\n",
       "      <th>718</th>\n",
       "      <td>0</td>\n",
       "      <td>3</td>\n",
       "      <td>1</td>\n",
       "      <td>28.0</td>\n",
       "      <td>0</td>\n",
       "      <td>0</td>\n",
       "      <td>15.5000</td>\n",
       "      <td>3.0</td>\n",
       "      <td>1</td>\n",
       "      <td>0</td>\n",
       "    </tr>\n",
       "    <tr>\n",
       "      <th>102</th>\n",
       "      <td>0</td>\n",
       "      <td>1</td>\n",
       "      <td>1</td>\n",
       "      <td>21.0</td>\n",
       "      <td>0</td>\n",
       "      <td>1</td>\n",
       "      <td>77.2875</td>\n",
       "      <td>1.0</td>\n",
       "      <td>0</td>\n",
       "      <td>0</td>\n",
       "    </tr>\n",
       "    <tr>\n",
       "      <th>737</th>\n",
       "      <td>1</td>\n",
       "      <td>1</td>\n",
       "      <td>1</td>\n",
       "      <td>35.0</td>\n",
       "      <td>0</td>\n",
       "      <td>0</td>\n",
       "      <td>512.3292</td>\n",
       "      <td>2.0</td>\n",
       "      <td>1</td>\n",
       "      <td>0</td>\n",
       "    </tr>\n",
       "    <tr>\n",
       "      <th>269</th>\n",
       "      <td>1</td>\n",
       "      <td>1</td>\n",
       "      <td>0</td>\n",
       "      <td>35.0</td>\n",
       "      <td>0</td>\n",
       "      <td>0</td>\n",
       "      <td>135.6333</td>\n",
       "      <td>1.0</td>\n",
       "      <td>1</td>\n",
       "      <td>0</td>\n",
       "    </tr>\n",
       "  </tbody>\n",
       "</table>\n",
       "</div>"
      ],
      "text/plain": [
       "     survived  pclass isMale   age  sibsp  parch      fare  embark_town  \\\n",
       "304         0       3      1  28.0      0      0    8.0500          1.0   \n",
       "718         0       3      1  28.0      0      0   15.5000          3.0   \n",
       "102         0       1      1  21.0      0      1   77.2875          1.0   \n",
       "737         1       1      1  35.0      0      0  512.3292          2.0   \n",
       "269         1       1      0  35.0      0      0  135.6333          1.0   \n",
       "\n",
       "     alone  baseline  \n",
       "304      1         0  \n",
       "718      1         0  \n",
       "102      0         0  \n",
       "737      1         0  \n",
       "269      1         0  "
      ]
     },
     "execution_count": 17,
     "metadata": {},
     "output_type": "execute_result"
    }
   ],
   "source": [
    "#t_train.sex[t_train.sex == 'male'] = 1\n",
    "#t_train.sex[t_train.sex == 'female'] = 0\n",
    "#t_train[t_train.sex == 'female'] = 0\n",
    "#t_train.rename(columns={'sex': 'isMale'})\n",
    "t_train.head()"
   ]
  },
  {
   "cell_type": "code",
   "execution_count": 18,
   "id": "9bfb52ec",
   "metadata": {
    "scrolled": true
   },
   "outputs": [
    {
     "data": {
      "text/html": [
       "<div>\n",
       "<style scoped>\n",
       "    .dataframe tbody tr th:only-of-type {\n",
       "        vertical-align: middle;\n",
       "    }\n",
       "\n",
       "    .dataframe tbody tr th {\n",
       "        vertical-align: top;\n",
       "    }\n",
       "\n",
       "    .dataframe thead th {\n",
       "        text-align: right;\n",
       "    }\n",
       "</style>\n",
       "<table border=\"1\" class=\"dataframe\">\n",
       "  <thead>\n",
       "    <tr style=\"text-align: right;\">\n",
       "      <th></th>\n",
       "      <th>pclass</th>\n",
       "      <th>isMale</th>\n",
       "      <th>age</th>\n",
       "      <th>sibsp</th>\n",
       "      <th>parch</th>\n",
       "      <th>fare</th>\n",
       "      <th>embark_town</th>\n",
       "      <th>alone</th>\n",
       "    </tr>\n",
       "  </thead>\n",
       "  <tbody>\n",
       "    <tr>\n",
       "      <th>304</th>\n",
       "      <td>3</td>\n",
       "      <td>1</td>\n",
       "      <td>28.0</td>\n",
       "      <td>0</td>\n",
       "      <td>0</td>\n",
       "      <td>8.0500</td>\n",
       "      <td>1.0</td>\n",
       "      <td>1</td>\n",
       "    </tr>\n",
       "    <tr>\n",
       "      <th>718</th>\n",
       "      <td>3</td>\n",
       "      <td>1</td>\n",
       "      <td>28.0</td>\n",
       "      <td>0</td>\n",
       "      <td>0</td>\n",
       "      <td>15.5000</td>\n",
       "      <td>3.0</td>\n",
       "      <td>1</td>\n",
       "    </tr>\n",
       "    <tr>\n",
       "      <th>102</th>\n",
       "      <td>1</td>\n",
       "      <td>1</td>\n",
       "      <td>21.0</td>\n",
       "      <td>0</td>\n",
       "      <td>1</td>\n",
       "      <td>77.2875</td>\n",
       "      <td>1.0</td>\n",
       "      <td>0</td>\n",
       "    </tr>\n",
       "    <tr>\n",
       "      <th>737</th>\n",
       "      <td>1</td>\n",
       "      <td>1</td>\n",
       "      <td>35.0</td>\n",
       "      <td>0</td>\n",
       "      <td>0</td>\n",
       "      <td>512.3292</td>\n",
       "      <td>2.0</td>\n",
       "      <td>1</td>\n",
       "    </tr>\n",
       "    <tr>\n",
       "      <th>269</th>\n",
       "      <td>1</td>\n",
       "      <td>0</td>\n",
       "      <td>35.0</td>\n",
       "      <td>0</td>\n",
       "      <td>0</td>\n",
       "      <td>135.6333</td>\n",
       "      <td>1.0</td>\n",
       "      <td>1</td>\n",
       "    </tr>\n",
       "  </tbody>\n",
       "</table>\n",
       "</div>"
      ],
      "text/plain": [
       "     pclass isMale   age  sibsp  parch      fare  embark_town  alone\n",
       "304       3      1  28.0      0      0    8.0500          1.0      1\n",
       "718       3      1  28.0      0      0   15.5000          3.0      1\n",
       "102       1      1  21.0      0      1   77.2875          1.0      0\n",
       "737       1      1  35.0      0      0  512.3292          2.0      1\n",
       "269       1      0  35.0      0      0  135.6333          1.0      1"
      ]
     },
     "execution_count": 18,
     "metadata": {},
     "output_type": "execute_result"
    }
   ],
   "source": [
    "x_tr = t_train.drop(columns={'survived','baseline'})\n",
    "y_tr = t_train.survived\n",
    "\n",
    "x_val = t_validate.drop(columns='survived')\n",
    "y_val = t_validate.survived\n",
    "\n",
    "x_test = t_test.drop(columns='survived')\n",
    "y_test = t_test.survived\n",
    "\n",
    "x_tr.head()"
   ]
  },
  {
   "cell_type": "code",
   "execution_count": 19,
   "id": "6ef0b1ab",
   "metadata": {},
   "outputs": [
    {
     "name": "stdout",
     "output_type": "stream",
     "text": [
      "<class 'pandas.core.frame.DataFrame'>\n",
      "Int64Index: 534 entries, 304 to 133\n",
      "Data columns (total 8 columns):\n",
      " #   Column       Non-Null Count  Dtype  \n",
      "---  ------       --------------  -----  \n",
      " 0   pclass       534 non-null    int64  \n",
      " 1   isMale       534 non-null    object \n",
      " 2   age          534 non-null    float64\n",
      " 3   sibsp        534 non-null    int64  \n",
      " 4   parch        534 non-null    int64  \n",
      " 5   fare         534 non-null    float64\n",
      " 6   embark_town  534 non-null    float64\n",
      " 7   alone        534 non-null    int64  \n",
      "dtypes: float64(3), int64(4), object(1)\n",
      "memory usage: 37.5+ KB\n"
     ]
    }
   ],
   "source": [
    "x_tr.info()"
   ]
  },
  {
   "cell_type": "code",
   "execution_count": 20,
   "id": "5c0f192f",
   "metadata": {},
   "outputs": [],
   "source": [
    "t_classf = DecisionTreeClassifier()\n",
    "t_classf = t_classf.fit(x_tr, y_tr)\n",
    "\n",
    "y_predict = t_classf.predict(x_tr)\n",
    "y_predict_prob = t_classf.predict_proba(x_tr)"
   ]
  },
  {
   "cell_type": "code",
   "execution_count": 21,
   "id": "9a8d16a2",
   "metadata": {},
   "outputs": [
    {
     "data": {
      "text/plain": [
       "DecisionTreeClassifier()"
      ]
     },
     "execution_count": 21,
     "metadata": {},
     "output_type": "execute_result"
    }
   ],
   "source": [
    "t_classf.fit(x_tr, y_tr)"
   ]
  },
  {
   "cell_type": "markdown",
   "id": "e79fd3cc",
   "metadata": {},
   "source": [
    "### 3. Evaluate your in-sample results using the model score, confusion matrix, and classification report."
   ]
  },
  {
   "cell_type": "code",
   "execution_count": 22,
   "id": "3a449ffc",
   "metadata": {},
   "outputs": [
    {
     "name": "stdout",
     "output_type": "stream",
     "text": [
      "Model score: 0.987\n"
     ]
    }
   ],
   "source": [
    "print(f'Model score: {t_classf.score(x_tr, y_tr):.3f}')"
   ]
  },
  {
   "cell_type": "code",
   "execution_count": 23,
   "id": "d5f23356",
   "metadata": {},
   "outputs": [
    {
     "data": {
      "text/html": [
       "<div>\n",
       "<style scoped>\n",
       "    .dataframe tbody tr th:only-of-type {\n",
       "        vertical-align: middle;\n",
       "    }\n",
       "\n",
       "    .dataframe tbody tr th {\n",
       "        vertical-align: top;\n",
       "    }\n",
       "\n",
       "    .dataframe thead th {\n",
       "        text-align: right;\n",
       "    }\n",
       "</style>\n",
       "<table border=\"1\" class=\"dataframe\">\n",
       "  <thead>\n",
       "    <tr style=\"text-align: right;\">\n",
       "      <th></th>\n",
       "      <th>0</th>\n",
       "      <th>1</th>\n",
       "    </tr>\n",
       "  </thead>\n",
       "  <tbody>\n",
       "    <tr>\n",
       "      <th>0</th>\n",
       "      <td>319</td>\n",
       "      <td>1</td>\n",
       "    </tr>\n",
       "    <tr>\n",
       "      <th>1</th>\n",
       "      <td>6</td>\n",
       "      <td>208</td>\n",
       "    </tr>\n",
       "  </tbody>\n",
       "</table>\n",
       "</div>"
      ],
      "text/plain": [
       "     0    1\n",
       "0  319    1\n",
       "1    6  208"
      ]
     },
     "execution_count": 23,
     "metadata": {},
     "output_type": "execute_result"
    }
   ],
   "source": [
    "cm = confusion_matrix(y_tr, y_predict)\n",
    "pd.DataFrame(cm)"
   ]
  },
  {
   "cell_type": "code",
   "execution_count": 24,
   "id": "c5d7d261",
   "metadata": {},
   "outputs": [
    {
     "data": {
      "text/html": [
       "<div>\n",
       "<style scoped>\n",
       "    .dataframe tbody tr th:only-of-type {\n",
       "        vertical-align: middle;\n",
       "    }\n",
       "\n",
       "    .dataframe tbody tr th {\n",
       "        vertical-align: top;\n",
       "    }\n",
       "\n",
       "    .dataframe thead th {\n",
       "        text-align: right;\n",
       "    }\n",
       "</style>\n",
       "<table border=\"1\" class=\"dataframe\">\n",
       "  <thead>\n",
       "    <tr style=\"text-align: right;\">\n",
       "      <th></th>\n",
       "      <th>0</th>\n",
       "      <th>1</th>\n",
       "      <th>accuracy</th>\n",
       "      <th>macro avg</th>\n",
       "      <th>weighted avg</th>\n",
       "    </tr>\n",
       "  </thead>\n",
       "  <tbody>\n",
       "    <tr>\n",
       "      <th>precision</th>\n",
       "      <td>0.981538</td>\n",
       "      <td>0.995215</td>\n",
       "      <td>0.986891</td>\n",
       "      <td>0.988377</td>\n",
       "      <td>0.987019</td>\n",
       "    </tr>\n",
       "    <tr>\n",
       "      <th>recall</th>\n",
       "      <td>0.996875</td>\n",
       "      <td>0.971963</td>\n",
       "      <td>0.986891</td>\n",
       "      <td>0.984419</td>\n",
       "      <td>0.986891</td>\n",
       "    </tr>\n",
       "    <tr>\n",
       "      <th>f1-score</th>\n",
       "      <td>0.989147</td>\n",
       "      <td>0.983452</td>\n",
       "      <td>0.986891</td>\n",
       "      <td>0.986299</td>\n",
       "      <td>0.986865</td>\n",
       "    </tr>\n",
       "    <tr>\n",
       "      <th>support</th>\n",
       "      <td>320.000000</td>\n",
       "      <td>214.000000</td>\n",
       "      <td>0.986891</td>\n",
       "      <td>534.000000</td>\n",
       "      <td>534.000000</td>\n",
       "    </tr>\n",
       "  </tbody>\n",
       "</table>\n",
       "</div>"
      ],
      "text/plain": [
       "                    0           1  accuracy   macro avg  weighted avg\n",
       "precision    0.981538    0.995215  0.986891    0.988377      0.987019\n",
       "recall       0.996875    0.971963  0.986891    0.984419      0.986891\n",
       "f1-score     0.989147    0.983452  0.986891    0.986299      0.986865\n",
       "support    320.000000  214.000000  0.986891  534.000000    534.000000"
      ]
     },
     "execution_count": 24,
     "metadata": {},
     "output_type": "execute_result"
    }
   ],
   "source": [
    "pd.DataFrame(classification_report(y_tr, y_predict, output_dict=True))"
   ]
  },
  {
   "cell_type": "markdown",
   "id": "c90b7207",
   "metadata": {},
   "source": [
    "### 4. Compute: Accuracy, true positive rate, false positive rate, true negative rate, false negative rate, precision, recall, f1-score, and support."
   ]
  },
  {
   "cell_type": "markdown",
   "id": "9f603b48",
   "metadata": {},
   "source": [
    "##### Accuracy:"
   ]
  },
  {
   "cell_type": "code",
   "execution_count": 25,
   "id": "72e38eac",
   "metadata": {},
   "outputs": [
    {
     "data": {
      "text/plain": [
       "0.9868913857677902"
      ]
     },
     "execution_count": 25,
     "metadata": {},
     "output_type": "execute_result"
    }
   ],
   "source": [
    "accuracy_score(y_tr, y_predict)"
   ]
  },
  {
   "cell_type": "markdown",
   "id": "574b9dc1",
   "metadata": {},
   "source": [
    "##### TP, TN, FP, FN rates: "
   ]
  },
  {
   "cell_type": "code",
   "execution_count": 26,
   "id": "133ffbb0",
   "metadata": {},
   "outputs": [
    {
     "name": "stdout",
     "output_type": "stream",
     "text": [
      " True Positive rate: 0.5973782771535581\n",
      "False Positive rate: 0.0018726591760299626\n",
      " True Negative rate: 0.3895131086142322\n",
      "False Negative rate: 0.011235955056179775\n"
     ]
    }
   ],
   "source": [
    "TP = cm[0,0]\n",
    "TN = cm[1,1]\n",
    "FP = cm[0,1]\n",
    "FN = cm[1,0]\n",
    "print(f' True Positive rate: {TP/(TP+TN+FP+FN)}')\n",
    "print(f'False Positive rate: {FP/(TP+TN+FP+FN)}')\n",
    "print(f' True Negative rate: {TN/(TP+TN+FP+FN)}')\n",
    "print(f'False Negative rate: {FN/(TP+TN+FP+FN)}')"
   ]
  },
  {
   "cell_type": "markdown",
   "id": "41daf6f7",
   "metadata": {},
   "source": [
    "##### Precision, Recall, f1-score and support:"
   ]
  },
  {
   "cell_type": "code",
   "execution_count": 27,
   "id": "6a887eb4",
   "metadata": {},
   "outputs": [
    {
     "name": "stdout",
     "output_type": "stream",
     "text": [
      "Precision: 0.9952153110047847\n",
      "   Recall: 0.9719626168224299\n",
      "       F1: 0.9834515366430261\n",
      "  Support: NotSurvived: 320\n",
      "           Survived: 214\n"
     ]
    }
   ],
   "source": [
    "print(f'Precision: {precision_score(y_tr, y_predict)}')\n",
    "print(f'   Recall: {recall_score(y_tr, y_predict)}')\n",
    "print(f'       F1: {f1_score(y_tr, y_predict)}')\n",
    "print(f'  Support: NotSurvived: {TP+FP}')\n",
    "print(f'           Survived: {TN+FN}')"
   ]
  },
  {
   "cell_type": "markdown",
   "id": "5ec118a7",
   "metadata": {},
   "source": [
    "### 5. Run through steps 2-4 using a different max_depth value."
   ]
  },
  {
   "cell_type": "markdown",
   "id": "6934a9e8",
   "metadata": {},
   "source": [
    "This is a different Decision Tree Classifier because of the max_depth value being changed"
   ]
  },
  {
   "cell_type": "code",
   "execution_count": 28,
   "id": "c5a358b3",
   "metadata": {},
   "outputs": [],
   "source": [
    "t_classf2 = DecisionTreeClassifier(max_depth=4)\n",
    "t_classf2 = t_classf2.fit(x_tr, y_tr)\n",
    "\n",
    "y_predict2 = t_classf2.predict(x_tr)\n",
    "y_predict_prob2 = t_classf2.predict_proba(x_tr)"
   ]
  },
  {
   "cell_type": "code",
   "execution_count": 29,
   "id": "d8f2a59c",
   "metadata": {},
   "outputs": [
    {
     "name": "stdout",
     "output_type": "stream",
     "text": [
      "Model score: 82.77153558052434\n"
     ]
    }
   ],
   "source": [
    "print(f'Model score: {t_classf2.score(x_tr, y_tr)*100}')"
   ]
  },
  {
   "cell_type": "code",
   "execution_count": 30,
   "id": "c341ae79",
   "metadata": {},
   "outputs": [
    {
     "data": {
      "text/html": [
       "<div>\n",
       "<style scoped>\n",
       "    .dataframe tbody tr th:only-of-type {\n",
       "        vertical-align: middle;\n",
       "    }\n",
       "\n",
       "    .dataframe tbody tr th {\n",
       "        vertical-align: top;\n",
       "    }\n",
       "\n",
       "    .dataframe thead th {\n",
       "        text-align: right;\n",
       "    }\n",
       "</style>\n",
       "<table border=\"1\" class=\"dataframe\">\n",
       "  <thead>\n",
       "    <tr style=\"text-align: right;\">\n",
       "      <th></th>\n",
       "      <th>0</th>\n",
       "      <th>1</th>\n",
       "    </tr>\n",
       "  </thead>\n",
       "  <tbody>\n",
       "    <tr>\n",
       "      <th>0</th>\n",
       "      <td>313</td>\n",
       "      <td>7</td>\n",
       "    </tr>\n",
       "    <tr>\n",
       "      <th>1</th>\n",
       "      <td>85</td>\n",
       "      <td>129</td>\n",
       "    </tr>\n",
       "  </tbody>\n",
       "</table>\n",
       "</div>"
      ],
      "text/plain": [
       "     0    1\n",
       "0  313    7\n",
       "1   85  129"
      ]
     },
     "execution_count": 30,
     "metadata": {},
     "output_type": "execute_result"
    }
   ],
   "source": [
    "cm2 = confusion_matrix(y_tr, y_predict2)\n",
    "pd.DataFrame(cm2)"
   ]
  },
  {
   "cell_type": "code",
   "execution_count": 31,
   "id": "f3d53239",
   "metadata": {},
   "outputs": [
    {
     "data": {
      "text/html": [
       "<div>\n",
       "<style scoped>\n",
       "    .dataframe tbody tr th:only-of-type {\n",
       "        vertical-align: middle;\n",
       "    }\n",
       "\n",
       "    .dataframe tbody tr th {\n",
       "        vertical-align: top;\n",
       "    }\n",
       "\n",
       "    .dataframe thead th {\n",
       "        text-align: right;\n",
       "    }\n",
       "</style>\n",
       "<table border=\"1\" class=\"dataframe\">\n",
       "  <thead>\n",
       "    <tr style=\"text-align: right;\">\n",
       "      <th></th>\n",
       "      <th>0</th>\n",
       "      <th>1</th>\n",
       "      <th>accuracy</th>\n",
       "      <th>macro avg</th>\n",
       "      <th>weighted avg</th>\n",
       "    </tr>\n",
       "  </thead>\n",
       "  <tbody>\n",
       "    <tr>\n",
       "      <th>precision</th>\n",
       "      <td>0.786432</td>\n",
       "      <td>0.948529</td>\n",
       "      <td>0.827715</td>\n",
       "      <td>0.867481</td>\n",
       "      <td>0.851392</td>\n",
       "    </tr>\n",
       "    <tr>\n",
       "      <th>recall</th>\n",
       "      <td>0.978125</td>\n",
       "      <td>0.602804</td>\n",
       "      <td>0.827715</td>\n",
       "      <td>0.790464</td>\n",
       "      <td>0.827715</td>\n",
       "    </tr>\n",
       "    <tr>\n",
       "      <th>f1-score</th>\n",
       "      <td>0.871866</td>\n",
       "      <td>0.737143</td>\n",
       "      <td>0.827715</td>\n",
       "      <td>0.804505</td>\n",
       "      <td>0.817876</td>\n",
       "    </tr>\n",
       "    <tr>\n",
       "      <th>support</th>\n",
       "      <td>320.000000</td>\n",
       "      <td>214.000000</td>\n",
       "      <td>0.827715</td>\n",
       "      <td>534.000000</td>\n",
       "      <td>534.000000</td>\n",
       "    </tr>\n",
       "  </tbody>\n",
       "</table>\n",
       "</div>"
      ],
      "text/plain": [
       "                    0           1  accuracy   macro avg  weighted avg\n",
       "precision    0.786432    0.948529  0.827715    0.867481      0.851392\n",
       "recall       0.978125    0.602804  0.827715    0.790464      0.827715\n",
       "f1-score     0.871866    0.737143  0.827715    0.804505      0.817876\n",
       "support    320.000000  214.000000  0.827715  534.000000    534.000000"
      ]
     },
     "execution_count": 31,
     "metadata": {},
     "output_type": "execute_result"
    }
   ],
   "source": [
    "pd.DataFrame(classification_report(y_tr, y_predict2, output_dict=True))"
   ]
  },
  {
   "cell_type": "code",
   "execution_count": 32,
   "id": "ad8c4345",
   "metadata": {},
   "outputs": [
    {
     "name": "stdout",
     "output_type": "stream",
     "text": [
      "Accuracy: 82.77153558052434\n"
     ]
    }
   ],
   "source": [
    "print(f'Accuracy: {accuracy_score(y_tr, y_predict2)*100}')"
   ]
  },
  {
   "cell_type": "code",
   "execution_count": 33,
   "id": "0cc2f30f",
   "metadata": {},
   "outputs": [
    {
     "name": "stdout",
     "output_type": "stream",
     "text": [
      "TP, TN, FP, FN rates:\n",
      "\n",
      "TP - True Positive rate:  0.586\n",
      "FP - False Positive rate: 0.013\n",
      "TN - True Negative rate:  0.242\n",
      "FN - False Negative rate: 0.159\n"
     ]
    }
   ],
   "source": [
    "TP2 = cm2[0,0]\n",
    "TN2 = cm2[1,1]\n",
    "FP2 = cm2[0,1]\n",
    "FN2 = cm2[1,0]\n",
    "print('TP, TN, FP, FN rates:')\n",
    "print()\n",
    "print(f'TP - True Positive rate:  {TP2/(TP2+TN2+FP2+FN2):.3f}')\n",
    "print(f'FP - False Positive rate: {FP2/(TP2+TN2+FP2+FN2):.3f}')\n",
    "print(f'TN - True Negative rate:  {TN2/(TP2+TN2+FP2+FN2):.3f}')\n",
    "print(f'FN - False Negative rate: {FN2/(TP2+TN2+FP2+FN2):.3f}')"
   ]
  },
  {
   "cell_type": "code",
   "execution_count": 34,
   "id": "3edb47b7",
   "metadata": {},
   "outputs": [
    {
     "name": "stdout",
     "output_type": "stream",
     "text": [
      "Model 1 -\n",
      "\n",
      "Precision: 0.949%\n",
      "\n",
      "   Recall: 0.603%\n",
      "\n",
      "       F1: 0.737%\n",
      "\n",
      "  Support: NotSurvived: 320\n",
      "           Survived:    214\n"
     ]
    }
   ],
   "source": [
    "print('Model 1 -')\n",
    "print()\n",
    "print(f'Precision: {precision_score(y_tr, y_predict2):.3f}%')\n",
    "print()\n",
    "print(f'   Recall: {recall_score(y_tr, y_predict2):.3f}%')\n",
    "print()\n",
    "print(f'       F1: {f1_score(y_tr, y_predict2):.3f}%')\n",
    "print()\n",
    "print(f'  Support: NotSurvived: {TP2+FP2}')\n",
    "print(f'           Survived:    {TN2+FN2}')"
   ]
  },
  {
   "cell_type": "code",
   "execution_count": 35,
   "id": "2ef74412",
   "metadata": {},
   "outputs": [
    {
     "name": "stdout",
     "output_type": "stream",
     "text": [
      "Model 2 -\n",
      "\n",
      "Precision: 0.995%\n",
      "\n",
      "   Recall: 0.972%\n",
      "\n",
      "       F1: 0.983%\n",
      "\n",
      "  Support: \n",
      " NotSurvived: 320\n",
      "    Survived: 214\n"
     ]
    }
   ],
   "source": [
    "print('Model 2 -')\n",
    "print()\n",
    "print(f'Precision: {precision_score(y_tr, y_predict):.3f}%')\n",
    "print()\n",
    "print(f'   Recall: {recall_score(y_tr, y_predict):.3f}%')\n",
    "print()\n",
    "print(f'       F1: {f1_score(y_tr, y_predict):.3f}%')\n",
    "print()\n",
    "print(f'  Support: ')\n",
    "print(f' NotSurvived: {TP+FP}')\n",
    "print(f'    Survived: {TN+FN}')"
   ]
  },
  {
   "cell_type": "markdown",
   "id": "3aa0075f",
   "metadata": {},
   "source": [
    "### 6. Which model performs better on your in-sample data?"
   ]
  },
  {
   "cell_type": "markdown",
   "id": "e5144c74",
   "metadata": {},
   "source": [
    "Model 2"
   ]
  },
  {
   "cell_type": "markdown",
   "id": "4e563228",
   "metadata": {},
   "source": [
    "### 7. Which model performs best on your out-of-sample data, the validate set?"
   ]
  },
  {
   "cell_type": "code",
   "execution_count": 37,
   "id": "1fdda672",
   "metadata": {},
   "outputs": [
    {
     "name": "stdout",
     "output_type": "stream",
     "text": [
      "              precision    recall  f1-score   support\n",
      "\n",
      "           0       0.85      0.84      0.85       118\n",
      "           1       0.69      0.72      0.70        60\n",
      "\n",
      "    accuracy                           0.80       178\n",
      "   macro avg       0.77      0.78      0.78       178\n",
      "weighted avg       0.80      0.80      0.80       178\n",
      "\n",
      "              precision    recall  f1-score   support\n",
      "\n",
      "           0       0.83      0.94      0.88       118\n",
      "           1       0.84      0.62      0.71        60\n",
      "\n",
      "    accuracy                           0.83       178\n",
      "   macro avg       0.83      0.78      0.80       178\n",
      "weighted avg       0.83      0.83      0.82       178\n",
      "\n"
     ]
    }
   ],
   "source": [
    "#t_classf = DecisionTreeClassifier()\n",
    "#t_classf = t_classf.fit(x_tr, y_tr)\n",
    "\n",
    "#y_predict = t_classf.predict(x_tr)\n",
    "#y_predict_prob = t_classf.predict_proba(x_tr)\n",
    "y_predict = t_classf.predict(x_val)\n",
    "y_predict2 = t_classf2.predict(x_val)\n",
    "\n",
    "print(classification_report(y_val, y_predict))\n",
    "print(classification_report(y_val, y_predict2))"
   ]
  },
  {
   "cell_type": "markdown",
   "id": "7c4f8627",
   "metadata": {},
   "source": [
    "# 1. Work through these same exercises using the Telco dataset."
   ]
  },
  {
   "cell_type": "code",
   "execution_count": 38,
   "id": "a021a739",
   "metadata": {},
   "outputs": [],
   "source": [
    "telco = acquire.grab_telco_data()"
   ]
  },
  {
   "cell_type": "code",
   "execution_count": 39,
   "id": "09f08a0d",
   "metadata": {},
   "outputs": [
    {
     "data": {
      "text/html": [
       "<div>\n",
       "<style scoped>\n",
       "    .dataframe tbody tr th:only-of-type {\n",
       "        vertical-align: middle;\n",
       "    }\n",
       "\n",
       "    .dataframe tbody tr th {\n",
       "        vertical-align: top;\n",
       "    }\n",
       "\n",
       "    .dataframe thead th {\n",
       "        text-align: right;\n",
       "    }\n",
       "</style>\n",
       "<table border=\"1\" class=\"dataframe\">\n",
       "  <thead>\n",
       "    <tr style=\"text-align: right;\">\n",
       "      <th></th>\n",
       "      <th>internet_service_type_id</th>\n",
       "      <th>payment_type_id</th>\n",
       "      <th>contract_type_id</th>\n",
       "      <th>customer_id</th>\n",
       "      <th>senior_citizen</th>\n",
       "      <th>tenure</th>\n",
       "      <th>monthly_charges</th>\n",
       "      <th>total_charges</th>\n",
       "      <th>streaming_tv_Yes</th>\n",
       "      <th>streaming_movies_Yes</th>\n",
       "      <th>...</th>\n",
       "      <th>churn_Yes</th>\n",
       "      <th>gender_Male</th>\n",
       "      <th>partner_Yes</th>\n",
       "      <th>dependents_Yes</th>\n",
       "      <th>phone_service_Yes</th>\n",
       "      <th>online_backup_Yes</th>\n",
       "      <th>device_protection_Yes</th>\n",
       "      <th>tech_support_Yes</th>\n",
       "      <th>online_security_Yes</th>\n",
       "      <th>multiple_lines_Yes</th>\n",
       "    </tr>\n",
       "  </thead>\n",
       "  <tbody>\n",
       "    <tr>\n",
       "      <th>0</th>\n",
       "      <td>1</td>\n",
       "      <td>2</td>\n",
       "      <td>2</td>\n",
       "      <td>0002-ORFBO</td>\n",
       "      <td>0</td>\n",
       "      <td>9</td>\n",
       "      <td>65.6</td>\n",
       "      <td>593.3</td>\n",
       "      <td>1</td>\n",
       "      <td>0</td>\n",
       "      <td>...</td>\n",
       "      <td>0</td>\n",
       "      <td>0</td>\n",
       "      <td>1</td>\n",
       "      <td>1</td>\n",
       "      <td>1</td>\n",
       "      <td>1</td>\n",
       "      <td>0</td>\n",
       "      <td>1</td>\n",
       "      <td>0</td>\n",
       "      <td>0</td>\n",
       "    </tr>\n",
       "    <tr>\n",
       "      <th>1</th>\n",
       "      <td>1</td>\n",
       "      <td>2</td>\n",
       "      <td>1</td>\n",
       "      <td>0003-MKNFE</td>\n",
       "      <td>0</td>\n",
       "      <td>9</td>\n",
       "      <td>59.9</td>\n",
       "      <td>542.4</td>\n",
       "      <td>0</td>\n",
       "      <td>1</td>\n",
       "      <td>...</td>\n",
       "      <td>0</td>\n",
       "      <td>1</td>\n",
       "      <td>0</td>\n",
       "      <td>0</td>\n",
       "      <td>1</td>\n",
       "      <td>0</td>\n",
       "      <td>0</td>\n",
       "      <td>0</td>\n",
       "      <td>0</td>\n",
       "      <td>1</td>\n",
       "    </tr>\n",
       "    <tr>\n",
       "      <th>2</th>\n",
       "      <td>2</td>\n",
       "      <td>1</td>\n",
       "      <td>1</td>\n",
       "      <td>0004-TLHLJ</td>\n",
       "      <td>0</td>\n",
       "      <td>4</td>\n",
       "      <td>73.9</td>\n",
       "      <td>280.85</td>\n",
       "      <td>0</td>\n",
       "      <td>0</td>\n",
       "      <td>...</td>\n",
       "      <td>1</td>\n",
       "      <td>1</td>\n",
       "      <td>0</td>\n",
       "      <td>0</td>\n",
       "      <td>1</td>\n",
       "      <td>0</td>\n",
       "      <td>1</td>\n",
       "      <td>0</td>\n",
       "      <td>0</td>\n",
       "      <td>0</td>\n",
       "    </tr>\n",
       "    <tr>\n",
       "      <th>3</th>\n",
       "      <td>2</td>\n",
       "      <td>1</td>\n",
       "      <td>1</td>\n",
       "      <td>0011-IGKFF</td>\n",
       "      <td>1</td>\n",
       "      <td>13</td>\n",
       "      <td>98.0</td>\n",
       "      <td>1237.85</td>\n",
       "      <td>1</td>\n",
       "      <td>1</td>\n",
       "      <td>...</td>\n",
       "      <td>1</td>\n",
       "      <td>1</td>\n",
       "      <td>1</td>\n",
       "      <td>0</td>\n",
       "      <td>1</td>\n",
       "      <td>1</td>\n",
       "      <td>1</td>\n",
       "      <td>0</td>\n",
       "      <td>0</td>\n",
       "      <td>0</td>\n",
       "    </tr>\n",
       "    <tr>\n",
       "      <th>4</th>\n",
       "      <td>2</td>\n",
       "      <td>2</td>\n",
       "      <td>1</td>\n",
       "      <td>0013-EXCHZ</td>\n",
       "      <td>1</td>\n",
       "      <td>3</td>\n",
       "      <td>83.9</td>\n",
       "      <td>267.4</td>\n",
       "      <td>1</td>\n",
       "      <td>0</td>\n",
       "      <td>...</td>\n",
       "      <td>1</td>\n",
       "      <td>0</td>\n",
       "      <td>1</td>\n",
       "      <td>0</td>\n",
       "      <td>1</td>\n",
       "      <td>0</td>\n",
       "      <td>0</td>\n",
       "      <td>1</td>\n",
       "      <td>0</td>\n",
       "      <td>0</td>\n",
       "    </tr>\n",
       "  </tbody>\n",
       "</table>\n",
       "<p>5 rows × 21 columns</p>\n",
       "</div>"
      ],
      "text/plain": [
       "   internet_service_type_id  payment_type_id  contract_type_id customer_id  \\\n",
       "0                         1                2                 2  0002-ORFBO   \n",
       "1                         1                2                 1  0003-MKNFE   \n",
       "2                         2                1                 1  0004-TLHLJ   \n",
       "3                         2                1                 1  0011-IGKFF   \n",
       "4                         2                2                 1  0013-EXCHZ   \n",
       "\n",
       "   senior_citizen  tenure  monthly_charges total_charges  streaming_tv_Yes  \\\n",
       "0               0       9             65.6         593.3                 1   \n",
       "1               0       9             59.9         542.4                 0   \n",
       "2               0       4             73.9        280.85                 0   \n",
       "3               1      13             98.0       1237.85                 1   \n",
       "4               1       3             83.9         267.4                 1   \n",
       "\n",
       "   streaming_movies_Yes  ...  churn_Yes  gender_Male  partner_Yes  \\\n",
       "0                     0  ...          0            0            1   \n",
       "1                     1  ...          0            1            0   \n",
       "2                     0  ...          1            1            0   \n",
       "3                     1  ...          1            1            1   \n",
       "4                     0  ...          1            0            1   \n",
       "\n",
       "   dependents_Yes  phone_service_Yes  online_backup_Yes  \\\n",
       "0               1                  1                  1   \n",
       "1               0                  1                  0   \n",
       "2               0                  1                  0   \n",
       "3               0                  1                  1   \n",
       "4               0                  1                  0   \n",
       "\n",
       "   device_protection_Yes  tech_support_Yes  online_security_Yes  \\\n",
       "0                      0                 1                    0   \n",
       "1                      0                 0                    0   \n",
       "2                      1                 0                    0   \n",
       "3                      1                 0                    0   \n",
       "4                      0                 1                    0   \n",
       "\n",
       "   multiple_lines_Yes  \n",
       "0                   0  \n",
       "1                   1  \n",
       "2                   0  \n",
       "3                   0  \n",
       "4                   0  \n",
       "\n",
       "[5 rows x 21 columns]"
      ]
     },
     "execution_count": 39,
     "metadata": {},
     "output_type": "execute_result"
    }
   ],
   "source": [
    "telco = acquire.prep_telco(telco)\n",
    "telco.head()"
   ]
  },
  {
   "cell_type": "code",
   "execution_count": 40,
   "id": "22795436",
   "metadata": {},
   "outputs": [
    {
     "data": {
      "text/plain": [
       "((4225, 21), (1409, 21), (1409, 21))"
      ]
     },
     "execution_count": 40,
     "metadata": {},
     "output_type": "execute_result"
    }
   ],
   "source": [
    "tel_train, tel_validate, tel_test = acquire.split(telco)\n",
    "tel_train.shape, tel_validate.shape, tel_test.shape"
   ]
  },
  {
   "cell_type": "markdown",
   "id": "8fc81c1b",
   "metadata": {},
   "source": [
    "# 2. Experiment with this model on other datasets with a higher number of output classes."
   ]
  },
  {
   "cell_type": "markdown",
   "id": "91d16163",
   "metadata": {},
   "source": [
    "## Iris:"
   ]
  },
  {
   "cell_type": "markdown",
   "id": "54c3938c",
   "metadata": {},
   "source": [
    "### Acquire the data"
   ]
  },
  {
   "cell_type": "code",
   "execution_count": 41,
   "id": "e93865fb",
   "metadata": {
    "scrolled": true
   },
   "outputs": [
    {
     "data": {
      "text/html": [
       "<div>\n",
       "<style scoped>\n",
       "    .dataframe tbody tr th:only-of-type {\n",
       "        vertical-align: middle;\n",
       "    }\n",
       "\n",
       "    .dataframe tbody tr th {\n",
       "        vertical-align: top;\n",
       "    }\n",
       "\n",
       "    .dataframe thead th {\n",
       "        text-align: right;\n",
       "    }\n",
       "</style>\n",
       "<table border=\"1\" class=\"dataframe\">\n",
       "  <thead>\n",
       "    <tr style=\"text-align: right;\">\n",
       "      <th></th>\n",
       "      <th>Unnamed: 0</th>\n",
       "      <th>species_id</th>\n",
       "      <th>measurement_id</th>\n",
       "      <th>sepal_length</th>\n",
       "      <th>sepal_width</th>\n",
       "      <th>petal_length</th>\n",
       "      <th>petal_width</th>\n",
       "      <th>species_name</th>\n",
       "    </tr>\n",
       "  </thead>\n",
       "  <tbody>\n",
       "    <tr>\n",
       "      <th>0</th>\n",
       "      <td>0</td>\n",
       "      <td>1</td>\n",
       "      <td>1</td>\n",
       "      <td>5.1</td>\n",
       "      <td>3.5</td>\n",
       "      <td>1.4</td>\n",
       "      <td>0.2</td>\n",
       "      <td>setosa</td>\n",
       "    </tr>\n",
       "    <tr>\n",
       "      <th>1</th>\n",
       "      <td>1</td>\n",
       "      <td>1</td>\n",
       "      <td>2</td>\n",
       "      <td>4.9</td>\n",
       "      <td>3.0</td>\n",
       "      <td>1.4</td>\n",
       "      <td>0.2</td>\n",
       "      <td>setosa</td>\n",
       "    </tr>\n",
       "    <tr>\n",
       "      <th>2</th>\n",
       "      <td>2</td>\n",
       "      <td>1</td>\n",
       "      <td>3</td>\n",
       "      <td>4.7</td>\n",
       "      <td>3.2</td>\n",
       "      <td>1.3</td>\n",
       "      <td>0.2</td>\n",
       "      <td>setosa</td>\n",
       "    </tr>\n",
       "    <tr>\n",
       "      <th>3</th>\n",
       "      <td>3</td>\n",
       "      <td>1</td>\n",
       "      <td>4</td>\n",
       "      <td>4.6</td>\n",
       "      <td>3.1</td>\n",
       "      <td>1.5</td>\n",
       "      <td>0.2</td>\n",
       "      <td>setosa</td>\n",
       "    </tr>\n",
       "    <tr>\n",
       "      <th>4</th>\n",
       "      <td>4</td>\n",
       "      <td>1</td>\n",
       "      <td>5</td>\n",
       "      <td>5.0</td>\n",
       "      <td>3.6</td>\n",
       "      <td>1.4</td>\n",
       "      <td>0.2</td>\n",
       "      <td>setosa</td>\n",
       "    </tr>\n",
       "  </tbody>\n",
       "</table>\n",
       "</div>"
      ],
      "text/plain": [
       "   Unnamed: 0  species_id  measurement_id  sepal_length  sepal_width  \\\n",
       "0           0           1               1           5.1          3.5   \n",
       "1           1           1               2           4.9          3.0   \n",
       "2           2           1               3           4.7          3.2   \n",
       "3           3           1               4           4.6          3.1   \n",
       "4           4           1               5           5.0          3.6   \n",
       "\n",
       "   petal_length  petal_width species_name  \n",
       "0           1.4          0.2       setosa  \n",
       "1           1.4          0.2       setosa  \n",
       "2           1.3          0.2       setosa  \n",
       "3           1.5          0.2       setosa  \n",
       "4           1.4          0.2       setosa  "
      ]
     },
     "execution_count": 41,
     "metadata": {},
     "output_type": "execute_result"
    }
   ],
   "source": [
    "iris = acquire.grab_iris_data()\n",
    "iris.head()"
   ]
  },
  {
   "cell_type": "markdown",
   "id": "e38a14a4",
   "metadata": {},
   "source": [
    "### Prepare the data"
   ]
  },
  {
   "cell_type": "code",
   "execution_count": 42,
   "id": "aaf2cbb5",
   "metadata": {
    "scrolled": true
   },
   "outputs": [
    {
     "data": {
      "text/html": [
       "<div>\n",
       "<style scoped>\n",
       "    .dataframe tbody tr th:only-of-type {\n",
       "        vertical-align: middle;\n",
       "    }\n",
       "\n",
       "    .dataframe tbody tr th {\n",
       "        vertical-align: top;\n",
       "    }\n",
       "\n",
       "    .dataframe thead th {\n",
       "        text-align: right;\n",
       "    }\n",
       "</style>\n",
       "<table border=\"1\" class=\"dataframe\">\n",
       "  <thead>\n",
       "    <tr style=\"text-align: right;\">\n",
       "      <th></th>\n",
       "      <th>measurement_id</th>\n",
       "      <th>sepal_length</th>\n",
       "      <th>sepal_width</th>\n",
       "      <th>petal_length</th>\n",
       "      <th>petal_width</th>\n",
       "      <th>species</th>\n",
       "    </tr>\n",
       "  </thead>\n",
       "  <tbody>\n",
       "    <tr>\n",
       "      <th>145</th>\n",
       "      <td>146</td>\n",
       "      <td>6.7</td>\n",
       "      <td>3.0</td>\n",
       "      <td>5.2</td>\n",
       "      <td>2.3</td>\n",
       "      <td>3</td>\n",
       "    </tr>\n",
       "    <tr>\n",
       "      <th>146</th>\n",
       "      <td>147</td>\n",
       "      <td>6.3</td>\n",
       "      <td>2.5</td>\n",
       "      <td>5.0</td>\n",
       "      <td>1.9</td>\n",
       "      <td>3</td>\n",
       "    </tr>\n",
       "    <tr>\n",
       "      <th>147</th>\n",
       "      <td>148</td>\n",
       "      <td>6.5</td>\n",
       "      <td>3.0</td>\n",
       "      <td>5.2</td>\n",
       "      <td>2.0</td>\n",
       "      <td>3</td>\n",
       "    </tr>\n",
       "    <tr>\n",
       "      <th>148</th>\n",
       "      <td>149</td>\n",
       "      <td>6.2</td>\n",
       "      <td>3.4</td>\n",
       "      <td>5.4</td>\n",
       "      <td>2.3</td>\n",
       "      <td>3</td>\n",
       "    </tr>\n",
       "    <tr>\n",
       "      <th>149</th>\n",
       "      <td>150</td>\n",
       "      <td>5.9</td>\n",
       "      <td>3.0</td>\n",
       "      <td>5.1</td>\n",
       "      <td>1.8</td>\n",
       "      <td>3</td>\n",
       "    </tr>\n",
       "  </tbody>\n",
       "</table>\n",
       "</div>"
      ],
      "text/plain": [
       "     measurement_id  sepal_length  sepal_width  petal_length  petal_width  \\\n",
       "145             146           6.7          3.0           5.2          2.3   \n",
       "146             147           6.3          2.5           5.0          1.9   \n",
       "147             148           6.5          3.0           5.2          2.0   \n",
       "148             149           6.2          3.4           5.4          2.3   \n",
       "149             150           5.9          3.0           5.1          1.8   \n",
       "\n",
       "     species  \n",
       "145        3  \n",
       "146        3  \n",
       "147        3  \n",
       "148        3  \n",
       "149        3  "
      ]
     },
     "execution_count": 42,
     "metadata": {},
     "output_type": "execute_result"
    }
   ],
   "source": [
    "iris = acquire.prep_iris(iris)\n",
    "iris.tail()"
   ]
  },
  {
   "cell_type": "markdown",
   "id": "997f4449",
   "metadata": {},
   "source": [
    "### Split the data"
   ]
  },
  {
   "cell_type": "code",
   "execution_count": 43,
   "id": "df851b96",
   "metadata": {},
   "outputs": [
    {
     "data": {
      "text/plain": [
       "((90, 6), (30, 6), (30, 6))"
      ]
     },
     "execution_count": 43,
     "metadata": {},
     "output_type": "execute_result"
    }
   ],
   "source": [
    "i_train, i_validate, i_test = acquire.split(iris)\n",
    "i_train.shape, i_validate.shape, i_test.shape"
   ]
  },
  {
   "cell_type": "markdown",
   "id": "2728fe4e",
   "metadata": {},
   "source": [
    "### Look at the train data"
   ]
  },
  {
   "cell_type": "code",
   "execution_count": 44,
   "id": "9f64506f",
   "metadata": {},
   "outputs": [
    {
     "data": {
      "text/html": [
       "<div>\n",
       "<style scoped>\n",
       "    .dataframe tbody tr th:only-of-type {\n",
       "        vertical-align: middle;\n",
       "    }\n",
       "\n",
       "    .dataframe tbody tr th {\n",
       "        vertical-align: top;\n",
       "    }\n",
       "\n",
       "    .dataframe thead th {\n",
       "        text-align: right;\n",
       "    }\n",
       "</style>\n",
       "<table border=\"1\" class=\"dataframe\">\n",
       "  <thead>\n",
       "    <tr style=\"text-align: right;\">\n",
       "      <th></th>\n",
       "      <th>measurement_id</th>\n",
       "      <th>sepal_length</th>\n",
       "      <th>sepal_width</th>\n",
       "      <th>petal_length</th>\n",
       "      <th>petal_width</th>\n",
       "      <th>species</th>\n",
       "    </tr>\n",
       "  </thead>\n",
       "  <tbody>\n",
       "    <tr>\n",
       "      <th>124</th>\n",
       "      <td>125</td>\n",
       "      <td>6.7</td>\n",
       "      <td>3.3</td>\n",
       "      <td>5.7</td>\n",
       "      <td>2.1</td>\n",
       "      <td>3</td>\n",
       "    </tr>\n",
       "    <tr>\n",
       "      <th>118</th>\n",
       "      <td>119</td>\n",
       "      <td>7.7</td>\n",
       "      <td>2.6</td>\n",
       "      <td>6.9</td>\n",
       "      <td>2.3</td>\n",
       "      <td>3</td>\n",
       "    </tr>\n",
       "    <tr>\n",
       "      <th>70</th>\n",
       "      <td>71</td>\n",
       "      <td>5.9</td>\n",
       "      <td>3.2</td>\n",
       "      <td>4.8</td>\n",
       "      <td>1.8</td>\n",
       "      <td>2</td>\n",
       "    </tr>\n",
       "    <tr>\n",
       "      <th>33</th>\n",
       "      <td>34</td>\n",
       "      <td>5.5</td>\n",
       "      <td>4.2</td>\n",
       "      <td>1.4</td>\n",
       "      <td>0.2</td>\n",
       "      <td>1</td>\n",
       "    </tr>\n",
       "    <tr>\n",
       "      <th>26</th>\n",
       "      <td>27</td>\n",
       "      <td>5.0</td>\n",
       "      <td>3.4</td>\n",
       "      <td>1.6</td>\n",
       "      <td>0.4</td>\n",
       "      <td>1</td>\n",
       "    </tr>\n",
       "  </tbody>\n",
       "</table>\n",
       "</div>"
      ],
      "text/plain": [
       "     measurement_id  sepal_length  sepal_width  petal_length  petal_width  \\\n",
       "124             125           6.7          3.3           5.7          2.1   \n",
       "118             119           7.7          2.6           6.9          2.3   \n",
       "70               71           5.9          3.2           4.8          1.8   \n",
       "33               34           5.5          4.2           1.4          0.2   \n",
       "26               27           5.0          3.4           1.6          0.4   \n",
       "\n",
       "     species  \n",
       "124        3  \n",
       "118        3  \n",
       "70         2  \n",
       "33         1  \n",
       "26         1  "
      ]
     },
     "execution_count": 44,
     "metadata": {},
     "output_type": "execute_result"
    }
   ],
   "source": [
    "i_train.head()"
   ]
  },
  {
   "cell_type": "markdown",
   "id": "96fa0d77",
   "metadata": {},
   "source": [
    "### Determine the baseline"
   ]
  },
  {
   "cell_type": "code",
   "execution_count": 45,
   "id": "62f40bb2",
   "metadata": {},
   "outputs": [
    {
     "name": "stdout",
     "output_type": "stream",
     "text": [
      "The most common value is: 3\n",
      "Baseline accuracy: 36.666666666666664\n"
     ]
    }
   ],
   "source": [
    "print(f'The most common value is: {i_train.species.value_counts().idxmax()}')\n",
    "print('Baseline accuracy:', len(i_train[i_train.species == 3]) / len(i_train) * 100)"
   ]
  },
  {
   "cell_type": "markdown",
   "id": "284bdf93",
   "metadata": {},
   "source": [
    "### Create X, Y Train"
   ]
  },
  {
   "cell_type": "code",
   "execution_count": 46,
   "id": "4dc9a99c",
   "metadata": {},
   "outputs": [],
   "source": [
    "x_train = i_train.drop(columns=('species'))\n",
    "y_train = i_train.species\n",
    "\n",
    "x_validate = i_validate.drop(columns=('species'))\n",
    "y_validate = i_validate.species\n",
    "\n",
    "x_test = i_test.drop(columns='species')\n",
    "y_test = i_test.species"
   ]
  },
  {
   "cell_type": "markdown",
   "id": "3a6d5cc2",
   "metadata": {},
   "source": [
    "### Fit the models"
   ]
  },
  {
   "cell_type": "code",
   "execution_count": 47,
   "id": "1e85026c",
   "metadata": {},
   "outputs": [],
   "source": [
    "tree1 = DecisionTreeClassifier(max_depth=10)\n",
    "tree2 = DecisionTreeClassifier(max_depth=15)\n",
    "\n",
    "tree1 = tree1.fit(x_train, y_train)\n",
    "tree2 = tree2.fit(x_train, y_train)\n",
    "\n",
    "y_predict1 = tree1.predict(x_train)\n",
    "y_predict2 = tree2.predict(x_train)\n",
    "\n",
    "y_pred_prob1 = tree1.predict_proba(x_train)\n",
    "y_pred_prob2 = tree2.predict_proba(x_train)"
   ]
  },
  {
   "cell_type": "markdown",
   "id": "ac753651",
   "metadata": {},
   "source": [
    "### Determine model score"
   ]
  },
  {
   "cell_type": "code",
   "execution_count": 48,
   "id": "82afab96",
   "metadata": {},
   "outputs": [
    {
     "name": "stdout",
     "output_type": "stream",
     "text": [
      "Model 1 score: 100.00%\n",
      "Model 2 score: 100.00%\n"
     ]
    }
   ],
   "source": [
    "print(f'Model 1 score: {tree1.score(x_train, y_train):.2%}')\n",
    "print(f'Model 2 score: {tree2.score(x_train, y_train):.2%}')"
   ]
  },
  {
   "cell_type": "markdown",
   "id": "9db301a1",
   "metadata": {},
   "source": [
    "### Create Confusion Matrix"
   ]
  },
  {
   "cell_type": "code",
   "execution_count": 49,
   "id": "31c4da7d",
   "metadata": {},
   "outputs": [
    {
     "name": "stdout",
     "output_type": "stream",
     "text": [
      "    0   1   2\n",
      "0  31   0   0\n",
      "1   0  26   0\n",
      "2   0   0  33\n",
      "\n",
      "    0   1   2\n",
      "0  31   0   0\n",
      "1   0  26   0\n",
      "2   0   0  33\n"
     ]
    }
   ],
   "source": [
    "cm1 = confusion_matrix(y_train, y_predict1)\n",
    "cm2 = confusion_matrix(y_train, y_predict2)\n",
    "\n",
    "print(pd.DataFrame(cm1))\n",
    "print()\n",
    "print(pd.DataFrame(cm2))"
   ]
  },
  {
   "cell_type": "markdown",
   "id": "f4f81585",
   "metadata": {},
   "source": [
    "### Classification Report"
   ]
  },
  {
   "cell_type": "code",
   "execution_count": 50,
   "id": "3325df4f",
   "metadata": {},
   "outputs": [
    {
     "name": "stdout",
     "output_type": "stream",
     "text": [
      "              1     2     3  accuracy  macro avg  weighted avg\n",
      "precision   1.0   1.0   1.0       1.0        1.0           1.0\n",
      "recall      1.0   1.0   1.0       1.0        1.0           1.0\n",
      "f1-score    1.0   1.0   1.0       1.0        1.0           1.0\n",
      "support    31.0  26.0  33.0       1.0       90.0          90.0\n",
      "              1     2     3  accuracy  macro avg  weighted avg\n",
      "precision   1.0   1.0   1.0       1.0        1.0           1.0\n",
      "recall      1.0   1.0   1.0       1.0        1.0           1.0\n",
      "f1-score    1.0   1.0   1.0       1.0        1.0           1.0\n",
      "support    31.0  26.0  33.0       1.0       90.0          90.0\n"
     ]
    }
   ],
   "source": [
    "print(pd.DataFrame(classification_report(y_train, y_predict1, output_dict=True)))\n",
    "print(pd.DataFrame(classification_report(y_train, y_predict2, output_dict=True)))"
   ]
  },
  {
   "cell_type": "markdown",
   "id": "031c6a07",
   "metadata": {},
   "source": [
    "## Compare with validation data\n",
    "**(another classification report on validate)**"
   ]
  },
  {
   "cell_type": "code",
   "execution_count": 51,
   "id": "8173100c",
   "metadata": {},
   "outputs": [
    {
     "name": "stdout",
     "output_type": "stream",
     "text": [
      "              precision    recall  f1-score   support\n",
      "\n",
      "           1       1.00      1.00      1.00        10\n",
      "           2       0.92      1.00      0.96        11\n",
      "           3       1.00      0.89      0.94         9\n",
      "\n",
      "    accuracy                           0.97        30\n",
      "   macro avg       0.97      0.96      0.97        30\n",
      "weighted avg       0.97      0.97      0.97        30\n",
      "\n",
      "              precision    recall  f1-score   support\n",
      "\n",
      "           1       0.91      1.00      0.95        10\n",
      "           2       0.91      0.91      0.91        11\n",
      "           3       1.00      0.89      0.94         9\n",
      "\n",
      "    accuracy                           0.93        30\n",
      "   macro avg       0.94      0.93      0.93        30\n",
      "weighted avg       0.94      0.93      0.93        30\n",
      "\n"
     ]
    }
   ],
   "source": [
    "y_predict1 = tree1.predict(x_validate)\n",
    "y_predict2 = tree2.predict(x_validate)\n",
    "print(classification_report(y_validate, y_predict1))\n",
    "print(classification_report(y_validate, y_predict2))"
   ]
  },
  {
   "cell_type": "markdown",
   "id": "bcebabd3",
   "metadata": {},
   "source": [
    "# --------------------------------------------------------------------------"
   ]
  },
  {
   "cell_type": "markdown",
   "id": "28055835",
   "metadata": {},
   "source": [
    "# Lesson: Random Forest"
   ]
  },
  {
   "cell_type": "markdown",
   "id": "7ae9e904",
   "metadata": {},
   "source": [
    "## 1. Fit the Random Forest classifier to your training sample and transform (i.e. make predictions on the training sample) setting the random_state accordingly and setting min_samples_leaf = 1 and max_depth = 10."
   ]
  },
  {
   "cell_type": "code",
   "execution_count": 52,
   "id": "4f2f975a",
   "metadata": {},
   "outputs": [],
   "source": [
    "titanic2 = acquire.grab_titanic_data()"
   ]
  },
  {
   "cell_type": "code",
   "execution_count": 53,
   "id": "4268c292",
   "metadata": {
    "scrolled": true
   },
   "outputs": [
    {
     "data": {
      "text/html": [
       "<div>\n",
       "<style scoped>\n",
       "    .dataframe tbody tr th:only-of-type {\n",
       "        vertical-align: middle;\n",
       "    }\n",
       "\n",
       "    .dataframe tbody tr th {\n",
       "        vertical-align: top;\n",
       "    }\n",
       "\n",
       "    .dataframe thead th {\n",
       "        text-align: right;\n",
       "    }\n",
       "</style>\n",
       "<table border=\"1\" class=\"dataframe\">\n",
       "  <thead>\n",
       "    <tr style=\"text-align: right;\">\n",
       "      <th></th>\n",
       "      <th>survived</th>\n",
       "      <th>pclass</th>\n",
       "      <th>isMale</th>\n",
       "      <th>age</th>\n",
       "      <th>sibsp</th>\n",
       "      <th>parch</th>\n",
       "      <th>fare</th>\n",
       "      <th>embark_town</th>\n",
       "      <th>alone</th>\n",
       "    </tr>\n",
       "  </thead>\n",
       "  <tbody>\n",
       "    <tr>\n",
       "      <th>0</th>\n",
       "      <td>0</td>\n",
       "      <td>3</td>\n",
       "      <td>1</td>\n",
       "      <td>22.0</td>\n",
       "      <td>1</td>\n",
       "      <td>0</td>\n",
       "      <td>7.2500</td>\n",
       "      <td>1.0</td>\n",
       "      <td>0</td>\n",
       "    </tr>\n",
       "    <tr>\n",
       "      <th>1</th>\n",
       "      <td>1</td>\n",
       "      <td>1</td>\n",
       "      <td>0</td>\n",
       "      <td>38.0</td>\n",
       "      <td>1</td>\n",
       "      <td>0</td>\n",
       "      <td>71.2833</td>\n",
       "      <td>2.0</td>\n",
       "      <td>0</td>\n",
       "    </tr>\n",
       "    <tr>\n",
       "      <th>2</th>\n",
       "      <td>1</td>\n",
       "      <td>3</td>\n",
       "      <td>0</td>\n",
       "      <td>26.0</td>\n",
       "      <td>0</td>\n",
       "      <td>0</td>\n",
       "      <td>7.9250</td>\n",
       "      <td>1.0</td>\n",
       "      <td>1</td>\n",
       "    </tr>\n",
       "    <tr>\n",
       "      <th>3</th>\n",
       "      <td>1</td>\n",
       "      <td>1</td>\n",
       "      <td>0</td>\n",
       "      <td>35.0</td>\n",
       "      <td>1</td>\n",
       "      <td>0</td>\n",
       "      <td>53.1000</td>\n",
       "      <td>1.0</td>\n",
       "      <td>0</td>\n",
       "    </tr>\n",
       "    <tr>\n",
       "      <th>4</th>\n",
       "      <td>0</td>\n",
       "      <td>3</td>\n",
       "      <td>1</td>\n",
       "      <td>35.0</td>\n",
       "      <td>0</td>\n",
       "      <td>0</td>\n",
       "      <td>8.0500</td>\n",
       "      <td>1.0</td>\n",
       "      <td>1</td>\n",
       "    </tr>\n",
       "  </tbody>\n",
       "</table>\n",
       "</div>"
      ],
      "text/plain": [
       "   survived  pclass isMale   age  sibsp  parch     fare  embark_town  alone\n",
       "0         0       3      1  22.0      1      0   7.2500          1.0      0\n",
       "1         1       1      0  38.0      1      0  71.2833          2.0      0\n",
       "2         1       3      0  26.0      0      0   7.9250          1.0      1\n",
       "3         1       1      0  35.0      1      0  53.1000          1.0      0\n",
       "4         0       3      1  35.0      0      0   8.0500          1.0      1"
      ]
     },
     "execution_count": 53,
     "metadata": {},
     "output_type": "execute_result"
    }
   ],
   "source": [
    "titanic2 = acquire.prep_titanic(titanic2)\n",
    "titanic2.head()"
   ]
  },
  {
   "cell_type": "code",
   "execution_count": 54,
   "id": "bd6e0398",
   "metadata": {
    "scrolled": true
   },
   "outputs": [
    {
     "name": "stdout",
     "output_type": "stream",
     "text": [
      "<class 'pandas.core.frame.DataFrame'>\n",
      "RangeIndex: 891 entries, 0 to 890\n",
      "Data columns (total 9 columns):\n",
      " #   Column       Non-Null Count  Dtype  \n",
      "---  ------       --------------  -----  \n",
      " 0   survived     891 non-null    int64  \n",
      " 1   pclass       891 non-null    int64  \n",
      " 2   isMale       891 non-null    object \n",
      " 3   age          891 non-null    float64\n",
      " 4   sibsp        891 non-null    int64  \n",
      " 5   parch        891 non-null    int64  \n",
      " 6   fare         891 non-null    float64\n",
      " 7   embark_town  891 non-null    float64\n",
      " 8   alone        891 non-null    int64  \n",
      "dtypes: float64(3), int64(5), object(1)\n",
      "memory usage: 62.8+ KB\n"
     ]
    }
   ],
   "source": [
    "titanic2.info()"
   ]
  },
  {
   "cell_type": "code",
   "execution_count": 57,
   "id": "393179de",
   "metadata": {},
   "outputs": [
    {
     "data": {
      "text/plain": [
       "((534, 9), (178, 9), (179, 9))"
      ]
     },
     "execution_count": 57,
     "metadata": {},
     "output_type": "execute_result"
    }
   ],
   "source": [
    "train_t2, validate_t2, test_t2 = acquire.split(titanic2)\n",
    "train_t2.shape, validate_t2.shape, test_t2.shape"
   ]
  },
  {
   "cell_type": "code",
   "execution_count": 58,
   "id": "25be0f90",
   "metadata": {},
   "outputs": [],
   "source": [
    "X_train = train_t2.drop(columns=[\"survived\"])\n",
    "y_train = train_t2.survived\n",
    "\n",
    "X_validate = validate_t2.drop(columns=[\"survived\"])\n",
    "y_validate = validate_t2.survived\n",
    "\n",
    "X_test = test_t2.drop(columns=[\"survived\"])\n",
    "y_test = test_t2.survived"
   ]
  },
  {
   "cell_type": "code",
   "execution_count": 59,
   "id": "03b51b6b",
   "metadata": {},
   "outputs": [
    {
     "data": {
      "text/plain": [
       "0    0\n",
       "Name: survived, dtype: int64"
      ]
     },
     "execution_count": 59,
     "metadata": {},
     "output_type": "execute_result"
    }
   ],
   "source": [
    "y_train.mode()"
   ]
  },
  {
   "cell_type": "code",
   "execution_count": 61,
   "id": "65e10482",
   "metadata": {
    "scrolled": true
   },
   "outputs": [
    {
     "data": {
      "text/plain": [
       "0    320\n",
       "1    214\n",
       "Name: survived, dtype: int64"
      ]
     },
     "execution_count": 61,
     "metadata": {},
     "output_type": "execute_result"
    }
   ],
   "source": [
    "y_train.value_counts()"
   ]
  },
  {
   "cell_type": "code",
   "execution_count": 65,
   "id": "71d667ed",
   "metadata": {},
   "outputs": [
    {
     "data": {
      "text/plain": [
       "0.599250936329588"
      ]
     },
     "execution_count": 65,
     "metadata": {},
     "output_type": "execute_result"
    }
   ],
   "source": [
    "baseline_accuracy = 320/(320+214)\n",
    "baseline_accuracy"
   ]
  },
  {
   "cell_type": "code",
   "execution_count": 55,
   "id": "9e33fe61",
   "metadata": {},
   "outputs": [
    {
     "data": {
      "text/plain": [
       "RandomForestClassifier(max_depth=10, random_state=248)"
      ]
     },
     "execution_count": 55,
     "metadata": {},
     "output_type": "execute_result"
    }
   ],
   "source": [
    "my_forest = RandomForestClassifier(max_depth=10, random_state=248)\n",
    "my_forest"
   ]
  },
  {
   "cell_type": "code",
   "execution_count": 66,
   "id": "e346e84e",
   "metadata": {},
   "outputs": [
    {
     "data": {
      "text/plain": [
       "RandomForestClassifier(max_depth=10, random_state=248)"
      ]
     },
     "execution_count": 66,
     "metadata": {},
     "output_type": "execute_result"
    }
   ],
   "source": [
    "my_forest.fit(X_train, y_train)"
   ]
  },
  {
   "cell_type": "code",
   "execution_count": 67,
   "id": "6051da1a",
   "metadata": {},
   "outputs": [],
   "source": [
    "y_pred = my_forest.predict(X_train)"
   ]
  },
  {
   "cell_type": "markdown",
   "id": "f7c420a8",
   "metadata": {},
   "source": [
    "## 2. Evaluate your results using the model score, confusion matrix, and classification report."
   ]
  },
  {
   "cell_type": "markdown",
   "id": "77aea0c4",
   "metadata": {},
   "source": [
    "## 3. Print and clearly label the following: Accuracy, true positive rate, false positive rate, true negative rate, false negative rate, precision, recall, f1-score, and support."
   ]
  },
  {
   "cell_type": "code",
   "execution_count": 69,
   "id": "6225d4a8",
   "metadata": {},
   "outputs": [
    {
     "name": "stdout",
     "output_type": "stream",
     "text": [
      "              precision    recall  f1-score   support\n",
      "\n",
      "           0       0.93      0.99      0.96       320\n",
      "           1       0.98      0.90      0.94       214\n",
      "\n",
      "    accuracy                           0.95       534\n",
      "   macro avg       0.96      0.94      0.95       534\n",
      "weighted avg       0.95      0.95      0.95       534\n",
      "\n"
     ]
    }
   ],
   "source": [
    "print(classification_report(y_train, y_pred))"
   ]
  },
  {
   "cell_type": "code",
   "execution_count": 70,
   "id": "52a627a2",
   "metadata": {},
   "outputs": [
    {
     "data": {
      "text/plain": [
       "(192, 316, 4, 22)"
      ]
     },
     "execution_count": 70,
     "metadata": {},
     "output_type": "execute_result"
    }
   ],
   "source": [
    "TN, FP, FN, TP = confusion_matrix(y_train,y_pred).ravel()\n",
    "ALL = TP + TN + FP + FN\n",
    "\n",
    "TP, TN, FP, FN"
   ]
  },
  {
   "cell_type": "code",
   "execution_count": 71,
   "id": "c105469c",
   "metadata": {},
   "outputs": [
    {
     "name": "stdout",
     "output_type": "stream",
     "text": [
      "Accuracy: 0.951310861423221\n",
      "True Positive Rate: 0.897196261682243\n",
      "False Positive Rate: 0.0125\n",
      "True Negative Rate: 0.9875\n",
      "False Negative Rate: 0.102803738317757\n",
      "Precision: 0.9795918367346939\n",
      "Recall: 0.897196261682243\n",
      "F1 Score: 0.9365853658536586\n",
      "Support (0): 214\n",
      "Support (1): 320\n"
     ]
    }
   ],
   "source": [
    "accuracy = (TP + TN)/ALL\n",
    "print(f\"Accuracy: {accuracy}\")\n",
    "\n",
    "true_positive_rate = TP/(TP+FN)\n",
    "print(f\"True Positive Rate: {true_positive_rate}\")\n",
    "\n",
    "false_positive_rate = FP/(FP+TN)\n",
    "print(f\"False Positive Rate: {false_positive_rate}\")\n",
    "\n",
    "true_negative_rate = TN/(TN+FP)\n",
    "print(f\"True Negative Rate: {true_negative_rate}\")\n",
    "\n",
    "false_negative_rate = FN/(FN+TP)\n",
    "print(f\"False Negative Rate: {false_negative_rate}\")\n",
    "\n",
    "precision = TP/(TP+FP)\n",
    "print(f\"Precision: {precision}\")\n",
    "\n",
    "recall = TP/(TP+FN)\n",
    "print(f\"Recall: {recall}\")\n",
    "\n",
    "f1_score = 2*(precision*recall)/(precision+recall)\n",
    "print(f\"F1 Score: {f1_score}\")\n",
    "\n",
    "support_pos = TP + FN\n",
    "print(f\"Support (0): {support_pos}\")\n",
    "\n",
    "support_neg = FP + TN\n",
    "print(f\"Support (1): {support_neg}\")"
   ]
  },
  {
   "cell_type": "markdown",
   "id": "bc8bb902",
   "metadata": {},
   "source": [
    "## 4. Run through steps increasing your min_samples_leaf and decreasing your max_depth."
   ]
  },
  {
   "cell_type": "code",
   "execution_count": 73,
   "id": "bb79a6f7",
   "metadata": {},
   "outputs": [
    {
     "name": "stdout",
     "output_type": "stream",
     "text": [
      "Tree with max depth of 2\n",
      "                    0           1  accuracy   macro avg  weighted avg\n",
      "precision    0.760000    0.880597  0.790262    0.820299      0.808329\n",
      "recall       0.950000    0.551402  0.790262    0.750701      0.790262\n",
      "f1-score     0.844444    0.678161  0.790262    0.761303      0.777806\n",
      "support    320.000000  214.000000  0.790262  534.000000    534.000000\n",
      "\n",
      "Tree with max depth of 3\n",
      "                    0           1  accuracy   macro avg  weighted avg\n",
      "precision    0.801090    0.844311  0.814607    0.822701      0.818411\n",
      "recall       0.918750    0.658879  0.814607    0.788814      0.814607\n",
      "f1-score     0.855895    0.740157  0.814607    0.798026      0.809513\n",
      "support    320.000000  214.000000  0.814607  534.000000    534.000000\n",
      "\n",
      "Tree with max depth of 4\n",
      "                    0           1  accuracy   macro avg  weighted avg\n",
      "precision    0.817694    0.906832  0.844569    0.862263      0.853416\n",
      "recall       0.953125    0.682243  0.844569    0.817684      0.844569\n",
      "f1-score     0.880231    0.778667  0.844569    0.829449      0.839529\n",
      "support    320.000000  214.000000  0.844569  534.000000    534.000000\n",
      "\n",
      "Tree with max depth of 5\n",
      "                    0           1  accuracy   macro avg  weighted avg\n",
      "precision    0.836512    0.922156  0.863296    0.879334      0.870834\n",
      "recall       0.959375    0.719626  0.863296    0.839501      0.863296\n",
      "f1-score     0.893741    0.808399  0.863296    0.851070      0.859540\n",
      "support    320.000000  214.000000  0.863296  534.000000    534.000000\n",
      "\n",
      "Tree with max depth of 6\n",
      "                    0           1  accuracy   macro avg  weighted avg\n",
      "precision    0.849315    0.940828  0.878277    0.895072      0.885989\n",
      "recall       0.968750    0.742991  0.878277    0.855870      0.878277\n",
      "f1-score     0.905109    0.830287  0.878277    0.867698      0.875125\n",
      "support    320.000000  214.000000  0.878277  534.000000    534.000000\n",
      "\n",
      "Tree with max depth of 7\n",
      "                    0           1  accuracy   macro avg  weighted avg\n",
      "precision    0.904070    0.952632  0.921348    0.928351      0.923531\n",
      "recall       0.971875    0.845794  0.921348    0.908835      0.921348\n",
      "f1-score     0.936747    0.896040  0.921348    0.916393      0.920434\n",
      "support    320.000000  214.000000  0.921348  534.000000    534.000000\n",
      "\n",
      "Tree with max depth of 8\n",
      "                    0           1  accuracy   macro avg  weighted avg\n",
      "precision    0.912536    0.963351  0.930712    0.937944      0.932900\n",
      "recall       0.978125    0.859813  0.930712    0.918969      0.930712\n",
      "f1-score     0.944193    0.908642  0.930712    0.926418      0.929946\n",
      "support    320.000000  214.000000  0.930712  534.000000    534.000000\n",
      "\n",
      "Tree with max depth of 9\n",
      "                    0           1  accuracy   macro avg  weighted avg\n",
      "precision    0.923754    0.974093  0.941948    0.948923      0.943927\n",
      "recall       0.984375    0.878505  0.941948    0.931440      0.941948\n",
      "f1-score     0.953101    0.923833  0.941948    0.938467      0.941372\n",
      "support    320.000000  214.000000  0.941948  534.000000    534.000000\n",
      "\n",
      "Tree with max depth of 10\n",
      "                    0           1  accuracy   macro avg  weighted avg\n",
      "precision    0.934911    0.979592  0.951311    0.957252      0.952817\n",
      "recall       0.987500    0.897196  0.951311    0.942348      0.951311\n",
      "f1-score     0.960486    0.936585  0.951311    0.948536      0.950908\n",
      "support    320.000000  214.000000  0.951311  534.000000    534.000000\n",
      "\n"
     ]
    }
   ],
   "source": [
    "for i in range(2, 11):\n",
    "    # Make the model\n",
    "    my_forest = RandomForestClassifier(max_depth=i, random_state=248)\n",
    "\n",
    "    # Fit the model (on train and only train)\n",
    "    my_forest = my_forest.fit(X_train, y_train)\n",
    "\n",
    "    # Use the model, on train first\n",
    "    y_pred = my_forest.predict(X_train)\n",
    "\n",
    "    # Produce the classification report on the actual y values and this model's predicted y values\n",
    "    report = classification_report(y_train, y_pred, output_dict=True)\n",
    "    print(f\"Tree with max depth of {i}\")\n",
    "    print(pd.DataFrame(report))\n",
    "    print()"
   ]
  },
  {
   "cell_type": "markdown",
   "id": "ebbc6e0a",
   "metadata": {},
   "source": [
    "## 5. What are the differences in the evaluation metrics? Which performs better on your in-sample data? Why?"
   ]
  },
  {
   "cell_type": "markdown",
   "id": "b76e7b36",
   "metadata": {},
   "source": [
    "#### The further the depth, the better the model works on the training data"
   ]
  },
  {
   "cell_type": "code",
   "execution_count": 74,
   "id": "0a2fe38d",
   "metadata": {},
   "outputs": [
    {
     "data": {
      "text/html": [
       "<div>\n",
       "<style scoped>\n",
       "    .dataframe tbody tr th:only-of-type {\n",
       "        vertical-align: middle;\n",
       "    }\n",
       "\n",
       "    .dataframe tbody tr th {\n",
       "        vertical-align: top;\n",
       "    }\n",
       "\n",
       "    .dataframe thead th {\n",
       "        text-align: right;\n",
       "    }\n",
       "</style>\n",
       "<table border=\"1\" class=\"dataframe\">\n",
       "  <thead>\n",
       "    <tr style=\"text-align: right;\">\n",
       "      <th></th>\n",
       "      <th>max_depth</th>\n",
       "      <th>train_accuracy</th>\n",
       "      <th>validate_accuracy</th>\n",
       "      <th>difference</th>\n",
       "    </tr>\n",
       "  </thead>\n",
       "  <tbody>\n",
       "    <tr>\n",
       "      <th>0</th>\n",
       "      <td>2</td>\n",
       "      <td>0.790262</td>\n",
       "      <td>0.825843</td>\n",
       "      <td>-0.035581</td>\n",
       "    </tr>\n",
       "    <tr>\n",
       "      <th>1</th>\n",
       "      <td>3</td>\n",
       "      <td>0.814607</td>\n",
       "      <td>0.848315</td>\n",
       "      <td>-0.033708</td>\n",
       "    </tr>\n",
       "    <tr>\n",
       "      <th>2</th>\n",
       "      <td>4</td>\n",
       "      <td>0.844569</td>\n",
       "      <td>0.842697</td>\n",
       "      <td>0.001873</td>\n",
       "    </tr>\n",
       "    <tr>\n",
       "      <th>3</th>\n",
       "      <td>5</td>\n",
       "      <td>0.863296</td>\n",
       "      <td>0.848315</td>\n",
       "      <td>0.014981</td>\n",
       "    </tr>\n",
       "    <tr>\n",
       "      <th>4</th>\n",
       "      <td>6</td>\n",
       "      <td>0.878277</td>\n",
       "      <td>0.859551</td>\n",
       "      <td>0.018727</td>\n",
       "    </tr>\n",
       "    <tr>\n",
       "      <th>5</th>\n",
       "      <td>7</td>\n",
       "      <td>0.921348</td>\n",
       "      <td>0.837079</td>\n",
       "      <td>0.084270</td>\n",
       "    </tr>\n",
       "    <tr>\n",
       "      <th>6</th>\n",
       "      <td>8</td>\n",
       "      <td>0.930712</td>\n",
       "      <td>0.837079</td>\n",
       "      <td>0.093633</td>\n",
       "    </tr>\n",
       "    <tr>\n",
       "      <th>7</th>\n",
       "      <td>9</td>\n",
       "      <td>0.941948</td>\n",
       "      <td>0.842697</td>\n",
       "      <td>0.099251</td>\n",
       "    </tr>\n",
       "    <tr>\n",
       "      <th>8</th>\n",
       "      <td>10</td>\n",
       "      <td>0.951311</td>\n",
       "      <td>0.825843</td>\n",
       "      <td>0.125468</td>\n",
       "    </tr>\n",
       "    <tr>\n",
       "      <th>9</th>\n",
       "      <td>11</td>\n",
       "      <td>0.964419</td>\n",
       "      <td>0.842697</td>\n",
       "      <td>0.121723</td>\n",
       "    </tr>\n",
       "    <tr>\n",
       "      <th>10</th>\n",
       "      <td>12</td>\n",
       "      <td>0.970037</td>\n",
       "      <td>0.831461</td>\n",
       "      <td>0.138577</td>\n",
       "    </tr>\n",
       "    <tr>\n",
       "      <th>11</th>\n",
       "      <td>13</td>\n",
       "      <td>0.975655</td>\n",
       "      <td>0.825843</td>\n",
       "      <td>0.149813</td>\n",
       "    </tr>\n",
       "    <tr>\n",
       "      <th>12</th>\n",
       "      <td>14</td>\n",
       "      <td>0.977528</td>\n",
       "      <td>0.825843</td>\n",
       "      <td>0.151685</td>\n",
       "    </tr>\n",
       "    <tr>\n",
       "      <th>13</th>\n",
       "      <td>15</td>\n",
       "      <td>0.983146</td>\n",
       "      <td>0.825843</td>\n",
       "      <td>0.157303</td>\n",
       "    </tr>\n",
       "    <tr>\n",
       "      <th>14</th>\n",
       "      <td>16</td>\n",
       "      <td>0.986891</td>\n",
       "      <td>0.825843</td>\n",
       "      <td>0.161049</td>\n",
       "    </tr>\n",
       "    <tr>\n",
       "      <th>15</th>\n",
       "      <td>17</td>\n",
       "      <td>0.986891</td>\n",
       "      <td>0.825843</td>\n",
       "      <td>0.161049</td>\n",
       "    </tr>\n",
       "    <tr>\n",
       "      <th>16</th>\n",
       "      <td>18</td>\n",
       "      <td>0.986891</td>\n",
       "      <td>0.825843</td>\n",
       "      <td>0.161049</td>\n",
       "    </tr>\n",
       "    <tr>\n",
       "      <th>17</th>\n",
       "      <td>19</td>\n",
       "      <td>0.986891</td>\n",
       "      <td>0.825843</td>\n",
       "      <td>0.161049</td>\n",
       "    </tr>\n",
       "    <tr>\n",
       "      <th>18</th>\n",
       "      <td>20</td>\n",
       "      <td>0.986891</td>\n",
       "      <td>0.825843</td>\n",
       "      <td>0.161049</td>\n",
       "    </tr>\n",
       "    <tr>\n",
       "      <th>19</th>\n",
       "      <td>21</td>\n",
       "      <td>0.986891</td>\n",
       "      <td>0.825843</td>\n",
       "      <td>0.161049</td>\n",
       "    </tr>\n",
       "    <tr>\n",
       "      <th>20</th>\n",
       "      <td>22</td>\n",
       "      <td>0.986891</td>\n",
       "      <td>0.825843</td>\n",
       "      <td>0.161049</td>\n",
       "    </tr>\n",
       "    <tr>\n",
       "      <th>21</th>\n",
       "      <td>23</td>\n",
       "      <td>0.986891</td>\n",
       "      <td>0.825843</td>\n",
       "      <td>0.161049</td>\n",
       "    </tr>\n",
       "    <tr>\n",
       "      <th>22</th>\n",
       "      <td>24</td>\n",
       "      <td>0.986891</td>\n",
       "      <td>0.825843</td>\n",
       "      <td>0.161049</td>\n",
       "    </tr>\n",
       "  </tbody>\n",
       "</table>\n",
       "</div>"
      ],
      "text/plain": [
       "    max_depth  train_accuracy  validate_accuracy  difference\n",
       "0           2        0.790262           0.825843   -0.035581\n",
       "1           3        0.814607           0.848315   -0.033708\n",
       "2           4        0.844569           0.842697    0.001873\n",
       "3           5        0.863296           0.848315    0.014981\n",
       "4           6        0.878277           0.859551    0.018727\n",
       "5           7        0.921348           0.837079    0.084270\n",
       "6           8        0.930712           0.837079    0.093633\n",
       "7           9        0.941948           0.842697    0.099251\n",
       "8          10        0.951311           0.825843    0.125468\n",
       "9          11        0.964419           0.842697    0.121723\n",
       "10         12        0.970037           0.831461    0.138577\n",
       "11         13        0.975655           0.825843    0.149813\n",
       "12         14        0.977528           0.825843    0.151685\n",
       "13         15        0.983146           0.825843    0.157303\n",
       "14         16        0.986891           0.825843    0.161049\n",
       "15         17        0.986891           0.825843    0.161049\n",
       "16         18        0.986891           0.825843    0.161049\n",
       "17         19        0.986891           0.825843    0.161049\n",
       "18         20        0.986891           0.825843    0.161049\n",
       "19         21        0.986891           0.825843    0.161049\n",
       "20         22        0.986891           0.825843    0.161049\n",
       "21         23        0.986891           0.825843    0.161049\n",
       "22         24        0.986891           0.825843    0.161049"
      ]
     },
     "execution_count": 74,
     "metadata": {},
     "output_type": "execute_result"
    }
   ],
   "source": [
    "metrics = []\n",
    "\n",
    "for i in range(2, 25):\n",
    "    # Make the model\n",
    "    my_forest = RandomForestClassifier(max_depth=i, random_state=248)\n",
    "\n",
    "    # Fit the model\n",
    "    my_forest = my_forest.fit(X_train, y_train)\n",
    "\n",
    "    # We'll evaluate the model's performance on train, first then check validate\n",
    "    in_sample_accuracy = my_forest.score(X_train, y_train)\n",
    "    \n",
    "    out_of_sample_accuracy = my_forest.score(X_validate, y_validate)\n",
    "\n",
    "    output = {\n",
    "        \"max_depth\": i,\n",
    "        \"train_accuracy\": in_sample_accuracy,\n",
    "        \"validate_accuracy\": out_of_sample_accuracy\n",
    "    }\n",
    "    metrics.append(output)\n",
    "    \n",
    "df = pd.DataFrame(metrics)\n",
    "df[\"difference\"] = df.train_accuracy - df.validate_accuracy\n",
    "df"
   ]
  },
  {
   "cell_type": "code",
   "execution_count": 75,
   "id": "42141296",
   "metadata": {
    "scrolled": true
   },
   "outputs": [
    {
     "data": {
      "image/png": "[encoded data removed]",
      "text/plain": [
       "<Figure size 1152x648 with 1 Axes>"
      ]
     },
     "metadata": {
      "needs_background": "light"
     },
     "output_type": "display_data"
    }
   ],
   "source": [
    "df.set_index('max_depth').plot(figsize = (16,9))\n",
    "plt.ylabel('Accuracy')\n",
    "plt.xticks(np.arange(0,21,1))\n",
    "plt.grid()"
   ]
  },
  {
   "cell_type": "markdown",
   "id": "f775a2e6",
   "metadata": {},
   "source": [
    "## Increasing samples per leaf, less max depth"
   ]
  },
  {
   "cell_type": "code",
   "execution_count": 77,
   "id": "ec6c66e4",
   "metadata": {},
   "outputs": [
    {
     "data": {
      "text/html": [
       "<div>\n",
       "<style scoped>\n",
       "    .dataframe tbody tr th:only-of-type {\n",
       "        vertical-align: middle;\n",
       "    }\n",
       "\n",
       "    .dataframe tbody tr th {\n",
       "        vertical-align: top;\n",
       "    }\n",
       "\n",
       "    .dataframe thead th {\n",
       "        text-align: right;\n",
       "    }\n",
       "</style>\n",
       "<table border=\"1\" class=\"dataframe\">\n",
       "  <thead>\n",
       "    <tr style=\"text-align: right;\">\n",
       "      <th></th>\n",
       "      <th>min_samples_per_leaf</th>\n",
       "      <th>max_depth</th>\n",
       "      <th>train_accuracy</th>\n",
       "      <th>validate_accuracy</th>\n",
       "      <th>difference</th>\n",
       "    </tr>\n",
       "  </thead>\n",
       "  <tbody>\n",
       "    <tr>\n",
       "      <th>0</th>\n",
       "      <td>2</td>\n",
       "      <td>18</td>\n",
       "      <td>0.911985</td>\n",
       "      <td>0.831461</td>\n",
       "      <td>0.080524</td>\n",
       "    </tr>\n",
       "    <tr>\n",
       "      <th>1</th>\n",
       "      <td>3</td>\n",
       "      <td>17</td>\n",
       "      <td>0.893258</td>\n",
       "      <td>0.853933</td>\n",
       "      <td>0.039326</td>\n",
       "    </tr>\n",
       "    <tr>\n",
       "      <th>2</th>\n",
       "      <td>4</td>\n",
       "      <td>16</td>\n",
       "      <td>0.876404</td>\n",
       "      <td>0.853933</td>\n",
       "      <td>0.022472</td>\n",
       "    </tr>\n",
       "    <tr>\n",
       "      <th>3</th>\n",
       "      <td>5</td>\n",
       "      <td>15</td>\n",
       "      <td>0.874532</td>\n",
       "      <td>0.848315</td>\n",
       "      <td>0.026217</td>\n",
       "    </tr>\n",
       "    <tr>\n",
       "      <th>4</th>\n",
       "      <td>6</td>\n",
       "      <td>14</td>\n",
       "      <td>0.867041</td>\n",
       "      <td>0.848315</td>\n",
       "      <td>0.018727</td>\n",
       "    </tr>\n",
       "    <tr>\n",
       "      <th>5</th>\n",
       "      <td>7</td>\n",
       "      <td>13</td>\n",
       "      <td>0.861423</td>\n",
       "      <td>0.859551</td>\n",
       "      <td>0.001873</td>\n",
       "    </tr>\n",
       "    <tr>\n",
       "      <th>6</th>\n",
       "      <td>8</td>\n",
       "      <td>12</td>\n",
       "      <td>0.844569</td>\n",
       "      <td>0.842697</td>\n",
       "      <td>0.001873</td>\n",
       "    </tr>\n",
       "    <tr>\n",
       "      <th>7</th>\n",
       "      <td>9</td>\n",
       "      <td>11</td>\n",
       "      <td>0.844569</td>\n",
       "      <td>0.842697</td>\n",
       "      <td>0.001873</td>\n",
       "    </tr>\n",
       "    <tr>\n",
       "      <th>8</th>\n",
       "      <td>10</td>\n",
       "      <td>10</td>\n",
       "      <td>0.837079</td>\n",
       "      <td>0.853933</td>\n",
       "      <td>-0.016854</td>\n",
       "    </tr>\n",
       "    <tr>\n",
       "      <th>9</th>\n",
       "      <td>11</td>\n",
       "      <td>9</td>\n",
       "      <td>0.850187</td>\n",
       "      <td>0.848315</td>\n",
       "      <td>0.001873</td>\n",
       "    </tr>\n",
       "    <tr>\n",
       "      <th>10</th>\n",
       "      <td>12</td>\n",
       "      <td>8</td>\n",
       "      <td>0.840824</td>\n",
       "      <td>0.848315</td>\n",
       "      <td>-0.007491</td>\n",
       "    </tr>\n",
       "    <tr>\n",
       "      <th>11</th>\n",
       "      <td>13</td>\n",
       "      <td>7</td>\n",
       "      <td>0.831461</td>\n",
       "      <td>0.842697</td>\n",
       "      <td>-0.011236</td>\n",
       "    </tr>\n",
       "    <tr>\n",
       "      <th>12</th>\n",
       "      <td>14</td>\n",
       "      <td>6</td>\n",
       "      <td>0.833333</td>\n",
       "      <td>0.853933</td>\n",
       "      <td>-0.020599</td>\n",
       "    </tr>\n",
       "    <tr>\n",
       "      <th>13</th>\n",
       "      <td>15</td>\n",
       "      <td>5</td>\n",
       "      <td>0.816479</td>\n",
       "      <td>0.842697</td>\n",
       "      <td>-0.026217</td>\n",
       "    </tr>\n",
       "    <tr>\n",
       "      <th>14</th>\n",
       "      <td>16</td>\n",
       "      <td>4</td>\n",
       "      <td>0.808989</td>\n",
       "      <td>0.837079</td>\n",
       "      <td>-0.028090</td>\n",
       "    </tr>\n",
       "    <tr>\n",
       "      <th>15</th>\n",
       "      <td>17</td>\n",
       "      <td>3</td>\n",
       "      <td>0.799625</td>\n",
       "      <td>0.831461</td>\n",
       "      <td>-0.031835</td>\n",
       "    </tr>\n",
       "    <tr>\n",
       "      <th>16</th>\n",
       "      <td>18</td>\n",
       "      <td>2</td>\n",
       "      <td>0.773408</td>\n",
       "      <td>0.814607</td>\n",
       "      <td>-0.041199</td>\n",
       "    </tr>\n",
       "    <tr>\n",
       "      <th>17</th>\n",
       "      <td>19</td>\n",
       "      <td>1</td>\n",
       "      <td>0.750936</td>\n",
       "      <td>0.758427</td>\n",
       "      <td>-0.007491</td>\n",
       "    </tr>\n",
       "  </tbody>\n",
       "</table>\n",
       "</div>"
      ],
      "text/plain": [
       "    min_samples_per_leaf  max_depth  train_accuracy  validate_accuracy  \\\n",
       "0                      2         18        0.911985           0.831461   \n",
       "1                      3         17        0.893258           0.853933   \n",
       "2                      4         16        0.876404           0.853933   \n",
       "3                      5         15        0.874532           0.848315   \n",
       "4                      6         14        0.867041           0.848315   \n",
       "5                      7         13        0.861423           0.859551   \n",
       "6                      8         12        0.844569           0.842697   \n",
       "7                      9         11        0.844569           0.842697   \n",
       "8                     10         10        0.837079           0.853933   \n",
       "9                     11          9        0.850187           0.848315   \n",
       "10                    12          8        0.840824           0.848315   \n",
       "11                    13          7        0.831461           0.842697   \n",
       "12                    14          6        0.833333           0.853933   \n",
       "13                    15          5        0.816479           0.842697   \n",
       "14                    16          4        0.808989           0.837079   \n",
       "15                    17          3        0.799625           0.831461   \n",
       "16                    18          2        0.773408           0.814607   \n",
       "17                    19          1        0.750936           0.758427   \n",
       "\n",
       "    difference  \n",
       "0     0.080524  \n",
       "1     0.039326  \n",
       "2     0.022472  \n",
       "3     0.026217  \n",
       "4     0.018727  \n",
       "5     0.001873  \n",
       "6     0.001873  \n",
       "7     0.001873  \n",
       "8    -0.016854  \n",
       "9     0.001873  \n",
       "10   -0.007491  \n",
       "11   -0.011236  \n",
       "12   -0.020599  \n",
       "13   -0.026217  \n",
       "14   -0.028090  \n",
       "15   -0.031835  \n",
       "16   -0.041199  \n",
       "17   -0.007491  "
      ]
     },
     "execution_count": 77,
     "metadata": {},
     "output_type": "execute_result"
    }
   ],
   "source": [
    "metrics = []\n",
    "max_depth = 20\n",
    "\n",
    "for i in range(2, max_depth):\n",
    "    # Make the model\n",
    "    depth = max_depth - i\n",
    "    n_samples = i\n",
    "    my_forest = RandomForestClassifier(max_depth=depth, min_samples_leaf=n_samples, random_state=248)\n",
    "\n",
    "    # Fit the model\n",
    "    my_forest = my_forest.fit(X_train, y_train)\n",
    "\n",
    "    # Use the model\n",
    "    in_sample_accuracy = my_forest.score(X_train, y_train)\n",
    "    out_of_sample_accuracy = my_forest.score(X_validate, y_validate)\n",
    "\n",
    "    output = {\n",
    "        \"min_samples_per_leaf\": n_samples,\n",
    "        \"max_depth\": depth,\n",
    "        \"train_accuracy\": in_sample_accuracy,\n",
    "        \"validate_accuracy\": out_of_sample_accuracy\n",
    "    }\n",
    "    metrics.append(output)\n",
    "    \n",
    "df = pd.DataFrame(metrics)\n",
    "df[\"difference\"] = df.train_accuracy - df.validate_accuracy\n",
    "df\n"
   ]
  },
  {
   "cell_type": "code",
   "execution_count": 78,
   "id": "94281a15",
   "metadata": {},
   "outputs": [
    {
     "data": {
      "image/png": "[encoded data removed]",
      "text/plain": [
       "<Figure size 1152x648 with 1 Axes>"
      ]
     },
     "metadata": {
      "needs_background": "light"
     },
     "output_type": "display_data"
    }
   ],
   "source": [
    "df.set_index('max_depth')[['train_accuracy', 'validate_accuracy','difference']].plot(figsize = (16,9))\n",
    "plt.ylabel('Accuracy')\n",
    "plt.xticks(np.arange(0,21,1))\n",
    "plt.grid()"
   ]
  },
  {
   "cell_type": "markdown",
   "id": "bcc65740",
   "metadata": {},
   "source": [
    "## Increase both min_samples_per_leaf and max depth"
   ]
  },
  {
   "cell_type": "code",
   "execution_count": 79,
   "id": "1abd2e69",
   "metadata": {},
   "outputs": [
    {
     "data": {
      "text/html": [
       "<div>\n",
       "<style scoped>\n",
       "    .dataframe tbody tr th:only-of-type {\n",
       "        vertical-align: middle;\n",
       "    }\n",
       "\n",
       "    .dataframe tbody tr th {\n",
       "        vertical-align: top;\n",
       "    }\n",
       "\n",
       "    .dataframe thead th {\n",
       "        text-align: right;\n",
       "    }\n",
       "</style>\n",
       "<table border=\"1\" class=\"dataframe\">\n",
       "  <thead>\n",
       "    <tr style=\"text-align: right;\">\n",
       "      <th></th>\n",
       "      <th>min_samples_per_leaf</th>\n",
       "      <th>max_depth</th>\n",
       "      <th>train_accuracy</th>\n",
       "      <th>validate_accuracy</th>\n",
       "      <th>difference</th>\n",
       "    </tr>\n",
       "  </thead>\n",
       "  <tbody>\n",
       "    <tr>\n",
       "      <th>0</th>\n",
       "      <td>2</td>\n",
       "      <td>2</td>\n",
       "      <td>0.790262</td>\n",
       "      <td>0.825843</td>\n",
       "      <td>-0.035581</td>\n",
       "    </tr>\n",
       "    <tr>\n",
       "      <th>1</th>\n",
       "      <td>3</td>\n",
       "      <td>3</td>\n",
       "      <td>0.820225</td>\n",
       "      <td>0.853933</td>\n",
       "      <td>-0.033708</td>\n",
       "    </tr>\n",
       "    <tr>\n",
       "      <th>2</th>\n",
       "      <td>4</td>\n",
       "      <td>4</td>\n",
       "      <td>0.840824</td>\n",
       "      <td>0.853933</td>\n",
       "      <td>-0.013109</td>\n",
       "    </tr>\n",
       "    <tr>\n",
       "      <th>3</th>\n",
       "      <td>5</td>\n",
       "      <td>5</td>\n",
       "      <td>0.846442</td>\n",
       "      <td>0.848315</td>\n",
       "      <td>-0.001873</td>\n",
       "    </tr>\n",
       "    <tr>\n",
       "      <th>4</th>\n",
       "      <td>6</td>\n",
       "      <td>6</td>\n",
       "      <td>0.853933</td>\n",
       "      <td>0.848315</td>\n",
       "      <td>0.005618</td>\n",
       "    </tr>\n",
       "    <tr>\n",
       "      <th>5</th>\n",
       "      <td>7</td>\n",
       "      <td>7</td>\n",
       "      <td>0.844569</td>\n",
       "      <td>0.853933</td>\n",
       "      <td>-0.009363</td>\n",
       "    </tr>\n",
       "    <tr>\n",
       "      <th>6</th>\n",
       "      <td>8</td>\n",
       "      <td>8</td>\n",
       "      <td>0.846442</td>\n",
       "      <td>0.842697</td>\n",
       "      <td>0.003745</td>\n",
       "    </tr>\n",
       "    <tr>\n",
       "      <th>7</th>\n",
       "      <td>9</td>\n",
       "      <td>9</td>\n",
       "      <td>0.846442</td>\n",
       "      <td>0.842697</td>\n",
       "      <td>0.003745</td>\n",
       "    </tr>\n",
       "    <tr>\n",
       "      <th>8</th>\n",
       "      <td>10</td>\n",
       "      <td>10</td>\n",
       "      <td>0.837079</td>\n",
       "      <td>0.853933</td>\n",
       "      <td>-0.016854</td>\n",
       "    </tr>\n",
       "    <tr>\n",
       "      <th>9</th>\n",
       "      <td>11</td>\n",
       "      <td>11</td>\n",
       "      <td>0.846442</td>\n",
       "      <td>0.848315</td>\n",
       "      <td>-0.001873</td>\n",
       "    </tr>\n",
       "    <tr>\n",
       "      <th>10</th>\n",
       "      <td>12</td>\n",
       "      <td>12</td>\n",
       "      <td>0.842697</td>\n",
       "      <td>0.848315</td>\n",
       "      <td>-0.005618</td>\n",
       "    </tr>\n",
       "    <tr>\n",
       "      <th>11</th>\n",
       "      <td>13</td>\n",
       "      <td>13</td>\n",
       "      <td>0.837079</td>\n",
       "      <td>0.842697</td>\n",
       "      <td>-0.005618</td>\n",
       "    </tr>\n",
       "    <tr>\n",
       "      <th>12</th>\n",
       "      <td>14</td>\n",
       "      <td>14</td>\n",
       "      <td>0.827715</td>\n",
       "      <td>0.842697</td>\n",
       "      <td>-0.014981</td>\n",
       "    </tr>\n",
       "    <tr>\n",
       "      <th>13</th>\n",
       "      <td>15</td>\n",
       "      <td>15</td>\n",
       "      <td>0.823970</td>\n",
       "      <td>0.837079</td>\n",
       "      <td>-0.013109</td>\n",
       "    </tr>\n",
       "    <tr>\n",
       "      <th>14</th>\n",
       "      <td>16</td>\n",
       "      <td>16</td>\n",
       "      <td>0.822097</td>\n",
       "      <td>0.820225</td>\n",
       "      <td>0.001873</td>\n",
       "    </tr>\n",
       "    <tr>\n",
       "      <th>15</th>\n",
       "      <td>17</td>\n",
       "      <td>17</td>\n",
       "      <td>0.803371</td>\n",
       "      <td>0.837079</td>\n",
       "      <td>-0.033708</td>\n",
       "    </tr>\n",
       "    <tr>\n",
       "      <th>16</th>\n",
       "      <td>18</td>\n",
       "      <td>18</td>\n",
       "      <td>0.803371</td>\n",
       "      <td>0.831461</td>\n",
       "      <td>-0.028090</td>\n",
       "    </tr>\n",
       "    <tr>\n",
       "      <th>17</th>\n",
       "      <td>19</td>\n",
       "      <td>19</td>\n",
       "      <td>0.805243</td>\n",
       "      <td>0.831461</td>\n",
       "      <td>-0.026217</td>\n",
       "    </tr>\n",
       "  </tbody>\n",
       "</table>\n",
       "</div>"
      ],
      "text/plain": [
       "    min_samples_per_leaf  max_depth  train_accuracy  validate_accuracy  \\\n",
       "0                      2          2        0.790262           0.825843   \n",
       "1                      3          3        0.820225           0.853933   \n",
       "2                      4          4        0.840824           0.853933   \n",
       "3                      5          5        0.846442           0.848315   \n",
       "4                      6          6        0.853933           0.848315   \n",
       "5                      7          7        0.844569           0.853933   \n",
       "6                      8          8        0.846442           0.842697   \n",
       "7                      9          9        0.846442           0.842697   \n",
       "8                     10         10        0.837079           0.853933   \n",
       "9                     11         11        0.846442           0.848315   \n",
       "10                    12         12        0.842697           0.848315   \n",
       "11                    13         13        0.837079           0.842697   \n",
       "12                    14         14        0.827715           0.842697   \n",
       "13                    15         15        0.823970           0.837079   \n",
       "14                    16         16        0.822097           0.820225   \n",
       "15                    17         17        0.803371           0.837079   \n",
       "16                    18         18        0.803371           0.831461   \n",
       "17                    19         19        0.805243           0.831461   \n",
       "\n",
       "    difference  \n",
       "0    -0.035581  \n",
       "1    -0.033708  \n",
       "2    -0.013109  \n",
       "3    -0.001873  \n",
       "4     0.005618  \n",
       "5    -0.009363  \n",
       "6     0.003745  \n",
       "7     0.003745  \n",
       "8    -0.016854  \n",
       "9    -0.001873  \n",
       "10   -0.005618  \n",
       "11   -0.005618  \n",
       "12   -0.014981  \n",
       "13   -0.013109  \n",
       "14    0.001873  \n",
       "15   -0.033708  \n",
       "16   -0.028090  \n",
       "17   -0.026217  "
      ]
     },
     "execution_count": 79,
     "metadata": {},
     "output_type": "execute_result"
    }
   ],
   "source": [
    "metrics = []\n",
    "max_depth = 20\n",
    "\n",
    "for i in range(2, max_depth):\n",
    "    # Make the model\n",
    "    depth = i\n",
    "    n_samples = i\n",
    "    my_forest = RandomForestClassifier(max_depth=depth, min_samples_leaf=n_samples, random_state=248)\n",
    "\n",
    "    # Fit the model\n",
    "    my_forest = my_forest.fit(X_train, y_train)\n",
    "\n",
    "    # Use the model\n",
    "    in_sample_accuracy = my_forest.score(X_train, y_train)\n",
    "    out_of_sample_accuracy = my_forest.score(X_validate, y_validate)\n",
    "\n",
    "    output = {\n",
    "        \"min_samples_per_leaf\": n_samples,\n",
    "        \"max_depth\": depth,\n",
    "        \"train_accuracy\": in_sample_accuracy,\n",
    "        \"validate_accuracy\": out_of_sample_accuracy\n",
    "    }\n",
    "    metrics.append(output)\n",
    "    \n",
    "df = pd.DataFrame(metrics)\n",
    "df[\"difference\"] = df.train_accuracy - df.validate_accuracy\n",
    "df"
   ]
  },
  {
   "cell_type": "code",
   "execution_count": 80,
   "id": "a829e74b",
   "metadata": {},
   "outputs": [
    {
     "data": {
      "image/png": "[encoded data removed]",
      "text/plain": [
       "<Figure size 1152x648 with 1 Axes>"
      ]
     },
     "metadata": {
      "needs_background": "light"
     },
     "output_type": "display_data"
    }
   ],
   "source": [
    "df.set_index('max_depth')[['train_accuracy', 'validate_accuracy','difference']].plot(figsize = (16,9))\n",
    "plt.ylabel('Accuracy')\n",
    "plt.xticks(np.arange(0,21,1))\n",
    "plt.grid()"
   ]
  },
  {
   "cell_type": "markdown",
   "id": "da67398d",
   "metadata": {},
   "source": [
    "# -----------------------------------------------"
   ]
  },
  {
   "cell_type": "markdown",
   "id": "837c38df",
   "metadata": {},
   "source": [
    "# Lesson: K-Nearest Neighbor (KNN)"
   ]
  },
  {
   "cell_type": "markdown",
   "id": "19de1ece",
   "metadata": {},
   "source": [
    "## 1. Fit a K-Nearest Neighbors classifier to your training sample and transform (i.e. make predictions on the training sample)"
   ]
  },
  {
   "cell_type": "code",
   "execution_count": 81,
   "id": "f43ba4e5",
   "metadata": {
    "scrolled": true
   },
   "outputs": [
    {
     "data": {
      "text/html": [
       "<div>\n",
       "<style scoped>\n",
       "    .dataframe tbody tr th:only-of-type {\n",
       "        vertical-align: middle;\n",
       "    }\n",
       "\n",
       "    .dataframe tbody tr th {\n",
       "        vertical-align: top;\n",
       "    }\n",
       "\n",
       "    .dataframe thead th {\n",
       "        text-align: right;\n",
       "    }\n",
       "</style>\n",
       "<table border=\"1\" class=\"dataframe\">\n",
       "  <thead>\n",
       "    <tr style=\"text-align: right;\">\n",
       "      <th></th>\n",
       "      <th>pclass</th>\n",
       "      <th>isMale</th>\n",
       "      <th>age</th>\n",
       "      <th>sibsp</th>\n",
       "      <th>parch</th>\n",
       "      <th>fare</th>\n",
       "      <th>embark_town</th>\n",
       "      <th>alone</th>\n",
       "    </tr>\n",
       "  </thead>\n",
       "  <tbody>\n",
       "    <tr>\n",
       "      <th>304</th>\n",
       "      <td>3</td>\n",
       "      <td>1</td>\n",
       "      <td>28.0</td>\n",
       "      <td>0</td>\n",
       "      <td>0</td>\n",
       "      <td>8.0500</td>\n",
       "      <td>1.0</td>\n",
       "      <td>1</td>\n",
       "    </tr>\n",
       "    <tr>\n",
       "      <th>718</th>\n",
       "      <td>3</td>\n",
       "      <td>1</td>\n",
       "      <td>28.0</td>\n",
       "      <td>0</td>\n",
       "      <td>0</td>\n",
       "      <td>15.5000</td>\n",
       "      <td>3.0</td>\n",
       "      <td>1</td>\n",
       "    </tr>\n",
       "    <tr>\n",
       "      <th>102</th>\n",
       "      <td>1</td>\n",
       "      <td>1</td>\n",
       "      <td>21.0</td>\n",
       "      <td>0</td>\n",
       "      <td>1</td>\n",
       "      <td>77.2875</td>\n",
       "      <td>1.0</td>\n",
       "      <td>0</td>\n",
       "    </tr>\n",
       "    <tr>\n",
       "      <th>737</th>\n",
       "      <td>1</td>\n",
       "      <td>1</td>\n",
       "      <td>35.0</td>\n",
       "      <td>0</td>\n",
       "      <td>0</td>\n",
       "      <td>512.3292</td>\n",
       "      <td>2.0</td>\n",
       "      <td>1</td>\n",
       "    </tr>\n",
       "    <tr>\n",
       "      <th>269</th>\n",
       "      <td>1</td>\n",
       "      <td>0</td>\n",
       "      <td>35.0</td>\n",
       "      <td>0</td>\n",
       "      <td>0</td>\n",
       "      <td>135.6333</td>\n",
       "      <td>1.0</td>\n",
       "      <td>1</td>\n",
       "    </tr>\n",
       "  </tbody>\n",
       "</table>\n",
       "</div>"
      ],
      "text/plain": [
       "     pclass isMale   age  sibsp  parch      fare  embark_town  alone\n",
       "304       3      1  28.0      0      0    8.0500          1.0      1\n",
       "718       3      1  28.0      0      0   15.5000          3.0      1\n",
       "102       1      1  21.0      0      1   77.2875          1.0      0\n",
       "737       1      1  35.0      0      0  512.3292          2.0      1\n",
       "269       1      0  35.0      0      0  135.6333          1.0      1"
      ]
     },
     "execution_count": 81,
     "metadata": {},
     "output_type": "execute_result"
    }
   ],
   "source": [
    "x_tr.head()"
   ]
  },
  {
   "cell_type": "code",
   "execution_count": 102,
   "id": "16040476",
   "metadata": {},
   "outputs": [
    {
     "name": "stdout",
     "output_type": "stream",
     "text": [
      "<class 'pandas.core.frame.DataFrame'>\n",
      "Int64Index: 534 entries, 304 to 133\n",
      "Data columns (total 8 columns):\n",
      " #   Column       Non-Null Count  Dtype  \n",
      "---  ------       --------------  -----  \n",
      " 0   pclass       534 non-null    int64  \n",
      " 1   isMale       534 non-null    object \n",
      " 2   age          534 non-null    float64\n",
      " 3   sibsp        534 non-null    int64  \n",
      " 4   parch        534 non-null    int64  \n",
      " 5   fare         534 non-null    float64\n",
      " 6   embark_town  534 non-null    float64\n",
      " 7   alone        534 non-null    int64  \n",
      "dtypes: float64(3), int64(4), object(1)\n",
      "memory usage: 37.5+ KB\n"
     ]
    }
   ],
   "source": [
    "x_tr.info()"
   ]
  },
  {
   "cell_type": "markdown",
   "id": "5bca65cd",
   "metadata": {},
   "source": [
    "weights = ['uniform', 'density']\n",
    "\n",
    "knn = KNeighborsClassifier(n_neighbors=5, weights='uniform')"
   ]
  },
  {
   "cell_type": "markdown",
   "id": "6617bd13",
   "metadata": {},
   "source": [
    "##### Creating the KNN object"
   ]
  },
  {
   "cell_type": "code",
   "execution_count": 82,
   "id": "9a918b13",
   "metadata": {},
   "outputs": [],
   "source": [
    "knn = KNeighborsClassifier(n_neighbors=5, weights='uniform')"
   ]
  },
  {
   "cell_type": "markdown",
   "id": "d063daf8",
   "metadata": {},
   "source": [
    "##### Fit the model (don't forget to save back into the variable)"
   ]
  },
  {
   "cell_type": "code",
   "execution_count": 83,
   "id": "76a8be5b",
   "metadata": {},
   "outputs": [
    {
     "data": {
      "text/plain": [
       "KNeighborsClassifier()"
      ]
     },
     "execution_count": 83,
     "metadata": {},
     "output_type": "execute_result"
    }
   ],
   "source": [
    "knn = knn.fit(x_tr, y_tr)\n",
    "knn"
   ]
  },
  {
   "cell_type": "markdown",
   "id": "7408f9db",
   "metadata": {},
   "source": [
    "##### I'm classifying by estimated survival\n",
    ">**This produces an array of prediction for the training set**"
   ]
  },
  {
   "cell_type": "code",
   "execution_count": 84,
   "id": "bb95e558",
   "metadata": {},
   "outputs": [],
   "source": [
    "y_predict = knn.predict(x_tr)"
   ]
  },
  {
   "cell_type": "markdown",
   "id": "704425a5",
   "metadata": {},
   "source": [
    "##### Estimate the probability of survival, using the training data."
   ]
  },
  {
   "cell_type": "code",
   "execution_count": 85,
   "id": "bfdbffd8",
   "metadata": {},
   "outputs": [
    {
     "data": {
      "text/plain": [
       "array([[1. , 0. ],\n",
       "       [0.8, 0.2],\n",
       "       [0.6, 0.4],\n",
       "       ...,\n",
       "       [0.6, 0.4],\n",
       "       [0.6, 0.4],\n",
       "       [0.4, 0.6]])"
      ]
     },
     "execution_count": 85,
     "metadata": {},
     "output_type": "execute_result"
    }
   ],
   "source": [
    "y_pred_proba = knn.predict_proba(x_tr)\n",
    "y_pred_proba"
   ]
  },
  {
   "cell_type": "markdown",
   "id": "7298e75f",
   "metadata": {},
   "source": [
    "##### Compute Accuracy (Training Data)"
   ]
  },
  {
   "cell_type": "code",
   "execution_count": 86,
   "id": "5e5acf50",
   "metadata": {},
   "outputs": [
    {
     "name": "stdout",
     "output_type": "stream",
     "text": [
      "KNN classifier Accuracy: 0.78\n"
     ]
    }
   ],
   "source": [
    "print('KNN classifier Accuracy: {:.2f}'.format(knn.score(x_tr, y_tr)))"
   ]
  },
  {
   "cell_type": "markdown",
   "id": "63904831",
   "metadata": {},
   "source": [
    "## 2. Evaluate your results using the model score, confusion matrix, and classification report."
   ]
  },
  {
   "cell_type": "markdown",
   "id": "bf1c6c2c",
   "metadata": {},
   "source": [
    "##### Confusion Matrix (Training Data)"
   ]
  },
  {
   "cell_type": "code",
   "execution_count": 87,
   "id": "93ac8c9f",
   "metadata": {},
   "outputs": [
    {
     "data": {
      "text/html": [
       "<div>\n",
       "<style scoped>\n",
       "    .dataframe tbody tr th:only-of-type {\n",
       "        vertical-align: middle;\n",
       "    }\n",
       "\n",
       "    .dataframe tbody tr th {\n",
       "        vertical-align: top;\n",
       "    }\n",
       "\n",
       "    .dataframe thead th {\n",
       "        text-align: right;\n",
       "    }\n",
       "</style>\n",
       "<table border=\"1\" class=\"dataframe\">\n",
       "  <thead>\n",
       "    <tr style=\"text-align: right;\">\n",
       "      <th></th>\n",
       "      <th>0</th>\n",
       "      <th>1</th>\n",
       "    </tr>\n",
       "  </thead>\n",
       "  <tbody>\n",
       "    <tr>\n",
       "      <th>0</th>\n",
       "      <td>279</td>\n",
       "      <td>41</td>\n",
       "    </tr>\n",
       "    <tr>\n",
       "      <th>1</th>\n",
       "      <td>75</td>\n",
       "      <td>139</td>\n",
       "    </tr>\n",
       "  </tbody>\n",
       "</table>\n",
       "</div>"
      ],
      "text/plain": [
       "     0    1\n",
       "0  279   41\n",
       "1   75  139"
      ]
     },
     "execution_count": 87,
     "metadata": {},
     "output_type": "execute_result"
    }
   ],
   "source": [
    "confus = pd.DataFrame(confusion_matrix(y_tr, y_predict))\n",
    "confus"
   ]
  },
  {
   "cell_type": "markdown",
   "id": "ede37081",
   "metadata": {},
   "source": [
    "##### Classification Report (Training Data)"
   ]
  },
  {
   "cell_type": "code",
   "execution_count": 89,
   "id": "1f65faa7",
   "metadata": {},
   "outputs": [
    {
     "name": "stdout",
     "output_type": "stream",
     "text": [
      "              precision    recall  f1-score   support\n",
      "\n",
      "           0       0.79      0.87      0.83       320\n",
      "           1       0.77      0.65      0.71       214\n",
      "\n",
      "    accuracy                           0.78       534\n",
      "   macro avg       0.78      0.76      0.77       534\n",
      "weighted avg       0.78      0.78      0.78       534\n",
      "\n"
     ]
    }
   ],
   "source": [
    "print(classification_report(y_tr, y_predict))"
   ]
  },
  {
   "cell_type": "markdown",
   "id": "31950041",
   "metadata": {},
   "source": [
    "##### Model Score"
   ]
  },
  {
   "cell_type": "code",
   "execution_count": 90,
   "id": "99a6c7a8",
   "metadata": {},
   "outputs": [
    {
     "name": "stdout",
     "output_type": "stream",
     "text": [
      "Model Score: 0.783\n"
     ]
    }
   ],
   "source": [
    "print(f'Model Score: {knn.score(x_tr, y_tr):.3f}')"
   ]
  },
  {
   "cell_type": "markdown",
   "id": "409e128b",
   "metadata": {},
   "source": [
    "## 3. Print and clearly label the following: Accuracy, true positive rate, false positive rate, true negative rate, false negative rate, precision, recall, f1-score, and support."
   ]
  },
  {
   "cell_type": "code",
   "execution_count": 91,
   "id": "02ccb5d0",
   "metadata": {},
   "outputs": [
    {
     "name": "stdout",
     "output_type": "stream",
     "text": [
      "TP, TN, FP, FN rates:\n",
      "\n",
      "TP - True Positive rate:  0.522\n",
      "FP - False Positive rate: 0.077\n",
      "TN - True Negative rate:  0.260\n",
      "FN - False Negative rate: 0.140\n"
     ]
    }
   ],
   "source": [
    "TP = confus.iloc[0,0]\n",
    "TN = confus.iloc[1,1]\n",
    "FP = confus.iloc[0,1]\n",
    "FN = confus.iloc[1,0]\n",
    "print('TP, TN, FP, FN rates:')\n",
    "print()\n",
    "print(f'TP - True Positive rate:  {TP/(TP+TN+FP+FN):.3f}')\n",
    "print(f'FP - False Positive rate: {FP/(TP+TN+FP+FN):.3f}')\n",
    "print(f'TN - True Negative rate:  {TN/(TP+TN+FP+FN):.3f}')\n",
    "print(f'FN - False Negative rate: {FN/(TP+TN+FP+FN):.3f}')"
   ]
  },
  {
   "cell_type": "code",
   "execution_count": 92,
   "id": "7f8e7aa9",
   "metadata": {},
   "outputs": [
    {
     "name": "stdout",
     "output_type": "stream",
     "text": [
      "Precision: 0.772%\n",
      "\n",
      "   Recall: 0.650%\n",
      "\n"
     ]
    },
    {
     "ename": "TypeError",
     "evalue": "'numpy.float64' object is not callable",
     "output_type": "error",
     "traceback": [
      "\u001b[0;31m---------------------------------------------------------------------------\u001b[0m",
      "\u001b[0;31mTypeError\u001b[0m                                 Traceback (most recent call last)",
      "Input \u001b[0;32mIn [92]\u001b[0m, in \u001b[0;36m<cell line: 5>\u001b[0;34m()\u001b[0m\n\u001b[1;32m      3\u001b[0m \u001b[38;5;28mprint\u001b[39m(\u001b[38;5;124mf\u001b[39m\u001b[38;5;124m'\u001b[39m\u001b[38;5;124m   Recall: \u001b[39m\u001b[38;5;132;01m{\u001b[39;00mrecall_score(y_tr, y_predict)\u001b[38;5;132;01m:\u001b[39;00m\u001b[38;5;124m.3f\u001b[39m\u001b[38;5;132;01m}\u001b[39;00m\u001b[38;5;124m%\u001b[39m\u001b[38;5;124m'\u001b[39m)\n\u001b[1;32m      4\u001b[0m \u001b[38;5;28mprint\u001b[39m()\n\u001b[0;32m----> 5\u001b[0m \u001b[38;5;28mprint\u001b[39m(\u001b[38;5;124mf\u001b[39m\u001b[38;5;124m'\u001b[39m\u001b[38;5;124m       F1: \u001b[39m\u001b[38;5;132;01m{\u001b[39;00mf1_score(y_tr, y_predict)\u001b[38;5;132;01m:\u001b[39;00m\u001b[38;5;124m.3f\u001b[39m\u001b[38;5;132;01m}\u001b[39;00m\u001b[38;5;124m%\u001b[39m\u001b[38;5;124m'\u001b[39m)\n\u001b[1;32m      6\u001b[0m \u001b[38;5;28mprint\u001b[39m()\n\u001b[1;32m      7\u001b[0m \u001b[38;5;28mprint\u001b[39m(\u001b[38;5;124mf\u001b[39m\u001b[38;5;124m'\u001b[39m\u001b[38;5;124m  Support: NotSurvived: \u001b[39m\u001b[38;5;132;01m{\u001b[39;00mTP\u001b[38;5;241m+\u001b[39mFP\u001b[38;5;132;01m}\u001b[39;00m\u001b[38;5;124m'\u001b[39m)\n",
      "\u001b[0;31mTypeError\u001b[0m: 'numpy.float64' object is not callable"
     ]
    }
   ],
   "source": [
    "print(f'Precision: {precision_score(y_tr, y_predict):.3f}%')\n",
    "print()\n",
    "print(f'   Recall: {recall_score(y_tr, y_predict):.3f}%')\n",
    "print()\n",
    "print(f'       F1: {f1_score(y_tr, y_predict):.3f}%')\n",
    "print()\n",
    "print(f'  Support: NotSurvived: {TP+FP}')\n",
    "print(f'           Survived:    {TN+FN}')"
   ]
  },
  {
   "cell_type": "markdown",
   "id": "1c8f9e32",
   "metadata": {},
   "source": [
    "## 4. Run through steps 2-4 setting k to 10"
   ]
  },
  {
   "cell_type": "code",
   "execution_count": 93,
   "id": "22bdb27b",
   "metadata": {},
   "outputs": [
    {
     "data": {
      "text/plain": [
       "KNeighborsClassifier(n_neighbors=10)"
      ]
     },
     "execution_count": 93,
     "metadata": {},
     "output_type": "execute_result"
    }
   ],
   "source": [
    "knn10 = KNeighborsClassifier(n_neighbors=10, weights='uniform')\n",
    "knn10"
   ]
  },
  {
   "cell_type": "code",
   "execution_count": 94,
   "id": "0e220bd5",
   "metadata": {},
   "outputs": [
    {
     "data": {
      "text/plain": [
       "KNeighborsClassifier(n_neighbors=10)"
      ]
     },
     "execution_count": 94,
     "metadata": {},
     "output_type": "execute_result"
    }
   ],
   "source": [
    "knn10 = knn10.fit(x_tr, y_tr)\n",
    "knn10"
   ]
  },
  {
   "cell_type": "code",
   "execution_count": 95,
   "id": "1558f764",
   "metadata": {},
   "outputs": [],
   "source": [
    "y_predict10 = knn10.predict(x_tr)"
   ]
  },
  {
   "cell_type": "code",
   "execution_count": 96,
   "id": "b97b8e37",
   "metadata": {},
   "outputs": [
    {
     "data": {
      "text/plain": [
       "array([[1. , 0. ],\n",
       "       [0.8, 0.2],\n",
       "       [0.6, 0.4],\n",
       "       ...,\n",
       "       [0.6, 0.4],\n",
       "       [0.3, 0.7],\n",
       "       [0.4, 0.6]])"
      ]
     },
     "execution_count": 96,
     "metadata": {},
     "output_type": "execute_result"
    }
   ],
   "source": [
    "y_pred_proba10 = knn10.predict_proba(x_tr)\n",
    "y_pred_proba10"
   ]
  },
  {
   "cell_type": "code",
   "execution_count": 97,
   "id": "8e3126be",
   "metadata": {},
   "outputs": [
    {
     "data": {
      "text/html": [
       "<div>\n",
       "<style scoped>\n",
       "    .dataframe tbody tr th:only-of-type {\n",
       "        vertical-align: middle;\n",
       "    }\n",
       "\n",
       "    .dataframe tbody tr th {\n",
       "        vertical-align: top;\n",
       "    }\n",
       "\n",
       "    .dataframe thead th {\n",
       "        text-align: right;\n",
       "    }\n",
       "</style>\n",
       "<table border=\"1\" class=\"dataframe\">\n",
       "  <thead>\n",
       "    <tr style=\"text-align: right;\">\n",
       "      <th></th>\n",
       "      <th>0</th>\n",
       "      <th>1</th>\n",
       "    </tr>\n",
       "  </thead>\n",
       "  <tbody>\n",
       "    <tr>\n",
       "      <th>0</th>\n",
       "      <td>283</td>\n",
       "      <td>37</td>\n",
       "    </tr>\n",
       "    <tr>\n",
       "      <th>1</th>\n",
       "      <td>96</td>\n",
       "      <td>118</td>\n",
       "    </tr>\n",
       "  </tbody>\n",
       "</table>\n",
       "</div>"
      ],
      "text/plain": [
       "     0    1\n",
       "0  283   37\n",
       "1   96  118"
      ]
     },
     "execution_count": 97,
     "metadata": {},
     "output_type": "execute_result"
    }
   ],
   "source": [
    "confus10 = pd.DataFrame(confusion_matrix(y_tr, y_predict10))\n",
    "confus10"
   ]
  },
  {
   "cell_type": "code",
   "execution_count": 98,
   "id": "ba26c287",
   "metadata": {},
   "outputs": [
    {
     "data": {
      "text/html": [
       "<div>\n",
       "<style scoped>\n",
       "    .dataframe tbody tr th:only-of-type {\n",
       "        vertical-align: middle;\n",
       "    }\n",
       "\n",
       "    .dataframe tbody tr th {\n",
       "        vertical-align: top;\n",
       "    }\n",
       "\n",
       "    .dataframe thead th {\n",
       "        text-align: right;\n",
       "    }\n",
       "</style>\n",
       "<table border=\"1\" class=\"dataframe\">\n",
       "  <thead>\n",
       "    <tr style=\"text-align: right;\">\n",
       "      <th></th>\n",
       "      <th>0</th>\n",
       "      <th>1</th>\n",
       "      <th>accuracy</th>\n",
       "      <th>macro avg</th>\n",
       "      <th>weighted avg</th>\n",
       "    </tr>\n",
       "  </thead>\n",
       "  <tbody>\n",
       "    <tr>\n",
       "      <th>precision</th>\n",
       "      <td>0.746702</td>\n",
       "      <td>0.761290</td>\n",
       "      <td>0.750936</td>\n",
       "      <td>0.753996</td>\n",
       "      <td>0.752548</td>\n",
       "    </tr>\n",
       "    <tr>\n",
       "      <th>recall</th>\n",
       "      <td>0.884375</td>\n",
       "      <td>0.551402</td>\n",
       "      <td>0.750936</td>\n",
       "      <td>0.717888</td>\n",
       "      <td>0.750936</td>\n",
       "    </tr>\n",
       "    <tr>\n",
       "      <th>f1-score</th>\n",
       "      <td>0.809728</td>\n",
       "      <td>0.639566</td>\n",
       "      <td>0.750936</td>\n",
       "      <td>0.724647</td>\n",
       "      <td>0.741536</td>\n",
       "    </tr>\n",
       "    <tr>\n",
       "      <th>support</th>\n",
       "      <td>320.000000</td>\n",
       "      <td>214.000000</td>\n",
       "      <td>0.750936</td>\n",
       "      <td>534.000000</td>\n",
       "      <td>534.000000</td>\n",
       "    </tr>\n",
       "  </tbody>\n",
       "</table>\n",
       "</div>"
      ],
      "text/plain": [
       "                    0           1  accuracy   macro avg  weighted avg\n",
       "precision    0.746702    0.761290  0.750936    0.753996      0.752548\n",
       "recall       0.884375    0.551402  0.750936    0.717888      0.750936\n",
       "f1-score     0.809728    0.639566  0.750936    0.724647      0.741536\n",
       "support    320.000000  214.000000  0.750936  534.000000    534.000000"
      ]
     },
     "execution_count": 98,
     "metadata": {},
     "output_type": "execute_result"
    }
   ],
   "source": [
    "pd.DataFrame(classification_report(y_tr, y_predict10, output_dict=True))"
   ]
  },
  {
   "cell_type": "code",
   "execution_count": 99,
   "id": "9553ee3c",
   "metadata": {},
   "outputs": [
    {
     "name": "stdout",
     "output_type": "stream",
     "text": [
      "Model Score: 0.751\n"
     ]
    }
   ],
   "source": [
    "#print(f'KNN(10) Classifier Accuracy: {accuracy_score(x_tr, y_tr)}')\n",
    "print(f'Model Score: {knn10.score(x_tr, y_tr):.3f}')"
   ]
  },
  {
   "cell_type": "code",
   "execution_count": 100,
   "id": "7283e957",
   "metadata": {},
   "outputs": [
    {
     "name": "stdout",
     "output_type": "stream",
     "text": [
      "TP, TN, FP, FN rates:\n",
      "\n",
      "TP(283)- True Positive rate:  0.530\n",
      "FP(37)- False Positive rate: 0.069\n",
      "TN(118)- True Negative rate:  0.221\n",
      "FN(96)- False Negative rate: 0.180\n"
     ]
    }
   ],
   "source": [
    "TP = confus10.iloc[0,0]\n",
    "TN = confus10.iloc[1,1]\n",
    "FP = confus10.iloc[0,1]\n",
    "FN = confus10.iloc[1,0]\n",
    "print('TP, TN, FP, FN rates:')\n",
    "print()\n",
    "print(f'TP({TP})- True Positive rate:  {TP/(TP+TN+FP+FN):.3f}')\n",
    "print(f'FP({FP})- False Positive rate: {FP/(TP+TN+FP+FN):.3f}')\n",
    "print(f'TN({TN})- True Negative rate:  {TN/(TP+TN+FP+FN):.3f}')\n",
    "print(f'FN({FN})- False Negative rate: {FN/(TP+TN+FP+FN):.3f}')"
   ]
  },
  {
   "cell_type": "code",
   "execution_count": 101,
   "id": "ed018dd4",
   "metadata": {},
   "outputs": [
    {
     "name": "stdout",
     "output_type": "stream",
     "text": [
      "TP:283\n",
      "FP:37\n",
      "TN:118\n",
      "FN:96\n",
      "\n",
      "Accuracy:  0.751%\n",
      "\n",
      "Precision: 0.761%\n",
      "\n",
      "   Recall: 0.551%\n",
      "\n"
     ]
    },
    {
     "ename": "TypeError",
     "evalue": "'numpy.float64' object is not callable",
     "output_type": "error",
     "traceback": [
      "\u001b[0;31m---------------------------------------------------------------------------\u001b[0m",
      "\u001b[0;31mTypeError\u001b[0m                                 Traceback (most recent call last)",
      "Input \u001b[0;32mIn [101]\u001b[0m, in \u001b[0;36m<cell line: 12>\u001b[0;34m()\u001b[0m\n\u001b[1;32m     10\u001b[0m \u001b[38;5;28mprint\u001b[39m(\u001b[38;5;124mf\u001b[39m\u001b[38;5;124m'\u001b[39m\u001b[38;5;124m   Recall: \u001b[39m\u001b[38;5;132;01m{\u001b[39;00mrecall_score(y_tr, y_predict10)\u001b[38;5;132;01m:\u001b[39;00m\u001b[38;5;124m.3f\u001b[39m\u001b[38;5;132;01m}\u001b[39;00m\u001b[38;5;124m%\u001b[39m\u001b[38;5;124m'\u001b[39m)\n\u001b[1;32m     11\u001b[0m \u001b[38;5;28mprint\u001b[39m()\n\u001b[0;32m---> 12\u001b[0m \u001b[38;5;28mprint\u001b[39m(\u001b[38;5;124mf\u001b[39m\u001b[38;5;124m'\u001b[39m\u001b[38;5;124m       F1: \u001b[39m\u001b[38;5;132;01m{\u001b[39;00mf1_score(y_tr, y_predict10)\u001b[38;5;132;01m:\u001b[39;00m\u001b[38;5;124m.3f\u001b[39m\u001b[38;5;132;01m}\u001b[39;00m\u001b[38;5;124m%\u001b[39m\u001b[38;5;124m'\u001b[39m)\n\u001b[1;32m     13\u001b[0m \u001b[38;5;28mprint\u001b[39m()\n\u001b[1;32m     14\u001b[0m \u001b[38;5;28mprint\u001b[39m(\u001b[38;5;124mf\u001b[39m\u001b[38;5;124m'\u001b[39m\u001b[38;5;124m  Support: NotSurvived: \u001b[39m\u001b[38;5;132;01m{\u001b[39;00mTP\u001b[38;5;241m+\u001b[39mFP\u001b[38;5;132;01m}\u001b[39;00m\u001b[38;5;124m'\u001b[39m)\n",
      "\u001b[0;31mTypeError\u001b[0m: 'numpy.float64' object is not callable"
     ]
    }
   ],
   "source": [
    "print(f'TP:{TP}')\n",
    "print(f'FP:{FP}')\n",
    "print(f'TN:{TN}')\n",
    "print(f'FN:{FN}')\n",
    "print()\n",
    "print(f'Accuracy:  {(TP+TN)/(TP+TN+FP+FN):.3f}%')\n",
    "print()\n",
    "print(f'Precision: {precision_score(y_tr, y_predict10):.3f}%')\n",
    "print()\n",
    "print(f'   Recall: {recall_score(y_tr, y_predict10):.3f}%')\n",
    "print()\n",
    "print(f'       F1: {f1_score(y_tr, y_predict10):.3f}%')\n",
    "print()\n",
    "print(f'  Support: NotSurvived: {TP+FP}')\n",
    "print(f'           Survived:    {TN+FN}')"
   ]
  },
  {
   "cell_type": "markdown",
   "id": "4af7f691",
   "metadata": {},
   "source": [
    "## 5. Run through setps 2-4 setting k to 20"
   ]
  },
  {
   "cell_type": "code",
   "execution_count": 103,
   "id": "3b769ae1",
   "metadata": {},
   "outputs": [
    {
     "data": {
      "text/html": [
       "<div>\n",
       "<style scoped>\n",
       "    .dataframe tbody tr th:only-of-type {\n",
       "        vertical-align: middle;\n",
       "    }\n",
       "\n",
       "    .dataframe tbody tr th {\n",
       "        vertical-align: top;\n",
       "    }\n",
       "\n",
       "    .dataframe thead th {\n",
       "        text-align: right;\n",
       "    }\n",
       "</style>\n",
       "<table border=\"1\" class=\"dataframe\">\n",
       "  <thead>\n",
       "    <tr style=\"text-align: right;\">\n",
       "      <th></th>\n",
       "      <th>pclass</th>\n",
       "      <th>isMale</th>\n",
       "      <th>age</th>\n",
       "      <th>sibsp</th>\n",
       "      <th>parch</th>\n",
       "      <th>fare</th>\n",
       "      <th>embark_town</th>\n",
       "      <th>alone</th>\n",
       "    </tr>\n",
       "  </thead>\n",
       "  <tbody>\n",
       "    <tr>\n",
       "      <th>304</th>\n",
       "      <td>3</td>\n",
       "      <td>1</td>\n",
       "      <td>28.0</td>\n",
       "      <td>0</td>\n",
       "      <td>0</td>\n",
       "      <td>8.0500</td>\n",
       "      <td>1.0</td>\n",
       "      <td>1</td>\n",
       "    </tr>\n",
       "    <tr>\n",
       "      <th>718</th>\n",
       "      <td>3</td>\n",
       "      <td>1</td>\n",
       "      <td>28.0</td>\n",
       "      <td>0</td>\n",
       "      <td>0</td>\n",
       "      <td>15.5000</td>\n",
       "      <td>3.0</td>\n",
       "      <td>1</td>\n",
       "    </tr>\n",
       "    <tr>\n",
       "      <th>102</th>\n",
       "      <td>1</td>\n",
       "      <td>1</td>\n",
       "      <td>21.0</td>\n",
       "      <td>0</td>\n",
       "      <td>1</td>\n",
       "      <td>77.2875</td>\n",
       "      <td>1.0</td>\n",
       "      <td>0</td>\n",
       "    </tr>\n",
       "    <tr>\n",
       "      <th>737</th>\n",
       "      <td>1</td>\n",
       "      <td>1</td>\n",
       "      <td>35.0</td>\n",
       "      <td>0</td>\n",
       "      <td>0</td>\n",
       "      <td>512.3292</td>\n",
       "      <td>2.0</td>\n",
       "      <td>1</td>\n",
       "    </tr>\n",
       "    <tr>\n",
       "      <th>269</th>\n",
       "      <td>1</td>\n",
       "      <td>0</td>\n",
       "      <td>35.0</td>\n",
       "      <td>0</td>\n",
       "      <td>0</td>\n",
       "      <td>135.6333</td>\n",
       "      <td>1.0</td>\n",
       "      <td>1</td>\n",
       "    </tr>\n",
       "  </tbody>\n",
       "</table>\n",
       "</div>"
      ],
      "text/plain": [
       "     pclass isMale   age  sibsp  parch      fare  embark_town  alone\n",
       "304       3      1  28.0      0      0    8.0500          1.0      1\n",
       "718       3      1  28.0      0      0   15.5000          3.0      1\n",
       "102       1      1  21.0      0      1   77.2875          1.0      0\n",
       "737       1      1  35.0      0      0  512.3292          2.0      1\n",
       "269       1      0  35.0      0      0  135.6333          1.0      1"
      ]
     },
     "execution_count": 103,
     "metadata": {},
     "output_type": "execute_result"
    }
   ],
   "source": [
    "x_tr.head()"
   ]
  },
  {
   "cell_type": "markdown",
   "id": "99e7f5ad",
   "metadata": {},
   "source": [
    "**Create the KNN object**"
   ]
  },
  {
   "cell_type": "code",
   "execution_count": 104,
   "id": "21d9f70a",
   "metadata": {},
   "outputs": [],
   "source": [
    "knn20 = KNeighborsClassifier(n_neighbors=20, weights='uniform')"
   ]
  },
  {
   "cell_type": "markdown",
   "id": "3e24ddd6",
   "metadata": {},
   "source": [
    "**Fit the model**"
   ]
  },
  {
   "cell_type": "code",
   "execution_count": 105,
   "id": "f0de85a0",
   "metadata": {},
   "outputs": [
    {
     "data": {
      "text/plain": [
       "KNeighborsClassifier(n_neighbors=20)"
      ]
     },
     "execution_count": 105,
     "metadata": {},
     "output_type": "execute_result"
    }
   ],
   "source": [
    "knn20 = knn20.fit(x_tr, y_tr)\n",
    "knn20"
   ]
  },
  {
   "cell_type": "code",
   "execution_count": 106,
   "id": "6805ba73",
   "metadata": {},
   "outputs": [],
   "source": [
    "y_predict20 = knn20.predict(x_tr)"
   ]
  },
  {
   "cell_type": "code",
   "execution_count": 107,
   "id": "cf3f31d0",
   "metadata": {},
   "outputs": [
    {
     "data": {
      "text/plain": [
       "array([[1.  , 0.  ],\n",
       "       [0.7 , 0.3 ],\n",
       "       [0.45, 0.55],\n",
       "       ...,\n",
       "       [0.6 , 0.4 ],\n",
       "       [0.25, 0.75],\n",
       "       [0.65, 0.35]])"
      ]
     },
     "execution_count": 107,
     "metadata": {},
     "output_type": "execute_result"
    }
   ],
   "source": [
    "y_pred_proba20 = knn20.predict_proba(x_tr)\n",
    "y_pred_proba20"
   ]
  },
  {
   "cell_type": "code",
   "execution_count": 108,
   "id": "ff47ead8",
   "metadata": {},
   "outputs": [
    {
     "data": {
      "text/html": [
       "<div>\n",
       "<style scoped>\n",
       "    .dataframe tbody tr th:only-of-type {\n",
       "        vertical-align: middle;\n",
       "    }\n",
       "\n",
       "    .dataframe tbody tr th {\n",
       "        vertical-align: top;\n",
       "    }\n",
       "\n",
       "    .dataframe thead th {\n",
       "        text-align: right;\n",
       "    }\n",
       "</style>\n",
       "<table border=\"1\" class=\"dataframe\">\n",
       "  <thead>\n",
       "    <tr style=\"text-align: right;\">\n",
       "      <th></th>\n",
       "      <th>0</th>\n",
       "      <th>1</th>\n",
       "    </tr>\n",
       "  </thead>\n",
       "  <tbody>\n",
       "    <tr>\n",
       "      <th>0</th>\n",
       "      <td>270</td>\n",
       "      <td>50</td>\n",
       "    </tr>\n",
       "    <tr>\n",
       "      <th>1</th>\n",
       "      <td>99</td>\n",
       "      <td>115</td>\n",
       "    </tr>\n",
       "  </tbody>\n",
       "</table>\n",
       "</div>"
      ],
      "text/plain": [
       "     0    1\n",
       "0  270   50\n",
       "1   99  115"
      ]
     },
     "execution_count": 108,
     "metadata": {},
     "output_type": "execute_result"
    }
   ],
   "source": [
    "confus20 = pd.DataFrame(confusion_matrix(y_tr, y_predict20))\n",
    "confus20"
   ]
  },
  {
   "cell_type": "code",
   "execution_count": 113,
   "id": "744247f8",
   "metadata": {},
   "outputs": [
    {
     "name": "stdout",
     "output_type": "stream",
     "text": [
      "              precision    recall  f1-score   support\n",
      "\n",
      "           0       0.73      0.84      0.78       320\n",
      "           1       0.70      0.54      0.61       214\n",
      "\n",
      "    accuracy                           0.72       534\n",
      "   macro avg       0.71      0.69      0.70       534\n",
      "weighted avg       0.72      0.72      0.71       534\n",
      "\n"
     ]
    }
   ],
   "source": [
    "print(classification_report(y_tr, y_predict20))"
   ]
  },
  {
   "cell_type": "code",
   "execution_count": 110,
   "id": "8239a892",
   "metadata": {},
   "outputs": [
    {
     "name": "stdout",
     "output_type": "stream",
     "text": [
      "Model Score: 0.721\n"
     ]
    }
   ],
   "source": [
    "#print('KNN(20) classifier Accuracy: {:.2f}'.format(knn20.score(x_tr, y_tr)))\n",
    "print(f'Model Score: {knn20.score(x_tr, y_tr):.3f}')"
   ]
  },
  {
   "cell_type": "code",
   "execution_count": 111,
   "id": "c613be62",
   "metadata": {},
   "outputs": [
    {
     "name": "stdout",
     "output_type": "stream",
     "text": [
      "TP, TN, FP, FN rates:\n",
      "\n",
      "TP(270) - True Positive rate:  0.506\n",
      "FP(50) - False Positive rate: 0.094\n",
      "TN(115) - True Negative rate:  0.215\n",
      "FN(99) - False Negative rate: 0.185\n"
     ]
    }
   ],
   "source": [
    "TP = confus20.iloc[0,0]\n",
    "TN = confus20.iloc[1,1]\n",
    "FP = confus20.iloc[0,1]\n",
    "FN = confus20.iloc[1,0]\n",
    "print('TP, TN, FP, FN rates:')\n",
    "print()\n",
    "print(f'TP({TP}) - True Positive rate:  {TP/(TP+TN+FP+FN):.3f}')\n",
    "print(f'FP({FP}) - False Positive rate: {FP/(TP+TN+FP+FN):.3f}')\n",
    "print(f'TN({TN}) - True Negative rate:  {TN/(TP+TN+FP+FN):.3f}')\n",
    "print(f'FN({FN}) - False Negative rate: {FN/(TP+TN+FP+FN):.3f}')"
   ]
  },
  {
   "cell_type": "code",
   "execution_count": 112,
   "id": "2ef1dd22",
   "metadata": {},
   "outputs": [
    {
     "name": "stdout",
     "output_type": "stream",
     "text": [
      "TP:270\n",
      "FP:50\n",
      "TN:115\n",
      "FN:99\n",
      "\n",
      "Accuracy:  0.721%\n",
      "\n",
      "Precision: 0.772%\n",
      "\n",
      "   Recall: 0.650%\n",
      "\n"
     ]
    },
    {
     "ename": "TypeError",
     "evalue": "'numpy.float64' object is not callable",
     "output_type": "error",
     "traceback": [
      "\u001b[0;31m---------------------------------------------------------------------------\u001b[0m",
      "\u001b[0;31mTypeError\u001b[0m                                 Traceback (most recent call last)",
      "Input \u001b[0;32mIn [112]\u001b[0m, in \u001b[0;36m<cell line: 12>\u001b[0;34m()\u001b[0m\n\u001b[1;32m     10\u001b[0m \u001b[38;5;28mprint\u001b[39m(\u001b[38;5;124mf\u001b[39m\u001b[38;5;124m'\u001b[39m\u001b[38;5;124m   Recall: \u001b[39m\u001b[38;5;132;01m{\u001b[39;00mrecall_score(y_tr, y_predict)\u001b[38;5;132;01m:\u001b[39;00m\u001b[38;5;124m.3f\u001b[39m\u001b[38;5;132;01m}\u001b[39;00m\u001b[38;5;124m%\u001b[39m\u001b[38;5;124m'\u001b[39m)\n\u001b[1;32m     11\u001b[0m \u001b[38;5;28mprint\u001b[39m()\n\u001b[0;32m---> 12\u001b[0m \u001b[38;5;28mprint\u001b[39m(\u001b[38;5;124mf\u001b[39m\u001b[38;5;124m'\u001b[39m\u001b[38;5;124m       F1: \u001b[39m\u001b[38;5;132;01m{\u001b[39;00mf1_score(y_tr, y_predict)\u001b[38;5;132;01m:\u001b[39;00m\u001b[38;5;124m.3f\u001b[39m\u001b[38;5;132;01m}\u001b[39;00m\u001b[38;5;124m%\u001b[39m\u001b[38;5;124m'\u001b[39m)\n\u001b[1;32m     13\u001b[0m \u001b[38;5;28mprint\u001b[39m()\n\u001b[1;32m     14\u001b[0m \u001b[38;5;28mprint\u001b[39m(\u001b[38;5;124mf\u001b[39m\u001b[38;5;124m'\u001b[39m\u001b[38;5;124m  Support: NotSurvived: \u001b[39m\u001b[38;5;132;01m{\u001b[39;00mTP\u001b[38;5;241m+\u001b[39mFP\u001b[38;5;132;01m}\u001b[39;00m\u001b[38;5;124m'\u001b[39m)\n",
      "\u001b[0;31mTypeError\u001b[0m: 'numpy.float64' object is not callable"
     ]
    }
   ],
   "source": [
    "print(f'TP:{TP}')\n",
    "print(f'FP:{FP}')\n",
    "print(f'TN:{TN}')\n",
    "print(f'FN:{FN}')\n",
    "print()\n",
    "print(f'Accuracy:  {(TP+TN)/(TP+TN+FP+FN):.3f}%')\n",
    "print()\n",
    "print(f'Precision: {precision_score(y_tr, y_predict):.3f}%')\n",
    "print()\n",
    "print(f'   Recall: {recall_score(y_tr, y_predict):.3f}%')\n",
    "print()\n",
    "print(f'       F1: {f1_score(y_tr, y_predict):.3f}%')\n",
    "print()\n",
    "print(f'  Support: NotSurvived: {TP+FP}')\n",
    "print(f'           Survived:    {TN+FN}')"
   ]
  },
  {
   "cell_type": "markdown",
   "id": "b7aa941a",
   "metadata": {},
   "source": [
    "## 6. What are the differences in the evaluation metrics? Which performs better on your in-sample data? Why?"
   ]
  },
  {
   "cell_type": "markdown",
   "id": "57e2dc4f",
   "metadata": {},
   "source": [
    "NEED TO RUN SAME KNN ON VAL, NTO NEW ONE"
   ]
  },
  {
   "cell_type": "code",
   "execution_count": 114,
   "id": "108e9c8c",
   "metadata": {},
   "outputs": [
    {
     "data": {
      "text/plain": [
       "KNeighborsClassifier(n_neighbors=20)"
      ]
     },
     "execution_count": 114,
     "metadata": {},
     "output_type": "execute_result"
    }
   ],
   "source": [
    "knn_val = KNeighborsClassifier(n_neighbors=20, weights='uniform')\n",
    "knn_val.fit(x_val, y_val)"
   ]
  },
  {
   "cell_type": "code",
   "execution_count": 115,
   "id": "d04c4218",
   "metadata": {},
   "outputs": [],
   "source": [
    "y_predict = knn_val.predict(x_val)"
   ]
  },
  {
   "cell_type": "code",
   "execution_count": 116,
   "id": "87d01d81",
   "metadata": {},
   "outputs": [],
   "source": [
    "y_pred_proba = knn_val.predict_proba(x_val)"
   ]
  },
  {
   "cell_type": "code",
   "execution_count": 117,
   "id": "eaa157fc",
   "metadata": {},
   "outputs": [
    {
     "name": "stdout",
     "output_type": "stream",
     "text": [
      "KNN classifier accuracy(validate): 0.71\n"
     ]
    }
   ],
   "source": [
    "print('KNN classifier accuracy(validate): {:.2f}'\n",
    "     .format(knn_val.score(x_val, y_val)))"
   ]
  },
  {
   "cell_type": "markdown",
   "id": "7270fca5",
   "metadata": {},
   "source": [
    "## 7. Which model performs best on our out-of-sample data from validate?"
   ]
  },
  {
   "cell_type": "code",
   "execution_count": 118,
   "id": "f681e8f5",
   "metadata": {},
   "outputs": [],
   "source": [
    "y_predict = knn.predict(x_val)\n",
    "y_pred_prob_val = knn.predict_proba(x_val)"
   ]
  },
  {
   "cell_type": "code",
   "execution_count": 123,
   "id": "fe6f345a",
   "metadata": {
    "scrolled": true
   },
   "outputs": [
    {
     "name": "stdout",
     "output_type": "stream",
     "text": [
      "              precision    recall  f1-score   support\n",
      "\n",
      "           0       0.77      0.82      0.80       118\n",
      "           1       0.60      0.52      0.55        60\n",
      "\n",
      "    accuracy                           0.72       178\n",
      "   macro avg       0.68      0.67      0.67       178\n",
      "weighted avg       0.71      0.72      0.71       178\n",
      "\n"
     ]
    }
   ],
   "source": [
    "print(classification_report(y_val, y_predict))"
   ]
  },
  {
   "cell_type": "code",
   "execution_count": 124,
   "id": "72109a17",
   "metadata": {},
   "outputs": [],
   "source": [
    "y_predict10 = knn10.predict(x_val)\n",
    "y_pred_prob_val10 = knn10.predict_proba(x_val)"
   ]
  },
  {
   "cell_type": "code",
   "execution_count": 125,
   "id": "2187a862",
   "metadata": {
    "scrolled": true
   },
   "outputs": [
    {
     "name": "stdout",
     "output_type": "stream",
     "text": [
      "              precision    recall  f1-score   support\n",
      "\n",
      "           0       0.75      0.86      0.80       118\n",
      "           1       0.62      0.43      0.51        60\n",
      "\n",
      "    accuracy                           0.72       178\n",
      "   macro avg       0.68      0.65      0.66       178\n",
      "weighted avg       0.71      0.72      0.70       178\n",
      "\n"
     ]
    }
   ],
   "source": [
    "print(classification_report(y_val, y_predict10))"
   ]
  },
  {
   "cell_type": "code",
   "execution_count": 126,
   "id": "7cd5e5ff",
   "metadata": {},
   "outputs": [],
   "source": [
    "y_predict20 = knn20.predict(x_val)\n",
    "y_pred_prob_val20 = knn20.predict_proba(x_val)"
   ]
  },
  {
   "cell_type": "code",
   "execution_count": 127,
   "id": "5ce122da",
   "metadata": {},
   "outputs": [
    {
     "name": "stdout",
     "output_type": "stream",
     "text": [
      "              precision    recall  f1-score   support\n",
      "\n",
      "           0       0.75      0.80      0.77       118\n",
      "           1       0.54      0.47      0.50        60\n",
      "\n",
      "    accuracy                           0.69       178\n",
      "   macro avg       0.64      0.63      0.64       178\n",
      "weighted avg       0.68      0.69      0.68       178\n",
      "\n"
     ]
    }
   ],
   "source": [
    "print(classification_report(y_val, y_predict20))"
   ]
  },
  {
   "cell_type": "markdown",
   "id": "554e8fc8",
   "metadata": {},
   "source": [
    "#### KNN 10 works best"
   ]
  },
  {
   "cell_type": "markdown",
   "id": "de307499",
   "metadata": {},
   "source": [
    "# ----------------------------------------------------------"
   ]
  },
  {
   "cell_type": "markdown",
   "id": "52320006",
   "metadata": {},
   "source": [
    "# __Lesson: Logistic Regression__"
   ]
  },
  {
   "cell_type": "markdown",
   "id": "a3f42c7b",
   "metadata": {},
   "source": [
    "### Instructions:\n",
    "In these exercises, we'll continue working with the titanic dataset and building logistic regression models. Throughout this exercise, be sure you are training, evaluation, and comparing models on the train and validate datasets. The test dataset should only be used for your final model.\n",
    "\n",
    "For all of the models you create, choose a threshold that optimizes for accuracy."
   ]
  },
  {
   "cell_type": "markdown",
   "id": "1c7206de",
   "metadata": {},
   "source": [
    "***"
   ]
  },
  {
   "cell_type": "markdown",
   "id": "0286a885",
   "metadata": {},
   "source": [
    "## Model 1\n",
    "### Make the model\n",
    "**Create the object**\n",
    "\n",
    "logit = LogisticRegression(C=1, class_weight={0:1, 1:99}, random_state=123, intercept_scaling=1, solver='lbfgs')\n",
    "\n",
    "**Fit the model**Fit the random forest algorithm to the training data.\n",
    "\n",
    "logit.fit(X_train, y_train)\n",
    "\n",
    "LogisticRegression(C=1, class_weight={0: 1, 1: 99}, random_state=123)\n",
    "\n",
    "**Feature Importance**Evaluate importance, or weight, of each feature, using the coefficients.\n",
    "\n",
    "Evaluate the intercept of the model.\n",
    "\n",
    "print('Coefficient: \\n', logit.coef_)\n",
    "print('Intercept: \\n', logit.intercept_)\n",
    "\n",
    "**Make Predictions**Estimate whether or not the species is versicolor for each observation, using the training data.\n",
    "\n",
    "y_pred = logit.predict(X_train)\n",
    "\n",
    "**Estimate Probability**Estimate the probability of species being versicolor for each observation, using the training data.\n",
    "\n",
    "y_pred_proba = logit.predict_proba(X_train)\n",
    "***\n",
    "### Evaluate the Model\n",
    "**Compute the Accuracy**\n",
    "\n",
    "print('Accuracy of Logistic Regression classifier on training set: {:.2f}'.format(logit.score(X_train, y_train)))\n",
    "     \n",
    "**Create a confusion matrix**\n",
    "\n",
    "print(confusion_matrix(y_train, y_pred))\n",
    "\n",
    "**Create a classification report**\n",
    "\n",
    "print(classification_report(y_train, y_pred))\n",
    "***\n",
    "## Model 2\n",
    "### Make the Model\n",
    "**Create the object**\n",
    "\n",
    "logit2 = LogisticRegression(C=.1, class_weight={0:1, 1:99}, random_state=123, intercept_scaling=1, solver='lbfgs')\n",
    "\n",
    "**Fit the model:**Fit the random forest algorithm to the training data.\n",
    "\n",
    "logit2.fit(X_train, y_train)\n",
    "\n",
    "LogisticRegression(C=0.1, class_weight={0: 1, 1: 99}, random_state=123)\n",
    "\n",
    "**Feature Importance:**Evaluate importance, or weight, of each feature, using the coefficients.Evaluate the intercept of the model.\n",
    "\n",
    "print('Coefficient: \\n', logit2.coef_)\n",
    "print('Intercept: \\n', logit2.intercept_)\n",
    "\n",
    "**Make Predictions:**Estimate whether or not the species is versicolor for each observation, using the training data.\n",
    "\n",
    "y_pred2 = logit2.predict(X_train)\n",
    "\n",
    "**Estimate Probability**\n",
    "\n",
    "Estimate the probability of species being versicolor for each observation, using the training data.\n",
    "\n",
    "y_pred_proba2 = logit2.predict_proba(X_train)\n",
    "***\n",
    "### Evaluate Model\n",
    "**Compute the Accuracy**\n",
    "\n",
    "print('Accuracy of Logistic Regression classifier on training set: {:.2f}'.format(logit2.score(X_train, y_train)))\n",
    "\n",
    "**Create a confusion matrix**\n",
    "\n",
    "print(confusion_matrix(y_train, y_pred2))\n",
    "\n",
    "**Create a classification report**\n",
    "\n",
    "print(classification_report(y_train, y_pred2))\n",
    "\n",
    "**Compute Scores**\n",
    "\n",
    "Accuracy<br>\n",
    "Precision<br>\n",
    "Recall<br>\n",
    "F1 Score<br>\n",
    "Support\n",
    "\n",
    "### Validate Models\n",
    "### Test Model\n",
    "### Visualize Models\n",
    "\n",
    "***"
   ]
  },
  {
   "cell_type": "markdown",
   "id": "72b775a5",
   "metadata": {},
   "source": [
    "## 1. Create a model that includes age in addition to fare and pclass. Does this model perform better than your baseline? "
   ]
  },
  {
   "cell_type": "code",
   "execution_count": 128,
   "id": "ba776de5",
   "metadata": {},
   "outputs": [
    {
     "data": {
      "text/html": [
       "<div>\n",
       "<style scoped>\n",
       "    .dataframe tbody tr th:only-of-type {\n",
       "        vertical-align: middle;\n",
       "    }\n",
       "\n",
       "    .dataframe tbody tr th {\n",
       "        vertical-align: top;\n",
       "    }\n",
       "\n",
       "    .dataframe thead th {\n",
       "        text-align: right;\n",
       "    }\n",
       "</style>\n",
       "<table border=\"1\" class=\"dataframe\">\n",
       "  <thead>\n",
       "    <tr style=\"text-align: right;\">\n",
       "      <th></th>\n",
       "      <th>Unnamed: 0</th>\n",
       "      <th>passenger_id</th>\n",
       "      <th>survived</th>\n",
       "      <th>pclass</th>\n",
       "      <th>sex</th>\n",
       "      <th>age</th>\n",
       "      <th>sibsp</th>\n",
       "      <th>parch</th>\n",
       "      <th>fare</th>\n",
       "      <th>embarked</th>\n",
       "      <th>class</th>\n",
       "      <th>deck</th>\n",
       "      <th>embark_town</th>\n",
       "      <th>alone</th>\n",
       "    </tr>\n",
       "  </thead>\n",
       "  <tbody>\n",
       "    <tr>\n",
       "      <th>0</th>\n",
       "      <td>0</td>\n",
       "      <td>0</td>\n",
       "      <td>0</td>\n",
       "      <td>3</td>\n",
       "      <td>male</td>\n",
       "      <td>22.0</td>\n",
       "      <td>1</td>\n",
       "      <td>0</td>\n",
       "      <td>7.2500</td>\n",
       "      <td>S</td>\n",
       "      <td>Third</td>\n",
       "      <td>NaN</td>\n",
       "      <td>Southampton</td>\n",
       "      <td>0</td>\n",
       "    </tr>\n",
       "    <tr>\n",
       "      <th>1</th>\n",
       "      <td>1</td>\n",
       "      <td>1</td>\n",
       "      <td>1</td>\n",
       "      <td>1</td>\n",
       "      <td>female</td>\n",
       "      <td>38.0</td>\n",
       "      <td>1</td>\n",
       "      <td>0</td>\n",
       "      <td>71.2833</td>\n",
       "      <td>C</td>\n",
       "      <td>First</td>\n",
       "      <td>C</td>\n",
       "      <td>Cherbourg</td>\n",
       "      <td>0</td>\n",
       "    </tr>\n",
       "    <tr>\n",
       "      <th>2</th>\n",
       "      <td>2</td>\n",
       "      <td>2</td>\n",
       "      <td>1</td>\n",
       "      <td>3</td>\n",
       "      <td>female</td>\n",
       "      <td>26.0</td>\n",
       "      <td>0</td>\n",
       "      <td>0</td>\n",
       "      <td>7.9250</td>\n",
       "      <td>S</td>\n",
       "      <td>Third</td>\n",
       "      <td>NaN</td>\n",
       "      <td>Southampton</td>\n",
       "      <td>1</td>\n",
       "    </tr>\n",
       "  </tbody>\n",
       "</table>\n",
       "</div>"
      ],
      "text/plain": [
       "   Unnamed: 0  passenger_id  survived  pclass     sex   age  sibsp  parch  \\\n",
       "0           0             0         0       3    male  22.0      1      0   \n",
       "1           1             1         1       1  female  38.0      1      0   \n",
       "2           2             2         1       3  female  26.0      0      0   \n",
       "\n",
       "      fare embarked  class deck  embark_town  alone  \n",
       "0   7.2500        S  Third  NaN  Southampton      0  \n",
       "1  71.2833        C  First    C    Cherbourg      0  \n",
       "2   7.9250        S  Third  NaN  Southampton      1  "
      ]
     },
     "execution_count": 128,
     "metadata": {},
     "output_type": "execute_result"
    }
   ],
   "source": [
    "titanic = acquire.grab_titanic_data()\n",
    "titanic.head(3)"
   ]
  },
  {
   "cell_type": "code",
   "execution_count": 129,
   "id": "8c7086a0",
   "metadata": {},
   "outputs": [
    {
     "data": {
      "text/html": [
       "<div>\n",
       "<style scoped>\n",
       "    .dataframe tbody tr th:only-of-type {\n",
       "        vertical-align: middle;\n",
       "    }\n",
       "\n",
       "    .dataframe tbody tr th {\n",
       "        vertical-align: top;\n",
       "    }\n",
       "\n",
       "    .dataframe thead th {\n",
       "        text-align: right;\n",
       "    }\n",
       "</style>\n",
       "<table border=\"1\" class=\"dataframe\">\n",
       "  <thead>\n",
       "    <tr style=\"text-align: right;\">\n",
       "      <th></th>\n",
       "      <th>survived</th>\n",
       "      <th>pclass</th>\n",
       "      <th>isMale</th>\n",
       "      <th>age</th>\n",
       "      <th>sibsp</th>\n",
       "      <th>parch</th>\n",
       "      <th>fare</th>\n",
       "      <th>embark_town</th>\n",
       "      <th>alone</th>\n",
       "    </tr>\n",
       "  </thead>\n",
       "  <tbody>\n",
       "    <tr>\n",
       "      <th>0</th>\n",
       "      <td>0</td>\n",
       "      <td>3</td>\n",
       "      <td>1</td>\n",
       "      <td>22.0</td>\n",
       "      <td>1</td>\n",
       "      <td>0</td>\n",
       "      <td>7.2500</td>\n",
       "      <td>1.0</td>\n",
       "      <td>0</td>\n",
       "    </tr>\n",
       "    <tr>\n",
       "      <th>1</th>\n",
       "      <td>1</td>\n",
       "      <td>1</td>\n",
       "      <td>0</td>\n",
       "      <td>38.0</td>\n",
       "      <td>1</td>\n",
       "      <td>0</td>\n",
       "      <td>71.2833</td>\n",
       "      <td>2.0</td>\n",
       "      <td>0</td>\n",
       "    </tr>\n",
       "    <tr>\n",
       "      <th>2</th>\n",
       "      <td>1</td>\n",
       "      <td>3</td>\n",
       "      <td>0</td>\n",
       "      <td>26.0</td>\n",
       "      <td>0</td>\n",
       "      <td>0</td>\n",
       "      <td>7.9250</td>\n",
       "      <td>1.0</td>\n",
       "      <td>1</td>\n",
       "    </tr>\n",
       "  </tbody>\n",
       "</table>\n",
       "</div>"
      ],
      "text/plain": [
       "   survived  pclass isMale   age  sibsp  parch     fare  embark_town  alone\n",
       "0         0       3      1  22.0      1      0   7.2500          1.0      0\n",
       "1         1       1      0  38.0      1      0  71.2833          2.0      0\n",
       "2         1       3      0  26.0      0      0   7.9250          1.0      1"
      ]
     },
     "execution_count": 129,
     "metadata": {},
     "output_type": "execute_result"
    }
   ],
   "source": [
    "titanic = acquire.prep_titanic(titanic)\n",
    "titanic.head(3)"
   ]
  },
  {
   "cell_type": "code",
   "execution_count": 130,
   "id": "77470c15",
   "metadata": {},
   "outputs": [
    {
     "name": "stdout",
     "output_type": "stream",
     "text": [
      "<class 'pandas.core.frame.DataFrame'>\n",
      "RangeIndex: 891 entries, 0 to 890\n",
      "Data columns (total 9 columns):\n",
      " #   Column       Non-Null Count  Dtype  \n",
      "---  ------       --------------  -----  \n",
      " 0   survived     891 non-null    int64  \n",
      " 1   pclass       891 non-null    int64  \n",
      " 2   isMale       891 non-null    object \n",
      " 3   age          891 non-null    float64\n",
      " 4   sibsp        891 non-null    int64  \n",
      " 5   parch        891 non-null    int64  \n",
      " 6   fare         891 non-null    float64\n",
      " 7   embark_town  891 non-null    float64\n",
      " 8   alone        891 non-null    int64  \n",
      "dtypes: float64(3), int64(5), object(1)\n",
      "memory usage: 62.8+ KB\n"
     ]
    }
   ],
   "source": [
    "titanic.info()"
   ]
  },
  {
   "cell_type": "code",
   "execution_count": 131,
   "id": "f25751f7",
   "metadata": {},
   "outputs": [],
   "source": [
    "titanic['baseline'] = 0"
   ]
  },
  {
   "cell_type": "code",
   "execution_count": 133,
   "id": "3d6f6816",
   "metadata": {},
   "outputs": [
    {
     "data": {
      "text/html": [
       "<div>\n",
       "<style scoped>\n",
       "    .dataframe tbody tr th:only-of-type {\n",
       "        vertical-align: middle;\n",
       "    }\n",
       "\n",
       "    .dataframe tbody tr th {\n",
       "        vertical-align: top;\n",
       "    }\n",
       "\n",
       "    .dataframe thead th {\n",
       "        text-align: right;\n",
       "    }\n",
       "</style>\n",
       "<table border=\"1\" class=\"dataframe\">\n",
       "  <thead>\n",
       "    <tr style=\"text-align: right;\">\n",
       "      <th></th>\n",
       "      <th>survived</th>\n",
       "      <th>pclass</th>\n",
       "      <th>isMale</th>\n",
       "      <th>age</th>\n",
       "      <th>sibsp</th>\n",
       "      <th>parch</th>\n",
       "      <th>fare</th>\n",
       "      <th>embark_town</th>\n",
       "      <th>alone</th>\n",
       "      <th>baseline</th>\n",
       "    </tr>\n",
       "  </thead>\n",
       "  <tbody>\n",
       "    <tr>\n",
       "      <th>0</th>\n",
       "      <td>0</td>\n",
       "      <td>3</td>\n",
       "      <td>1</td>\n",
       "      <td>22.0</td>\n",
       "      <td>1</td>\n",
       "      <td>0</td>\n",
       "      <td>7.2500</td>\n",
       "      <td>1.0</td>\n",
       "      <td>0</td>\n",
       "      <td>0</td>\n",
       "    </tr>\n",
       "    <tr>\n",
       "      <th>1</th>\n",
       "      <td>1</td>\n",
       "      <td>1</td>\n",
       "      <td>0</td>\n",
       "      <td>38.0</td>\n",
       "      <td>1</td>\n",
       "      <td>0</td>\n",
       "      <td>71.2833</td>\n",
       "      <td>2.0</td>\n",
       "      <td>0</td>\n",
       "      <td>0</td>\n",
       "    </tr>\n",
       "  </tbody>\n",
       "</table>\n",
       "</div>"
      ],
      "text/plain": [
       "   survived  pclass isMale   age  sibsp  parch     fare  embark_town  alone  \\\n",
       "0         0       3      1  22.0      1      0   7.2500          1.0      0   \n",
       "1         1       1      0  38.0      1      0  71.2833          2.0      0   \n",
       "\n",
       "   baseline  \n",
       "0         0  \n",
       "1         0  "
      ]
     },
     "execution_count": 133,
     "metadata": {},
     "output_type": "execute_result"
    }
   ],
   "source": [
    "titanic.head(2)"
   ]
  },
  {
   "cell_type": "code",
   "execution_count": 134,
   "id": "024da89f",
   "metadata": {},
   "outputs": [],
   "source": [
    "#print(f'Baseline accuracy: {metrics.accuracy_score(titanic.survived, titanic.baseline):.3f}, This is predicting for non-survival')"
   ]
  },
  {
   "cell_type": "code",
   "execution_count": 135,
   "id": "d2cf58cc",
   "metadata": {
    "scrolled": true
   },
   "outputs": [
    {
     "data": {
      "text/plain": [
       "((534, 10), (178, 10), (179, 10))"
      ]
     },
     "execution_count": 135,
     "metadata": {},
     "output_type": "execute_result"
    }
   ],
   "source": [
    "train, validate, test = acquire.split(titanic)\n",
    "train.shape, validate.shape, test.shape"
   ]
  },
  {
   "cell_type": "code",
   "execution_count": 136,
   "id": "2d23114d",
   "metadata": {},
   "outputs": [],
   "source": [
    "X_train = train.drop(columns={'survived','baseline'})\n",
    "y_train = train.survived\n",
    "X_validate = validate.drop(columns={'survived','baseline'})\n",
    "y_validate = validate.survived\n",
    "X_test = test.drop(columns={'survived','baseline'})\n",
    "y_test = test.survived"
   ]
  },
  {
   "cell_type": "markdown",
   "id": "3653a568",
   "metadata": {},
   "source": [
    "##### Define Logistic Regression Model"
   ]
  },
  {
   "cell_type": "code",
   "execution_count": 137,
   "id": "f9843692",
   "metadata": {},
   "outputs": [],
   "source": [
    "logit = LogisticRegression(random_state=248)#C=.1, class_weight={0:1, 1:99}, random_state=248, intercept_scaling=1, solver='lbfgs')"
   ]
  },
  {
   "cell_type": "markdown",
   "id": "9b32baf9",
   "metadata": {},
   "source": [
    "##### Fit the model to the train data"
   ]
  },
  {
   "cell_type": "code",
   "execution_count": 138,
   "id": "e3bf13ea",
   "metadata": {},
   "outputs": [
    {
     "data": {
      "text/plain": [
       "LogisticRegression(random_state=248)"
      ]
     },
     "execution_count": 138,
     "metadata": {},
     "output_type": "execute_result"
    }
   ],
   "source": [
    "logit.fit(X_train, y_train)"
   ]
  },
  {
   "cell_type": "markdown",
   "id": "fa661159",
   "metadata": {},
   "source": [
    "##### Make predictions using the model"
   ]
  },
  {
   "cell_type": "code",
   "execution_count": 139,
   "id": "b4a8525d",
   "metadata": {},
   "outputs": [
    {
     "data": {
      "text/plain": [
       "array([0, 0, 1, 1, 1, 0, 1, 0, 0, 0])"
      ]
     },
     "execution_count": 139,
     "metadata": {},
     "output_type": "execute_result"
    }
   ],
   "source": [
    "y_pred = logit.predict(X_train)\n",
    "y_pred[:10]"
   ]
  },
  {
   "cell_type": "code",
   "execution_count": 141,
   "id": "d6e34223",
   "metadata": {},
   "outputs": [
    {
     "data": {
      "text/html": [
       "<div>\n",
       "<style scoped>\n",
       "    .dataframe tbody tr th:only-of-type {\n",
       "        vertical-align: middle;\n",
       "    }\n",
       "\n",
       "    .dataframe tbody tr th {\n",
       "        vertical-align: top;\n",
       "    }\n",
       "\n",
       "    .dataframe thead th {\n",
       "        text-align: right;\n",
       "    }\n",
       "</style>\n",
       "<table border=\"1\" class=\"dataframe\">\n",
       "  <thead>\n",
       "    <tr style=\"text-align: right;\">\n",
       "      <th></th>\n",
       "      <th>NotSurvive</th>\n",
       "      <th>Survive</th>\n",
       "    </tr>\n",
       "  </thead>\n",
       "  <tbody>\n",
       "    <tr>\n",
       "      <th>0</th>\n",
       "      <td>0.888720</td>\n",
       "      <td>0.111280</td>\n",
       "    </tr>\n",
       "    <tr>\n",
       "      <th>1</th>\n",
       "      <td>0.872770</td>\n",
       "      <td>0.127230</td>\n",
       "    </tr>\n",
       "    <tr>\n",
       "      <th>2</th>\n",
       "      <td>0.277540</td>\n",
       "      <td>0.722460</td>\n",
       "    </tr>\n",
       "    <tr>\n",
       "      <th>3</th>\n",
       "      <td>0.234243</td>\n",
       "      <td>0.765757</td>\n",
       "    </tr>\n",
       "    <tr>\n",
       "      <th>4</th>\n",
       "      <td>0.093453</td>\n",
       "      <td>0.906547</td>\n",
       "    </tr>\n",
       "    <tr>\n",
       "      <th>5</th>\n",
       "      <td>0.908249</td>\n",
       "      <td>0.091751</td>\n",
       "    </tr>\n",
       "    <tr>\n",
       "      <th>6</th>\n",
       "      <td>0.370202</td>\n",
       "      <td>0.629798</td>\n",
       "    </tr>\n",
       "    <tr>\n",
       "      <th>7</th>\n",
       "      <td>0.590165</td>\n",
       "      <td>0.409835</td>\n",
       "    </tr>\n",
       "    <tr>\n",
       "      <th>8</th>\n",
       "      <td>0.673378</td>\n",
       "      <td>0.326622</td>\n",
       "    </tr>\n",
       "    <tr>\n",
       "      <th>9</th>\n",
       "      <td>0.980333</td>\n",
       "      <td>0.019667</td>\n",
       "    </tr>\n",
       "  </tbody>\n",
       "</table>\n",
       "</div>"
      ],
      "text/plain": [
       "   NotSurvive   Survive\n",
       "0    0.888720  0.111280\n",
       "1    0.872770  0.127230\n",
       "2    0.277540  0.722460\n",
       "3    0.234243  0.765757\n",
       "4    0.093453  0.906547\n",
       "5    0.908249  0.091751\n",
       "6    0.370202  0.629798\n",
       "7    0.590165  0.409835\n",
       "8    0.673378  0.326622\n",
       "9    0.980333  0.019667"
      ]
     },
     "execution_count": 141,
     "metadata": {},
     "output_type": "execute_result"
    }
   ],
   "source": [
    "y_pred_proba_logit = logit.predict_proba(X_train)\n",
    "y_pred_proba_logit = pd.DataFrame(y_pred_proba_logit, columns=['NotSurvive', 'Survive'])\n",
    "y_pred_proba_logit.head(10)"
   ]
  },
  {
   "cell_type": "code",
   "execution_count": 143,
   "id": "20a11218",
   "metadata": {},
   "outputs": [
    {
     "name": "stdout",
     "output_type": "stream",
     "text": [
      "              precision    recall  f1-score   support\n",
      "\n",
      "           0       0.81      0.86      0.84       320\n",
      "           1       0.77      0.71      0.74       214\n",
      "\n",
      "    accuracy                           0.80       534\n",
      "   macro avg       0.79      0.78      0.79       534\n",
      "weighted avg       0.80      0.80      0.80       534\n",
      "\n"
     ]
    }
   ],
   "source": [
    "print(classification_report(y_train, y_pred))"
   ]
  },
  {
   "cell_type": "markdown",
   "id": "bd71408d",
   "metadata": {},
   "source": [
    "### With just pclass, age, fare"
   ]
  },
  {
   "cell_type": "code",
   "execution_count": 144,
   "id": "4d379107",
   "metadata": {},
   "outputs": [
    {
     "data": {
      "text/html": [
       "<div>\n",
       "<style scoped>\n",
       "    .dataframe tbody tr th:only-of-type {\n",
       "        vertical-align: middle;\n",
       "    }\n",
       "\n",
       "    .dataframe tbody tr th {\n",
       "        vertical-align: top;\n",
       "    }\n",
       "\n",
       "    .dataframe thead th {\n",
       "        text-align: right;\n",
       "    }\n",
       "</style>\n",
       "<table border=\"1\" class=\"dataframe\">\n",
       "  <thead>\n",
       "    <tr style=\"text-align: right;\">\n",
       "      <th></th>\n",
       "      <th>survived</th>\n",
       "      <th>pclass</th>\n",
       "      <th>isMale</th>\n",
       "      <th>age</th>\n",
       "      <th>sibsp</th>\n",
       "      <th>parch</th>\n",
       "      <th>fare</th>\n",
       "      <th>embark_town</th>\n",
       "      <th>alone</th>\n",
       "      <th>baseline</th>\n",
       "    </tr>\n",
       "  </thead>\n",
       "  <tbody>\n",
       "    <tr>\n",
       "      <th>0</th>\n",
       "      <td>0</td>\n",
       "      <td>3</td>\n",
       "      <td>1</td>\n",
       "      <td>22.0</td>\n",
       "      <td>1</td>\n",
       "      <td>0</td>\n",
       "      <td>7.2500</td>\n",
       "      <td>1.0</td>\n",
       "      <td>0</td>\n",
       "      <td>0</td>\n",
       "    </tr>\n",
       "    <tr>\n",
       "      <th>1</th>\n",
       "      <td>1</td>\n",
       "      <td>1</td>\n",
       "      <td>0</td>\n",
       "      <td>38.0</td>\n",
       "      <td>1</td>\n",
       "      <td>0</td>\n",
       "      <td>71.2833</td>\n",
       "      <td>2.0</td>\n",
       "      <td>0</td>\n",
       "      <td>0</td>\n",
       "    </tr>\n",
       "    <tr>\n",
       "      <th>2</th>\n",
       "      <td>1</td>\n",
       "      <td>3</td>\n",
       "      <td>0</td>\n",
       "      <td>26.0</td>\n",
       "      <td>0</td>\n",
       "      <td>0</td>\n",
       "      <td>7.9250</td>\n",
       "      <td>1.0</td>\n",
       "      <td>1</td>\n",
       "      <td>0</td>\n",
       "    </tr>\n",
       "  </tbody>\n",
       "</table>\n",
       "</div>"
      ],
      "text/plain": [
       "   survived  pclass isMale   age  sibsp  parch     fare  embark_town  alone  \\\n",
       "0         0       3      1  22.0      1      0   7.2500          1.0      0   \n",
       "1         1       1      0  38.0      1      0  71.2833          2.0      0   \n",
       "2         1       3      0  26.0      0      0   7.9250          1.0      1   \n",
       "\n",
       "   baseline  \n",
       "0         0  \n",
       "1         0  \n",
       "2         0  "
      ]
     },
     "execution_count": 144,
     "metadata": {},
     "output_type": "execute_result"
    }
   ],
   "source": [
    "titanic.head(3)"
   ]
  },
  {
   "cell_type": "code",
   "execution_count": 145,
   "id": "69728202",
   "metadata": {
    "scrolled": true
   },
   "outputs": [
    {
     "data": {
      "text/html": [
       "<div>\n",
       "<style scoped>\n",
       "    .dataframe tbody tr th:only-of-type {\n",
       "        vertical-align: middle;\n",
       "    }\n",
       "\n",
       "    .dataframe tbody tr th {\n",
       "        vertical-align: top;\n",
       "    }\n",
       "\n",
       "    .dataframe thead th {\n",
       "        text-align: right;\n",
       "    }\n",
       "</style>\n",
       "<table border=\"1\" class=\"dataframe\">\n",
       "  <thead>\n",
       "    <tr style=\"text-align: right;\">\n",
       "      <th></th>\n",
       "      <th>survived</th>\n",
       "      <th>pclass</th>\n",
       "      <th>age</th>\n",
       "      <th>fare</th>\n",
       "      <th>baseline</th>\n",
       "    </tr>\n",
       "  </thead>\n",
       "  <tbody>\n",
       "    <tr>\n",
       "      <th>0</th>\n",
       "      <td>0</td>\n",
       "      <td>3</td>\n",
       "      <td>22.0</td>\n",
       "      <td>7.2500</td>\n",
       "      <td>0</td>\n",
       "    </tr>\n",
       "    <tr>\n",
       "      <th>1</th>\n",
       "      <td>1</td>\n",
       "      <td>1</td>\n",
       "      <td>38.0</td>\n",
       "      <td>71.2833</td>\n",
       "      <td>0</td>\n",
       "    </tr>\n",
       "    <tr>\n",
       "      <th>2</th>\n",
       "      <td>1</td>\n",
       "      <td>3</td>\n",
       "      <td>26.0</td>\n",
       "      <td>7.9250</td>\n",
       "      <td>0</td>\n",
       "    </tr>\n",
       "  </tbody>\n",
       "</table>\n",
       "</div>"
      ],
      "text/plain": [
       "   survived  pclass   age     fare  baseline\n",
       "0         0       3  22.0   7.2500         0\n",
       "1         1       1  38.0  71.2833         0\n",
       "2         1       3  26.0   7.9250         0"
      ]
     },
     "execution_count": 145,
     "metadata": {},
     "output_type": "execute_result"
    }
   ],
   "source": [
    "dt = titanic.drop(columns={'embark_town', 'alone', 'sibsp', 'parch',\n",
    "                  'isMale'})\n",
    "dt.head(3)"
   ]
  },
  {
   "cell_type": "code",
   "execution_count": 146,
   "id": "7eb5413c",
   "metadata": {},
   "outputs": [
    {
     "data": {
      "text/plain": [
       "((534, 5), (178, 5), (179, 5))"
      ]
     },
     "execution_count": 146,
     "metadata": {},
     "output_type": "execute_result"
    }
   ],
   "source": [
    "train, validate, test = acquire.split(dt)\n",
    "train.shape, validate.shape, test.shape"
   ]
  },
  {
   "cell_type": "code",
   "execution_count": 147,
   "id": "94052204",
   "metadata": {},
   "outputs": [],
   "source": [
    "X_train = train.drop(columns={'survived','baseline'})\n",
    "y_train = train.survived\n",
    "X_validate = validate.drop(columns={'survived','baseline'})\n",
    "y_validate = validate.survived\n",
    "X_test = test.drop(columns={'survived','baseline'})\n",
    "y_test = test.survived"
   ]
  },
  {
   "cell_type": "code",
   "execution_count": 148,
   "id": "e2602621",
   "metadata": {},
   "outputs": [
    {
     "data": {
      "text/plain": [
       "LogisticRegression(random_state=248)"
      ]
     },
     "execution_count": 148,
     "metadata": {},
     "output_type": "execute_result"
    }
   ],
   "source": [
    "logit.fit(X_train, y_train)"
   ]
  },
  {
   "cell_type": "code",
   "execution_count": 149,
   "id": "0747ff16",
   "metadata": {},
   "outputs": [
    {
     "data": {
      "text/plain": [
       "array([0, 0, 1, 1, 1, 0, 1, 0, 1, 0, 0, 1, 0, 1, 0, 0, 0, 0, 0, 1])"
      ]
     },
     "execution_count": 149,
     "metadata": {},
     "output_type": "execute_result"
    }
   ],
   "source": [
    "y_pred = logit.predict(X_train)\n",
    "y_pred[:20]"
   ]
  },
  {
   "cell_type": "code",
   "execution_count": 150,
   "id": "c879ab8b",
   "metadata": {
    "scrolled": true
   },
   "outputs": [
    {
     "data": {
      "text/html": [
       "<div>\n",
       "<style scoped>\n",
       "    .dataframe tbody tr th:only-of-type {\n",
       "        vertical-align: middle;\n",
       "    }\n",
       "\n",
       "    .dataframe tbody tr th {\n",
       "        vertical-align: top;\n",
       "    }\n",
       "\n",
       "    .dataframe thead th {\n",
       "        text-align: right;\n",
       "    }\n",
       "</style>\n",
       "<table border=\"1\" class=\"dataframe\">\n",
       "  <thead>\n",
       "    <tr style=\"text-align: right;\">\n",
       "      <th></th>\n",
       "      <th>NotSurvive</th>\n",
       "      <th>Survive</th>\n",
       "    </tr>\n",
       "  </thead>\n",
       "  <tbody>\n",
       "    <tr>\n",
       "      <th>0</th>\n",
       "      <td>0.762711</td>\n",
       "      <td>0.237289</td>\n",
       "    </tr>\n",
       "    <tr>\n",
       "      <th>1</th>\n",
       "      <td>0.756428</td>\n",
       "      <td>0.243572</td>\n",
       "    </tr>\n",
       "    <tr>\n",
       "      <th>2</th>\n",
       "      <td>0.224624</td>\n",
       "      <td>0.775376</td>\n",
       "    </tr>\n",
       "    <tr>\n",
       "      <th>3</th>\n",
       "      <td>0.061889</td>\n",
       "      <td>0.938111</td>\n",
       "    </tr>\n",
       "    <tr>\n",
       "      <th>4</th>\n",
       "      <td>0.273070</td>\n",
       "      <td>0.726930</td>\n",
       "    </tr>\n",
       "    <tr>\n",
       "      <th>5</th>\n",
       "      <td>0.805457</td>\n",
       "      <td>0.194543</td>\n",
       "    </tr>\n",
       "    <tr>\n",
       "      <th>6</th>\n",
       "      <td>0.186862</td>\n",
       "      <td>0.813138</td>\n",
       "    </tr>\n",
       "    <tr>\n",
       "      <th>7</th>\n",
       "      <td>0.815493</td>\n",
       "      <td>0.184507</td>\n",
       "    </tr>\n",
       "    <tr>\n",
       "      <th>8</th>\n",
       "      <td>0.447797</td>\n",
       "      <td>0.552203</td>\n",
       "    </tr>\n",
       "    <tr>\n",
       "      <th>9</th>\n",
       "      <td>0.567083</td>\n",
       "      <td>0.432917</td>\n",
       "    </tr>\n",
       "  </tbody>\n",
       "</table>\n",
       "</div>"
      ],
      "text/plain": [
       "   NotSurvive   Survive\n",
       "0    0.762711  0.237289\n",
       "1    0.756428  0.243572\n",
       "2    0.224624  0.775376\n",
       "3    0.061889  0.938111\n",
       "4    0.273070  0.726930\n",
       "5    0.805457  0.194543\n",
       "6    0.186862  0.813138\n",
       "7    0.815493  0.184507\n",
       "8    0.447797  0.552203\n",
       "9    0.567083  0.432917"
      ]
     },
     "execution_count": 150,
     "metadata": {},
     "output_type": "execute_result"
    }
   ],
   "source": [
    "y_pred_proba = logit.predict_proba(X_train)\n",
    "y_pred_proba = pd.DataFrame(y_pred_proba, columns=['NotSurvive', 'Survive'])\n",
    "y_pred_proba.head(10)"
   ]
  },
  {
   "cell_type": "code",
   "execution_count": 154,
   "id": "9524fbad",
   "metadata": {},
   "outputs": [
    {
     "name": "stdout",
     "output_type": "stream",
     "text": [
      "              precision    recall  f1-score   support\n",
      "\n",
      "           0       0.70      0.83      0.76       320\n",
      "           1       0.66      0.47      0.55       214\n",
      "\n",
      "    accuracy                           0.69       534\n",
      "   macro avg       0.68      0.65      0.66       534\n",
      "weighted avg       0.68      0.69      0.68       534\n",
      "\n"
     ]
    }
   ],
   "source": [
    "print(classification_report(y_train, y_pred))"
   ]
  },
  {
   "cell_type": "markdown",
   "id": "743fb815",
   "metadata": {},
   "source": [
    "## 2. Include sex in your model as well. Note that you'll need to encode or create a dummy variable of this feature before including it in a model."
   ]
  },
  {
   "cell_type": "code",
   "execution_count": 155,
   "id": "457a0dea",
   "metadata": {},
   "outputs": [
    {
     "data": {
      "text/html": [
       "<div>\n",
       "<style scoped>\n",
       "    .dataframe tbody tr th:only-of-type {\n",
       "        vertical-align: middle;\n",
       "    }\n",
       "\n",
       "    .dataframe tbody tr th {\n",
       "        vertical-align: top;\n",
       "    }\n",
       "\n",
       "    .dataframe thead th {\n",
       "        text-align: right;\n",
       "    }\n",
       "</style>\n",
       "<table border=\"1\" class=\"dataframe\">\n",
       "  <thead>\n",
       "    <tr style=\"text-align: right;\">\n",
       "      <th></th>\n",
       "      <th>survived</th>\n",
       "      <th>pclass</th>\n",
       "      <th>isMale</th>\n",
       "      <th>age</th>\n",
       "      <th>sibsp</th>\n",
       "      <th>parch</th>\n",
       "      <th>fare</th>\n",
       "      <th>embark_town</th>\n",
       "      <th>alone</th>\n",
       "      <th>baseline</th>\n",
       "    </tr>\n",
       "  </thead>\n",
       "  <tbody>\n",
       "    <tr>\n",
       "      <th>0</th>\n",
       "      <td>0</td>\n",
       "      <td>3</td>\n",
       "      <td>1</td>\n",
       "      <td>22.0</td>\n",
       "      <td>1</td>\n",
       "      <td>0</td>\n",
       "      <td>7.2500</td>\n",
       "      <td>1.0</td>\n",
       "      <td>0</td>\n",
       "      <td>0</td>\n",
       "    </tr>\n",
       "    <tr>\n",
       "      <th>1</th>\n",
       "      <td>1</td>\n",
       "      <td>1</td>\n",
       "      <td>0</td>\n",
       "      <td>38.0</td>\n",
       "      <td>1</td>\n",
       "      <td>0</td>\n",
       "      <td>71.2833</td>\n",
       "      <td>2.0</td>\n",
       "      <td>0</td>\n",
       "      <td>0</td>\n",
       "    </tr>\n",
       "    <tr>\n",
       "      <th>2</th>\n",
       "      <td>1</td>\n",
       "      <td>3</td>\n",
       "      <td>0</td>\n",
       "      <td>26.0</td>\n",
       "      <td>0</td>\n",
       "      <td>0</td>\n",
       "      <td>7.9250</td>\n",
       "      <td>1.0</td>\n",
       "      <td>1</td>\n",
       "      <td>0</td>\n",
       "    </tr>\n",
       "  </tbody>\n",
       "</table>\n",
       "</div>"
      ],
      "text/plain": [
       "   survived  pclass isMale   age  sibsp  parch     fare  embark_town  alone  \\\n",
       "0         0       3      1  22.0      1      0   7.2500          1.0      0   \n",
       "1         1       1      0  38.0      1      0  71.2833          2.0      0   \n",
       "2         1       3      0  26.0      0      0   7.9250          1.0      1   \n",
       "\n",
       "   baseline  \n",
       "0         0  \n",
       "1         0  \n",
       "2         0  "
      ]
     },
     "execution_count": 155,
     "metadata": {},
     "output_type": "execute_result"
    }
   ],
   "source": [
    "titanic.head(3)"
   ]
  },
  {
   "cell_type": "code",
   "execution_count": 156,
   "id": "9d1f00c5",
   "metadata": {},
   "outputs": [
    {
     "data": {
      "text/html": [
       "<div>\n",
       "<style scoped>\n",
       "    .dataframe tbody tr th:only-of-type {\n",
       "        vertical-align: middle;\n",
       "    }\n",
       "\n",
       "    .dataframe tbody tr th {\n",
       "        vertical-align: top;\n",
       "    }\n",
       "\n",
       "    .dataframe thead th {\n",
       "        text-align: right;\n",
       "    }\n",
       "</style>\n",
       "<table border=\"1\" class=\"dataframe\">\n",
       "  <thead>\n",
       "    <tr style=\"text-align: right;\">\n",
       "      <th></th>\n",
       "      <th>survived</th>\n",
       "      <th>pclass</th>\n",
       "      <th>isMale</th>\n",
       "      <th>age</th>\n",
       "      <th>fare</th>\n",
       "      <th>baseline</th>\n",
       "    </tr>\n",
       "  </thead>\n",
       "  <tbody>\n",
       "    <tr>\n",
       "      <th>0</th>\n",
       "      <td>0</td>\n",
       "      <td>3</td>\n",
       "      <td>1</td>\n",
       "      <td>22.0</td>\n",
       "      <td>7.2500</td>\n",
       "      <td>0</td>\n",
       "    </tr>\n",
       "    <tr>\n",
       "      <th>1</th>\n",
       "      <td>1</td>\n",
       "      <td>1</td>\n",
       "      <td>0</td>\n",
       "      <td>38.0</td>\n",
       "      <td>71.2833</td>\n",
       "      <td>0</td>\n",
       "    </tr>\n",
       "    <tr>\n",
       "      <th>2</th>\n",
       "      <td>1</td>\n",
       "      <td>3</td>\n",
       "      <td>0</td>\n",
       "      <td>26.0</td>\n",
       "      <td>7.9250</td>\n",
       "      <td>0</td>\n",
       "    </tr>\n",
       "  </tbody>\n",
       "</table>\n",
       "</div>"
      ],
      "text/plain": [
       "   survived  pclass isMale   age     fare  baseline\n",
       "0         0       3      1  22.0   7.2500         0\n",
       "1         1       1      0  38.0  71.2833         0\n",
       "2         1       3      0  26.0   7.9250         0"
      ]
     },
     "execution_count": 156,
     "metadata": {},
     "output_type": "execute_result"
    }
   ],
   "source": [
    "withsex = titanic.drop(columns={'embark_town', 'alone', 'sibsp', 'parch'})\n",
    "withsex.head(3)"
   ]
  },
  {
   "cell_type": "code",
   "execution_count": 157,
   "id": "c72e936d",
   "metadata": {},
   "outputs": [
    {
     "data": {
      "text/plain": [
       "((534, 6), (178, 6), (179, 6))"
      ]
     },
     "execution_count": 157,
     "metadata": {},
     "output_type": "execute_result"
    }
   ],
   "source": [
    "train, validate, test = acquire.split(withsex)\n",
    "train.shape, validate.shape, test.shape"
   ]
  },
  {
   "cell_type": "code",
   "execution_count": 158,
   "id": "545aa9ac",
   "metadata": {},
   "outputs": [],
   "source": [
    "X_train = train.drop(columns={'survived','baseline'})\n",
    "y_train = train.survived\n",
    "X_validate = validate.drop(columns={'survived','baseline'})\n",
    "y_validate = validate.survived\n",
    "X_test = test.drop(columns={'survived','baseline'})\n",
    "y_test = test.survived"
   ]
  },
  {
   "cell_type": "code",
   "execution_count": 159,
   "id": "bca06b2e",
   "metadata": {},
   "outputs": [
    {
     "data": {
      "text/plain": [
       "LogisticRegression(random_state=248)"
      ]
     },
     "execution_count": 159,
     "metadata": {},
     "output_type": "execute_result"
    }
   ],
   "source": [
    "logit.fit(X_train, y_train)"
   ]
  },
  {
   "cell_type": "code",
   "execution_count": 160,
   "id": "e0fa85cf",
   "metadata": {},
   "outputs": [
    {
     "data": {
      "text/plain": [
       "array([0, 0, 1, 1, 1, 0, 1, 0, 0, 0, 1, 1, 0, 1, 1, 0, 1, 0, 0, 1])"
      ]
     },
     "execution_count": 160,
     "metadata": {},
     "output_type": "execute_result"
    }
   ],
   "source": [
    "y_pred = logit.predict(X_train)\n",
    "y_pred[:20]"
   ]
  },
  {
   "cell_type": "code",
   "execution_count": 161,
   "id": "4a385ddd",
   "metadata": {},
   "outputs": [
    {
     "data": {
      "text/html": [
       "<div>\n",
       "<style scoped>\n",
       "    .dataframe tbody tr th:only-of-type {\n",
       "        vertical-align: middle;\n",
       "    }\n",
       "\n",
       "    .dataframe tbody tr th {\n",
       "        vertical-align: top;\n",
       "    }\n",
       "\n",
       "    .dataframe thead th {\n",
       "        text-align: right;\n",
       "    }\n",
       "</style>\n",
       "<table border=\"1\" class=\"dataframe\">\n",
       "  <thead>\n",
       "    <tr style=\"text-align: right;\">\n",
       "      <th></th>\n",
       "      <th>NotSurvive</th>\n",
       "      <th>Survive</th>\n",
       "    </tr>\n",
       "  </thead>\n",
       "  <tbody>\n",
       "    <tr>\n",
       "      <th>0</th>\n",
       "      <td>0.897273</td>\n",
       "      <td>0.102727</td>\n",
       "    </tr>\n",
       "    <tr>\n",
       "      <th>1</th>\n",
       "      <td>0.895999</td>\n",
       "      <td>0.104001</td>\n",
       "    </tr>\n",
       "    <tr>\n",
       "      <th>2</th>\n",
       "      <td>0.407574</td>\n",
       "      <td>0.592426</td>\n",
       "    </tr>\n",
       "    <tr>\n",
       "      <th>3</th>\n",
       "      <td>0.341245</td>\n",
       "      <td>0.658755</td>\n",
       "    </tr>\n",
       "    <tr>\n",
       "      <th>4</th>\n",
       "      <td>0.089263</td>\n",
       "      <td>0.910737</td>\n",
       "    </tr>\n",
       "    <tr>\n",
       "      <th>5</th>\n",
       "      <td>0.917676</td>\n",
       "      <td>0.082324</td>\n",
       "    </tr>\n",
       "    <tr>\n",
       "      <th>6</th>\n",
       "      <td>0.390648</td>\n",
       "      <td>0.609352</td>\n",
       "    </tr>\n",
       "    <tr>\n",
       "      <th>7</th>\n",
       "      <td>0.543937</td>\n",
       "      <td>0.456063</td>\n",
       "    </tr>\n",
       "    <tr>\n",
       "      <th>8</th>\n",
       "      <td>0.622098</td>\n",
       "      <td>0.377902</td>\n",
       "    </tr>\n",
       "    <tr>\n",
       "      <th>9</th>\n",
       "      <td>0.800811</td>\n",
       "      <td>0.199189</td>\n",
       "    </tr>\n",
       "  </tbody>\n",
       "</table>\n",
       "</div>"
      ],
      "text/plain": [
       "   NotSurvive   Survive\n",
       "0    0.897273  0.102727\n",
       "1    0.895999  0.104001\n",
       "2    0.407574  0.592426\n",
       "3    0.341245  0.658755\n",
       "4    0.089263  0.910737\n",
       "5    0.917676  0.082324\n",
       "6    0.390648  0.609352\n",
       "7    0.543937  0.456063\n",
       "8    0.622098  0.377902\n",
       "9    0.800811  0.199189"
      ]
     },
     "execution_count": 161,
     "metadata": {},
     "output_type": "execute_result"
    }
   ],
   "source": [
    "y_pred_proba = logit.predict_proba(X_train)\n",
    "y_pred_proba = pd.DataFrame(y_pred_proba, columns=['NotSurvive', 'Survive'])\n",
    "y_pred_proba.head(10)"
   ]
  },
  {
   "cell_type": "code",
   "execution_count": 163,
   "id": "988828b1",
   "metadata": {},
   "outputs": [
    {
     "name": "stdout",
     "output_type": "stream",
     "text": [
      "              precision    recall  f1-score   support\n",
      "\n",
      "           0       0.81      0.81      0.81       320\n",
      "           1       0.72      0.71      0.71       214\n",
      "\n",
      "    accuracy                           0.77       534\n",
      "   macro avg       0.76      0.76      0.76       534\n",
      "weighted avg       0.77      0.77      0.77       534\n",
      "\n"
     ]
    }
   ],
   "source": [
    "print(classification_report(y_train, y_pred))"
   ]
  },
  {
   "cell_type": "markdown",
   "id": "04dfd8d5",
   "metadata": {},
   "source": [
    "## 3. Try out other combinations of features and models."
   ]
  },
  {
   "cell_type": "code",
   "execution_count": 164,
   "id": "b55f44e0",
   "metadata": {},
   "outputs": [
    {
     "data": {
      "text/html": [
       "<div>\n",
       "<style scoped>\n",
       "    .dataframe tbody tr th:only-of-type {\n",
       "        vertical-align: middle;\n",
       "    }\n",
       "\n",
       "    .dataframe tbody tr th {\n",
       "        vertical-align: top;\n",
       "    }\n",
       "\n",
       "    .dataframe thead th {\n",
       "        text-align: right;\n",
       "    }\n",
       "</style>\n",
       "<table border=\"1\" class=\"dataframe\">\n",
       "  <thead>\n",
       "    <tr style=\"text-align: right;\">\n",
       "      <th></th>\n",
       "      <th>survived</th>\n",
       "      <th>pclass</th>\n",
       "      <th>isMale</th>\n",
       "      <th>age</th>\n",
       "      <th>sibsp</th>\n",
       "      <th>parch</th>\n",
       "      <th>fare</th>\n",
       "      <th>embark_town</th>\n",
       "      <th>alone</th>\n",
       "      <th>baseline</th>\n",
       "    </tr>\n",
       "  </thead>\n",
       "  <tbody>\n",
       "    <tr>\n",
       "      <th>0</th>\n",
       "      <td>0</td>\n",
       "      <td>3</td>\n",
       "      <td>1</td>\n",
       "      <td>22.0</td>\n",
       "      <td>1</td>\n",
       "      <td>0</td>\n",
       "      <td>7.25</td>\n",
       "      <td>1.0</td>\n",
       "      <td>0</td>\n",
       "      <td>0</td>\n",
       "    </tr>\n",
       "  </tbody>\n",
       "</table>\n",
       "</div>"
      ],
      "text/plain": [
       "   survived  pclass isMale   age  sibsp  parch  fare  embark_town  alone  \\\n",
       "0         0       3      1  22.0      1      0  7.25          1.0      0   \n",
       "\n",
       "   baseline  \n",
       "0         0  "
      ]
     },
     "execution_count": 164,
     "metadata": {},
     "output_type": "execute_result"
    }
   ],
   "source": [
    "titanic.head(1)"
   ]
  },
  {
   "cell_type": "code",
   "execution_count": 165,
   "id": "36c57d40",
   "metadata": {},
   "outputs": [
    {
     "data": {
      "text/html": [
       "<div>\n",
       "<style scoped>\n",
       "    .dataframe tbody tr th:only-of-type {\n",
       "        vertical-align: middle;\n",
       "    }\n",
       "\n",
       "    .dataframe tbody tr th {\n",
       "        vertical-align: top;\n",
       "    }\n",
       "\n",
       "    .dataframe thead th {\n",
       "        text-align: right;\n",
       "    }\n",
       "</style>\n",
       "<table border=\"1\" class=\"dataframe\">\n",
       "  <thead>\n",
       "    <tr style=\"text-align: right;\">\n",
       "      <th></th>\n",
       "      <th>survived</th>\n",
       "      <th>pclass</th>\n",
       "      <th>isMale</th>\n",
       "      <th>age</th>\n",
       "      <th>sibsp</th>\n",
       "      <th>embark_town</th>\n",
       "      <th>alone</th>\n",
       "      <th>baseline</th>\n",
       "    </tr>\n",
       "  </thead>\n",
       "  <tbody>\n",
       "    <tr>\n",
       "      <th>0</th>\n",
       "      <td>0</td>\n",
       "      <td>3</td>\n",
       "      <td>1</td>\n",
       "      <td>22.0</td>\n",
       "      <td>1</td>\n",
       "      <td>1.0</td>\n",
       "      <td>0</td>\n",
       "      <td>0</td>\n",
       "    </tr>\n",
       "    <tr>\n",
       "      <th>1</th>\n",
       "      <td>1</td>\n",
       "      <td>1</td>\n",
       "      <td>0</td>\n",
       "      <td>38.0</td>\n",
       "      <td>1</td>\n",
       "      <td>2.0</td>\n",
       "      <td>0</td>\n",
       "      <td>0</td>\n",
       "    </tr>\n",
       "    <tr>\n",
       "      <th>2</th>\n",
       "      <td>1</td>\n",
       "      <td>3</td>\n",
       "      <td>0</td>\n",
       "      <td>26.0</td>\n",
       "      <td>0</td>\n",
       "      <td>1.0</td>\n",
       "      <td>1</td>\n",
       "      <td>0</td>\n",
       "    </tr>\n",
       "    <tr>\n",
       "      <th>3</th>\n",
       "      <td>1</td>\n",
       "      <td>1</td>\n",
       "      <td>0</td>\n",
       "      <td>35.0</td>\n",
       "      <td>1</td>\n",
       "      <td>1.0</td>\n",
       "      <td>0</td>\n",
       "      <td>0</td>\n",
       "    </tr>\n",
       "    <tr>\n",
       "      <th>4</th>\n",
       "      <td>0</td>\n",
       "      <td>3</td>\n",
       "      <td>1</td>\n",
       "      <td>35.0</td>\n",
       "      <td>0</td>\n",
       "      <td>1.0</td>\n",
       "      <td>1</td>\n",
       "      <td>0</td>\n",
       "    </tr>\n",
       "  </tbody>\n",
       "</table>\n",
       "</div>"
      ],
      "text/plain": [
       "   survived  pclass isMale   age  sibsp  embark_town  alone  baseline\n",
       "0         0       3      1  22.0      1          1.0      0         0\n",
       "1         1       1      0  38.0      1          2.0      0         0\n",
       "2         1       3      0  26.0      0          1.0      1         0\n",
       "3         1       1      0  35.0      1          1.0      0         0\n",
       "4         0       3      1  35.0      0          1.0      1         0"
      ]
     },
     "execution_count": 165,
     "metadata": {},
     "output_type": "execute_result"
    }
   ],
   "source": [
    "m1 = titanic.drop(columns={'parch', 'fare'})\n",
    "m1.head()"
   ]
  },
  {
   "cell_type": "code",
   "execution_count": 166,
   "id": "bc7c1ee7",
   "metadata": {},
   "outputs": [
    {
     "data": {
      "text/plain": [
       "((534, 8), (178, 8), (179, 8))"
      ]
     },
     "execution_count": 166,
     "metadata": {},
     "output_type": "execute_result"
    }
   ],
   "source": [
    "train, validate, test = acquire.split(m1)\n",
    "train.shape, validate.shape, test.shape"
   ]
  },
  {
   "cell_type": "code",
   "execution_count": 167,
   "id": "90eb9728",
   "metadata": {},
   "outputs": [],
   "source": [
    "X_train = train.drop(columns={'survived','baseline'})\n",
    "y_train = train.survived\n",
    "\n",
    "X_validate = validate.drop(columns={'survived','baseline'})\n",
    "y_validate = validate.survived\n",
    "\n",
    "X_test = test.drop(columns={'survived','baseline'})\n",
    "y_test = test.survived"
   ]
  },
  {
   "cell_type": "code",
   "execution_count": 168,
   "id": "21ee4d4a",
   "metadata": {},
   "outputs": [
    {
     "data": {
      "text/plain": [
       "LogisticRegression(random_state=248)"
      ]
     },
     "execution_count": 168,
     "metadata": {},
     "output_type": "execute_result"
    }
   ],
   "source": [
    "logit.fit(X_train, y_train)"
   ]
  },
  {
   "cell_type": "code",
   "execution_count": 169,
   "id": "ba87e05b",
   "metadata": {},
   "outputs": [
    {
     "data": {
      "text/plain": [
       "array([0, 0, 1, 0, 1, 0, 1, 1, 0, 0, 1, 1, 0, 1, 1, 0, 1, 0, 0, 1])"
      ]
     },
     "execution_count": 169,
     "metadata": {},
     "output_type": "execute_result"
    }
   ],
   "source": [
    "y_pred = logit.predict(X_train)\n",
    "y_pred[:20]"
   ]
  },
  {
   "cell_type": "code",
   "execution_count": 170,
   "id": "05377c42",
   "metadata": {},
   "outputs": [
    {
     "data": {
      "text/html": [
       "<div>\n",
       "<style scoped>\n",
       "    .dataframe tbody tr th:only-of-type {\n",
       "        vertical-align: middle;\n",
       "    }\n",
       "\n",
       "    .dataframe tbody tr th {\n",
       "        vertical-align: top;\n",
       "    }\n",
       "\n",
       "    .dataframe thead th {\n",
       "        text-align: right;\n",
       "    }\n",
       "</style>\n",
       "<table border=\"1\" class=\"dataframe\">\n",
       "  <thead>\n",
       "    <tr style=\"text-align: right;\">\n",
       "      <th></th>\n",
       "      <th>NotSurvive</th>\n",
       "      <th>Survive</th>\n",
       "    </tr>\n",
       "  </thead>\n",
       "  <tbody>\n",
       "    <tr>\n",
       "      <th>0</th>\n",
       "      <td>0.894143</td>\n",
       "      <td>0.105857</td>\n",
       "    </tr>\n",
       "    <tr>\n",
       "      <th>1</th>\n",
       "      <td>0.870420</td>\n",
       "      <td>0.129580</td>\n",
       "    </tr>\n",
       "    <tr>\n",
       "      <th>2</th>\n",
       "      <td>0.268972</td>\n",
       "      <td>0.731028</td>\n",
       "    </tr>\n",
       "    <tr>\n",
       "      <th>3</th>\n",
       "      <td>0.543138</td>\n",
       "      <td>0.456862</td>\n",
       "    </tr>\n",
       "    <tr>\n",
       "      <th>4</th>\n",
       "      <td>0.116259</td>\n",
       "      <td>0.883741</td>\n",
       "    </tr>\n",
       "    <tr>\n",
       "      <th>5</th>\n",
       "      <td>0.908634</td>\n",
       "      <td>0.091366</td>\n",
       "    </tr>\n",
       "    <tr>\n",
       "      <th>6</th>\n",
       "      <td>0.405472</td>\n",
       "      <td>0.594528</td>\n",
       "    </tr>\n",
       "    <tr>\n",
       "      <th>7</th>\n",
       "      <td>0.347527</td>\n",
       "      <td>0.652473</td>\n",
       "    </tr>\n",
       "    <tr>\n",
       "      <th>8</th>\n",
       "      <td>0.642619</td>\n",
       "      <td>0.357381</td>\n",
       "    </tr>\n",
       "    <tr>\n",
       "      <th>9</th>\n",
       "      <td>0.975303</td>\n",
       "      <td>0.024697</td>\n",
       "    </tr>\n",
       "  </tbody>\n",
       "</table>\n",
       "</div>"
      ],
      "text/plain": [
       "   NotSurvive   Survive\n",
       "0    0.894143  0.105857\n",
       "1    0.870420  0.129580\n",
       "2    0.268972  0.731028\n",
       "3    0.543138  0.456862\n",
       "4    0.116259  0.883741\n",
       "5    0.908634  0.091366\n",
       "6    0.405472  0.594528\n",
       "7    0.347527  0.652473\n",
       "8    0.642619  0.357381\n",
       "9    0.975303  0.024697"
      ]
     },
     "execution_count": 170,
     "metadata": {},
     "output_type": "execute_result"
    }
   ],
   "source": [
    "y_pred_proba = logit.predict_proba(X_train)\n",
    "y_pred_proba = pd.DataFrame(y_pred_proba, columns=['NotSurvive', 'Survive'])\n",
    "y_pred_proba.head(10)"
   ]
  },
  {
   "cell_type": "code",
   "execution_count": 171,
   "id": "5b047670",
   "metadata": {},
   "outputs": [
    {
     "name": "stdout",
     "output_type": "stream",
     "text": [
      "              precision    recall  f1-score   support\n",
      "\n",
      "           0       0.82      0.82      0.82       320\n",
      "           1       0.73      0.72      0.73       214\n",
      "\n",
      "    accuracy                           0.78       534\n",
      "   macro avg       0.77      0.77      0.77       534\n",
      "weighted avg       0.78      0.78      0.78       534\n",
      "\n"
     ]
    }
   ],
   "source": [
    "print(classification_report(y_train, y_pred))"
   ]
  },
  {
   "cell_type": "markdown",
   "id": "2fd52a53",
   "metadata": {},
   "source": [
    "## 4. Use you best 3 models to predict and evaluate on your validate sample."
   ]
  },
  {
   "cell_type": "code",
   "execution_count": 172,
   "id": "df35156d",
   "metadata": {},
   "outputs": [],
   "source": [
    "y_pred_lr = logit.predict(X_validate)"
   ]
  },
  {
   "cell_type": "code",
   "execution_count": 173,
   "id": "3d0ed084",
   "metadata": {},
   "outputs": [
    {
     "name": "stdout",
     "output_type": "stream",
     "text": [
      "              precision    recall  f1-score   support\n",
      "\n",
      "           0       0.88      0.87      0.88       118\n",
      "           1       0.75      0.77      0.76        60\n",
      "\n",
      "    accuracy                           0.84       178\n",
      "   macro avg       0.82      0.82      0.82       178\n",
      "weighted avg       0.84      0.84      0.84       178\n",
      "\n"
     ]
    }
   ],
   "source": [
    "print(classification_report(y_validate, y_pred_lr))"
   ]
  },
  {
   "cell_type": "markdown",
   "id": "6f97c65e",
   "metadata": {},
   "source": [
    "## 5. Choose you best model from the validation performation, and evaluate it on the test dataset. How do the performance metrics compare to validate? to train?"
   ]
  },
  {
   "cell_type": "code",
   "execution_count": 174,
   "id": "d750f21c",
   "metadata": {},
   "outputs": [],
   "source": [
    "y_pred_lr_test = logit.predict(X_test)"
   ]
  },
  {
   "cell_type": "code",
   "execution_count": 175,
   "id": "1d7c2b81",
   "metadata": {},
   "outputs": [
    {
     "name": "stdout",
     "output_type": "stream",
     "text": [
      "              precision    recall  f1-score   support\n",
      "\n",
      "           0       0.84      0.86      0.85       111\n",
      "           1       0.76      0.74      0.75        68\n",
      "\n",
      "    accuracy                           0.81       179\n",
      "   macro avg       0.80      0.80      0.80       179\n",
      "weighted avg       0.81      0.81      0.81       179\n",
      "\n"
     ]
    }
   ],
   "source": [
    "print(classification_report(y_test, y_pred_lr_test))"
   ]
  },
  {
   "cell_type": "markdown",
   "id": "0b98e985",
   "metadata": {},
   "source": [
    "Bonus1 How do different strategies for handling the missing values in the age column affect model performance?\n",
    "\n",
    "Bonus2: How do different strategies for encoding sex affect model performance?\n",
    "\n",
    "Bonus3: scikit-learn's LogisticRegression classifier is actually applying a regularization penalty to the coefficients by default. This penalty causes the magnitude of the coefficients in the resulting model to be smaller than they otherwise would be. This value can be modified with the C hyper parameter. Small values of C correspond to a larger penalty, and large values of C correspond to a smaller penalty.\n",
    "Try out the following values for C and note how the coefficients and the model's performance on both the dataset it was trained on and on the validate split are affected.\n",
    "C\n",
    "=\n",
    ".01\n",
    ",\n",
    ".1\n",
    ",\n",
    "1\n",
    ",\n",
    "10\n",
    ",\n",
    "100\n",
    ",\n",
    "1000\n",
    "Bonus Bonus: how does scaling the data interact with your choice of C?"
   ]
  },
  {
   "cell_type": "markdown",
   "id": "85de5ea6",
   "metadata": {},
   "source": [
    "<div class=\"alert alert-block alert-info\">\n",
    "<b>Tip:</b> Use blue boxes (alert-info) for tips and notes. \n",
    "If it’s a note, you don’t have to include the word “Note”.\n",
    "</div>"
   ]
  },
  {
   "cell_type": "markdown",
   "id": "cfb09d01",
   "metadata": {},
   "source": [
    "<div class=\"alert alert-block alert-warning\">\n",
    "<b>Example:</b> Use yellow boxes for examples that are not \n",
    "inside code cells, or use for mathematical formulas if needed.\n",
    "</div>"
   ]
  },
  {
   "cell_type": "markdown",
   "id": "c63383cf",
   "metadata": {},
   "source": [
    "<div class=\"alert alert-block alert-success\">\n",
    "<b>Up to you:</b> Use green boxes sparingly, and only for some specific \n",
    "purpose that the other boxes can't cover. For example, if you have a lot \n",
    "of related content to link to, maybe you decide to use green boxes for \n",
    "related links from each section of a notebook.\n",
    "</div>"
   ]
  },
  {
   "cell_type": "markdown",
   "id": "ad7c9ab3",
   "metadata": {},
   "source": [
    "<div class=\"alert alert-block alert-danger\">\n",
    "<b>Just don't:</b> In general, avoid the red boxes. These should only be\n",
    "used for actions that might cause data loss or another major issue.\n",
    "</div>"
   ]
  },
  {
   "cell_type": "markdown",
   "id": "8da5644f",
   "metadata": {},
   "source": [
    "***"
   ]
  },
  {
   "cell_type": "markdown",
   "id": "bafe40ac",
   "metadata": {},
   "source": [
    "&#9719;</p>"
   ]
  },
  {
   "cell_type": "markdown",
   "id": "a87c674a",
   "metadata": {},
   "source": []
  },
  {
   "cell_type": "code",
   "execution_count": null,
   "id": "77124852",
   "metadata": {},
   "outputs": [],
   "source": [
    "LogisticRegression?"
   ]
  },
  {
   "cell_type": "code",
   "execution_count": null,
   "id": "696933a6",
   "metadata": {},
   "outputs": [],
   "source": [
    "has_churned = [1, 1, 0, 0, 1, 0, 0, 0, 0, 0, 0]\n",
    "prediction = [0, 0, 0, 0, 0, 0, 0, 0, 0, 0, 0]"
   ]
  },
  {
   "cell_type": "code",
   "execution_count": null,
   "id": "a724bbd2",
   "metadata": {},
   "outputs": [],
   "source": [
    "confusion_matrix(has_churned, prediction)"
   ]
  },
  {
   "cell_type": "code",
   "execution_count": null,
   "id": "569ab5a4",
   "metadata": {},
   "outputs": [],
   "source": [
    "print(classification_report(has_churned, prediction))"
   ]
  }
 ],
 "metadata": {
  "kernelspec": {
   "display_name": "Python 3 (ipykernel)",
   "language": "python",
   "name": "python3"
  },
  "language_info": {
   "codemirror_mode": {
    "name": "ipython",
    "version": 3
   },
   "file_extension": ".py",
   "mimetype": "text/x-python",
   "name": "python",
   "nbconvert_exporter": "python",
   "pygments_lexer": "ipython3",
   "version": "3.9.12"
  }
 },
 "nbformat": 4,
 "nbformat_minor": 5
}
