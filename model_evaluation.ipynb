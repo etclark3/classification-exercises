{
 "cells": [
  {
   "cell_type": "code",
   "execution_count": 77,
   "id": "d4828085",
   "metadata": {},
   "outputs": [],
   "source": [
    "import pandas as pd\n",
    "import numpy as np\n",
    "import os\n",
    "from sklearn import datasets\n",
    "import seaborn as sns\n",
    "import matplotlib.pyplot as plt\n",
    "import scipy.stats as stats\n",
    "from sklearn.model_selection import train_test_split\n",
    "import acquire\n",
    "import sklearn.metrics as metrics\n",
    "from sklearn.metrics import accuracy_score\n",
    "from sklearn.metrics import recall_score\n",
    "from sklearn.metrics import precision_score"
   ]
  },
  {
   "cell_type": "markdown",
   "id": "5f3a207a",
   "metadata": {},
   "source": [
    "## 1. Given the following confusion matrix, evaluate (by hand) the model's performance.\n",
    "|               | pred dog   | pred cat   |\n",
    "|:------------  |-----------:|-----------:|\n",
    "| actual dog    |         46 |         7  |\n",
    "| actual cat    |         13 |         34 |\n",
    "\n",
    "- a. In the context of this problem, what is a false positive?\n",
    "- b. In the context of this problem, what is a false negative?\n",
    "- c. How would you describe this model?"
   ]
  },
  {
   "cell_type": "markdown",
   "id": "d20393a6",
   "metadata": {},
   "source": [
    "### a: A False Positive in this case is predicting a dog, but in reality it was NOT a dog"
   ]
  },
  {
   "cell_type": "markdown",
   "id": "15d4f1a3",
   "metadata": {},
   "source": [
    "### b: A False Negative is predicting NOT a dog, but it was a dog"
   ]
  },
  {
   "cell_type": "code",
   "execution_count": 148,
   "id": "04fb2886",
   "metadata": {
    "scrolled": true
   },
   "outputs": [
    {
     "name": "stdout",
     "output_type": "stream",
     "text": [
      "Model Performance:\n",
      "Accuracy: 80.0%\n",
      "Precision: 86.79%\n",
      "Recall: 77.97%\n"
     ]
    }
   ],
   "source": [
    "TP = 46\n",
    "TN = 34\n",
    "FP = 7\n",
    "FN = 13\n",
    "\n",
    "accuracy  = ((TP+TN) / (TP+TN+FP+FN))\n",
    "\n",
    "precision = (TP / (TP+FP))\n",
    "\n",
    "recall    = (TP / (TP+FN))\n",
    "\n",
    "print(\"Model Performance:\")\n",
    "print(f'Accuracy: {round(accuracy*100, 2)}%')\n",
    "print(f'Precision: {round(precision*100, 2)}%')\n",
    "print(f'Recall: {round(recall*100, 2)}%')"
   ]
  },
  {
   "cell_type": "markdown",
   "id": "827f3230",
   "metadata": {},
   "source": [
    "### c: This appears to be a good model with a high degree of accuracy"
   ]
  },
  {
   "cell_type": "markdown",
   "id": "d57ecec5",
   "metadata": {},
   "source": [
    "---"
   ]
  },
  {
   "cell_type": "markdown",
   "id": "2daf6ed8",
   "metadata": {},
   "source": [
    "## 2. You are working as a datascientist working for Codeup Cody Creator (C3 for short), a rubber-duck manufacturing plant.\n",
    "\n",
    "### Unfortunately, some of the rubber ducks that are produced will have defects. Your team has built several models that try to predict those defects, and the data from their predictions can be found here.\n",
    "\n",
    "### Use the predictions dataset and pandas to help answer the following questions:\n",
    "\n",
    "- An internal team wants to investigate the cause of the manufacturing defects. They tell you that they want to identify as many of the ducks that have a defect as possible. Which evaluation metric would be appropriate here? Which model would be the best fit for this use case?\n",
    "- Recently several stories in the local news have come out highlighting customers who received a rubber duck with a defect, and portraying C3 in a bad light. The PR team has decided to launch a program that gives customers with a defective duck a vacation to Hawaii. They need you to predict which ducks will have defects, but tell you the really don't want to accidentally give out a vacation package when the duck really doesn't have a defect. Which evaluation metric would be appropriate here? Which model would be the best fit for this use case?"
   ]
  },
  {
   "cell_type": "code",
   "execution_count": 26,
   "id": "a0287089",
   "metadata": {
    "scrolled": true
   },
   "outputs": [
    {
     "data": {
      "text/html": [
       "<div>\n",
       "<style scoped>\n",
       "    .dataframe tbody tr th:only-of-type {\n",
       "        vertical-align: middle;\n",
       "    }\n",
       "\n",
       "    .dataframe tbody tr th {\n",
       "        vertical-align: top;\n",
       "    }\n",
       "\n",
       "    .dataframe thead th {\n",
       "        text-align: right;\n",
       "    }\n",
       "</style>\n",
       "<table border=\"1\" class=\"dataframe\">\n",
       "  <thead>\n",
       "    <tr style=\"text-align: right;\">\n",
       "      <th></th>\n",
       "      <th>actual</th>\n",
       "      <th>model1</th>\n",
       "      <th>model2</th>\n",
       "      <th>model3</th>\n",
       "    </tr>\n",
       "  </thead>\n",
       "  <tbody>\n",
       "    <tr>\n",
       "      <th>0</th>\n",
       "      <td>No Defect</td>\n",
       "      <td>No Defect</td>\n",
       "      <td>Defect</td>\n",
       "      <td>No Defect</td>\n",
       "    </tr>\n",
       "    <tr>\n",
       "      <th>1</th>\n",
       "      <td>No Defect</td>\n",
       "      <td>No Defect</td>\n",
       "      <td>Defect</td>\n",
       "      <td>Defect</td>\n",
       "    </tr>\n",
       "    <tr>\n",
       "      <th>2</th>\n",
       "      <td>No Defect</td>\n",
       "      <td>No Defect</td>\n",
       "      <td>Defect</td>\n",
       "      <td>No Defect</td>\n",
       "    </tr>\n",
       "  </tbody>\n",
       "</table>\n",
       "</div>"
      ],
      "text/plain": [
       "      actual     model1  model2     model3\n",
       "0  No Defect  No Defect  Defect  No Defect\n",
       "1  No Defect  No Defect  Defect     Defect\n",
       "2  No Defect  No Defect  Defect  No Defect"
      ]
     },
     "execution_count": 26,
     "metadata": {},
     "output_type": "execute_result"
    }
   ],
   "source": [
    "rub_a_duck = pd.read_csv('c3.csv')\n",
    "rub_a_duck.head(3)"
   ]
  },
  {
   "cell_type": "code",
   "execution_count": 47,
   "id": "489f6184",
   "metadata": {},
   "outputs": [
    {
     "name": "stdout",
     "output_type": "stream",
     "text": [
      "(200, 4)\n",
      "0    No Defect\n",
      "Name: actual, dtype: object\n"
     ]
    }
   ],
   "source": [
    "print(rub_a_duck.shape)\n",
    "print(rub_a_duck.actual.mode())"
   ]
  },
  {
   "cell_type": "markdown",
   "id": "11ccd956",
   "metadata": {},
   "source": [
    "### Which evaluation metric would be appropriate here? Which model would be the best fit for this use case?\n",
    "####  - Our True Positive will be predicting a duck having a defect and in reality the duck does in fact have defect.\n",
    "#### - We would likely want to run a ---- test because\n",
    "A Recall/Sensitivity/True Positive Rate would be best here because the cost of missing a positive prediction is high"
   ]
  },
  {
   "cell_type": "code",
   "execution_count": 45,
   "id": "cc99fb5e",
   "metadata": {},
   "outputs": [
    {
     "name": "stdout",
     "output_type": "stream",
     "text": [
      "              Defect   No Defect  accuracy   macro avg  weighted avg\n",
      "precision   0.800000    0.957895      0.95    0.878947      0.945263\n",
      "recall      0.500000    0.989130      0.95    0.744565      0.950000\n",
      "f1-score    0.615385    0.973262      0.95    0.794323      0.944632\n",
      "support    16.000000  184.000000      0.95  200.000000    200.000000\n",
      "---\n",
      "              Defect   No Defect  accuracy   macro avg  weighted avg\n",
      "precision   0.100000    0.936364      0.56    0.518182      0.869455\n",
      "recall      0.562500    0.559783      0.56    0.561141      0.560000\n",
      "f1-score    0.169811    0.700680      0.56    0.435246      0.658211\n",
      "support    16.000000  184.000000      0.56  200.000000    200.000000\n",
      "---\n",
      "              Defect   No Defect  accuracy   macro avg  weighted avg\n",
      "precision   0.131313    0.970297     0.555    0.550805      0.903178\n",
      "recall      0.812500    0.532609     0.555    0.672554      0.555000\n",
      "f1-score    0.226087    0.687719     0.555    0.456903      0.650789\n",
      "support    16.000000  184.000000     0.555  200.000000    200.000000\n"
     ]
    }
   ],
   "source": [
    "evaluate_my_ducks1 = pd.DataFrame(metrics.classification_report(rub_a_duck.actual, rub_a_duck.model1, \n",
    "                                                                output_dict=True))\n",
    "evaluate_my_ducks2 = pd.DataFrame(metrics.classification_report(rub_a_duck.actual, rub_a_duck.model2, \n",
    "                                                                output_dict=True))\n",
    "evaluate_my_ducks3 = pd.DataFrame(metrics.classification_report(rub_a_duck.actual, rub_a_duck.model3, \n",
    "                                                                output_dict=True))\n",
    "print(evaluate_my_ducks1)\n",
    "print('---')\n",
    "print(evaluate_my_ducks2)\n",
    "print('---')\n",
    "print(evaluate_my_ducks3)"
   ]
  },
  {
   "cell_type": "code",
   "execution_count": 149,
   "id": "21278f37",
   "metadata": {},
   "outputs": [
    {
     "data": {
      "text/html": [
       "<div>\n",
       "<style scoped>\n",
       "    .dataframe tbody tr th:only-of-type {\n",
       "        vertical-align: middle;\n",
       "    }\n",
       "\n",
       "    .dataframe tbody tr th {\n",
       "        vertical-align: top;\n",
       "    }\n",
       "\n",
       "    .dataframe thead th {\n",
       "        text-align: right;\n",
       "    }\n",
       "</style>\n",
       "<table border=\"1\" class=\"dataframe\">\n",
       "  <thead>\n",
       "    <tr style=\"text-align: right;\">\n",
       "      <th></th>\n",
       "      <th>Defect</th>\n",
       "      <th>No Defect</th>\n",
       "      <th>accuracy</th>\n",
       "      <th>macro avg</th>\n",
       "      <th>weighted avg</th>\n",
       "    </tr>\n",
       "  </thead>\n",
       "  <tbody>\n",
       "    <tr>\n",
       "      <th>precision</th>\n",
       "      <td>0.800000</td>\n",
       "      <td>0.957895</td>\n",
       "      <td>0.95</td>\n",
       "      <td>0.878947</td>\n",
       "      <td>0.945263</td>\n",
       "    </tr>\n",
       "    <tr>\n",
       "      <th>recall</th>\n",
       "      <td>0.500000</td>\n",
       "      <td>0.989130</td>\n",
       "      <td>0.95</td>\n",
       "      <td>0.744565</td>\n",
       "      <td>0.950000</td>\n",
       "    </tr>\n",
       "    <tr>\n",
       "      <th>f1-score</th>\n",
       "      <td>0.615385</td>\n",
       "      <td>0.973262</td>\n",
       "      <td>0.95</td>\n",
       "      <td>0.794323</td>\n",
       "      <td>0.944632</td>\n",
       "    </tr>\n",
       "    <tr>\n",
       "      <th>support</th>\n",
       "      <td>16.000000</td>\n",
       "      <td>184.000000</td>\n",
       "      <td>0.95</td>\n",
       "      <td>200.000000</td>\n",
       "      <td>200.000000</td>\n",
       "    </tr>\n",
       "  </tbody>\n",
       "</table>\n",
       "</div>"
      ],
      "text/plain": [
       "              Defect   No Defect  accuracy   macro avg  weighted avg\n",
       "precision   0.800000    0.957895      0.95    0.878947      0.945263\n",
       "recall      0.500000    0.989130      0.95    0.744565      0.950000\n",
       "f1-score    0.615385    0.973262      0.95    0.794323      0.944632\n",
       "support    16.000000  184.000000      0.95  200.000000    200.000000"
      ]
     },
     "execution_count": 149,
     "metadata": {},
     "output_type": "execute_result"
    }
   ],
   "source": [
    "evaluate_my_ducks1"
   ]
  },
  {
   "cell_type": "markdown",
   "id": "2fe2793f",
   "metadata": {},
   "source": [
    "---"
   ]
  },
  {
   "cell_type": "markdown",
   "id": "975263f8",
   "metadata": {},
   "source": [
    "## 3. You are working as a data scientist for Gives You Paws ™, a subscription based service that shows you cute pictures of dogs or cats (or both for an additional fee).\n",
    "\n",
    "### At Gives You Paws, anyone can upload pictures of their cats or dogs. The photos are then put through a two step process. First an automated algorithm tags pictures as either a cat or a dog (Phase I). Next, the photos that have been initially identified are put through another round of review, possibly with some human oversight, before being presented to the users (Phase II).\n",
    "\n",
    "#### Several models have already been developed with the data, and you can find their results here.\n",
    "\n",
    "#### Given this dataset, use pandas to create a baseline model (i.e. a model that just predicts the most common class) and answer the following questions:\n",
    "\n",
    "1. In terms of accuracy, how do the various models compare to the baseline model? Are any of the models better than the baseline?\n",
    "1. Suppose you are working on a team that solely deals with dog pictures. Which of these models would you recomend for Phase I? For Phase II?\n",
    "1. Suppose you are working on a team that solely deals with cat pictures. Which of these models would you recomend for Phase I? For Phase II?"
   ]
  },
  {
   "cell_type": "code",
   "execution_count": 50,
   "id": "e6788ed4",
   "metadata": {
    "scrolled": true
   },
   "outputs": [
    {
     "data": {
      "text/html": [
       "<div>\n",
       "<style scoped>\n",
       "    .dataframe tbody tr th:only-of-type {\n",
       "        vertical-align: middle;\n",
       "    }\n",
       "\n",
       "    .dataframe tbody tr th {\n",
       "        vertical-align: top;\n",
       "    }\n",
       "\n",
       "    .dataframe thead th {\n",
       "        text-align: right;\n",
       "    }\n",
       "</style>\n",
       "<table border=\"1\" class=\"dataframe\">\n",
       "  <thead>\n",
       "    <tr style=\"text-align: right;\">\n",
       "      <th></th>\n",
       "      <th>actual</th>\n",
       "      <th>model1</th>\n",
       "      <th>model2</th>\n",
       "      <th>model3</th>\n",
       "      <th>model4</th>\n",
       "    </tr>\n",
       "  </thead>\n",
       "  <tbody>\n",
       "    <tr>\n",
       "      <th>0</th>\n",
       "      <td>cat</td>\n",
       "      <td>cat</td>\n",
       "      <td>dog</td>\n",
       "      <td>cat</td>\n",
       "      <td>dog</td>\n",
       "    </tr>\n",
       "    <tr>\n",
       "      <th>1</th>\n",
       "      <td>dog</td>\n",
       "      <td>dog</td>\n",
       "      <td>cat</td>\n",
       "      <td>cat</td>\n",
       "      <td>dog</td>\n",
       "    </tr>\n",
       "    <tr>\n",
       "      <th>2</th>\n",
       "      <td>dog</td>\n",
       "      <td>cat</td>\n",
       "      <td>cat</td>\n",
       "      <td>cat</td>\n",
       "      <td>dog</td>\n",
       "    </tr>\n",
       "    <tr>\n",
       "      <th>3</th>\n",
       "      <td>dog</td>\n",
       "      <td>dog</td>\n",
       "      <td>dog</td>\n",
       "      <td>cat</td>\n",
       "      <td>dog</td>\n",
       "    </tr>\n",
       "    <tr>\n",
       "      <th>4</th>\n",
       "      <td>cat</td>\n",
       "      <td>cat</td>\n",
       "      <td>cat</td>\n",
       "      <td>dog</td>\n",
       "      <td>dog</td>\n",
       "    </tr>\n",
       "  </tbody>\n",
       "</table>\n",
       "</div>"
      ],
      "text/plain": [
       "  actual model1 model2 model3 model4\n",
       "0    cat    cat    dog    cat    dog\n",
       "1    dog    dog    cat    cat    dog\n",
       "2    dog    cat    cat    cat    dog\n",
       "3    dog    dog    dog    cat    dog\n",
       "4    cat    cat    cat    dog    dog"
      ]
     },
     "execution_count": 50,
     "metadata": {},
     "output_type": "execute_result"
    }
   ],
   "source": [
    "paws = pd.read_csv('gives_you_paws.csv')\n",
    "paws.head()"
   ]
  },
  {
   "cell_type": "code",
   "execution_count": 52,
   "id": "2f6ab51f",
   "metadata": {},
   "outputs": [
    {
     "name": "stdout",
     "output_type": "stream",
     "text": [
      "                   cat          dog  accuracy    macro avg  weighted avg\n",
      "precision     0.689772     0.890024    0.8074     0.789898      0.820096\n",
      "recall        0.815006     0.803319    0.8074     0.809162      0.807400\n",
      "f1-score      0.747178     0.844452    0.8074     0.795815      0.810484\n",
      "support    1746.000000  3254.000000    0.8074  5000.000000   5000.000000\n",
      "---\n",
      "                   cat          dog  accuracy    macro avg  weighted avg\n",
      "precision     0.484122     0.893177    0.6304     0.688649      0.750335\n",
      "recall        0.890607     0.490781    0.6304     0.690694      0.630400\n",
      "f1-score      0.627269     0.633479    0.6304     0.630374      0.631310\n",
      "support    1746.000000  3254.000000    0.6304  5000.000000   5000.000000\n",
      "---\n",
      "                   cat          dog  accuracy    macro avg  weighted avg\n",
      "precision     0.358347     0.659888    0.5096     0.509118      0.554590\n",
      "recall        0.511455     0.508605    0.5096     0.510030      0.509600\n",
      "f1-score      0.421425     0.574453    0.5096     0.497939      0.521016\n",
      "support    1746.000000  3254.000000    0.5096  5000.000000   5000.000000\n",
      "---\n",
      "                   cat          dog  accuracy    macro avg  weighted avg\n",
      "precision     0.807229     0.731249    0.7426     0.769239      0.757781\n",
      "recall        0.345361     0.955747    0.7426     0.650554      0.742600\n",
      "f1-score      0.483755     0.828560    0.7426     0.656157      0.708154\n",
      "support    1746.000000  3254.000000    0.7426  5000.000000   5000.000000\n"
     ]
    }
   ],
   "source": [
    "epaws_1 = pd.DataFrame(metrics.classification_report(paws.actual, paws.model1, \n",
    "                                                                output_dict=True))\n",
    "epaws_2 = pd.DataFrame(metrics.classification_report(paws.actual, paws.model2, \n",
    "                                                                output_dict=True))\n",
    "epaws_3 = pd.DataFrame(metrics.classification_report(paws.actual, paws.model3, \n",
    "                                                                output_dict=True))\n",
    "epaws_4 = pd.DataFrame(metrics.classification_report(paws.actual, paws.model4, \n",
    "                                                                output_dict=True))\n",
    "\n",
    "print(epaws_1)\n",
    "print('---')\n",
    "print(epaws_2)\n",
    "print('---')\n",
    "print(epaws_3)\n",
    "print('---')\n",
    "print(epaws_4)"
   ]
  },
  {
   "cell_type": "markdown",
   "id": "db336ed0",
   "metadata": {},
   "source": [
    "### 1. In terms of accuracy, how do the various models compare to the baseline model? Are any of the models better than the baseline?\n",
    "\n"
   ]
  },
  {
   "cell_type": "code",
   "execution_count": 57,
   "id": "76eb0b7a",
   "metadata": {},
   "outputs": [
    {
     "data": {
      "text/plain": [
       "['actual', 'model1', 'model2', 'model3', 'model4']"
      ]
     },
     "execution_count": 57,
     "metadata": {},
     "output_type": "execute_result"
    }
   ],
   "source": [
    "cols = paws.columns.tolist()\n",
    "cols"
   ]
  },
  {
   "cell_type": "code",
   "execution_count": 75,
   "id": "595a7446",
   "metadata": {},
   "outputs": [
    {
     "data": {
      "text/plain": [
       "0.6508"
      ]
     },
     "execution_count": 75,
     "metadata": {},
     "output_type": "execute_result"
    }
   ],
   "source": [
    "(paws.actual == 'dog').mean()"
   ]
  },
  {
   "cell_type": "code",
   "execution_count": 89,
   "id": "81e7a64c",
   "metadata": {
    "scrolled": true
   },
   "outputs": [
    {
     "name": "stdout",
     "output_type": "stream",
     "text": [
      "actual accuracy: 1.0\n",
      "model1 accuracy: 0.8074\n",
      "model2 accuracy: 0.6304\n",
      "model3 accuracy: 0.5096\n",
      "model4 accuracy: 0.7426\n"
     ]
    }
   ],
   "source": [
    "for columns in paws[1:]:\n",
    "    print(columns, 'accuracy:', accuracy_score(paws.actual, paws[columns]))"
   ]
  },
  {
   "cell_type": "markdown",
   "id": "c674c0ed",
   "metadata": {},
   "source": [
    "#### - In terms of accuracy, models 2 and 3 are less accurate than the baseline, but 1 and 4 exceed it."
   ]
  },
  {
   "cell_type": "markdown",
   "id": "2d5dbdaf",
   "metadata": {},
   "source": [
    "for number 4(gives you paws), part b and c, only be concerned with answering the question for \"Phase I\", not \"Phase II\"."
   ]
  },
  {
   "cell_type": "markdown",
   "id": "61ffaab8",
   "metadata": {},
   "source": [
    "### 2. Suppose you are working on a team that solely deals with dog pictures. Which of these models would you recommend for Phase I? For Phase II?"
   ]
  },
  {
   "cell_type": "code",
   "execution_count": 141,
   "id": "229315f9",
   "metadata": {
    "scrolled": true
   },
   "outputs": [
    {
     "name": "stdout",
     "output_type": "stream",
     "text": [
      "Actual accuracy: 1.0\n",
      "Actual precision: 1.0\n",
      "Actual recall: 1.0\n",
      "\n",
      "Model1 accuracy: 0.8074\n",
      "Model1 precision: 0.8900238338440586\n",
      "Model1 recall: 0.803318992009834\n",
      "\n",
      "Model2 accuracy: 0.6304\n",
      "Model2 precision: 0.8931767337807607\n",
      "Model2 recall: 0.49078057775046097\n",
      "\n",
      "Model3 accuracy: 0.5096\n",
      "Model3 precision: 0.6598883572567783\n",
      "Model3 recall: 0.5086047940995697\n",
      "\n",
      "Model4 accuracy: 0.7426\n",
      "Model4 precision: 0.7312485304490948\n",
      "Model4 recall: 0.9557467732022127\n",
      "\n"
     ]
    }
   ],
   "source": [
    "for columns in paws[1:]:   \n",
    "    print(f'{str.capitalize(columns)} accuracy:', accuracy_score(paws.actual, paws[columns]))\n",
    "    print(f'{str.capitalize(columns)} precision:', precision_score(paws.actual, paws[columns], pos_label='dog'))\n",
    "    print(f'{str.capitalize(columns)} recall:', recall_score(paws.actual, paws[columns], pos_label='dog'))\n",
    "    print()"
   ]
  },
  {
   "cell_type": "markdown",
   "id": "a220fa41",
   "metadata": {},
   "source": [
    "### 3. Suppose you are working on a team that solely deals with cat pictures. Which of these models would you recomend for Phase I? For Phase II?"
   ]
  },
  {
   "cell_type": "code",
   "execution_count": 128,
   "id": "eb42f75c",
   "metadata": {
    "scrolled": true
   },
   "outputs": [
    {
     "name": "stdout",
     "output_type": "stream",
     "text": [
      "For Actual, accuracy: 1.0\n",
      "For Actual, precision: 1.0\n",
      "For Actual, recall: 1.0\n",
      "\n",
      "For Model1, accuracy: 0.8074\n",
      "For Model1, precision: 0.6897721764420747\n",
      "For Model1, recall: 0.8150057273768614\n",
      "\n",
      "For Model2, accuracy: 0.6304\n",
      "For Model2, precision: 0.4841220423412204\n",
      "For Model2, recall: 0.8906071019473081\n",
      "\n",
      "For Model3, accuracy: 0.5096\n",
      "For Model3, precision: 0.358346709470305\n",
      "For Model3, recall: 0.5114547537227949\n",
      "\n",
      "For Model4, accuracy: 0.7426\n",
      "For Model4, precision: 0.8072289156626506\n",
      "For Model4, recall: 0.34536082474226804\n",
      "\n"
     ]
    }
   ],
   "source": [
    "for columns in paws[1:]:   \n",
    "    print(f'For {str.capitalize(columns)}, accuracy:', accuracy_score(paws.actual, paws[columns]))\n",
    "    print(f'For {str.capitalize(columns)}, precision:', precision_score(paws.actual, paws[columns], pos_label='cat'))\n",
    "    print(f'For {str.capitalize(columns)}, recall:', recall_score(paws.actual, paws[columns], pos_label='cat'))\n",
    "    print()"
   ]
  },
  {
   "cell_type": "markdown",
   "id": "8ecad2c2",
   "metadata": {},
   "source": [
    "#### Phase I: An automated algorithm tags pictures as either a cat or a dog . \n",
    "#### Phase 2: photos are put through another round of review, possibly with human oversight, before being presented to the users.\n",
    "\n",
    "#### - For Phase 1, I would recommend model 2\n",
    "##### I don't want to miss cats\n",
    "#### - For Phase 2, I would recommend model 4"
   ]
  },
  {
   "cell_type": "markdown",
   "id": "c695d657",
   "metadata": {},
   "source": [
    "---"
   ]
  },
  {
   "cell_type": "markdown",
   "id": "9c471e97",
   "metadata": {},
   "source": [
    "## 4. Follow the links below to read the documentation about each function, then apply those functions to the data from the previous problem.\n",
    "\n",
    "- sklearn.metrics.accuracy_score\n",
    "- sklearn.metrics.precision_score\n",
    "- sklearn.metrics.recall_score\n",
    "- sklearn.metrics.classification_report"
   ]
  },
  {
   "cell_type": "code",
   "execution_count": 127,
   "id": "c9433000",
   "metadata": {},
   "outputs": [],
   "source": [
    "sklearn.metrics.accuracy_score?"
   ]
  },
  {
   "cell_type": "code",
   "execution_count": 137,
   "id": "2a4b2f05",
   "metadata": {
    "scrolled": true
   },
   "outputs": [
    {
     "name": "stdout",
     "output_type": "stream",
     "text": [
      "For Actual, accuracy#: 5000\n",
      "For Actual, accuracy: 1.0\n",
      "\n",
      "For Model1, accuracy#: 4037\n",
      "For Model1, accuracy: 0.8074\n",
      "\n",
      "For Model2, accuracy#: 3152\n",
      "For Model2, accuracy: 0.6304\n",
      "\n",
      "For Model3, accuracy#: 2548\n",
      "For Model3, accuracy: 0.5096\n",
      "\n",
      "For Model4, accuracy#: 3713\n",
      "For Model4, accuracy: 0.7426\n",
      "\n"
     ]
    }
   ],
   "source": [
    "for columns in paws[1:]:   \n",
    "    print(f'For {str.capitalize(columns)}, accuracy#:', accuracy_score(paws.actual, paws[columns], normalize=False))\n",
    "    print(f'For {str.capitalize(columns)}, accuracy:', accuracy_score(paws.actual, paws[columns], normalize=True))\n",
    "    print()"
   ]
  },
  {
   "cell_type": "code",
   "execution_count": 135,
   "id": "a813825c",
   "metadata": {},
   "outputs": [],
   "source": [
    "sklearn.metrics.precision_score?"
   ]
  },
  {
   "cell_type": "code",
   "execution_count": null,
   "id": "cac09992",
   "metadata": {},
   "outputs": [],
   "source": [
    "sklearn.metrics.recall_score"
   ]
  },
  {
   "cell_type": "code",
   "execution_count": null,
   "id": "e66cd294",
   "metadata": {},
   "outputs": [],
   "source": [
    "sklearn.metrics.classification_report"
   ]
  },
  {
   "cell_type": "markdown",
   "id": "5b92f36f",
   "metadata": {},
   "source": [
    "- balanced_accuracy_score : Compute the balanced accuracy to deal with\n",
    "    imbalanced datasets.\n",
    "- jaccard_score : Compute the Jaccard similarity coefficient score.\n",
    "- hamming_loss : Compute the average Hamming loss or Hamming distance between\n",
    "    two sets of samples.\n",
    "- zero_one_loss : Compute the Zero-one classification loss. By default, the\n",
    "    function will return the percentage of imperfectly predicted subsets."
   ]
  },
  {
   "cell_type": "markdown",
   "id": "a594812d",
   "metadata": {},
   "source": [
    "|               | pred dog   | pred cat   |\n",
    "|:------------  |-----------:|-----------:|\n",
    "| actual dog    |         TP: 46 |         FP: 7  |\n",
    "| actual cat    |         FN: 13 |         TN: 34 |\n",
    "\n",
    "- TP = 46\n",
    "- TN = 34\n",
    "- FP = 7\n",
    "- FN = 13"
   ]
  },
  {
   "cell_type": "markdown",
   "id": "28cc1fd4",
   "metadata": {},
   "source": [
    "### 1. Accuracy: How many times the prediction (regardless of what it was ) was correct. <br>\n",
    "\n",
    "### TP + TN / TP + TN + FP + FN\n",
    "\n",
    "### 2. Precision: The percentage of POSITIVE predictions that we made that are correct. Precision tells us how good our model's positive predictions are. How our correct positive case predictions fair against all predictions.\n",
    "\n",
    "### TP / TP + FP\n",
    "\n",
    "### 3. Recall. How the correct positive case predictions fair against reality. I dont want to miss True Positive correctness?\n",
    "\n",
    "### TP / TP + FN"
   ]
  },
  {
   "cell_type": "code",
   "execution_count": null,
   "id": "2b315bda",
   "metadata": {},
   "outputs": [],
   "source": []
  },
  {
   "cell_type": "markdown",
   "id": "ab03fb4a",
   "metadata": {},
   "source": [
    "## Other Metrics:\n",
    "\n",
    "### Misclassification Rate: 1 - accuracy; how often does the model get it wrong?\n",
    "### Sensitivity: aka True Positive Rate; how good is our model when the actual value is positive? recall for the positive class\n",
    "### Specificity: How good is our model when the actual value is negative? Recall for the negative class\n",
    "### False positive rate: How likely is it we get a false positive when the actual value is negative?\n",
    "### F1 Score: the harmonic mean of precision and recall\n",
    "### Area Under ROC Curve: A way to measure overall model performance for models that predict not just a class, but a probability as well.\n"
   ]
  },
  {
   "cell_type": "code",
   "execution_count": null,
   "id": "76bb0ce3",
   "metadata": {},
   "outputs": [],
   "source": []
  }
 ],
 "metadata": {
  "kernelspec": {
   "display_name": "Python 3 (ipykernel)",
   "language": "python",
   "name": "python3"
  },
  "language_info": {
   "codemirror_mode": {
    "name": "ipython",
    "version": 3
   },
   "file_extension": ".py",
   "mimetype": "text/x-python",
   "name": "python",
   "nbconvert_exporter": "python",
   "pygments_lexer": "ipython3",
   "version": "3.9.12"
  }
 },
 "nbformat": 4,
 "nbformat_minor": 5
}
